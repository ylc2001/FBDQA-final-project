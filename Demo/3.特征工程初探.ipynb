{
 "cells": [
  {
   "cell_type": "code",
   "execution_count": 1,
   "metadata": {},
   "outputs": [
    {
     "name": "stdout",
     "output_type": "stream",
     "text": [
      "Populating the interactive namespace from numpy and matplotlib\n"
     ]
    }
   ],
   "source": [
    "%pylab inline\n",
    "%matplotlib inline\n",
    "import os\n",
    "import time\n",
    "import numpy as np\n",
    "import pandas as pd\n",
    "import matplotlib.pyplot as plt\n",
    "\n",
    "\n",
    "\n",
    "from sklearn.model_selection import GridSearchCV\n",
    "from sklearn.ensemble import (RandomForestClassifier, ExtraTreesClassifier, AdaBoostClassifier,\\\n",
    "                              GradientBoostingClassifier)\n",
    "from sklearn.tree import DecisionTreeClassifier\n",
    "from sklearn.svm import SVC\n",
    "from sklearn import metrics\n",
    "from sklearn.linear_model import LogisticRegression"
   ]
  },
  {
   "cell_type": "markdown",
   "metadata": {},
   "source": [
    "# 同样载入多个交易日数据\n",
    "但是这次我们多做一点操作："
   ]
  },
  {
   "cell_type": "code",
   "execution_count": 2,
   "metadata": {},
   "outputs": [],
   "source": [
    "file_dir = \"/l1/data/FBDQA2021A_MMP_Challenge_ver0.2/data\"\n",
    "\n",
    "sym = 4\n",
    "dates = list(range(24))\n",
    "df = pd.DataFrame()\n",
    "for date in dates:\n",
    "    if (date & 1):\n",
    "        file_name = f\"snapshot_sym{sym}_date{date//2}_am.csv\"\n",
    "    else:\n",
    "        file_name = f\"snapshot_sym{sym}_date{date//2}_am.csv\"\n",
    "    new_df = pd.read_csv(os.path.join(file_dir,file_name))\n",
    "    # 价格+1（从涨跌幅还原到对前收盘价的比例）\n",
    "    new_df['bid1'] = new_df['n_bid1']+1\n",
    "    new_df['bid2'] = new_df['n_bid2']+1\n",
    "    new_df['bid3'] = new_df['n_bid3']+1\n",
    "    new_df['bid4'] = new_df['n_bid4']+1\n",
    "    new_df['bid5'] = new_df['n_bid5']+1\n",
    "    new_df['ask1'] = new_df['n_ask1']+1\n",
    "    new_df['ask2'] = new_df['n_ask2']+1\n",
    "    new_df['ask3'] = new_df['n_ask3']+1\n",
    "    new_df['ask4'] = new_df['n_ask4']+1\n",
    "    new_df['ask5'] = new_df['n_ask5']+1\n",
    "    # 均线特征\n",
    "    new_df['ask1_ma5']  = new_df['ask1'].rolling(window=5,  min_periods=1).mean()\n",
    "    new_df['ask1_ma10'] = new_df['ask1'].rolling(window=10, min_periods=1).mean()\n",
    "    new_df['ask1_ma20'] = new_df['ask1'].rolling(window=20, min_periods=1).mean()\n",
    "    new_df['ask1_ma40'] = new_df['ask1'].rolling(window=40, min_periods=1).mean()\n",
    "    new_df['ask1_ma60'] = new_df['ask1'].rolling(window=60, min_periods=1).mean()\n",
    "    new_df['bid1_ma5']  = new_df['bid1'].rolling(window=5,  min_periods=1).mean()\n",
    "    new_df['bid1_ma10'] = new_df['bid1'].rolling(window=10, min_periods=1).mean()\n",
    "    new_df['bid1_ma20'] = new_df['bid1'].rolling(window=20, min_periods=1).mean()\n",
    "    new_df['bid1_ma40'] = new_df['bid1'].rolling(window=40, min_periods=1).mean()\n",
    "    new_df['bid1_ma60'] = new_df['bid1'].rolling(window=60, min_periods=1).mean()\n",
    "    \n",
    "    # 量价组合\n",
    "    new_df['spread1'] =  new_df['ask1'] - new_df['bid1']\n",
    "    new_df['spread2'] =  new_df['ask2'] - new_df['bid2']\n",
    "    new_df['spread3'] =  new_df['ask3'] - new_df['bid3']\n",
    "    new_df['mid_price1'] =  new_df['ask1'] + new_df['bid1']\n",
    "    new_df['mid_price2'] =  new_df['ask2'] + new_df['bid2']\n",
    "    new_df['mid_price3'] =  new_df['ask3'] + new_df['bid3']\n",
    "    new_df['weighted_ab1'] = (new_df['ask1'] * new_df['n_bsize1'] + new_df['bid1'] * new_df['n_asize1']) / (new_df['n_bsize1'] + new_df['n_asize1'])\n",
    "    new_df['weighted_ab2'] = (new_df['ask2'] * new_df['n_bsize2'] + new_df['bid2'] * new_df['n_asize2']) / (new_df['n_bsize2'] + new_df['n_asize2'])\n",
    "    new_df['weighted_ab3'] = (new_df['ask3'] * new_df['n_bsize3'] + new_df['bid3'] * new_df['n_asize3']) / (new_df['n_bsize3'] + new_df['n_asize3'])\n",
    "\n",
    "    new_df['relative_spread1'] = new_df['spread1'] / new_df['mid_price1']\n",
    "    new_df['relative_spread2'] = new_df['spread2'] / new_df['mid_price2']\n",
    "    new_df['relative_spread3'] = new_df['spread3'] / new_df['mid_price3']\n",
    "    \n",
    "    # 对量取对数\n",
    "    new_df['bsize1'] = new_df['n_bsize1'].map(np.log)\n",
    "    new_df['bsize2'] = new_df['n_bsize2'].map(np.log)\n",
    "    new_df['bsize3'] = new_df['n_bsize3'].map(np.log)\n",
    "    new_df['bsize4'] = new_df['n_bsize4'].map(np.log)\n",
    "    new_df['bsize5'] = new_df['n_bsize5'].map(np.log)\n",
    "    new_df['asize1'] = new_df['n_asize1'].map(np.log)\n",
    "    new_df['asize2'] = new_df['n_asize2'].map(np.log)\n",
    "    new_df['asize3'] = new_df['n_asize3'].map(np.log)\n",
    "    new_df['asize4'] = new_df['n_asize4'].map(np.log)\n",
    "    new_df['asize5'] = new_df['n_asize5'].map(np.log)\n",
    "    new_df['amount'] = new_df['amount_delta'].map(np.log1p)\n",
    "\n",
    "    df = df.append(new_df)"
   ]
  },
  {
   "cell_type": "code",
   "execution_count": 3,
   "metadata": {},
   "outputs": [
    {
     "data": {
      "text/html": [
       "<div>\n",
       "<style scoped>\n",
       "    .dataframe tbody tr th:only-of-type {\n",
       "        vertical-align: middle;\n",
       "    }\n",
       "\n",
       "    .dataframe tbody tr th {\n",
       "        vertical-align: top;\n",
       "    }\n",
       "\n",
       "    .dataframe thead th {\n",
       "        text-align: right;\n",
       "    }\n",
       "</style>\n",
       "<table border=\"1\" class=\"dataframe\">\n",
       "  <thead>\n",
       "    <tr style=\"text-align: right;\">\n",
       "      <th></th>\n",
       "      <th>relative_spread1</th>\n",
       "      <th>relative_spread2</th>\n",
       "      <th>relative_spread3</th>\n",
       "      <th>weighted_ab1</th>\n",
       "      <th>weighted_ab2</th>\n",
       "      <th>weighted_ab3</th>\n",
       "      <th>spread1</th>\n",
       "      <th>spread2</th>\n",
       "      <th>spread3</th>\n",
       "    </tr>\n",
       "  </thead>\n",
       "  <tbody>\n",
       "    <tr>\n",
       "      <th>count</th>\n",
       "      <td>47976.000000</td>\n",
       "      <td>47976.000000</td>\n",
       "      <td>47976.000000</td>\n",
       "      <td>47976.000000</td>\n",
       "      <td>47976.000000</td>\n",
       "      <td>47976.000000</td>\n",
       "      <td>47976.000000</td>\n",
       "      <td>47976.000000</td>\n",
       "      <td>47976.000000</td>\n",
       "    </tr>\n",
       "    <tr>\n",
       "      <th>mean</th>\n",
       "      <td>0.000414</td>\n",
       "      <td>0.001214</td>\n",
       "      <td>0.002011</td>\n",
       "      <td>1.002546</td>\n",
       "      <td>1.002676</td>\n",
       "      <td>1.002854</td>\n",
       "      <td>0.000831</td>\n",
       "      <td>0.002434</td>\n",
       "      <td>0.004033</td>\n",
       "    </tr>\n",
       "    <tr>\n",
       "      <th>std</th>\n",
       "      <td>0.000087</td>\n",
       "      <td>0.000102</td>\n",
       "      <td>0.000114</td>\n",
       "      <td>0.012736</td>\n",
       "      <td>0.012572</td>\n",
       "      <td>0.012379</td>\n",
       "      <td>0.000176</td>\n",
       "      <td>0.000208</td>\n",
       "      <td>0.000235</td>\n",
       "    </tr>\n",
       "    <tr>\n",
       "      <th>min</th>\n",
       "      <td>0.000381</td>\n",
       "      <td>0.001143</td>\n",
       "      <td>0.001905</td>\n",
       "      <td>0.980991</td>\n",
       "      <td>0.980183</td>\n",
       "      <td>0.981029</td>\n",
       "      <td>0.000769</td>\n",
       "      <td>0.002308</td>\n",
       "      <td>0.003846</td>\n",
       "    </tr>\n",
       "    <tr>\n",
       "      <th>25%</th>\n",
       "      <td>0.000391</td>\n",
       "      <td>0.001173</td>\n",
       "      <td>0.001955</td>\n",
       "      <td>0.992223</td>\n",
       "      <td>0.992568</td>\n",
       "      <td>0.993116</td>\n",
       "      <td>0.000782</td>\n",
       "      <td>0.002346</td>\n",
       "      <td>0.003909</td>\n",
       "    </tr>\n",
       "    <tr>\n",
       "      <th>50%</th>\n",
       "      <td>0.000395</td>\n",
       "      <td>0.001185</td>\n",
       "      <td>0.001976</td>\n",
       "      <td>0.999631</td>\n",
       "      <td>0.999526</td>\n",
       "      <td>0.999704</td>\n",
       "      <td>0.000790</td>\n",
       "      <td>0.002370</td>\n",
       "      <td>0.003949</td>\n",
       "    </tr>\n",
       "    <tr>\n",
       "      <th>75%</th>\n",
       "      <td>0.000408</td>\n",
       "      <td>0.001225</td>\n",
       "      <td>0.002047</td>\n",
       "      <td>1.012603</td>\n",
       "      <td>1.012702</td>\n",
       "      <td>1.012337</td>\n",
       "      <td>0.000826</td>\n",
       "      <td>0.002479</td>\n",
       "      <td>0.004132</td>\n",
       "    </tr>\n",
       "    <tr>\n",
       "      <th>max</th>\n",
       "      <td>0.002368</td>\n",
       "      <td>0.003157</td>\n",
       "      <td>0.003946</td>\n",
       "      <td>1.057024</td>\n",
       "      <td>1.057434</td>\n",
       "      <td>1.056919</td>\n",
       "      <td>0.004796</td>\n",
       "      <td>0.006395</td>\n",
       "      <td>0.007994</td>\n",
       "    </tr>\n",
       "  </tbody>\n",
       "</table>\n",
       "</div>"
      ],
      "text/plain": [
       "       relative_spread1  relative_spread2  relative_spread3  weighted_ab1  \\\n",
       "count      47976.000000      47976.000000      47976.000000  47976.000000   \n",
       "mean           0.000414          0.001214          0.002011      1.002546   \n",
       "std            0.000087          0.000102          0.000114      0.012736   \n",
       "min            0.000381          0.001143          0.001905      0.980991   \n",
       "25%            0.000391          0.001173          0.001955      0.992223   \n",
       "50%            0.000395          0.001185          0.001976      0.999631   \n",
       "75%            0.000408          0.001225          0.002047      1.012603   \n",
       "max            0.002368          0.003157          0.003946      1.057024   \n",
       "\n",
       "       weighted_ab2  weighted_ab3       spread1       spread2       spread3  \n",
       "count  47976.000000  47976.000000  47976.000000  47976.000000  47976.000000  \n",
       "mean       1.002676      1.002854      0.000831      0.002434      0.004033  \n",
       "std        0.012572      0.012379      0.000176      0.000208      0.000235  \n",
       "min        0.980183      0.981029      0.000769      0.002308      0.003846  \n",
       "25%        0.992568      0.993116      0.000782      0.002346      0.003909  \n",
       "50%        0.999526      0.999704      0.000790      0.002370      0.003949  \n",
       "75%        1.012702      1.012337      0.000826      0.002479      0.004132  \n",
       "max        1.057434      1.056919      0.004796      0.006395      0.007994  "
      ]
     },
     "execution_count": 3,
     "metadata": {},
     "output_type": "execute_result"
    }
   ],
   "source": [
    "df[['relative_spread1','relative_spread2','relative_spread3',\n",
    "                     'weighted_ab1','weighted_ab2','weighted_ab3',\n",
    "                     'spread1','spread2','spread3',]].describe()"
   ]
  },
  {
   "cell_type": "code",
   "execution_count": 4,
   "metadata": {},
   "outputs": [],
   "source": [
    "feature_col_names = ['bid1','bid2','bid3','bid4','bid5',\n",
    "                     'ask1','ask2','ask3','ask4','ask5',\n",
    "                     'bsize1','bsize2','bsize3','bsize4','bsize5',\n",
    "                     'asize1','asize2','asize3','asize4','asize5',\n",
    "                     'relative_spread1','relative_spread2','relative_spread3',\n",
    "                     'weighted_ab1','weighted_ab2','weighted_ab3',\n",
    "                     'spread1','spread2','spread3','amount',\n",
    "                     'ask1_ma5','ask1_ma10','ask1_ma20','ask1_ma40','ask1_ma60',\n",
    "                     'bid1_ma5','bid1_ma10','bid1_ma20','bid1_ma40','bid1_ma60'\n",
    "                    ]\n",
    "label_col_name = ['label_5']"
   ]
  },
  {
   "cell_type": "code",
   "execution_count": 5,
   "metadata": {},
   "outputs": [],
   "source": [
    "train_sample_nums = 40000\n",
    "\n",
    "train_data = np.ascontiguousarray(df[feature_col_names][:train_sample_nums].values)\n",
    "train_label = df[label_col_name][:train_sample_nums].values.reshape(-1)\n",
    "\n",
    "test_data = np.ascontiguousarray(df[feature_col_names][train_sample_nums:].values)\n",
    "test_label = df[label_col_name][train_sample_nums:].values.reshape(-1)"
   ]
  },
  {
   "cell_type": "code",
   "execution_count": 6,
   "metadata": {},
   "outputs": [
    {
     "data": {
      "text/plain": [
       "(40000, 40)"
      ]
     },
     "execution_count": 6,
     "metadata": {},
     "output_type": "execute_result"
    }
   ],
   "source": [
    "train_data.shape"
   ]
  },
  {
   "cell_type": "code",
   "execution_count": 7,
   "metadata": {},
   "outputs": [
    {
     "data": {
      "text/plain": [
       "False"
      ]
     },
     "execution_count": 7,
     "metadata": {},
     "output_type": "execute_result"
    }
   ],
   "source": [
    "# 确定有无na值\n",
    "df.isnull().any().any()"
   ]
  },
  {
   "cell_type": "code",
   "execution_count": 8,
   "metadata": {},
   "outputs": [
    {
     "data": {
      "text/plain": [
       "True"
      ]
     },
     "execution_count": 8,
     "metadata": {},
     "output_type": "execute_result"
    }
   ],
   "source": [
    "# 确定有无inf值\n",
    "np.all(np.isfinite(train_data))"
   ]
  },
  {
   "cell_type": "code",
   "execution_count": 9,
   "metadata": {},
   "outputs": [
    {
     "name": "stdout",
     "output_type": "stream",
     "text": [
      "在训练集中：\n",
      "标签为0的样本个数： 8636\n",
      "标签为1的样本个数： 22758\n",
      "标签为2的样本个数： 8606\n",
      "在测试集中：\n",
      "标签为0的样本个数： 1570\n",
      "标签为1的样本个数： 5070\n",
      "标签为2的样本个数： 1336\n"
     ]
    }
   ],
   "source": [
    "print(\"在训练集中：\")\n",
    "print(\"标签为0的样本个数：\", sum(train_label == 0))\n",
    "print(\"标签为1的样本个数：\", sum(train_label == 1))\n",
    "print(\"标签为2的样本个数：\", sum(train_label == 2))\n",
    "\n",
    "print(\"在测试集中：\")\n",
    "print(\"标签为0的样本个数：\", sum(test_label == 0))\n",
    "print(\"标签为1的样本个数：\", sum(test_label == 1))\n",
    "print(\"标签为2的样本个数：\", sum(test_label == 2))"
   ]
  },
  {
   "cell_type": "code",
   "execution_count": 10,
   "metadata": {},
   "outputs": [
    {
     "name": "stdout",
     "output_type": "stream",
     "text": [
      "CPU times: user 2min 22s, sys: 820 ms, total: 2min 23s\n",
      "Wall time: 2min 23s\n"
     ]
    },
    {
     "data": {
      "text/plain": [
       "SVC(C=1.0, break_ties=False, cache_size=200, class_weight='balanced', coef0=0.0,\n",
       "    decision_function_shape='ovr', degree=3, gamma='scale', kernel='rbf',\n",
       "    max_iter=-1, probability=False, random_state=None, shrinking=True,\n",
       "    tol=0.001, verbose=False)"
      ]
     },
     "execution_count": 10,
     "metadata": {},
     "output_type": "execute_result"
    }
   ],
   "source": [
    "%%time\n",
    "## 对样本依据类别加权：\n",
    "model = SVC(class_weight='balanced')\n",
    "model.fit(train_data,train_label)"
   ]
  },
  {
   "cell_type": "code",
   "execution_count": 11,
   "metadata": {},
   "outputs": [
    {
     "name": "stdout",
     "output_type": "stream",
     "text": [
      "总体准确率： 0.5074\n",
      "训练集上涨下跌召回率： 0.568785523721146\n",
      "训练集上涨下跌准确率： 0.3862544308782985\n"
     ]
    }
   ],
   "source": [
    "# 训练集\n",
    "y_hat = model.predict(train_data)\n",
    "y = train_label\n",
    "# 总体准确率：\n",
    "print(\"总体准确率：\", sum(y_hat == y)/len(y_hat))\n",
    "# 所有不为1的标签的召回率（即仅考虑真实标签为上涨或下跌样本是否被正确分类）\n",
    "index = y != 1\n",
    "print(\"训练集上涨下跌召回率：\", sum(y_hat[index]==y[index])/sum(index))\n",
    "# 所有不为1的标签的准确率（即仅考虑预测为上涨或下跌样本是否是正确）\n",
    "index = y_hat != 1\n",
    "print(\"训练集上涨下跌准确率：\", sum(y_hat[index]==y[index])/sum(index))"
   ]
  },
  {
   "cell_type": "code",
   "execution_count": 12,
   "metadata": {
    "scrolled": true
   },
   "outputs": [
    {
     "name": "stdout",
     "output_type": "stream",
     "text": [
      "总体准确率： 0.5466399197592778\n",
      "测试集上涨下跌召回率： 0.5350997935306263\n",
      "测试集上涨下跌准确率： 0.37218764959310674\n"
     ]
    }
   ],
   "source": [
    "## 测试集\n",
    "y_hat = model.predict(test_data)\n",
    "y = test_label\n",
    "# 总体准确率：\n",
    "print(\"总体准确率：\", sum(y_hat == y)/len(y_hat))\n",
    "# 所有不为1的标签的召回率（即仅考虑真实标签为上涨或下跌样本是否被正确分类）\n",
    "index = y != 1\n",
    "print(\"测试集上涨下跌召回率：\", sum(y_hat[index]==y[index])/sum(index))\n",
    "# 所有不为1的标签的准确率（即仅考虑预测为上涨或下跌样本是否是正确）\n",
    "index = y_hat != 1\n",
    "print(\"测试集上涨下跌准确率：\", sum(y_hat[index]==y[index])/sum(index))"
   ]
  },
  {
   "cell_type": "code",
   "execution_count": null,
   "metadata": {},
   "outputs": [],
   "source": []
  },
  {
   "cell_type": "code",
   "execution_count": 13,
   "metadata": {},
   "outputs": [
    {
     "name": "stdout",
     "output_type": "stream",
     "text": [
      "CPU times: user 2min 25s, sys: 741 ms, total: 2min 26s\n",
      "Wall time: 13min 59s\n"
     ]
    },
    {
     "data": {
      "text/plain": [
       "GridSearchCV(cv=5, error_score=nan,\n",
       "             estimator=SVC(C=1.0, break_ties=False, cache_size=200,\n",
       "                           class_weight=None, coef0=0.0,\n",
       "                           decision_function_shape='ovr', degree=3,\n",
       "                           gamma='scale', kernel='rbf', max_iter=-1,\n",
       "                           probability=False, random_state=None, shrinking=True,\n",
       "                           tol=0.001, verbose=False),\n",
       "             iid='deprecated', n_jobs=6,\n",
       "             param_grid=[{'C': [0.5, 1, 5], 'class_weight': ['balanced'],\n",
       "                          'kernel': ['rbf', 'linear']}],\n",
       "             pre_dispatch='2*n_jobs', refit=True, return_train_score=False,\n",
       "             scoring='balanced_accuracy', verbose=0)"
      ]
     },
     "execution_count": 13,
     "metadata": {},
     "output_type": "execute_result"
    }
   ],
   "source": [
    "%%time\n",
    "model = SVC()\n",
    "grid_params = [{'kernel':['rbf','linear'],'C':[0.5,1,5], 'class_weight':['balanced']}]\n",
    "Grid = GridSearchCV(model, grid_params, cv = 5, scoring = 'balanced_accuracy',refit=True, n_jobs = 6)\n",
    "Grid.fit(train_data,train_label)"
   ]
  },
  {
   "cell_type": "code",
   "execution_count": 14,
   "metadata": {},
   "outputs": [
    {
     "name": "stdout",
     "output_type": "stream",
     "text": [
      "总体准确率： 0.5074\n",
      "训练集上涨下跌召回率： 0.568785523721146\n",
      "训练集上涨下跌准确率： 0.3862544308782985\n"
     ]
    }
   ],
   "source": [
    "# 训练集\n",
    "y_hat = Grid.best_estimator_.predict(train_data)\n",
    "y = train_label\n",
    "# 总体准确率：\n",
    "print(\"总体准确率：\", sum(y_hat == y)/len(y_hat))\n",
    "# 所有不为1的标签的召回率（即仅考虑真实标签为上涨或下跌样本是否被正确分类）\n",
    "index = y != 1\n",
    "print(\"训练集上涨下跌召回率：\", sum(y_hat[index]==y[index])/sum(index))\n",
    "# 所有不为1的标签的准确率（即仅考虑预测为上涨或下跌样本是否是正确）\n",
    "index = y_hat != 1\n",
    "print(\"训练集上涨下跌准确率：\", sum(y_hat[index]==y[index])/sum(index))"
   ]
  },
  {
   "cell_type": "code",
   "execution_count": 15,
   "metadata": {},
   "outputs": [
    {
     "name": "stdout",
     "output_type": "stream",
     "text": [
      "总体准确率： 0.5466399197592778\n",
      "测试集上涨下跌召回率： 0.5350997935306263\n",
      "测试集上涨下跌准确率： 0.37218764959310674\n"
     ]
    }
   ],
   "source": [
    "## 测试集\n",
    "y_hat = Grid.best_estimator_.predict(test_data)\n",
    "y = test_label\n",
    "# 总体准确率：\n",
    "print(\"总体准确率：\", sum(y_hat == y)/len(y_hat))\n",
    "# 所有不为1的标签的召回率（即仅考虑真实标签为上涨或下跌样本是否被正确分类）\n",
    "index = y != 1\n",
    "print(\"测试集上涨下跌召回率：\", sum(y_hat[index]==y[index])/sum(index))\n",
    "# 所有不为1的标签的准确率（即仅考虑预测为上涨或下跌样本是否是正确）\n",
    "index = y_hat != 1\n",
    "print(\"测试集上涨下跌准确率：\", sum(y_hat[index]==y[index])/sum(index))"
   ]
  },
  {
   "cell_type": "code",
   "execution_count": null,
   "metadata": {},
   "outputs": [],
   "source": []
  }
 ],
 "metadata": {
  "kernelspec": {
   "display_name": "Python 3",
   "language": "python",
   "name": "python3"
  },
  "language_info": {
   "codemirror_mode": {
    "name": "ipython",
    "version": 3
   },
   "file_extension": ".py",
   "mimetype": "text/x-python",
   "name": "python",
   "nbconvert_exporter": "python",
   "pygments_lexer": "ipython3",
   "version": "3.7.6"
  },
  "varInspector": {
   "cols": {
    "lenName": 16,
    "lenType": 16,
    "lenVar": 40
   },
   "kernels_config": {
    "python": {
     "delete_cmd_postfix": "",
     "delete_cmd_prefix": "del ",
     "library": "var_list.py",
     "varRefreshCmd": "print(var_dic_list())"
    },
    "r": {
     "delete_cmd_postfix": ") ",
     "delete_cmd_prefix": "rm(",
     "library": "var_list.r",
     "varRefreshCmd": "cat(var_dic_list()) "
    }
   },
   "types_to_exclude": [
    "module",
    "function",
    "builtin_function_or_method",
    "instance",
    "_Feature"
   ],
   "window_display": false
  }
 },
 "nbformat": 4,
 "nbformat_minor": 4
}
