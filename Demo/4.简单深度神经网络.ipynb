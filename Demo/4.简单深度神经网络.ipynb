{
 "cells": [
  {
   "cell_type": "code",
   "execution_count": 1,
   "metadata": {
    "tags": []
   },
   "outputs": [
    {
     "name": "stdout",
     "output_type": "stream",
     "text": [
      "cuda:0\n"
     ]
    }
   ],
   "source": [
    "import os\n",
    "import pandas as pd\n",
    "import pickle\n",
    "import numpy as np\n",
    "import matplotlib.pyplot as plt\n",
    "from datetime import datetime\n",
    "from tqdm.notebook import tqdm \n",
    "from sklearn.metrics import accuracy_score, classification_report\n",
    "\n",
    "import torch\n",
    "import torch.nn.functional as F\n",
    "from torch.utils import data\n",
    "from torchinfo import summary\n",
    "import torch.nn as nn\n",
    "import torch.optim as optim\n",
    "\n",
    "device = torch.device(\"cuda:0\" if torch.cuda.is_available() else \"cpu\")\n",
    "print(device)"
   ]
  },
  {
   "cell_type": "markdown",
   "metadata": {},
   "source": [
    "# 读取数据"
   ]
  },
  {
   "cell_type": "code",
   "execution_count": 2,
   "metadata": {
    "tags": []
   },
   "outputs": [],
   "source": [
    "def data_transform(X, T):\n",
    "    [N, D] = X.shape\n",
    "    dataX = np.zeros((N - T + 1, T, D))\n",
    "    for i in range(T, N + 1):\n",
    "        dataX[i - T] = X[i - T:i, :]\n",
    "    return dataX\n",
    "\n",
    "class Dataset(data.Dataset):\n",
    "    def __init__(self, data, label,  num_classes, T):\n",
    "        self.T = T\n",
    "\n",
    "        # data = data_transform(data, self.T)\n",
    "\n",
    "        self.x = torch.tensor(data).to(torch.float32).unsqueeze(1).to(device)\n",
    "\n",
    "#         self.y = F.one_hot(torch.tensor(label[T - 1:].astype(np.int64)), num_classes=3)\n",
    "        self.y = torch.tensor(label.astype(np.int64)).to(device)\n",
    "    \n",
    "        self.length = len(self.x)\n",
    "\n",
    "    def __len__(self):\n",
    "        return self.length\n",
    "\n",
    "    def __getitem__(self, index):\n",
    "        return self.x[index], self.y[index]"
   ]
  },
  {
   "cell_type": "code",
   "execution_count": 3,
   "metadata": {
    "tags": []
   },
   "outputs": [],
   "source": [
    "feature_col_names = ['bid1','n_bsize1',\n",
    "                     'bid2','n_bsize2',\n",
    "                     'bid3','n_bsize3',\n",
    "                     'bid4','n_bsize4',\n",
    "                     'bid5','n_bsize5',\n",
    "                     'ask1','n_asize1',\n",
    "                     'ask2','n_asize2',\n",
    "                     'ask3','n_asize3',\n",
    "                     'ask4','n_asize4',\n",
    "                     'ask5','n_asize5',\n",
    "                     'spread1','mid_price1',\n",
    "                     'spread2','mid_price2',\n",
    "                     'spread3','mid_price3',\n",
    "                     'weighted_ab1','weighted_ab2','weighted_ab3','amount',\n",
    "                     'vol1_rel_diff','volall_rel_diff'\n",
    "                    ]\n",
    "label_col_name = ['label_5']"
   ]
  },
  {
   "cell_type": "code",
   "execution_count": 13,
   "metadata": {
    "tags": []
   },
   "outputs": [
    {
     "name": "stdout",
     "output_type": "stream",
     "text": [
      "Processing snapshot_sym0_date0_am.csv\n",
      "Processing snapshot_sym0_date0_pm.csv\n",
      "Processing snapshot_sym0_date1_am.csv\n",
      "Processing snapshot_sym0_date1_pm.csv\n",
      "Processing snapshot_sym0_date2_am.csv\n",
      "Processing snapshot_sym0_date2_pm.csv\n",
      "Processing snapshot_sym0_date3_am.csv\n",
      "Processing snapshot_sym0_date3_pm.csv\n",
      "Processing snapshot_sym0_date4_am.csv\n",
      "Processing snapshot_sym0_date4_pm.csv\n",
      "Processing snapshot_sym0_date5_am.csv\n",
      "Processing snapshot_sym0_date5_pm.csv\n",
      "Processing snapshot_sym0_date6_am.csv\n",
      "Processing snapshot_sym0_date6_pm.csv\n",
      "Processing snapshot_sym0_date7_am.csv\n",
      "Processing snapshot_sym0_date7_pm.csv\n",
      "Processing snapshot_sym0_date8_am.csv\n",
      "Processing snapshot_sym0_date8_pm.csv\n",
      "Processing snapshot_sym0_date9_am.csv\n",
      "Processing snapshot_sym0_date9_pm.csv\n",
      "Processing snapshot_sym0_date10_am.csv\n",
      "Processing snapshot_sym0_date10_pm.csv\n",
      "Processing snapshot_sym0_date11_am.csv\n",
      "Processing snapshot_sym0_date11_pm.csv\n",
      "Processing snapshot_sym0_date12_am.csv\n",
      "Processing snapshot_sym0_date12_pm.csv\n",
      "Processing snapshot_sym0_date13_am.csv\n",
      "Processing snapshot_sym0_date13_pm.csv\n",
      "Processing snapshot_sym0_date14_am.csv\n",
      "Processing snapshot_sym0_date14_pm.csv\n",
      "Processing snapshot_sym0_date15_am.csv\n",
      "Processing snapshot_sym0_date15_pm.csv\n",
      "Processing snapshot_sym0_date16_am.csv\n",
      "Processing snapshot_sym0_date16_pm.csv\n",
      "Processing snapshot_sym0_date17_am.csv\n",
      "Processing snapshot_sym0_date17_pm.csv\n",
      "Processing snapshot_sym0_date18_am.csv\n",
      "Processing snapshot_sym0_date18_pm.csv\n",
      "Processing snapshot_sym0_date19_am.csv\n",
      "Processing snapshot_sym0_date19_pm.csv\n",
      "Processing snapshot_sym0_date20_am.csv\n",
      "Processing snapshot_sym0_date20_pm.csv\n",
      "Processing snapshot_sym0_date21_am.csv\n",
      "Processing snapshot_sym0_date21_pm.csv\n",
      "Processing snapshot_sym0_date22_am.csv\n",
      "Processing snapshot_sym0_date22_pm.csv\n",
      "Processing snapshot_sym0_date23_am.csv\n",
      "Processing snapshot_sym0_date23_pm.csv\n",
      "Processing snapshot_sym0_date24_am.csv\n",
      "Processing snapshot_sym0_date24_pm.csv\n",
      "Processing snapshot_sym0_date25_am.csv\n",
      "Processing snapshot_sym0_date25_pm.csv\n",
      "Processing snapshot_sym0_date26_am.csv\n",
      "Processing snapshot_sym0_date26_pm.csv\n",
      "Processing snapshot_sym0_date27_am.csv\n",
      "Processing snapshot_sym0_date27_pm.csv\n",
      "Processing snapshot_sym0_date28_am.csv\n",
      "Processing snapshot_sym0_date28_pm.csv\n",
      "Processing snapshot_sym0_date29_am.csv\n",
      "Processing snapshot_sym0_date29_pm.csv\n",
      "Processing snapshot_sym0_date30_am.csv\n",
      "Processing snapshot_sym0_date30_pm.csv\n",
      "Processing snapshot_sym0_date31_am.csv\n",
      "Processing snapshot_sym0_date31_pm.csv\n",
      "Processing snapshot_sym0_date32_am.csv\n",
      "Processing snapshot_sym0_date32_pm.csv\n",
      "Processing snapshot_sym0_date33_am.csv\n",
      "Processing snapshot_sym0_date33_pm.csv\n",
      "Processing snapshot_sym0_date34_am.csv\n",
      "Processing snapshot_sym0_date34_pm.csv\n",
      "Processing snapshot_sym0_date35_am.csv\n",
      "Processing snapshot_sym0_date35_pm.csv\n",
      "Processing snapshot_sym0_date36_am.csv\n",
      "Processing snapshot_sym0_date36_pm.csv\n",
      "Processing snapshot_sym0_date37_am.csv\n",
      "Processing snapshot_sym0_date37_pm.csv\n",
      "Processing snapshot_sym0_date38_am.csv\n",
      "Processing snapshot_sym0_date38_pm.csv\n",
      "Processing snapshot_sym0_date39_am.csv\n",
      "Processing snapshot_sym0_date39_pm.csv\n",
      "Processing snapshot_sym0_date40_am.csv\n",
      "Processing snapshot_sym0_date40_pm.csv\n",
      "Processing snapshot_sym0_date41_am.csv\n",
      "Processing snapshot_sym0_date41_pm.csv\n",
      "Processing snapshot_sym0_date42_pm.csv\n",
      "Processing snapshot_sym0_date43_am.csv\n",
      "Processing snapshot_sym0_date43_pm.csv\n",
      "Processing snapshot_sym0_date44_pm.csv\n",
      "Processing snapshot_sym0_date45_am.csv\n",
      "Processing snapshot_sym0_date45_pm.csv\n",
      "Processing snapshot_sym0_date46_am.csv\n",
      "Processing snapshot_sym0_date46_pm.csv\n",
      "Processing snapshot_sym0_date47_am.csv\n",
      "Processing snapshot_sym0_date47_pm.csv\n",
      "Processing snapshot_sym0_date48_am.csv\n",
      "Processing snapshot_sym0_date48_pm.csv\n",
      "Processing snapshot_sym0_date49_am.csv\n",
      "Processing snapshot_sym0_date49_pm.csv\n",
      "Processing snapshot_sym0_date50_am.csv\n",
      "Processing snapshot_sym0_date50_pm.csv\n",
      "Processing snapshot_sym0_date51_am.csv\n",
      "Processing snapshot_sym0_date51_pm.csv\n",
      "Processing snapshot_sym0_date52_am.csv\n",
      "Processing snapshot_sym0_date52_pm.csv\n",
      "Processing snapshot_sym0_date53_am.csv\n",
      "Processing snapshot_sym0_date53_pm.csv\n",
      "Processing snapshot_sym0_date54_am.csv\n",
      "Processing snapshot_sym0_date54_pm.csv\n",
      "Processing snapshot_sym0_date55_am.csv\n",
      "Processing snapshot_sym0_date55_pm.csv\n",
      "Processing snapshot_sym0_date56_am.csv\n",
      "Processing snapshot_sym0_date56_pm.csv\n",
      "Processing snapshot_sym0_date57_am.csv\n",
      "Processing snapshot_sym0_date57_pm.csv\n",
      "Error in sym: 0 date: 58\n",
      "Columns in df_day:  RangeIndex(start=0, stop=0, step=1)\n",
      "Columns in feature_col_names:  ['bid1', 'n_bsize1', 'bid2', 'n_bsize2', 'bid3', 'n_bsize3', 'bid4', 'n_bsize4', 'bid5', 'n_bsize5', 'ask1', 'n_asize1', 'ask2', 'n_asize2', 'ask3', 'n_asize3', 'ask4', 'n_asize4', 'ask5', 'n_asize5', 'spread1', 'mid_price1', 'spread2', 'mid_price2', 'spread3', 'mid_price3', 'weighted_ab1', 'weighted_ab2', 'weighted_ab3', 'amount', 'vol1_rel_diff', 'volall_rel_diff']\n",
      "Data type of df_day columns:  int64\n",
      "Data type of feature_col_names:  <class 'str'>\n",
      "Error in sym: 0 date: 59\n",
      "Columns in df_day:  RangeIndex(start=0, stop=0, step=1)\n",
      "Columns in feature_col_names:  ['bid1', 'n_bsize1', 'bid2', 'n_bsize2', 'bid3', 'n_bsize3', 'bid4', 'n_bsize4', 'bid5', 'n_bsize5', 'ask1', 'n_asize1', 'ask2', 'n_asize2', 'ask3', 'n_asize3', 'ask4', 'n_asize4', 'ask5', 'n_asize5', 'spread1', 'mid_price1', 'spread2', 'mid_price2', 'spread3', 'mid_price3', 'weighted_ab1', 'weighted_ab2', 'weighted_ab3', 'amount', 'vol1_rel_diff', 'volall_rel_diff']\n",
      "Data type of df_day columns:  int64\n",
      "Data type of feature_col_names:  <class 'str'>\n",
      "Error in sym: 0 date: 60\n",
      "Columns in df_day:  RangeIndex(start=0, stop=0, step=1)\n",
      "Columns in feature_col_names:  ['bid1', 'n_bsize1', 'bid2', 'n_bsize2', 'bid3', 'n_bsize3', 'bid4', 'n_bsize4', 'bid5', 'n_bsize5', 'ask1', 'n_asize1', 'ask2', 'n_asize2', 'ask3', 'n_asize3', 'ask4', 'n_asize4', 'ask5', 'n_asize5', 'spread1', 'mid_price1', 'spread2', 'mid_price2', 'spread3', 'mid_price3', 'weighted_ab1', 'weighted_ab2', 'weighted_ab3', 'amount', 'vol1_rel_diff', 'volall_rel_diff']\n",
      "Data type of df_day columns:  int64\n",
      "Data type of feature_col_names:  <class 'str'>\n",
      "Error in sym: 0 date: 61\n",
      "Columns in df_day:  RangeIndex(start=0, stop=0, step=1)\n",
      "Columns in feature_col_names:  ['bid1', 'n_bsize1', 'bid2', 'n_bsize2', 'bid3', 'n_bsize3', 'bid4', 'n_bsize4', 'bid5', 'n_bsize5', 'ask1', 'n_asize1', 'ask2', 'n_asize2', 'ask3', 'n_asize3', 'ask4', 'n_asize4', 'ask5', 'n_asize5', 'spread1', 'mid_price1', 'spread2', 'mid_price2', 'spread3', 'mid_price3', 'weighted_ab1', 'weighted_ab2', 'weighted_ab3', 'amount', 'vol1_rel_diff', 'volall_rel_diff']\n",
      "Data type of df_day columns:  int64\n",
      "Data type of feature_col_names:  <class 'str'>\n",
      "Error in sym: 0 date: 62\n",
      "Columns in df_day:  RangeIndex(start=0, stop=0, step=1)\n",
      "Columns in feature_col_names:  ['bid1', 'n_bsize1', 'bid2', 'n_bsize2', 'bid3', 'n_bsize3', 'bid4', 'n_bsize4', 'bid5', 'n_bsize5', 'ask1', 'n_asize1', 'ask2', 'n_asize2', 'ask3', 'n_asize3', 'ask4', 'n_asize4', 'ask5', 'n_asize5', 'spread1', 'mid_price1', 'spread2', 'mid_price2', 'spread3', 'mid_price3', 'weighted_ab1', 'weighted_ab2', 'weighted_ab3', 'amount', 'vol1_rel_diff', 'volall_rel_diff']\n",
      "Data type of df_day columns:  int64\n",
      "Data type of feature_col_names:  <class 'str'>\n",
      "Processing snapshot_sym0_date63_am.csv\n",
      "Processing snapshot_sym0_date63_pm.csv\n",
      "Processing snapshot_sym0_date64_am.csv\n",
      "Processing snapshot_sym0_date64_pm.csv\n",
      "Processing snapshot_sym0_date65_am.csv\n",
      "Processing snapshot_sym0_date65_pm.csv\n",
      "Processing snapshot_sym0_date66_am.csv\n",
      "Processing snapshot_sym0_date66_pm.csv\n",
      "Processing snapshot_sym0_date67_am.csv\n",
      "Processing snapshot_sym0_date67_pm.csv\n",
      "Processing snapshot_sym0_date68_am.csv\n",
      "Processing snapshot_sym0_date68_pm.csv\n",
      "Processing snapshot_sym0_date69_am.csv\n",
      "Processing snapshot_sym0_date69_pm.csv\n",
      "Processing snapshot_sym0_date70_am.csv\n",
      "Processing snapshot_sym0_date70_pm.csv\n",
      "Processing snapshot_sym0_date71_am.csv\n",
      "Processing snapshot_sym0_date71_pm.csv\n",
      "Processing snapshot_sym0_date72_am.csv\n",
      "Processing snapshot_sym0_date72_pm.csv\n",
      "Processing snapshot_sym0_date73_am.csv\n",
      "Processing snapshot_sym0_date73_pm.csv\n",
      "Processing snapshot_sym0_date74_am.csv\n",
      "Processing snapshot_sym0_date74_pm.csv\n",
      "Processing snapshot_sym0_date75_am.csv\n",
      "Processing snapshot_sym0_date75_pm.csv\n",
      "Processing snapshot_sym0_date76_am.csv\n",
      "Processing snapshot_sym0_date76_pm.csv\n",
      "Processing snapshot_sym0_date77_am.csv\n",
      "Processing snapshot_sym0_date77_pm.csv\n",
      "Processing snapshot_sym0_date78_am.csv\n",
      "Processing snapshot_sym0_date78_pm.csv\n",
      "Processing snapshot_sym1_date0_am.csv\n",
      "Processing snapshot_sym1_date0_pm.csv\n",
      "Processing snapshot_sym1_date1_am.csv\n",
      "Processing snapshot_sym1_date1_pm.csv\n",
      "Processing snapshot_sym1_date2_am.csv\n",
      "Processing snapshot_sym1_date2_pm.csv\n",
      "Processing snapshot_sym1_date3_am.csv\n",
      "Processing snapshot_sym1_date3_pm.csv\n",
      "Processing snapshot_sym1_date4_am.csv\n",
      "Processing snapshot_sym1_date4_pm.csv\n",
      "Processing snapshot_sym1_date5_am.csv\n",
      "Processing snapshot_sym1_date5_pm.csv\n",
      "Processing snapshot_sym1_date6_am.csv\n",
      "Processing snapshot_sym1_date6_pm.csv\n",
      "Processing snapshot_sym1_date7_am.csv\n",
      "Processing snapshot_sym1_date7_pm.csv\n",
      "Processing snapshot_sym1_date8_am.csv\n",
      "Processing snapshot_sym1_date8_pm.csv\n",
      "Processing snapshot_sym1_date9_am.csv\n",
      "Processing snapshot_sym1_date9_pm.csv\n",
      "Processing snapshot_sym1_date10_am.csv\n",
      "Processing snapshot_sym1_date10_pm.csv\n",
      "Processing snapshot_sym1_date11_am.csv\n",
      "Processing snapshot_sym1_date11_pm.csv\n",
      "Processing snapshot_sym1_date12_am.csv\n",
      "Processing snapshot_sym1_date12_pm.csv\n",
      "Processing snapshot_sym1_date13_am.csv\n",
      "Processing snapshot_sym1_date13_pm.csv\n",
      "Processing snapshot_sym1_date14_am.csv\n",
      "Processing snapshot_sym1_date14_pm.csv\n",
      "Processing snapshot_sym1_date15_am.csv\n",
      "Processing snapshot_sym1_date15_pm.csv\n",
      "Processing snapshot_sym1_date16_am.csv\n",
      "Processing snapshot_sym1_date16_pm.csv\n",
      "Processing snapshot_sym1_date17_am.csv\n",
      "Processing snapshot_sym1_date17_pm.csv\n",
      "Processing snapshot_sym1_date18_am.csv\n",
      "Processing snapshot_sym1_date18_pm.csv\n",
      "Processing snapshot_sym1_date19_am.csv\n",
      "Processing snapshot_sym1_date19_pm.csv\n",
      "Processing snapshot_sym1_date20_am.csv\n",
      "Processing snapshot_sym1_date20_pm.csv\n",
      "Processing snapshot_sym1_date21_am.csv\n",
      "Processing snapshot_sym1_date21_pm.csv\n",
      "Processing snapshot_sym1_date22_am.csv\n",
      "Processing snapshot_sym1_date22_pm.csv\n",
      "Processing snapshot_sym1_date23_am.csv\n",
      "Processing snapshot_sym1_date23_pm.csv\n",
      "Processing snapshot_sym1_date24_am.csv\n",
      "Processing snapshot_sym1_date24_pm.csv\n",
      "Processing snapshot_sym1_date25_am.csv\n",
      "Processing snapshot_sym1_date25_pm.csv\n",
      "Processing snapshot_sym1_date26_am.csv\n",
      "Processing snapshot_sym1_date26_pm.csv\n",
      "Processing snapshot_sym1_date27_am.csv\n",
      "Processing snapshot_sym1_date27_pm.csv\n",
      "Processing snapshot_sym1_date28_am.csv\n",
      "Processing snapshot_sym1_date28_pm.csv\n",
      "Processing snapshot_sym1_date29_am.csv\n",
      "Processing snapshot_sym1_date29_pm.csv\n",
      "Processing snapshot_sym1_date30_am.csv\n",
      "Processing snapshot_sym1_date30_pm.csv\n",
      "Processing snapshot_sym1_date31_am.csv\n",
      "Processing snapshot_sym1_date31_pm.csv\n",
      "Processing snapshot_sym1_date32_am.csv\n",
      "Processing snapshot_sym1_date32_pm.csv\n",
      "Processing snapshot_sym1_date33_am.csv\n",
      "Processing snapshot_sym1_date33_pm.csv\n",
      "Processing snapshot_sym1_date34_am.csv\n",
      "Processing snapshot_sym1_date34_pm.csv\n",
      "Processing snapshot_sym1_date35_am.csv\n",
      "Processing snapshot_sym1_date35_pm.csv\n",
      "Processing snapshot_sym1_date36_am.csv\n",
      "Processing snapshot_sym1_date36_pm.csv\n",
      "Processing snapshot_sym1_date37_am.csv\n",
      "Processing snapshot_sym1_date37_pm.csv\n",
      "Processing snapshot_sym1_date38_am.csv\n",
      "Processing snapshot_sym1_date38_pm.csv\n",
      "Processing snapshot_sym1_date39_am.csv\n",
      "Processing snapshot_sym1_date39_pm.csv\n",
      "Processing snapshot_sym1_date40_am.csv\n",
      "Processing snapshot_sym1_date40_pm.csv\n",
      "Processing snapshot_sym1_date41_am.csv\n",
      "Processing snapshot_sym1_date41_pm.csv\n",
      "Processing snapshot_sym1_date42_pm.csv\n",
      "Processing snapshot_sym1_date43_am.csv\n",
      "Processing snapshot_sym1_date43_pm.csv\n",
      "Processing snapshot_sym1_date44_pm.csv\n",
      "Processing snapshot_sym1_date45_am.csv\n",
      "Processing snapshot_sym1_date45_pm.csv\n",
      "Processing snapshot_sym1_date46_am.csv\n",
      "Processing snapshot_sym1_date46_pm.csv\n",
      "Processing snapshot_sym1_date47_am.csv\n",
      "Processing snapshot_sym1_date47_pm.csv\n",
      "Processing snapshot_sym1_date48_am.csv\n",
      "Processing snapshot_sym1_date48_pm.csv\n",
      "Processing snapshot_sym1_date49_am.csv\n",
      "Processing snapshot_sym1_date49_pm.csv\n",
      "Processing snapshot_sym1_date50_am.csv\n",
      "Processing snapshot_sym1_date50_pm.csv\n",
      "Processing snapshot_sym1_date51_am.csv\n",
      "Processing snapshot_sym1_date51_pm.csv\n",
      "Processing snapshot_sym1_date52_am.csv\n",
      "Processing snapshot_sym1_date52_pm.csv\n",
      "Processing snapshot_sym1_date53_am.csv\n",
      "Processing snapshot_sym1_date53_pm.csv\n",
      "Processing snapshot_sym1_date54_am.csv\n",
      "Processing snapshot_sym1_date54_pm.csv\n",
      "Processing snapshot_sym1_date55_am.csv\n",
      "Processing snapshot_sym1_date55_pm.csv\n",
      "Processing snapshot_sym1_date56_am.csv\n",
      "Processing snapshot_sym1_date56_pm.csv\n",
      "Processing snapshot_sym1_date57_am.csv\n",
      "Processing snapshot_sym1_date57_pm.csv\n",
      "Processing snapshot_sym1_date58_am.csv\n",
      "Processing snapshot_sym1_date58_pm.csv\n",
      "Processing snapshot_sym1_date59_am.csv\n",
      "Processing snapshot_sym1_date59_pm.csv\n",
      "Processing snapshot_sym1_date60_am.csv\n",
      "Processing snapshot_sym1_date60_pm.csv\n",
      "Processing snapshot_sym1_date61_am.csv\n",
      "Processing snapshot_sym1_date61_pm.csv\n",
      "Processing snapshot_sym1_date62_am.csv\n",
      "Processing snapshot_sym1_date62_pm.csv\n",
      "Processing snapshot_sym1_date63_am.csv\n",
      "Processing snapshot_sym1_date63_pm.csv\n",
      "Processing snapshot_sym1_date64_am.csv\n",
      "Processing snapshot_sym1_date64_pm.csv\n",
      "Processing snapshot_sym1_date65_am.csv\n",
      "Processing snapshot_sym1_date65_pm.csv\n",
      "Processing snapshot_sym1_date66_am.csv\n",
      "Processing snapshot_sym1_date66_pm.csv\n",
      "Processing snapshot_sym1_date67_am.csv\n",
      "Processing snapshot_sym1_date67_pm.csv\n",
      "Processing snapshot_sym1_date68_am.csv\n",
      "Processing snapshot_sym1_date68_pm.csv\n",
      "Processing snapshot_sym1_date69_am.csv\n",
      "Processing snapshot_sym1_date69_pm.csv\n",
      "Processing snapshot_sym1_date70_am.csv\n",
      "Processing snapshot_sym1_date70_pm.csv\n",
      "Processing snapshot_sym1_date71_am.csv\n",
      "Processing snapshot_sym1_date71_pm.csv\n",
      "Processing snapshot_sym1_date72_am.csv\n",
      "Processing snapshot_sym1_date72_pm.csv\n",
      "Processing snapshot_sym1_date73_am.csv\n",
      "Processing snapshot_sym1_date73_pm.csv\n",
      "Processing snapshot_sym1_date74_am.csv\n",
      "Processing snapshot_sym1_date74_pm.csv\n",
      "Processing snapshot_sym1_date75_am.csv\n",
      "Processing snapshot_sym1_date75_pm.csv\n",
      "Processing snapshot_sym1_date76_am.csv\n",
      "Processing snapshot_sym1_date76_pm.csv\n",
      "Processing snapshot_sym1_date77_am.csv\n",
      "Processing snapshot_sym1_date77_pm.csv\n",
      "Processing snapshot_sym1_date78_am.csv\n",
      "Processing snapshot_sym1_date78_pm.csv\n",
      "Processing snapshot_sym2_date0_am.csv\n",
      "Processing snapshot_sym2_date0_pm.csv\n",
      "Processing snapshot_sym2_date1_am.csv\n",
      "Processing snapshot_sym2_date1_pm.csv\n",
      "Processing snapshot_sym2_date2_am.csv\n",
      "Processing snapshot_sym2_date2_pm.csv\n",
      "Processing snapshot_sym2_date3_am.csv\n",
      "Processing snapshot_sym2_date3_pm.csv\n",
      "Processing snapshot_sym2_date4_am.csv\n",
      "Processing snapshot_sym2_date4_pm.csv\n",
      "Processing snapshot_sym2_date5_am.csv\n",
      "Processing snapshot_sym2_date5_pm.csv\n",
      "Processing snapshot_sym2_date6_am.csv\n",
      "Processing snapshot_sym2_date6_pm.csv\n",
      "Processing snapshot_sym2_date7_am.csv\n",
      "Processing snapshot_sym2_date7_pm.csv\n",
      "Processing snapshot_sym2_date8_am.csv\n",
      "Processing snapshot_sym2_date8_pm.csv\n",
      "Processing snapshot_sym2_date9_am.csv\n",
      "Processing snapshot_sym2_date9_pm.csv\n",
      "Processing snapshot_sym2_date10_am.csv\n",
      "Processing snapshot_sym2_date10_pm.csv\n",
      "Processing snapshot_sym2_date11_am.csv\n",
      "Processing snapshot_sym2_date11_pm.csv\n",
      "Processing snapshot_sym2_date12_am.csv\n",
      "Processing snapshot_sym2_date12_pm.csv\n",
      "Processing snapshot_sym2_date13_am.csv\n",
      "Processing snapshot_sym2_date13_pm.csv\n",
      "Processing snapshot_sym2_date14_am.csv\n",
      "Processing snapshot_sym2_date14_pm.csv\n",
      "Processing snapshot_sym2_date15_am.csv\n",
      "Processing snapshot_sym2_date15_pm.csv\n",
      "Processing snapshot_sym2_date16_am.csv\n",
      "Processing snapshot_sym2_date16_pm.csv\n",
      "Processing snapshot_sym2_date17_am.csv\n",
      "Processing snapshot_sym2_date17_pm.csv\n",
      "Processing snapshot_sym2_date18_am.csv\n",
      "Processing snapshot_sym2_date18_pm.csv\n",
      "Processing snapshot_sym2_date19_am.csv\n",
      "Processing snapshot_sym2_date19_pm.csv\n",
      "Processing snapshot_sym2_date20_am.csv\n",
      "Processing snapshot_sym2_date20_pm.csv\n",
      "Processing snapshot_sym2_date21_am.csv\n",
      "Processing snapshot_sym2_date21_pm.csv\n",
      "Processing snapshot_sym2_date22_am.csv\n",
      "Processing snapshot_sym2_date22_pm.csv\n",
      "Processing snapshot_sym2_date23_am.csv\n",
      "Processing snapshot_sym2_date23_pm.csv\n",
      "Processing snapshot_sym2_date24_am.csv\n",
      "Processing snapshot_sym2_date24_pm.csv\n",
      "Processing snapshot_sym2_date25_am.csv\n",
      "Processing snapshot_sym2_date25_pm.csv\n",
      "Processing snapshot_sym2_date26_am.csv\n",
      "Processing snapshot_sym2_date26_pm.csv\n",
      "Processing snapshot_sym2_date27_am.csv\n",
      "Processing snapshot_sym2_date27_pm.csv\n",
      "Processing snapshot_sym2_date28_am.csv\n",
      "Processing snapshot_sym2_date28_pm.csv\n",
      "Processing snapshot_sym2_date29_am.csv\n",
      "Processing snapshot_sym2_date29_pm.csv\n",
      "Processing snapshot_sym2_date30_am.csv\n",
      "Processing snapshot_sym2_date30_pm.csv\n",
      "Processing snapshot_sym2_date31_am.csv\n",
      "Processing snapshot_sym2_date31_pm.csv\n",
      "Processing snapshot_sym2_date32_am.csv\n",
      "Processing snapshot_sym2_date32_pm.csv\n",
      "Processing snapshot_sym2_date33_am.csv\n",
      "Processing snapshot_sym2_date33_pm.csv\n",
      "Processing snapshot_sym2_date34_am.csv\n",
      "Processing snapshot_sym2_date34_pm.csv\n",
      "Processing snapshot_sym2_date35_am.csv\n",
      "Processing snapshot_sym2_date35_pm.csv\n",
      "Processing snapshot_sym2_date36_am.csv\n",
      "Processing snapshot_sym2_date36_pm.csv\n",
      "Processing snapshot_sym2_date37_am.csv\n",
      "Processing snapshot_sym2_date37_pm.csv\n",
      "Processing snapshot_sym2_date38_am.csv\n",
      "Processing snapshot_sym2_date38_pm.csv\n",
      "Processing snapshot_sym2_date39_am.csv\n",
      "Processing snapshot_sym2_date39_pm.csv\n",
      "Processing snapshot_sym2_date40_am.csv\n",
      "Processing snapshot_sym2_date40_pm.csv\n",
      "Processing snapshot_sym2_date41_am.csv\n",
      "Processing snapshot_sym2_date41_pm.csv\n",
      "Processing snapshot_sym2_date42_pm.csv\n",
      "Processing snapshot_sym2_date43_am.csv\n",
      "Processing snapshot_sym2_date43_pm.csv\n",
      "Processing snapshot_sym2_date44_pm.csv\n",
      "Processing snapshot_sym2_date45_am.csv\n",
      "Processing snapshot_sym2_date45_pm.csv\n",
      "Processing snapshot_sym2_date46_am.csv\n",
      "Processing snapshot_sym2_date46_pm.csv\n",
      "Processing snapshot_sym2_date47_am.csv\n",
      "Processing snapshot_sym2_date47_pm.csv\n",
      "Processing snapshot_sym2_date48_am.csv\n",
      "Processing snapshot_sym2_date48_pm.csv\n",
      "Processing snapshot_sym2_date49_am.csv\n",
      "Processing snapshot_sym2_date49_pm.csv\n",
      "Processing snapshot_sym2_date50_am.csv\n",
      "Processing snapshot_sym2_date50_pm.csv\n",
      "Processing snapshot_sym2_date51_am.csv\n",
      "Processing snapshot_sym2_date51_pm.csv\n",
      "Processing snapshot_sym2_date52_am.csv\n",
      "Processing snapshot_sym2_date52_pm.csv\n",
      "Processing snapshot_sym2_date53_am.csv\n",
      "Processing snapshot_sym2_date53_pm.csv\n",
      "Processing snapshot_sym2_date54_am.csv\n",
      "Processing snapshot_sym2_date54_pm.csv\n",
      "Processing snapshot_sym2_date55_am.csv\n",
      "Processing snapshot_sym2_date55_pm.csv\n",
      "Processing snapshot_sym2_date56_am.csv\n",
      "Processing snapshot_sym2_date56_pm.csv\n",
      "Processing snapshot_sym2_date57_am.csv\n",
      "Processing snapshot_sym2_date57_pm.csv\n",
      "Processing snapshot_sym2_date58_am.csv\n",
      "Processing snapshot_sym2_date58_pm.csv\n",
      "Processing snapshot_sym2_date59_am.csv\n",
      "Processing snapshot_sym2_date59_pm.csv\n",
      "Processing snapshot_sym2_date60_am.csv\n",
      "Processing snapshot_sym2_date60_pm.csv\n",
      "Processing snapshot_sym2_date61_am.csv\n",
      "Processing snapshot_sym2_date61_pm.csv\n",
      "Processing snapshot_sym2_date62_am.csv\n",
      "Processing snapshot_sym2_date62_pm.csv\n",
      "Processing snapshot_sym2_date63_am.csv\n",
      "Processing snapshot_sym2_date63_pm.csv\n",
      "Processing snapshot_sym2_date64_am.csv\n",
      "Processing snapshot_sym2_date64_pm.csv\n",
      "Processing snapshot_sym2_date65_am.csv\n",
      "Processing snapshot_sym2_date65_pm.csv\n",
      "Processing snapshot_sym2_date66_am.csv\n",
      "Processing snapshot_sym2_date66_pm.csv\n",
      "Processing snapshot_sym2_date67_am.csv\n",
      "Processing snapshot_sym2_date67_pm.csv\n",
      "Processing snapshot_sym2_date68_am.csv\n",
      "Processing snapshot_sym2_date68_pm.csv\n",
      "Processing snapshot_sym2_date69_am.csv\n",
      "Processing snapshot_sym2_date69_pm.csv\n",
      "Processing snapshot_sym2_date70_am.csv\n",
      "Processing snapshot_sym2_date70_pm.csv\n",
      "Processing snapshot_sym2_date71_am.csv\n",
      "Processing snapshot_sym2_date71_pm.csv\n",
      "Processing snapshot_sym2_date72_am.csv\n",
      "Processing snapshot_sym2_date72_pm.csv\n",
      "Processing snapshot_sym2_date73_am.csv\n",
      "Processing snapshot_sym2_date73_pm.csv\n",
      "Processing snapshot_sym2_date74_am.csv\n",
      "Processing snapshot_sym2_date74_pm.csv\n",
      "Processing snapshot_sym2_date75_am.csv\n",
      "Processing snapshot_sym2_date75_pm.csv\n",
      "Processing snapshot_sym2_date76_am.csv\n",
      "Processing snapshot_sym2_date76_pm.csv\n",
      "Processing snapshot_sym2_date77_am.csv\n",
      "Processing snapshot_sym2_date77_pm.csv\n",
      "Processing snapshot_sym2_date78_am.csv\n",
      "Processing snapshot_sym2_date78_pm.csv\n",
      "Processing snapshot_sym3_date0_am.csv\n",
      "Processing snapshot_sym3_date0_pm.csv\n",
      "Processing snapshot_sym3_date1_am.csv\n",
      "Processing snapshot_sym3_date1_pm.csv\n",
      "Processing snapshot_sym3_date2_am.csv\n",
      "Processing snapshot_sym3_date2_pm.csv\n",
      "Processing snapshot_sym3_date3_am.csv\n",
      "Processing snapshot_sym3_date3_pm.csv\n",
      "Processing snapshot_sym3_date4_am.csv\n",
      "Processing snapshot_sym3_date4_pm.csv\n",
      "Processing snapshot_sym3_date5_am.csv\n",
      "Processing snapshot_sym3_date5_pm.csv\n",
      "Processing snapshot_sym3_date6_am.csv\n",
      "Processing snapshot_sym3_date6_pm.csv\n",
      "Processing snapshot_sym3_date7_am.csv\n",
      "Processing snapshot_sym3_date7_pm.csv\n",
      "Processing snapshot_sym3_date8_am.csv\n",
      "Processing snapshot_sym3_date8_pm.csv\n",
      "Processing snapshot_sym3_date9_am.csv\n",
      "Processing snapshot_sym3_date9_pm.csv\n",
      "Processing snapshot_sym3_date10_am.csv\n",
      "Processing snapshot_sym3_date10_pm.csv\n",
      "Processing snapshot_sym3_date11_am.csv\n",
      "Processing snapshot_sym3_date11_pm.csv\n",
      "Processing snapshot_sym3_date12_am.csv\n",
      "Processing snapshot_sym3_date12_pm.csv\n",
      "Processing snapshot_sym3_date13_am.csv\n",
      "Processing snapshot_sym3_date13_pm.csv\n",
      "Processing snapshot_sym3_date14_am.csv\n",
      "Processing snapshot_sym3_date14_pm.csv\n",
      "Processing snapshot_sym3_date15_am.csv\n",
      "Processing snapshot_sym3_date15_pm.csv\n",
      "Processing snapshot_sym3_date16_am.csv\n",
      "Processing snapshot_sym3_date16_pm.csv\n",
      "Processing snapshot_sym3_date17_am.csv\n",
      "Processing snapshot_sym3_date17_pm.csv\n",
      "Processing snapshot_sym3_date18_am.csv\n",
      "Processing snapshot_sym3_date18_pm.csv\n",
      "Processing snapshot_sym3_date19_am.csv\n",
      "Processing snapshot_sym3_date19_pm.csv\n",
      "Processing snapshot_sym3_date20_am.csv\n",
      "Processing snapshot_sym3_date20_pm.csv\n",
      "Processing snapshot_sym3_date21_am.csv\n",
      "Processing snapshot_sym3_date21_pm.csv\n",
      "Processing snapshot_sym3_date22_am.csv\n",
      "Processing snapshot_sym3_date22_pm.csv\n",
      "Processing snapshot_sym3_date23_am.csv\n",
      "Processing snapshot_sym3_date23_pm.csv\n",
      "Processing snapshot_sym3_date24_am.csv\n",
      "Processing snapshot_sym3_date24_pm.csv\n",
      "Processing snapshot_sym3_date25_am.csv\n",
      "Processing snapshot_sym3_date25_pm.csv\n",
      "Processing snapshot_sym3_date26_am.csv\n",
      "Processing snapshot_sym3_date26_pm.csv\n",
      "Processing snapshot_sym3_date27_am.csv\n",
      "Processing snapshot_sym3_date27_pm.csv\n",
      "Processing snapshot_sym3_date28_am.csv\n",
      "Processing snapshot_sym3_date28_pm.csv\n",
      "Processing snapshot_sym3_date29_am.csv\n",
      "Processing snapshot_sym3_date29_pm.csv\n",
      "Processing snapshot_sym3_date30_am.csv\n",
      "Processing snapshot_sym3_date30_pm.csv\n",
      "Processing snapshot_sym3_date31_am.csv\n",
      "Processing snapshot_sym3_date31_pm.csv\n",
      "Processing snapshot_sym3_date32_am.csv\n",
      "Processing snapshot_sym3_date32_pm.csv\n",
      "Processing snapshot_sym3_date33_am.csv\n",
      "Processing snapshot_sym3_date33_pm.csv\n",
      "Processing snapshot_sym3_date34_am.csv\n",
      "Processing snapshot_sym3_date34_pm.csv\n",
      "Processing snapshot_sym3_date35_am.csv\n",
      "Processing snapshot_sym3_date35_pm.csv\n",
      "Processing snapshot_sym3_date36_am.csv\n",
      "Processing snapshot_sym3_date36_pm.csv\n",
      "Processing snapshot_sym3_date37_am.csv\n",
      "Processing snapshot_sym3_date37_pm.csv\n",
      "Processing snapshot_sym3_date38_am.csv\n",
      "Processing snapshot_sym3_date38_pm.csv\n",
      "Processing snapshot_sym3_date39_am.csv\n",
      "Processing snapshot_sym3_date39_pm.csv\n",
      "Processing snapshot_sym3_date40_am.csv\n",
      "Processing snapshot_sym3_date40_pm.csv\n",
      "Processing snapshot_sym3_date41_am.csv\n",
      "Processing snapshot_sym3_date41_pm.csv\n",
      "Processing snapshot_sym3_date42_pm.csv\n",
      "Processing snapshot_sym3_date43_am.csv\n",
      "Processing snapshot_sym3_date43_pm.csv\n",
      "Processing snapshot_sym3_date44_pm.csv\n",
      "Processing snapshot_sym3_date45_am.csv\n",
      "Processing snapshot_sym3_date45_pm.csv\n",
      "Processing snapshot_sym3_date46_am.csv\n",
      "Processing snapshot_sym3_date46_pm.csv\n",
      "Processing snapshot_sym3_date47_am.csv\n",
      "Processing snapshot_sym3_date47_pm.csv\n",
      "Processing snapshot_sym3_date48_am.csv\n",
      "Processing snapshot_sym3_date48_pm.csv\n",
      "Processing snapshot_sym3_date49_am.csv\n",
      "Processing snapshot_sym3_date49_pm.csv\n",
      "Processing snapshot_sym3_date50_am.csv\n",
      "Processing snapshot_sym3_date50_pm.csv\n",
      "Processing snapshot_sym3_date51_am.csv\n",
      "Processing snapshot_sym3_date51_pm.csv\n",
      "Processing snapshot_sym3_date52_am.csv\n",
      "Processing snapshot_sym3_date52_pm.csv\n",
      "Processing snapshot_sym3_date53_am.csv\n",
      "Processing snapshot_sym3_date53_pm.csv\n",
      "Processing snapshot_sym3_date54_am.csv\n",
      "Processing snapshot_sym3_date54_pm.csv\n",
      "Processing snapshot_sym3_date55_am.csv\n",
      "Processing snapshot_sym3_date55_pm.csv\n",
      "Processing snapshot_sym3_date56_am.csv\n",
      "Processing snapshot_sym3_date56_pm.csv\n",
      "Processing snapshot_sym3_date57_am.csv\n",
      "Processing snapshot_sym3_date57_pm.csv\n",
      "Processing snapshot_sym3_date58_am.csv\n",
      "Processing snapshot_sym3_date58_pm.csv\n",
      "Processing snapshot_sym3_date59_am.csv\n",
      "Processing snapshot_sym3_date59_pm.csv\n",
      "Processing snapshot_sym3_date60_am.csv\n",
      "Processing snapshot_sym3_date60_pm.csv\n",
      "Processing snapshot_sym3_date61_am.csv\n",
      "Processing snapshot_sym3_date61_pm.csv\n",
      "Processing snapshot_sym3_date62_am.csv\n",
      "Processing snapshot_sym3_date62_pm.csv\n",
      "Processing snapshot_sym3_date63_am.csv\n",
      "Processing snapshot_sym3_date63_pm.csv\n",
      "Processing snapshot_sym3_date64_am.csv\n",
      "Processing snapshot_sym3_date64_pm.csv\n",
      "Processing snapshot_sym3_date65_am.csv\n",
      "Processing snapshot_sym3_date65_pm.csv\n",
      "Processing snapshot_sym3_date66_am.csv\n",
      "Processing snapshot_sym3_date66_pm.csv\n",
      "Processing snapshot_sym3_date67_am.csv\n",
      "Processing snapshot_sym3_date67_pm.csv\n",
      "Processing snapshot_sym3_date68_am.csv\n",
      "Processing snapshot_sym3_date68_pm.csv\n",
      "Processing snapshot_sym3_date69_am.csv\n",
      "Processing snapshot_sym3_date69_pm.csv\n",
      "Processing snapshot_sym3_date70_am.csv\n",
      "Processing snapshot_sym3_date70_pm.csv\n",
      "Processing snapshot_sym3_date71_am.csv\n",
      "Processing snapshot_sym3_date71_pm.csv\n",
      "Processing snapshot_sym3_date72_am.csv\n",
      "Processing snapshot_sym3_date72_pm.csv\n",
      "Processing snapshot_sym3_date73_am.csv\n",
      "Processing snapshot_sym3_date73_pm.csv\n",
      "Processing snapshot_sym3_date74_am.csv\n",
      "Processing snapshot_sym3_date74_pm.csv\n",
      "Processing snapshot_sym3_date75_am.csv\n",
      "Processing snapshot_sym3_date75_pm.csv\n",
      "Processing snapshot_sym3_date76_am.csv\n",
      "Processing snapshot_sym3_date76_pm.csv\n",
      "Processing snapshot_sym3_date77_am.csv\n",
      "Processing snapshot_sym3_date77_pm.csv\n",
      "Processing snapshot_sym3_date78_am.csv\n",
      "Processing snapshot_sym3_date78_pm.csv\n",
      "Processing snapshot_sym4_date0_am.csv\n",
      "Processing snapshot_sym4_date0_pm.csv\n",
      "Processing snapshot_sym4_date1_am.csv\n",
      "Processing snapshot_sym4_date1_pm.csv\n",
      "Processing snapshot_sym4_date2_am.csv\n",
      "Processing snapshot_sym4_date2_pm.csv\n",
      "Processing snapshot_sym4_date3_am.csv\n",
      "Processing snapshot_sym4_date3_pm.csv\n",
      "Processing snapshot_sym4_date4_am.csv\n",
      "Processing snapshot_sym4_date4_pm.csv\n",
      "Processing snapshot_sym4_date5_am.csv\n",
      "Processing snapshot_sym4_date5_pm.csv\n",
      "Processing snapshot_sym4_date6_am.csv\n",
      "Processing snapshot_sym4_date6_pm.csv\n",
      "Processing snapshot_sym4_date7_am.csv\n",
      "Processing snapshot_sym4_date7_pm.csv\n",
      "Processing snapshot_sym4_date8_am.csv\n",
      "Processing snapshot_sym4_date8_pm.csv\n",
      "Processing snapshot_sym4_date9_am.csv\n",
      "Processing snapshot_sym4_date9_pm.csv\n",
      "Processing snapshot_sym4_date10_am.csv\n",
      "Processing snapshot_sym4_date10_pm.csv\n",
      "Processing snapshot_sym4_date11_am.csv\n",
      "Processing snapshot_sym4_date11_pm.csv\n",
      "Processing snapshot_sym4_date12_am.csv\n",
      "Processing snapshot_sym4_date12_pm.csv\n",
      "Processing snapshot_sym4_date13_am.csv\n",
      "Processing snapshot_sym4_date13_pm.csv\n",
      "Processing snapshot_sym4_date14_am.csv\n",
      "Processing snapshot_sym4_date14_pm.csv\n",
      "Processing snapshot_sym4_date15_am.csv\n",
      "Processing snapshot_sym4_date15_pm.csv\n",
      "Processing snapshot_sym4_date16_am.csv\n",
      "Processing snapshot_sym4_date16_pm.csv\n",
      "Processing snapshot_sym4_date17_am.csv\n",
      "Processing snapshot_sym4_date17_pm.csv\n",
      "Processing snapshot_sym4_date18_am.csv\n",
      "Processing snapshot_sym4_date18_pm.csv\n",
      "Processing snapshot_sym4_date19_am.csv\n",
      "Processing snapshot_sym4_date19_pm.csv\n",
      "Processing snapshot_sym4_date20_am.csv\n",
      "Processing snapshot_sym4_date20_pm.csv\n",
      "Processing snapshot_sym4_date21_am.csv\n",
      "Processing snapshot_sym4_date21_pm.csv\n",
      "Processing snapshot_sym4_date22_am.csv\n",
      "Processing snapshot_sym4_date22_pm.csv\n",
      "Processing snapshot_sym4_date23_am.csv\n",
      "Processing snapshot_sym4_date23_pm.csv\n",
      "Processing snapshot_sym4_date24_am.csv\n",
      "Processing snapshot_sym4_date24_pm.csv\n",
      "Processing snapshot_sym4_date25_am.csv\n",
      "Processing snapshot_sym4_date25_pm.csv\n",
      "Processing snapshot_sym4_date26_am.csv\n",
      "Processing snapshot_sym4_date26_pm.csv\n",
      "Processing snapshot_sym4_date27_am.csv\n",
      "Processing snapshot_sym4_date27_pm.csv\n",
      "Processing snapshot_sym4_date28_am.csv\n",
      "Processing snapshot_sym4_date28_pm.csv\n",
      "Processing snapshot_sym4_date29_am.csv\n",
      "Processing snapshot_sym4_date29_pm.csv\n",
      "Processing snapshot_sym4_date30_am.csv\n",
      "Processing snapshot_sym4_date30_pm.csv\n",
      "Processing snapshot_sym4_date31_am.csv\n",
      "Processing snapshot_sym4_date31_pm.csv\n",
      "Processing snapshot_sym4_date32_am.csv\n",
      "Processing snapshot_sym4_date32_pm.csv\n",
      "Processing snapshot_sym4_date33_am.csv\n",
      "Processing snapshot_sym4_date33_pm.csv\n",
      "Processing snapshot_sym4_date34_am.csv\n",
      "Processing snapshot_sym4_date34_pm.csv\n",
      "Processing snapshot_sym4_date35_am.csv\n",
      "Processing snapshot_sym4_date35_pm.csv\n",
      "Processing snapshot_sym4_date36_am.csv\n",
      "Processing snapshot_sym4_date36_pm.csv\n",
      "Processing snapshot_sym4_date37_am.csv\n",
      "Processing snapshot_sym4_date37_pm.csv\n",
      "Processing snapshot_sym4_date38_am.csv\n",
      "Processing snapshot_sym4_date38_pm.csv\n",
      "Processing snapshot_sym4_date39_am.csv\n",
      "Processing snapshot_sym4_date39_pm.csv\n",
      "Processing snapshot_sym4_date40_am.csv\n",
      "Processing snapshot_sym4_date40_pm.csv\n",
      "Processing snapshot_sym4_date41_am.csv\n",
      "Processing snapshot_sym4_date41_pm.csv\n",
      "Processing snapshot_sym4_date42_pm.csv\n",
      "Processing snapshot_sym4_date43_am.csv\n",
      "Processing snapshot_sym4_date43_pm.csv\n",
      "Processing snapshot_sym4_date44_pm.csv\n",
      "Processing snapshot_sym4_date45_am.csv\n",
      "Processing snapshot_sym4_date45_pm.csv\n",
      "Processing snapshot_sym4_date46_am.csv\n",
      "Processing snapshot_sym4_date46_pm.csv\n",
      "Processing snapshot_sym4_date47_am.csv\n",
      "Processing snapshot_sym4_date47_pm.csv\n",
      "Processing snapshot_sym4_date48_am.csv\n",
      "Processing snapshot_sym4_date48_pm.csv\n",
      "Processing snapshot_sym4_date49_am.csv\n",
      "Processing snapshot_sym4_date49_pm.csv\n",
      "Processing snapshot_sym4_date50_am.csv\n",
      "Processing snapshot_sym4_date50_pm.csv\n",
      "Processing snapshot_sym4_date51_am.csv\n",
      "Processing snapshot_sym4_date51_pm.csv\n",
      "Processing snapshot_sym4_date52_am.csv\n",
      "Processing snapshot_sym4_date52_pm.csv\n",
      "Processing snapshot_sym4_date53_am.csv\n",
      "Processing snapshot_sym4_date53_pm.csv\n",
      "Processing snapshot_sym4_date54_am.csv\n",
      "Processing snapshot_sym4_date54_pm.csv\n",
      "Processing snapshot_sym4_date55_am.csv\n",
      "Processing snapshot_sym4_date55_pm.csv\n",
      "Processing snapshot_sym4_date56_am.csv\n",
      "Processing snapshot_sym4_date56_pm.csv\n",
      "Processing snapshot_sym4_date57_am.csv\n",
      "Processing snapshot_sym4_date57_pm.csv\n",
      "Processing snapshot_sym4_date58_am.csv\n",
      "Processing snapshot_sym4_date58_pm.csv\n",
      "Processing snapshot_sym4_date59_am.csv\n",
      "Processing snapshot_sym4_date59_pm.csv\n",
      "Processing snapshot_sym4_date60_am.csv\n",
      "Processing snapshot_sym4_date60_pm.csv\n",
      "Processing snapshot_sym4_date61_am.csv\n",
      "Processing snapshot_sym4_date61_pm.csv\n",
      "Processing snapshot_sym4_date62_am.csv\n",
      "Processing snapshot_sym4_date62_pm.csv\n",
      "Processing snapshot_sym4_date63_am.csv\n",
      "Processing snapshot_sym4_date63_pm.csv\n",
      "Processing snapshot_sym4_date64_am.csv\n",
      "Processing snapshot_sym4_date64_pm.csv\n",
      "Processing snapshot_sym4_date65_am.csv\n",
      "Processing snapshot_sym4_date65_pm.csv\n",
      "Processing snapshot_sym4_date66_am.csv\n",
      "Processing snapshot_sym4_date66_pm.csv\n",
      "Processing snapshot_sym4_date67_am.csv\n",
      "Processing snapshot_sym4_date67_pm.csv\n",
      "Processing snapshot_sym4_date68_am.csv\n",
      "Processing snapshot_sym4_date68_pm.csv\n",
      "Processing snapshot_sym4_date69_am.csv\n",
      "Processing snapshot_sym4_date69_pm.csv\n",
      "Processing snapshot_sym4_date70_am.csv\n",
      "Processing snapshot_sym4_date70_pm.csv\n",
      "Processing snapshot_sym4_date71_am.csv\n",
      "Processing snapshot_sym4_date71_pm.csv\n",
      "Processing snapshot_sym4_date72_am.csv\n",
      "Processing snapshot_sym4_date72_pm.csv\n",
      "Processing snapshot_sym4_date73_am.csv\n",
      "Processing snapshot_sym4_date73_pm.csv\n",
      "Processing snapshot_sym4_date74_am.csv\n",
      "Processing snapshot_sym4_date74_pm.csv\n",
      "Processing snapshot_sym4_date75_am.csv\n",
      "Processing snapshot_sym4_date75_pm.csv\n",
      "Processing snapshot_sym4_date76_am.csv\n",
      "Processing snapshot_sym4_date76_pm.csv\n",
      "Processing snapshot_sym4_date77_am.csv\n",
      "Processing snapshot_sym4_date77_pm.csv\n",
      "Processing snapshot_sym4_date78_am.csv\n",
      "Processing snapshot_sym4_date78_pm.csv\n",
      "Error in sym: 5 date: 0\n",
      "Columns in df_day:  RangeIndex(start=0, stop=0, step=1)\n",
      "Columns in feature_col_names:  ['bid1', 'n_bsize1', 'bid2', 'n_bsize2', 'bid3', 'n_bsize3', 'bid4', 'n_bsize4', 'bid5', 'n_bsize5', 'ask1', 'n_asize1', 'ask2', 'n_asize2', 'ask3', 'n_asize3', 'ask4', 'n_asize4', 'ask5', 'n_asize5', 'spread1', 'mid_price1', 'spread2', 'mid_price2', 'spread3', 'mid_price3', 'weighted_ab1', 'weighted_ab2', 'weighted_ab3', 'amount', 'vol1_rel_diff', 'volall_rel_diff']\n",
      "Data type of df_day columns:  int64\n",
      "Data type of feature_col_names:  <class 'str'>\n",
      "Error in sym: 5 date: 1\n",
      "Columns in df_day:  RangeIndex(start=0, stop=0, step=1)\n",
      "Columns in feature_col_names:  ['bid1', 'n_bsize1', 'bid2', 'n_bsize2', 'bid3', 'n_bsize3', 'bid4', 'n_bsize4', 'bid5', 'n_bsize5', 'ask1', 'n_asize1', 'ask2', 'n_asize2', 'ask3', 'n_asize3', 'ask4', 'n_asize4', 'ask5', 'n_asize5', 'spread1', 'mid_price1', 'spread2', 'mid_price2', 'spread3', 'mid_price3', 'weighted_ab1', 'weighted_ab2', 'weighted_ab3', 'amount', 'vol1_rel_diff', 'volall_rel_diff']\n",
      "Data type of df_day columns:  int64\n",
      "Data type of feature_col_names:  <class 'str'>\n",
      "Processing snapshot_sym5_date2_am.csv\n",
      "Processing snapshot_sym5_date3_am.csv\n",
      "Processing snapshot_sym5_date3_pm.csv\n",
      "Error in sym: 5 date: 4\n",
      "Columns in df_day:  RangeIndex(start=0, stop=0, step=1)\n",
      "Columns in feature_col_names:  ['bid1', 'n_bsize1', 'bid2', 'n_bsize2', 'bid3', 'n_bsize3', 'bid4', 'n_bsize4', 'bid5', 'n_bsize5', 'ask1', 'n_asize1', 'ask2', 'n_asize2', 'ask3', 'n_asize3', 'ask4', 'n_asize4', 'ask5', 'n_asize5', 'spread1', 'mid_price1', 'spread2', 'mid_price2', 'spread3', 'mid_price3', 'weighted_ab1', 'weighted_ab2', 'weighted_ab3', 'amount', 'vol1_rel_diff', 'volall_rel_diff']\n",
      "Data type of df_day columns:  int64\n",
      "Data type of feature_col_names:  <class 'str'>\n",
      "Processing snapshot_sym5_date5_am.csv\n",
      "Processing snapshot_sym5_date5_pm.csv\n",
      "Processing snapshot_sym5_date6_am.csv\n",
      "Processing snapshot_sym5_date7_pm.csv\n",
      "Processing snapshot_sym5_date8_am.csv\n",
      "Processing snapshot_sym5_date9_am.csv\n",
      "Processing snapshot_sym5_date10_am.csv\n",
      "Processing snapshot_sym5_date10_pm.csv\n",
      "Processing snapshot_sym5_date11_am.csv\n",
      "Processing snapshot_sym5_date11_pm.csv\n",
      "Processing snapshot_sym5_date12_am.csv\n",
      "Processing snapshot_sym5_date12_pm.csv\n",
      "Error in sym: 5 date: 13\n",
      "Columns in df_day:  RangeIndex(start=0, stop=0, step=1)\n",
      "Columns in feature_col_names:  ['bid1', 'n_bsize1', 'bid2', 'n_bsize2', 'bid3', 'n_bsize3', 'bid4', 'n_bsize4', 'bid5', 'n_bsize5', 'ask1', 'n_asize1', 'ask2', 'n_asize2', 'ask3', 'n_asize3', 'ask4', 'n_asize4', 'ask5', 'n_asize5', 'spread1', 'mid_price1', 'spread2', 'mid_price2', 'spread3', 'mid_price3', 'weighted_ab1', 'weighted_ab2', 'weighted_ab3', 'amount', 'vol1_rel_diff', 'volall_rel_diff']\n",
      "Data type of df_day columns:  int64\n",
      "Data type of feature_col_names:  <class 'str'>\n",
      "Error in sym: 5 date: 14\n",
      "Columns in df_day:  RangeIndex(start=0, stop=0, step=1)\n",
      "Columns in feature_col_names:  ['bid1', 'n_bsize1', 'bid2', 'n_bsize2', 'bid3', 'n_bsize3', 'bid4', 'n_bsize4', 'bid5', 'n_bsize5', 'ask1', 'n_asize1', 'ask2', 'n_asize2', 'ask3', 'n_asize3', 'ask4', 'n_asize4', 'ask5', 'n_asize5', 'spread1', 'mid_price1', 'spread2', 'mid_price2', 'spread3', 'mid_price3', 'weighted_ab1', 'weighted_ab2', 'weighted_ab3', 'amount', 'vol1_rel_diff', 'volall_rel_diff']\n",
      "Data type of df_day columns:  int64\n",
      "Data type of feature_col_names:  <class 'str'>\n",
      "Error in sym: 5 date: 15\n",
      "Columns in df_day:  RangeIndex(start=0, stop=0, step=1)\n",
      "Columns in feature_col_names:  ['bid1', 'n_bsize1', 'bid2', 'n_bsize2', 'bid3', 'n_bsize3', 'bid4', 'n_bsize4', 'bid5', 'n_bsize5', 'ask1', 'n_asize1', 'ask2', 'n_asize2', 'ask3', 'n_asize3', 'ask4', 'n_asize4', 'ask5', 'n_asize5', 'spread1', 'mid_price1', 'spread2', 'mid_price2', 'spread3', 'mid_price3', 'weighted_ab1', 'weighted_ab2', 'weighted_ab3', 'amount', 'vol1_rel_diff', 'volall_rel_diff']\n",
      "Data type of df_day columns:  int64\n",
      "Data type of feature_col_names:  <class 'str'>\n",
      "Processing snapshot_sym5_date16_am.csv\n",
      "Processing snapshot_sym5_date16_pm.csv\n",
      "Processing snapshot_sym5_date17_am.csv\n",
      "Processing snapshot_sym5_date17_pm.csv\n",
      "Processing snapshot_sym5_date18_am.csv\n",
      "Processing snapshot_sym5_date18_pm.csv\n",
      "Processing snapshot_sym5_date19_am.csv\n",
      "Processing snapshot_sym5_date19_pm.csv\n",
      "Processing snapshot_sym5_date20_am.csv\n",
      "Processing snapshot_sym5_date20_pm.csv\n",
      "Processing snapshot_sym5_date21_am.csv\n",
      "Processing snapshot_sym5_date21_pm.csv\n",
      "Processing snapshot_sym5_date22_am.csv\n",
      "Processing snapshot_sym5_date22_pm.csv\n",
      "Processing snapshot_sym5_date23_am.csv\n",
      "Processing snapshot_sym5_date23_pm.csv\n",
      "Processing snapshot_sym5_date24_am.csv\n",
      "Processing snapshot_sym5_date24_pm.csv\n",
      "Processing snapshot_sym5_date25_am.csv\n",
      "Processing snapshot_sym5_date25_pm.csv\n",
      "Processing snapshot_sym5_date26_am.csv\n",
      "Processing snapshot_sym5_date26_pm.csv\n",
      "Processing snapshot_sym5_date27_am.csv\n",
      "Processing snapshot_sym5_date27_pm.csv\n",
      "Processing snapshot_sym5_date28_am.csv\n",
      "Processing snapshot_sym5_date28_pm.csv\n",
      "Processing snapshot_sym5_date29_am.csv\n",
      "Processing snapshot_sym5_date29_pm.csv\n",
      "Processing snapshot_sym5_date30_am.csv\n",
      "Processing snapshot_sym5_date30_pm.csv\n",
      "Processing snapshot_sym5_date31_am.csv\n",
      "Processing snapshot_sym5_date31_pm.csv\n",
      "Processing snapshot_sym5_date32_am.csv\n",
      "Processing snapshot_sym5_date32_pm.csv\n",
      "Processing snapshot_sym5_date33_am.csv\n",
      "Processing snapshot_sym5_date33_pm.csv\n",
      "Processing snapshot_sym5_date34_am.csv\n",
      "Processing snapshot_sym5_date34_pm.csv\n",
      "Processing snapshot_sym5_date35_am.csv\n",
      "Processing snapshot_sym5_date35_pm.csv\n",
      "Processing snapshot_sym5_date36_am.csv\n",
      "Processing snapshot_sym5_date36_pm.csv\n",
      "Processing snapshot_sym5_date37_am.csv\n",
      "Processing snapshot_sym5_date38_am.csv\n",
      "Processing snapshot_sym5_date39_am.csv\n",
      "Processing snapshot_sym5_date39_pm.csv\n",
      "Processing snapshot_sym5_date40_am.csv\n",
      "Processing snapshot_sym5_date40_pm.csv\n",
      "Processing snapshot_sym5_date41_am.csv\n",
      "Processing snapshot_sym5_date41_pm.csv\n",
      "Processing snapshot_sym5_date42_pm.csv\n",
      "Processing snapshot_sym5_date43_am.csv\n",
      "Processing snapshot_sym5_date43_pm.csv\n",
      "Processing snapshot_sym5_date44_pm.csv\n",
      "Processing snapshot_sym5_date45_am.csv\n",
      "Processing snapshot_sym5_date45_pm.csv\n",
      "Processing snapshot_sym5_date46_am.csv\n",
      "Processing snapshot_sym5_date46_pm.csv\n",
      "Processing snapshot_sym5_date47_am.csv\n",
      "Processing snapshot_sym5_date47_pm.csv\n",
      "Processing snapshot_sym5_date48_am.csv\n",
      "Processing snapshot_sym5_date48_pm.csv\n",
      "Processing snapshot_sym5_date49_am.csv\n",
      "Processing snapshot_sym5_date49_pm.csv\n",
      "Processing snapshot_sym5_date50_am.csv\n",
      "Processing snapshot_sym5_date50_pm.csv\n",
      "Processing snapshot_sym5_date51_am.csv\n",
      "Processing snapshot_sym5_date51_pm.csv\n",
      "Processing snapshot_sym5_date52_am.csv\n",
      "Processing snapshot_sym5_date52_pm.csv\n",
      "Processing snapshot_sym5_date53_am.csv\n",
      "Processing snapshot_sym5_date53_pm.csv\n",
      "Processing snapshot_sym5_date54_am.csv\n",
      "Processing snapshot_sym5_date54_pm.csv\n",
      "Processing snapshot_sym5_date55_am.csv\n",
      "Processing snapshot_sym5_date55_pm.csv\n",
      "Processing snapshot_sym5_date56_am.csv\n",
      "Processing snapshot_sym5_date56_pm.csv\n",
      "Processing snapshot_sym5_date57_am.csv\n",
      "Processing snapshot_sym5_date57_pm.csv\n",
      "Processing snapshot_sym5_date58_am.csv\n",
      "Processing snapshot_sym5_date58_pm.csv\n",
      "Processing snapshot_sym5_date59_am.csv\n",
      "Processing snapshot_sym5_date59_pm.csv\n",
      "Processing snapshot_sym5_date60_am.csv\n",
      "Processing snapshot_sym5_date60_pm.csv\n",
      "Processing snapshot_sym5_date61_am.csv\n",
      "Processing snapshot_sym5_date61_pm.csv\n",
      "Processing snapshot_sym5_date62_am.csv\n",
      "Processing snapshot_sym5_date62_pm.csv\n",
      "Processing snapshot_sym5_date63_am.csv\n",
      "Processing snapshot_sym5_date63_pm.csv\n",
      "Processing snapshot_sym5_date64_am.csv\n",
      "Processing snapshot_sym5_date64_pm.csv\n",
      "Processing snapshot_sym5_date65_am.csv\n",
      "Processing snapshot_sym5_date65_pm.csv\n",
      "Error in sym: 5 date: 66\n",
      "Columns in df_day:  RangeIndex(start=0, stop=0, step=1)\n",
      "Columns in feature_col_names:  ['bid1', 'n_bsize1', 'bid2', 'n_bsize2', 'bid3', 'n_bsize3', 'bid4', 'n_bsize4', 'bid5', 'n_bsize5', 'ask1', 'n_asize1', 'ask2', 'n_asize2', 'ask3', 'n_asize3', 'ask4', 'n_asize4', 'ask5', 'n_asize5', 'spread1', 'mid_price1', 'spread2', 'mid_price2', 'spread3', 'mid_price3', 'weighted_ab1', 'weighted_ab2', 'weighted_ab3', 'amount', 'vol1_rel_diff', 'volall_rel_diff']\n",
      "Data type of df_day columns:  int64\n",
      "Data type of feature_col_names:  <class 'str'>\n",
      "Processing snapshot_sym5_date67_am.csv\n",
      "Processing snapshot_sym5_date68_am.csv\n",
      "Processing snapshot_sym5_date68_pm.csv\n",
      "Processing snapshot_sym5_date69_am.csv\n",
      "Processing snapshot_sym5_date69_pm.csv\n",
      "Processing snapshot_sym5_date70_am.csv\n",
      "Processing snapshot_sym5_date70_pm.csv\n",
      "Processing snapshot_sym5_date71_am.csv\n",
      "Processing snapshot_sym5_date71_pm.csv\n",
      "Processing snapshot_sym5_date72_am.csv\n",
      "Processing snapshot_sym5_date72_pm.csv\n",
      "Processing snapshot_sym5_date73_am.csv\n",
      "Processing snapshot_sym5_date73_pm.csv\n",
      "Processing snapshot_sym5_date74_am.csv\n",
      "Processing snapshot_sym5_date74_pm.csv\n",
      "Processing snapshot_sym5_date75_am.csv\n",
      "Processing snapshot_sym5_date75_pm.csv\n",
      "Processing snapshot_sym5_date76_am.csv\n",
      "Processing snapshot_sym5_date76_pm.csv\n",
      "Processing snapshot_sym5_date77_am.csv\n",
      "Processing snapshot_sym5_date77_pm.csv\n",
      "Processing snapshot_sym5_date78_am.csv\n",
      "Error in sym: 6 date: 0\n",
      "Columns in df_day:  RangeIndex(start=0, stop=0, step=1)\n",
      "Columns in feature_col_names:  ['bid1', 'n_bsize1', 'bid2', 'n_bsize2', 'bid3', 'n_bsize3', 'bid4', 'n_bsize4', 'bid5', 'n_bsize5', 'ask1', 'n_asize1', 'ask2', 'n_asize2', 'ask3', 'n_asize3', 'ask4', 'n_asize4', 'ask5', 'n_asize5', 'spread1', 'mid_price1', 'spread2', 'mid_price2', 'spread3', 'mid_price3', 'weighted_ab1', 'weighted_ab2', 'weighted_ab3', 'amount', 'vol1_rel_diff', 'volall_rel_diff']\n",
      "Data type of df_day columns:  int64\n",
      "Data type of feature_col_names:  <class 'str'>\n",
      "Error in sym: 6 date: 1\n",
      "Columns in df_day:  RangeIndex(start=0, stop=0, step=1)\n",
      "Columns in feature_col_names:  ['bid1', 'n_bsize1', 'bid2', 'n_bsize2', 'bid3', 'n_bsize3', 'bid4', 'n_bsize4', 'bid5', 'n_bsize5', 'ask1', 'n_asize1', 'ask2', 'n_asize2', 'ask3', 'n_asize3', 'ask4', 'n_asize4', 'ask5', 'n_asize5', 'spread1', 'mid_price1', 'spread2', 'mid_price2', 'spread3', 'mid_price3', 'weighted_ab1', 'weighted_ab2', 'weighted_ab3', 'amount', 'vol1_rel_diff', 'volall_rel_diff']\n",
      "Data type of df_day columns:  int64\n",
      "Data type of feature_col_names:  <class 'str'>\n",
      "Error in sym: 6 date: 2\n",
      "Columns in df_day:  RangeIndex(start=0, stop=0, step=1)\n",
      "Columns in feature_col_names:  ['bid1', 'n_bsize1', 'bid2', 'n_bsize2', 'bid3', 'n_bsize3', 'bid4', 'n_bsize4', 'bid5', 'n_bsize5', 'ask1', 'n_asize1', 'ask2', 'n_asize2', 'ask3', 'n_asize3', 'ask4', 'n_asize4', 'ask5', 'n_asize5', 'spread1', 'mid_price1', 'spread2', 'mid_price2', 'spread3', 'mid_price3', 'weighted_ab1', 'weighted_ab2', 'weighted_ab3', 'amount', 'vol1_rel_diff', 'volall_rel_diff']\n",
      "Data type of df_day columns:  int64\n",
      "Data type of feature_col_names:  <class 'str'>\n",
      "Error in sym: 6 date: 3\n",
      "Columns in df_day:  RangeIndex(start=0, stop=0, step=1)\n",
      "Columns in feature_col_names:  ['bid1', 'n_bsize1', 'bid2', 'n_bsize2', 'bid3', 'n_bsize3', 'bid4', 'n_bsize4', 'bid5', 'n_bsize5', 'ask1', 'n_asize1', 'ask2', 'n_asize2', 'ask3', 'n_asize3', 'ask4', 'n_asize4', 'ask5', 'n_asize5', 'spread1', 'mid_price1', 'spread2', 'mid_price2', 'spread3', 'mid_price3', 'weighted_ab1', 'weighted_ab2', 'weighted_ab3', 'amount', 'vol1_rel_diff', 'volall_rel_diff']\n",
      "Data type of df_day columns:  int64\n",
      "Data type of feature_col_names:  <class 'str'>\n",
      "Error in sym: 6 date: 4\n",
      "Columns in df_day:  RangeIndex(start=0, stop=0, step=1)\n",
      "Columns in feature_col_names:  ['bid1', 'n_bsize1', 'bid2', 'n_bsize2', 'bid3', 'n_bsize3', 'bid4', 'n_bsize4', 'bid5', 'n_bsize5', 'ask1', 'n_asize1', 'ask2', 'n_asize2', 'ask3', 'n_asize3', 'ask4', 'n_asize4', 'ask5', 'n_asize5', 'spread1', 'mid_price1', 'spread2', 'mid_price2', 'spread3', 'mid_price3', 'weighted_ab1', 'weighted_ab2', 'weighted_ab3', 'amount', 'vol1_rel_diff', 'volall_rel_diff']\n",
      "Data type of df_day columns:  int64\n",
      "Data type of feature_col_names:  <class 'str'>\n",
      "Error in sym: 6 date: 5\n",
      "Columns in df_day:  RangeIndex(start=0, stop=0, step=1)\n",
      "Columns in feature_col_names:  ['bid1', 'n_bsize1', 'bid2', 'n_bsize2', 'bid3', 'n_bsize3', 'bid4', 'n_bsize4', 'bid5', 'n_bsize5', 'ask1', 'n_asize1', 'ask2', 'n_asize2', 'ask3', 'n_asize3', 'ask4', 'n_asize4', 'ask5', 'n_asize5', 'spread1', 'mid_price1', 'spread2', 'mid_price2', 'spread3', 'mid_price3', 'weighted_ab1', 'weighted_ab2', 'weighted_ab3', 'amount', 'vol1_rel_diff', 'volall_rel_diff']\n",
      "Data type of df_day columns:  int64\n",
      "Data type of feature_col_names:  <class 'str'>\n",
      "Processing snapshot_sym6_date6_am.csv\n",
      "Processing snapshot_sym6_date6_pm.csv\n",
      "Processing snapshot_sym6_date7_am.csv\n",
      "Processing snapshot_sym6_date7_pm.csv\n",
      "Processing snapshot_sym6_date8_am.csv\n",
      "Processing snapshot_sym6_date8_pm.csv\n",
      "Processing snapshot_sym6_date9_am.csv\n",
      "Processing snapshot_sym6_date9_pm.csv\n",
      "Processing snapshot_sym6_date10_am.csv\n",
      "Processing snapshot_sym6_date10_pm.csv\n",
      "Processing snapshot_sym6_date11_am.csv\n",
      "Processing snapshot_sym6_date11_pm.csv\n",
      "Processing snapshot_sym6_date12_am.csv\n",
      "Processing snapshot_sym6_date12_pm.csv\n",
      "Processing snapshot_sym6_date13_am.csv\n",
      "Processing snapshot_sym6_date13_pm.csv\n",
      "Processing snapshot_sym6_date14_am.csv\n",
      "Processing snapshot_sym6_date14_pm.csv\n",
      "Processing snapshot_sym6_date15_am.csv\n",
      "Processing snapshot_sym6_date15_pm.csv\n",
      "Processing snapshot_sym6_date16_am.csv\n",
      "Processing snapshot_sym6_date16_pm.csv\n",
      "Processing snapshot_sym6_date17_am.csv\n",
      "Processing snapshot_sym6_date17_pm.csv\n",
      "Processing snapshot_sym6_date18_am.csv\n",
      "Processing snapshot_sym6_date18_pm.csv\n",
      "Processing snapshot_sym6_date19_am.csv\n",
      "Processing snapshot_sym6_date19_pm.csv\n",
      "Processing snapshot_sym6_date20_am.csv\n",
      "Processing snapshot_sym6_date20_pm.csv\n",
      "Processing snapshot_sym6_date21_am.csv\n",
      "Processing snapshot_sym6_date21_pm.csv\n",
      "Processing snapshot_sym6_date22_am.csv\n",
      "Processing snapshot_sym6_date22_pm.csv\n",
      "Processing snapshot_sym6_date23_am.csv\n",
      "Processing snapshot_sym6_date23_pm.csv\n",
      "Processing snapshot_sym6_date24_am.csv\n",
      "Processing snapshot_sym6_date24_pm.csv\n",
      "Processing snapshot_sym6_date25_am.csv\n",
      "Processing snapshot_sym6_date25_pm.csv\n",
      "Processing snapshot_sym6_date26_am.csv\n",
      "Processing snapshot_sym6_date26_pm.csv\n",
      "Processing snapshot_sym6_date27_am.csv\n",
      "Processing snapshot_sym6_date27_pm.csv\n",
      "Processing snapshot_sym6_date28_am.csv\n",
      "Processing snapshot_sym6_date28_pm.csv\n",
      "Processing snapshot_sym6_date29_am.csv\n",
      "Processing snapshot_sym6_date29_pm.csv\n",
      "Processing snapshot_sym6_date30_am.csv\n",
      "Processing snapshot_sym6_date30_pm.csv\n",
      "Processing snapshot_sym6_date31_am.csv\n",
      "Processing snapshot_sym6_date31_pm.csv\n",
      "Processing snapshot_sym6_date32_am.csv\n",
      "Processing snapshot_sym6_date32_pm.csv\n",
      "Processing snapshot_sym6_date33_am.csv\n",
      "Processing snapshot_sym6_date33_pm.csv\n",
      "Processing snapshot_sym6_date34_am.csv\n",
      "Processing snapshot_sym6_date34_pm.csv\n",
      "Processing snapshot_sym6_date35_am.csv\n",
      "Processing snapshot_sym6_date35_pm.csv\n",
      "Processing snapshot_sym6_date36_am.csv\n",
      "Processing snapshot_sym6_date36_pm.csv\n",
      "Processing snapshot_sym6_date37_am.csv\n",
      "Processing snapshot_sym6_date37_pm.csv\n",
      "Processing snapshot_sym6_date38_am.csv\n",
      "Processing snapshot_sym6_date38_pm.csv\n",
      "Processing snapshot_sym6_date39_am.csv\n",
      "Processing snapshot_sym6_date39_pm.csv\n",
      "Processing snapshot_sym6_date40_am.csv\n",
      "Processing snapshot_sym6_date40_pm.csv\n",
      "Processing snapshot_sym6_date41_am.csv\n",
      "Processing snapshot_sym6_date41_pm.csv\n",
      "Processing snapshot_sym6_date42_am.csv\n",
      "Processing snapshot_sym6_date42_pm.csv\n",
      "Processing snapshot_sym6_date43_am.csv\n",
      "Processing snapshot_sym6_date43_pm.csv\n",
      "Processing snapshot_sym6_date44_am.csv\n",
      "Processing snapshot_sym6_date44_pm.csv\n",
      "Processing snapshot_sym6_date45_am.csv\n",
      "Processing snapshot_sym6_date45_pm.csv\n",
      "Processing snapshot_sym6_date46_am.csv\n",
      "Processing snapshot_sym6_date46_pm.csv\n",
      "Processing snapshot_sym6_date47_am.csv\n",
      "Processing snapshot_sym6_date47_pm.csv\n",
      "Processing snapshot_sym6_date48_am.csv\n",
      "Processing snapshot_sym6_date48_pm.csv\n",
      "Processing snapshot_sym6_date49_am.csv\n",
      "Processing snapshot_sym6_date49_pm.csv\n",
      "Processing snapshot_sym6_date50_am.csv\n",
      "Processing snapshot_sym6_date50_pm.csv\n",
      "Processing snapshot_sym6_date51_am.csv\n",
      "Processing snapshot_sym6_date51_pm.csv\n",
      "Processing snapshot_sym6_date52_am.csv\n",
      "Processing snapshot_sym6_date52_pm.csv\n",
      "Processing snapshot_sym6_date53_am.csv\n",
      "Processing snapshot_sym6_date53_pm.csv\n",
      "Processing snapshot_sym6_date54_am.csv\n",
      "Processing snapshot_sym6_date54_pm.csv\n",
      "Processing snapshot_sym6_date55_am.csv\n",
      "Processing snapshot_sym6_date55_pm.csv\n",
      "Processing snapshot_sym6_date56_am.csv\n",
      "Processing snapshot_sym6_date56_pm.csv\n",
      "Processing snapshot_sym6_date57_am.csv\n",
      "Processing snapshot_sym6_date57_pm.csv\n",
      "Processing snapshot_sym6_date58_am.csv\n",
      "Processing snapshot_sym6_date58_pm.csv\n",
      "Processing snapshot_sym6_date59_am.csv\n",
      "Processing snapshot_sym6_date59_pm.csv\n",
      "Processing snapshot_sym6_date60_am.csv\n",
      "Processing snapshot_sym6_date60_pm.csv\n",
      "Processing snapshot_sym6_date61_am.csv\n",
      "Processing snapshot_sym6_date61_pm.csv\n",
      "Processing snapshot_sym6_date62_am.csv\n",
      "Processing snapshot_sym6_date62_pm.csv\n",
      "Processing snapshot_sym6_date63_am.csv\n",
      "Processing snapshot_sym6_date63_pm.csv\n",
      "Processing snapshot_sym6_date64_am.csv\n",
      "Processing snapshot_sym6_date64_pm.csv\n",
      "Processing snapshot_sym6_date65_am.csv\n",
      "Processing snapshot_sym6_date65_pm.csv\n",
      "Processing snapshot_sym6_date66_am.csv\n",
      "Processing snapshot_sym6_date66_pm.csv\n",
      "Processing snapshot_sym6_date67_am.csv\n",
      "Processing snapshot_sym6_date67_pm.csv\n"
     ]
    }
   ],
   "source": [
    "file_dir = \"D:\\my-dev-code\\FBDQA-final-project\\FBDQA2021A_MMP_Challenge_ver0.2\\data\"\n",
    "\n",
    "# sym = 0 - 9\n",
    "sym_list = [0, 1, 2, 3, 4, 5, 6, 7, 8, 9]\n",
    "dates = list(range(79))\n",
    "ampm = ['am', 'pm']\n",
    "nparray_all_data = np.array([])\n",
    "nparray_all_label = np.array([])\n",
    "for sym in sym_list:\n",
    "    for date in dates:\n",
    "        df_day = pd.DataFrame()\n",
    "        for _ampm in ampm:\n",
    "            if (_ampm == 'am'):\n",
    "                file_name = f\"snapshot_sym{sym}_date{date}_am.csv\"\n",
    "            else:\n",
    "                file_name = f\"snapshot_sym{sym}_date{date}_pm.csv\"\n",
    "            if not os.path.isfile(os.path.join(file_dir,file_name)):\n",
    "                continue\n",
    "            new_df = pd.read_csv(os.path.join(file_dir,file_name))\n",
    "            print(\"Processing\", file_name)\n",
    "            # 价格+1（从涨跌幅还原到对前收盘价的比例）\n",
    "            new_df['bid1'] = new_df['n_bid1']+1\n",
    "            new_df['bid2'] = new_df['n_bid2']+1\n",
    "            new_df['bid3'] = new_df['n_bid3']+1\n",
    "            new_df['bid4'] = new_df['n_bid4']+1\n",
    "            new_df['bid5'] = new_df['n_bid5']+1\n",
    "            new_df['ask1'] = new_df['n_ask1']+1\n",
    "            new_df['ask2'] = new_df['n_ask2']+1\n",
    "            new_df['ask3'] = new_df['n_ask3']+1\n",
    "            new_df['ask4'] = new_df['n_ask4']+1\n",
    "            new_df['ask5'] = new_df['n_ask5']+1\n",
    "            \n",
    "            # 量价组合\n",
    "            new_df['spread1'] =  new_df['ask1'] - new_df['bid1']\n",
    "            new_df['spread2'] =  new_df['ask2'] - new_df['bid2']\n",
    "            new_df['spread3'] =  new_df['ask3'] - new_df['bid3']\n",
    "            new_df['mid_price1'] =  new_df['ask1'] + new_df['bid1']\n",
    "            new_df['mid_price2'] =  new_df['ask2'] + new_df['bid2']\n",
    "            new_df['mid_price3'] =  new_df['ask3'] + new_df['bid3']\n",
    "            new_df['weighted_ab1'] = (new_df['ask1'] * new_df['n_bsize1'] + new_df['bid1'] * new_df['n_asize1']) / (new_df['n_bsize1'] + new_df['n_asize1'])\n",
    "            new_df['weighted_ab2'] = (new_df['ask2'] * new_df['n_bsize2'] + new_df['bid2'] * new_df['n_asize2']) / (new_df['n_bsize2'] + new_df['n_asize2'])\n",
    "            new_df['weighted_ab3'] = (new_df['ask3'] * new_df['n_bsize3'] + new_df['bid3'] * new_df['n_asize3']) / (new_df['n_bsize3'] + new_df['n_asize3'])\n",
    "            \n",
    "            new_df['vol1_rel_diff']   = (new_df['n_bsize1'] - new_df['n_asize1']) / (new_df['n_bsize1'] + new_df['n_asize1'])\n",
    "            new_df['volall_rel_diff'] = (new_df['n_bsize1'] + new_df['n_bsize2'] + new_df['n_bsize3'] + new_df['n_bsize4'] + new_df['n_bsize5'] \\\n",
    "                            - new_df['n_asize1'] - new_df['n_asize2'] - new_df['n_asize3'] - new_df['n_asize4'] - new_df['n_asize5'] ) / \\\n",
    "                            ( new_df['n_bsize1'] + new_df['n_bsize2'] + new_df['n_bsize3'] + new_df['n_bsize4'] + new_df['n_bsize5'] \\\n",
    "                            + new_df['n_asize1'] + new_df['n_asize2'] + new_df['n_asize3'] + new_df['n_asize4'] + new_df['n_asize5'] )\n",
    "                                    \n",
    "            new_df['amount'] = new_df['amount_delta'].map(np.log1p)\n",
    "            df_day = pd.concat([df_day, new_df])\n",
    "            # if (date ==57):\n",
    "            #     print(new_df)\n",
    "                # print(\"Columns in df_day: \", df_day.columns)\n",
    "                # print(\"Columns in feature_col_names: \", feature_col_names)\n",
    "        try:\n",
    "            nparray_day_data = np.ascontiguousarray(df_day[feature_col_names].values)\n",
    "            nparray_day_data = data_transform(nparray_day_data, 100)   # [N_days, T=100, D_features]\n",
    "            nparray_day_label = df_day[label_col_name].values.reshape(-1)\n",
    "            nparray_day_label = nparray_day_label[:-99]\n",
    "            if nparray_all_data.size == 0:\n",
    "                nparray_all_data = nparray_day_data\n",
    "            else:\n",
    "                nparray_all_data = np.vstack((nparray_all_data, nparray_day_data))\n",
    "            if nparray_all_label.size == 0:\n",
    "                nparray_all_label = nparray_day_label\n",
    "            else:\n",
    "                nparray_all_label = np.hstack((nparray_all_label, nparray_day_label))\n",
    "        except:\n",
    "            print(\"Error in sym:\", sym, \"date:\", date)\n",
    "            print(\"Columns in df_day: \", df_day.columns)\n",
    "            print(\"Columns in feature_col_names: \", feature_col_names)\n",
    "            print(\"Data type of df_day columns: \", df_day.columns.dtype)\n",
    "            print(\"Data type of feature_col_names: \", type(feature_col_names[0]))\n",
    "            continue\n",
    "\n",
    "print(nparray_all_data.shape)\n",
    "print(nparray_all_label.shape)\n",
    "\n",
    "# save to file\n",
    "with open('nparray_all_data.pkl', 'wb') as f:\n",
    "    pickle.dump(nparray_all_data, f)\n",
    "with open('nparray_all_label.pkl', 'wb') as f:\n",
    "    pickle.dump(nparray_all_label, f)"
   ]
  },
  {
   "cell_type": "code",
   "execution_count": null,
   "metadata": {},
   "outputs": [],
   "source": [
    "# load\n",
    "with open('nparray_all_data.pkl', 'rb') as f:\n",
    "    nparray_all_data = pickle.load(f)\n",
    "with open('nparray_all_label.pkl', 'rb') as f:\n",
    "    nparray_all_label = pickle.load(f)"
   ]
  },
  {
   "cell_type": "code",
   "execution_count": 34,
   "metadata": {
    "tags": []
   },
   "outputs": [
    {
     "name": "stdout",
     "output_type": "stream",
     "text": [
      "train_nums: 2432383, val_nums: 304047, test_nums: 304049\n"
     ]
    }
   ],
   "source": [
    "n = len(nparray_all_data)\n",
    "##划分训练/测试集\n",
    "train_nums = int(n*0.8)\n",
    "val_nums = int(n*0.1)\n",
    "\n",
    "train_data = nparray_all_data[:train_nums]\n",
    "val_data = nparray_all_data[train_nums:train_nums+val_nums]\n",
    "test_data = nparray_all_data[train_nums+val_nums:]\n",
    "\n",
    "train_label = nparray_all_label[:train_nums]\n",
    "val_label = nparray_all_label[train_nums:train_nums+val_nums]\n",
    "test_label = nparray_all_label[train_nums+val_nums:]"
   ]
  },
  {
   "cell_type": "markdown",
   "metadata": {},
   "source": [
    "## GPU准备"
   ]
  },
  {
   "cell_type": "markdown",
   "metadata": {},
   "source": [
    "## 准备dataset"
   ]
  },
  {
   "cell_type": "code",
   "execution_count": 16,
   "metadata": {
    "tags": []
   },
   "outputs": [
    {
     "name": "stdout",
     "output_type": "stream",
     "text": [
      "torch.Size([38281, 1, 100, 32]) torch.Size([38281]) False False\n",
      "torch.Size([4698, 1, 100, 32]) torch.Size([4698]) False False\n",
      "torch.Size([4700, 1, 100, 32]) torch.Size([4700]) False False\n"
     ]
    }
   ],
   "source": [
    "batch_size = 512\n",
    "\n",
    "dataset_train = Dataset(data=train_data,label=train_label, num_classes=3, T=100)\n",
    "dataset_val   = Dataset(data=val_data,  label=val_label,   num_classes=3, T=100)\n",
    "dataset_test  = Dataset(data=test_data, label=test_label,  num_classes=3, T=100)\n",
    "\n",
    "train_loader = torch.utils.data.DataLoader(dataset=dataset_train, batch_size=batch_size, shuffle=True)\n",
    "val_loader   = torch.utils.data.DataLoader(dataset=dataset_val, batch_size=batch_size, shuffle=False)\n",
    "test_loader  = torch.utils.data.DataLoader(dataset=dataset_test, batch_size=batch_size, shuffle=False)\n",
    "\n",
    "print(dataset_train.x.shape, dataset_train.y.shape, dataset_train.x.requires_grad, dataset_train.y.requires_grad,)\n",
    "print(dataset_val.x.shape, dataset_val.y.shape, dataset_val.x.requires_grad, dataset_val.y.requires_grad,)\n",
    "print(dataset_test.x.shape, dataset_test.y.shape, dataset_test.x.requires_grad, dataset_test.y.requires_grad,)"
   ]
  },
  {
   "cell_type": "code",
   "execution_count": 17,
   "metadata": {
    "tags": []
   },
   "outputs": [
    {
     "name": "stdout",
     "output_type": "stream",
     "text": [
      "cuda:0\n",
      "cuda:0\n"
     ]
    }
   ],
   "source": [
    "print(dataset_train.x.device)\n",
    "print(dataset_train.y.device)"
   ]
  },
  {
   "cell_type": "markdown",
   "metadata": {},
   "source": [
    "# 定义模型"
   ]
  },
  {
   "cell_type": "code",
   "execution_count": 5,
   "metadata": {
    "tags": []
   },
   "outputs": [],
   "source": [
    "class deeplob(nn.Module):\n",
    "    def __init__(self, num_classes):\n",
    "        super().__init__()\n",
    "        self.num_classes = num_classes\n",
    "        \n",
    "        # convolution blocks\n",
    "        self.conv1 = nn.Sequential(\n",
    "            nn.Conv2d(in_channels=1, out_channels=32, kernel_size=(1,2), stride=(1,2)),\n",
    "            nn.LeakyReLU(negative_slope=0.01),\n",
    "#             nn.Tanh(),\n",
    "            nn.BatchNorm2d(32),\n",
    "            nn.Conv2d(in_channels=32, out_channels=32, kernel_size=(4,1)),\n",
    "            nn.LeakyReLU(negative_slope=0.01),\n",
    "            nn.BatchNorm2d(32),\n",
    "            nn.Conv2d(in_channels=32, out_channels=32, kernel_size=(5,1),stride=(2,1)),\n",
    "            nn.LeakyReLU(negative_slope=0.01),\n",
    "            nn.BatchNorm2d(32),\n",
    "        )\n",
    "        self.conv2 = nn.Sequential(\n",
    "            nn.Conv2d(in_channels=32, out_channels=32, kernel_size=(1,2), stride=(1,2)),\n",
    "            nn.Tanh(),\n",
    "            nn.BatchNorm2d(32),\n",
    "            nn.Conv2d(in_channels=32, out_channels=32, kernel_size=(4,1)),\n",
    "            nn.Tanh(),\n",
    "            nn.BatchNorm2d(32),\n",
    "            nn.Conv2d(in_channels=32, out_channels=32, kernel_size=(4,1),stride=(2,1)),\n",
    "            nn.Tanh(),\n",
    "            nn.BatchNorm2d(32),\n",
    "        )\n",
    "        self.conv3 = nn.Sequential(\n",
    "            nn.Conv2d(in_channels=32, out_channels=32, kernel_size=(1,8)),\n",
    "            nn.LeakyReLU(negative_slope=0.01),\n",
    "            nn.BatchNorm2d(32),\n",
    "            nn.Conv2d(in_channels=32, out_channels=32, kernel_size=(4,1)),\n",
    "            nn.LeakyReLU(negative_slope=0.01),\n",
    "            nn.BatchNorm2d(32),\n",
    "            nn.Conv2d(in_channels=32, out_channels=32, kernel_size=(4,1),stride=(2,1)),\n",
    "            nn.LeakyReLU(negative_slope=0.01),\n",
    "            nn.BatchNorm2d(32),\n",
    "        )\n",
    "        \n",
    "        # inception moduels\n",
    "        self.inp1 = nn.Sequential(\n",
    "            nn.Conv2d(in_channels=32, out_channels=64, kernel_size=(1,1), padding='same'),\n",
    "            nn.LeakyReLU(negative_slope=0.01),\n",
    "            nn.BatchNorm2d(64),\n",
    "            nn.Conv2d(in_channels=64, out_channels=16, kernel_size=(3,1), padding='same'),\n",
    "            nn.LeakyReLU(negative_slope=0.01),\n",
    "            nn.BatchNorm2d(16),\n",
    "        )\n",
    "        self.inp2 = nn.Sequential(\n",
    "            nn.Conv2d(in_channels=32, out_channels=64, kernel_size=(1,1), padding='same'),\n",
    "            nn.LeakyReLU(negative_slope=0.01),\n",
    "            nn.BatchNorm2d(64),\n",
    "            nn.Conv2d(in_channels=64, out_channels=16, kernel_size=(5,1), padding='same'),\n",
    "            nn.LeakyReLU(negative_slope=0.01),\n",
    "            nn.BatchNorm2d(16),\n",
    "        )\n",
    "        self.inp3 = nn.Sequential(\n",
    "            nn.MaxPool2d((3, 1), stride=(1, 1), padding=(1, 0)),\n",
    "            nn.Conv2d(in_channels=32, out_channels=16, kernel_size=(1,1), padding='same'),\n",
    "            nn.LeakyReLU(negative_slope=0.01),\n",
    "            nn.BatchNorm2d(16),\n",
    "        )\n",
    "       \n",
    "        # lstm layers\n",
    "        self.fc = nn.Sequential(nn.Linear(384, 64),nn.Linear(64, self.num_classes))\n",
    "\n",
    "    def forward(self, x):\n",
    "        x = self.conv1(x)\n",
    "        x = self.conv2(x)\n",
    "        x = self.conv3(x)\n",
    "\n",
    "        x_inp1 = self.inp1(x)\n",
    "        x_inp2 = self.inp2(x)\n",
    "        x_inp3 = self.inp3(x)\n",
    "\n",
    "        x = torch.cat((x_inp1, x_inp2, x_inp3), dim=1)\n",
    "\n",
    "        x = x.reshape(-1,48*8)\n",
    "        x = self.fc(x)\n",
    "\n",
    "        forecast_y = torch.softmax(x, dim=1)\n",
    "\n",
    "        return forecast_y"
   ]
  },
  {
   "cell_type": "code",
   "execution_count": 6,
   "metadata": {
    "tags": []
   },
   "outputs": [],
   "source": [
    "model = deeplob(num_classes = 3)\n",
    "model.to(device);"
   ]
  },
  {
   "cell_type": "code",
   "execution_count": 12,
   "metadata": {
    "tags": []
   },
   "outputs": [
    {
     "ename": "RuntimeError",
     "evalue": "Failed to run torchinfo. See above stack traces for more details. Executed layers up to: [Sequential: 1, Conv2d: 2, LeakyReLU: 2, BatchNorm2d: 2, Conv2d: 2, LeakyReLU: 2, BatchNorm2d: 2, Conv2d: 2, LeakyReLU: 2, BatchNorm2d: 2, Sequential: 1, Conv2d: 2, Tanh: 2, BatchNorm2d: 2, Conv2d: 2, Tanh: 2, BatchNorm2d: 2, Conv2d: 2, Tanh: 2, BatchNorm2d: 2]",
     "output_type": "error",
     "traceback": [
      "\u001b[1;31m---------------------------------------------------------------------------\u001b[0m",
      "\u001b[1;31mRuntimeError\u001b[0m                              Traceback (most recent call last)",
      "File \u001b[1;32mc:\\Users\\ylc\\anaconda3\\envs\\companionGLM\\lib\\site-packages\\torchinfo\\torchinfo.py:295\u001b[0m, in \u001b[0;36mforward_pass\u001b[1;34m(model, x, batch_dim, cache_forward_pass, device, mode, **kwargs)\u001b[0m\n\u001b[0;32m    294\u001b[0m \u001b[38;5;28;01mif\u001b[39;00m \u001b[38;5;28misinstance\u001b[39m(x, (\u001b[38;5;28mlist\u001b[39m, \u001b[38;5;28mtuple\u001b[39m)):\n\u001b[1;32m--> 295\u001b[0m     _ \u001b[38;5;241m=\u001b[39m \u001b[43mmodel\u001b[49m\u001b[43m(\u001b[49m\u001b[38;5;241;43m*\u001b[39;49m\u001b[43mx\u001b[49m\u001b[43m,\u001b[49m\u001b[43m \u001b[49m\u001b[38;5;241;43m*\u001b[39;49m\u001b[38;5;241;43m*\u001b[39;49m\u001b[43mkwargs\u001b[49m\u001b[43m)\u001b[49m\n\u001b[0;32m    296\u001b[0m \u001b[38;5;28;01melif\u001b[39;00m \u001b[38;5;28misinstance\u001b[39m(x, \u001b[38;5;28mdict\u001b[39m):\n",
      "File \u001b[1;32mc:\\Users\\ylc\\anaconda3\\envs\\companionGLM\\lib\\site-packages\\torch\\nn\\modules\\module.py:1538\u001b[0m, in \u001b[0;36mModule._call_impl\u001b[1;34m(self, *args, **kwargs)\u001b[0m\n\u001b[0;32m   1536\u001b[0m     args \u001b[38;5;241m=\u001b[39m bw_hook\u001b[38;5;241m.\u001b[39msetup_input_hook(args)\n\u001b[1;32m-> 1538\u001b[0m result \u001b[38;5;241m=\u001b[39m \u001b[43mforward_call\u001b[49m\u001b[43m(\u001b[49m\u001b[38;5;241;43m*\u001b[39;49m\u001b[43margs\u001b[49m\u001b[43m,\u001b[49m\u001b[43m \u001b[49m\u001b[38;5;241;43m*\u001b[39;49m\u001b[38;5;241;43m*\u001b[39;49m\u001b[43mkwargs\u001b[49m\u001b[43m)\u001b[49m\n\u001b[0;32m   1539\u001b[0m \u001b[38;5;28;01mif\u001b[39;00m _global_forward_hooks \u001b[38;5;129;01mor\u001b[39;00m \u001b[38;5;28mself\u001b[39m\u001b[38;5;241m.\u001b[39m_forward_hooks:\n",
      "Cell \u001b[1;32mIn[5], line 72\u001b[0m, in \u001b[0;36mdeeplob.forward\u001b[1;34m(self, x)\u001b[0m\n\u001b[0;32m     71\u001b[0m x \u001b[38;5;241m=\u001b[39m \u001b[38;5;28mself\u001b[39m\u001b[38;5;241m.\u001b[39mconv2(x)\n\u001b[1;32m---> 72\u001b[0m x \u001b[38;5;241m=\u001b[39m \u001b[38;5;28;43mself\u001b[39;49m\u001b[38;5;241;43m.\u001b[39;49m\u001b[43mconv3\u001b[49m\u001b[43m(\u001b[49m\u001b[43mx\u001b[49m\u001b[43m)\u001b[49m\n\u001b[0;32m     74\u001b[0m x_inp1 \u001b[38;5;241m=\u001b[39m \u001b[38;5;28mself\u001b[39m\u001b[38;5;241m.\u001b[39minp1(x)\n",
      "File \u001b[1;32mc:\\Users\\ylc\\anaconda3\\envs\\companionGLM\\lib\\site-packages\\torch\\nn\\modules\\module.py:1538\u001b[0m, in \u001b[0;36mModule._call_impl\u001b[1;34m(self, *args, **kwargs)\u001b[0m\n\u001b[0;32m   1536\u001b[0m     args \u001b[38;5;241m=\u001b[39m bw_hook\u001b[38;5;241m.\u001b[39msetup_input_hook(args)\n\u001b[1;32m-> 1538\u001b[0m result \u001b[38;5;241m=\u001b[39m \u001b[43mforward_call\u001b[49m\u001b[43m(\u001b[49m\u001b[38;5;241;43m*\u001b[39;49m\u001b[43margs\u001b[49m\u001b[43m,\u001b[49m\u001b[43m \u001b[49m\u001b[38;5;241;43m*\u001b[39;49m\u001b[38;5;241;43m*\u001b[39;49m\u001b[43mkwargs\u001b[49m\u001b[43m)\u001b[49m\n\u001b[0;32m   1539\u001b[0m \u001b[38;5;28;01mif\u001b[39;00m _global_forward_hooks \u001b[38;5;129;01mor\u001b[39;00m \u001b[38;5;28mself\u001b[39m\u001b[38;5;241m.\u001b[39m_forward_hooks:\n",
      "File \u001b[1;32mc:\\Users\\ylc\\anaconda3\\envs\\companionGLM\\lib\\site-packages\\torch\\nn\\modules\\container.py:217\u001b[0m, in \u001b[0;36mSequential.forward\u001b[1;34m(self, input)\u001b[0m\n\u001b[0;32m    216\u001b[0m \u001b[38;5;28;01mfor\u001b[39;00m module \u001b[38;5;129;01min\u001b[39;00m \u001b[38;5;28mself\u001b[39m:\n\u001b[1;32m--> 217\u001b[0m     \u001b[38;5;28minput\u001b[39m \u001b[38;5;241m=\u001b[39m \u001b[43mmodule\u001b[49m\u001b[43m(\u001b[49m\u001b[38;5;28;43minput\u001b[39;49m\u001b[43m)\u001b[49m\n\u001b[0;32m    218\u001b[0m \u001b[38;5;28;01mreturn\u001b[39;00m \u001b[38;5;28minput\u001b[39m\n",
      "File \u001b[1;32mc:\\Users\\ylc\\anaconda3\\envs\\companionGLM\\lib\\site-packages\\torch\\nn\\modules\\module.py:1538\u001b[0m, in \u001b[0;36mModule._call_impl\u001b[1;34m(self, *args, **kwargs)\u001b[0m\n\u001b[0;32m   1536\u001b[0m     args \u001b[38;5;241m=\u001b[39m bw_hook\u001b[38;5;241m.\u001b[39msetup_input_hook(args)\n\u001b[1;32m-> 1538\u001b[0m result \u001b[38;5;241m=\u001b[39m \u001b[43mforward_call\u001b[49m\u001b[43m(\u001b[49m\u001b[38;5;241;43m*\u001b[39;49m\u001b[43margs\u001b[49m\u001b[43m,\u001b[49m\u001b[43m \u001b[49m\u001b[38;5;241;43m*\u001b[39;49m\u001b[38;5;241;43m*\u001b[39;49m\u001b[43mkwargs\u001b[49m\u001b[43m)\u001b[49m\n\u001b[0;32m   1539\u001b[0m \u001b[38;5;28;01mif\u001b[39;00m _global_forward_hooks \u001b[38;5;129;01mor\u001b[39;00m \u001b[38;5;28mself\u001b[39m\u001b[38;5;241m.\u001b[39m_forward_hooks:\n",
      "File \u001b[1;32mc:\\Users\\ylc\\anaconda3\\envs\\companionGLM\\lib\\site-packages\\torch\\nn\\modules\\conv.py:463\u001b[0m, in \u001b[0;36mConv2d.forward\u001b[1;34m(self, input)\u001b[0m\n\u001b[0;32m    462\u001b[0m \u001b[38;5;28;01mdef\u001b[39;00m \u001b[38;5;21mforward\u001b[39m(\u001b[38;5;28mself\u001b[39m, \u001b[38;5;28minput\u001b[39m: Tensor) \u001b[38;5;241m-\u001b[39m\u001b[38;5;241m>\u001b[39m Tensor:\n\u001b[1;32m--> 463\u001b[0m     \u001b[38;5;28;01mreturn\u001b[39;00m \u001b[38;5;28;43mself\u001b[39;49m\u001b[38;5;241;43m.\u001b[39;49m\u001b[43m_conv_forward\u001b[49m\u001b[43m(\u001b[49m\u001b[38;5;28;43minput\u001b[39;49m\u001b[43m,\u001b[49m\u001b[43m \u001b[49m\u001b[38;5;28;43mself\u001b[39;49m\u001b[38;5;241;43m.\u001b[39;49m\u001b[43mweight\u001b[49m\u001b[43m,\u001b[49m\u001b[43m \u001b[49m\u001b[38;5;28;43mself\u001b[39;49m\u001b[38;5;241;43m.\u001b[39;49m\u001b[43mbias\u001b[49m\u001b[43m)\u001b[49m\n",
      "File \u001b[1;32mc:\\Users\\ylc\\anaconda3\\envs\\companionGLM\\lib\\site-packages\\torch\\nn\\modules\\conv.py:459\u001b[0m, in \u001b[0;36mConv2d._conv_forward\u001b[1;34m(self, input, weight, bias)\u001b[0m\n\u001b[0;32m    456\u001b[0m     \u001b[38;5;28;01mreturn\u001b[39;00m F\u001b[38;5;241m.\u001b[39mconv2d(F\u001b[38;5;241m.\u001b[39mpad(\u001b[38;5;28minput\u001b[39m, \u001b[38;5;28mself\u001b[39m\u001b[38;5;241m.\u001b[39m_reversed_padding_repeated_twice, mode\u001b[38;5;241m=\u001b[39m\u001b[38;5;28mself\u001b[39m\u001b[38;5;241m.\u001b[39mpadding_mode),\n\u001b[0;32m    457\u001b[0m                     weight, bias, \u001b[38;5;28mself\u001b[39m\u001b[38;5;241m.\u001b[39mstride,\n\u001b[0;32m    458\u001b[0m                     _pair(\u001b[38;5;241m0\u001b[39m), \u001b[38;5;28mself\u001b[39m\u001b[38;5;241m.\u001b[39mdilation, \u001b[38;5;28mself\u001b[39m\u001b[38;5;241m.\u001b[39mgroups)\n\u001b[1;32m--> 459\u001b[0m \u001b[38;5;28;01mreturn\u001b[39;00m \u001b[43mF\u001b[49m\u001b[38;5;241;43m.\u001b[39;49m\u001b[43mconv2d\u001b[49m\u001b[43m(\u001b[49m\u001b[38;5;28;43minput\u001b[39;49m\u001b[43m,\u001b[49m\u001b[43m \u001b[49m\u001b[43mweight\u001b[49m\u001b[43m,\u001b[49m\u001b[43m \u001b[49m\u001b[43mbias\u001b[49m\u001b[43m,\u001b[49m\u001b[43m \u001b[49m\u001b[38;5;28;43mself\u001b[39;49m\u001b[38;5;241;43m.\u001b[39;49m\u001b[43mstride\u001b[49m\u001b[43m,\u001b[49m\n\u001b[0;32m    460\u001b[0m \u001b[43m                \u001b[49m\u001b[38;5;28;43mself\u001b[39;49m\u001b[38;5;241;43m.\u001b[39;49m\u001b[43mpadding\u001b[49m\u001b[43m,\u001b[49m\u001b[43m \u001b[49m\u001b[38;5;28;43mself\u001b[39;49m\u001b[38;5;241;43m.\u001b[39;49m\u001b[43mdilation\u001b[49m\u001b[43m,\u001b[49m\u001b[43m \u001b[49m\u001b[38;5;28;43mself\u001b[39;49m\u001b[38;5;241;43m.\u001b[39;49m\u001b[43mgroups\u001b[49m\u001b[43m)\u001b[49m\n",
      "\u001b[1;31mRuntimeError\u001b[0m: Calculated padded input size per channel: (21 x 7). Kernel size: (1 x 8). Kernel size can't be greater than actual input size",
      "\nThe above exception was the direct cause of the following exception:\n",
      "\u001b[1;31mRuntimeError\u001b[0m                              Traceback (most recent call last)",
      "Cell \u001b[1;32mIn[12], line 1\u001b[0m\n\u001b[1;32m----> 1\u001b[0m \u001b[43msummary\u001b[49m\u001b[43m(\u001b[49m\u001b[43mmodel\u001b[49m\u001b[43m,\u001b[49m\u001b[43m \u001b[49m\u001b[43m(\u001b[49m\u001b[38;5;241;43m1\u001b[39;49m\u001b[43m,\u001b[49m\u001b[43m \u001b[49m\u001b[38;5;241;43m1\u001b[39;49m\u001b[43m,\u001b[49m\u001b[43m \u001b[49m\u001b[38;5;241;43m100\u001b[39;49m\u001b[43m,\u001b[49m\u001b[43m \u001b[49m\u001b[38;5;241;43m28\u001b[39;49m\u001b[43m)\u001b[49m\u001b[43m)\u001b[49m\n",
      "File \u001b[1;32mc:\\Users\\ylc\\anaconda3\\envs\\companionGLM\\lib\\site-packages\\torchinfo\\torchinfo.py:223\u001b[0m, in \u001b[0;36msummary\u001b[1;34m(model, input_size, input_data, batch_dim, cache_forward_pass, col_names, col_width, depth, device, dtypes, mode, row_settings, verbose, **kwargs)\u001b[0m\n\u001b[0;32m    216\u001b[0m validate_user_params(\n\u001b[0;32m    217\u001b[0m     input_data, input_size, columns, col_width, device, dtypes, verbose\n\u001b[0;32m    218\u001b[0m )\n\u001b[0;32m    220\u001b[0m x, correct_input_size \u001b[38;5;241m=\u001b[39m process_input(\n\u001b[0;32m    221\u001b[0m     input_data, input_size, batch_dim, device, dtypes\n\u001b[0;32m    222\u001b[0m )\n\u001b[1;32m--> 223\u001b[0m summary_list \u001b[38;5;241m=\u001b[39m \u001b[43mforward_pass\u001b[49m\u001b[43m(\u001b[49m\n\u001b[0;32m    224\u001b[0m \u001b[43m    \u001b[49m\u001b[43mmodel\u001b[49m\u001b[43m,\u001b[49m\u001b[43m \u001b[49m\u001b[43mx\u001b[49m\u001b[43m,\u001b[49m\u001b[43m \u001b[49m\u001b[43mbatch_dim\u001b[49m\u001b[43m,\u001b[49m\u001b[43m \u001b[49m\u001b[43mcache_forward_pass\u001b[49m\u001b[43m,\u001b[49m\u001b[43m \u001b[49m\u001b[43mdevice\u001b[49m\u001b[43m,\u001b[49m\u001b[43m \u001b[49m\u001b[43mmodel_mode\u001b[49m\u001b[43m,\u001b[49m\u001b[43m \u001b[49m\u001b[38;5;241;43m*\u001b[39;49m\u001b[38;5;241;43m*\u001b[39;49m\u001b[43mkwargs\u001b[49m\n\u001b[0;32m    225\u001b[0m \u001b[43m\u001b[49m\u001b[43m)\u001b[49m\n\u001b[0;32m    226\u001b[0m formatting \u001b[38;5;241m=\u001b[39m FormattingOptions(depth, verbose, columns, col_width, rows)\n\u001b[0;32m    227\u001b[0m results \u001b[38;5;241m=\u001b[39m ModelStatistics(\n\u001b[0;32m    228\u001b[0m     summary_list, correct_input_size, get_total_memory_used(x), formatting\n\u001b[0;32m    229\u001b[0m )\n",
      "File \u001b[1;32mc:\\Users\\ylc\\anaconda3\\envs\\companionGLM\\lib\\site-packages\\torchinfo\\torchinfo.py:304\u001b[0m, in \u001b[0;36mforward_pass\u001b[1;34m(model, x, batch_dim, cache_forward_pass, device, mode, **kwargs)\u001b[0m\n\u001b[0;32m    302\u001b[0m \u001b[38;5;28;01mexcept\u001b[39;00m \u001b[38;5;167;01mException\u001b[39;00m \u001b[38;5;28;01mas\u001b[39;00m e:\n\u001b[0;32m    303\u001b[0m     executed_layers \u001b[38;5;241m=\u001b[39m [layer \u001b[38;5;28;01mfor\u001b[39;00m layer \u001b[38;5;129;01min\u001b[39;00m summary_list \u001b[38;5;28;01mif\u001b[39;00m layer\u001b[38;5;241m.\u001b[39mexecuted]\n\u001b[1;32m--> 304\u001b[0m     \u001b[38;5;28;01mraise\u001b[39;00m \u001b[38;5;167;01mRuntimeError\u001b[39;00m(\n\u001b[0;32m    305\u001b[0m         \u001b[38;5;124m\"\u001b[39m\u001b[38;5;124mFailed to run torchinfo. See above stack traces for more details. \u001b[39m\u001b[38;5;124m\"\u001b[39m\n\u001b[0;32m    306\u001b[0m         \u001b[38;5;124mf\u001b[39m\u001b[38;5;124m\"\u001b[39m\u001b[38;5;124mExecuted layers up to: \u001b[39m\u001b[38;5;132;01m{\u001b[39;00mexecuted_layers\u001b[38;5;132;01m}\u001b[39;00m\u001b[38;5;124m\"\u001b[39m\n\u001b[0;32m    307\u001b[0m     ) \u001b[38;5;28;01mfrom\u001b[39;00m \u001b[38;5;21;01me\u001b[39;00m\n\u001b[0;32m    308\u001b[0m \u001b[38;5;28;01mfinally\u001b[39;00m:\n\u001b[0;32m    309\u001b[0m     \u001b[38;5;28;01mif\u001b[39;00m hooks:\n",
      "\u001b[1;31mRuntimeError\u001b[0m: Failed to run torchinfo. See above stack traces for more details. Executed layers up to: [Sequential: 1, Conv2d: 2, LeakyReLU: 2, BatchNorm2d: 2, Conv2d: 2, LeakyReLU: 2, BatchNorm2d: 2, Conv2d: 2, LeakyReLU: 2, BatchNorm2d: 2, Sequential: 1, Conv2d: 2, Tanh: 2, BatchNorm2d: 2, Conv2d: 2, Tanh: 2, BatchNorm2d: 2, Conv2d: 2, Tanh: 2, BatchNorm2d: 2]"
     ]
    }
   ],
   "source": [
    "summary(model, (1, 1, 100, 32))"
   ]
  },
  {
   "cell_type": "markdown",
   "metadata": {},
   "source": [
    "# 训练模型"
   ]
  },
  {
   "cell_type": "code",
   "execution_count": 21,
   "metadata": {
    "tags": []
   },
   "outputs": [],
   "source": [
    "criterion = nn.CrossEntropyLoss()\n",
    "optimizer = torch.optim.SGD(model.parameters(), lr=0.001, momentum=0.9, weight_decay = 1e-5)"
   ]
  },
  {
   "cell_type": "code",
   "execution_count": 22,
   "metadata": {
    "tags": []
   },
   "outputs": [],
   "source": [
    "def batch_gd(model, criterion, optimizer, train_loader, test_loader, epochs):\n",
    "    \n",
    "    train_losses = np.zeros(epochs)\n",
    "    test_losses = np.zeros(epochs)\n",
    "    best_test_loss = np.inf\n",
    "    best_test_epoch = 0\n",
    "\n",
    "    for it in tqdm(range(epochs)):\n",
    "        if ((epochs+1) % 10 == 0):\n",
    "            optimizer.lr = optimizer.lr*0.5\n",
    "        model.train()\n",
    "        t0 = datetime.now()\n",
    "        train_loss = []\n",
    "        for inputs, targets in train_loader:\n",
    "            optimizer.zero_grad()\n",
    "            \n",
    "            outputs = model(inputs)\n",
    "\n",
    "            loss = criterion(outputs, targets)\n",
    "\n",
    "            loss.backward()\n",
    "            \n",
    "            optimizer.step()\n",
    "            \n",
    "            train_loss.append(loss.item())\n",
    "            \n",
    "        # Get train loss and test loss\n",
    "        train_loss = np.mean(train_loss) # a little misleading\n",
    "    \n",
    "        model.eval()\n",
    "        test_loss = []\n",
    "        for inputs, targets in test_loader:\n",
    "            inputs, targets = inputs.to(device, dtype=torch.float), targets.to(device, dtype=torch.int64)      \n",
    "            outputs = model(inputs)\n",
    "            loss = criterion(outputs, targets)\n",
    "            test_loss.append(loss.item())\n",
    "        test_loss = np.mean(test_loss)\n",
    "\n",
    "        # Save losses\n",
    "        train_losses[it] = train_loss\n",
    "        test_losses[it] = test_loss\n",
    "        \n",
    "        if test_loss < best_test_loss:\n",
    "            torch.save(model, f'best_val_model_CNN')\n",
    "            best_test_loss = test_loss\n",
    "            best_test_epoch = it\n",
    "            print('model saved')\n",
    "\n",
    "        dt = datetime.now() - t0\n",
    "        print(f'Epoch {it+1}/{epochs}, Train Loss: {train_loss:.4f}, \\\n",
    "          Validation Loss: {test_loss:.4f}, Duration: {dt}, Best Val Epoch: {best_test_epoch}')\n",
    "    torch.save(model, f'final_model_CNN')\n",
    "    return train_losses, test_losses"
   ]
  },
  {
   "cell_type": "code",
   "execution_count": 23,
   "metadata": {
    "tags": []
   },
   "outputs": [
    {
     "data": {
      "application/vnd.jupyter.widget-view+json": {
       "model_id": "a192217475a743c0a4de5df7da8454b7",
       "version_major": 2,
       "version_minor": 0
      },
      "text/plain": [
       "  0%|          | 0/50 [00:00<?, ?it/s]"
      ]
     },
     "metadata": {},
     "output_type": "display_data"
    },
    {
     "name": "stdout",
     "output_type": "stream",
     "text": [
      "model saved\n",
      "Epoch 1/50, Train Loss: 1.0785,           Validation Loss: 1.1834, Duration: 0:00:02.774675, Best Val Epoch: 0\n",
      "model saved\n",
      "Epoch 2/50, Train Loss: 1.0409,           Validation Loss: 1.0612, Duration: 0:00:02.320182, Best Val Epoch: 1\n",
      "model saved\n",
      "Epoch 3/50, Train Loss: 1.0002,           Validation Loss: 0.9950, Duration: 0:00:02.258710, Best Val Epoch: 2\n",
      "model saved\n",
      "Epoch 4/50, Train Loss: 0.9727,           Validation Loss: 0.9448, Duration: 0:00:02.231218, Best Val Epoch: 3\n",
      "Epoch 5/50, Train Loss: 0.9566,           Validation Loss: 0.9585, Duration: 0:00:02.407407, Best Val Epoch: 3\n",
      "model saved\n",
      "Epoch 6/50, Train Loss: 0.9469,           Validation Loss: 0.9291, Duration: 0:00:02.341666, Best Val Epoch: 5\n",
      "model saved\n",
      "Epoch 7/50, Train Loss: 0.9411,           Validation Loss: 0.9229, Duration: 0:00:02.391095, Best Val Epoch: 6\n",
      "Epoch 8/50, Train Loss: 0.9372,           Validation Loss: 0.9314, Duration: 0:00:02.283314, Best Val Epoch: 6\n",
      "model saved\n",
      "Epoch 9/50, Train Loss: 0.9346,           Validation Loss: 0.9168, Duration: 0:00:02.320052, Best Val Epoch: 8\n",
      "Epoch 10/50, Train Loss: 0.9324,           Validation Loss: 0.9171, Duration: 0:00:02.418276, Best Val Epoch: 8\n",
      "Epoch 11/50, Train Loss: 0.9309,           Validation Loss: 0.9198, Duration: 0:00:02.304972, Best Val Epoch: 8\n",
      "Epoch 12/50, Train Loss: 0.9304,           Validation Loss: 0.9227, Duration: 0:00:02.293092, Best Val Epoch: 8\n",
      "model saved\n",
      "Epoch 13/50, Train Loss: 0.9283,           Validation Loss: 0.9136, Duration: 0:00:02.308059, Best Val Epoch: 12\n",
      "Epoch 14/50, Train Loss: 0.9278,           Validation Loss: 0.9235, Duration: 0:00:02.399774, Best Val Epoch: 12\n",
      "Epoch 15/50, Train Loss: 0.9277,           Validation Loss: 0.9290, Duration: 0:00:02.286834, Best Val Epoch: 12\n",
      "Epoch 16/50, Train Loss: 0.9259,           Validation Loss: 0.9147, Duration: 0:00:02.293878, Best Val Epoch: 12\n",
      "Epoch 17/50, Train Loss: 0.9257,           Validation Loss: 0.9231, Duration: 0:00:02.274506, Best Val Epoch: 12\n",
      "Epoch 18/50, Train Loss: 0.9246,           Validation Loss: 0.9163, Duration: 0:00:02.287636, Best Val Epoch: 12\n",
      "model saved\n",
      "Epoch 19/50, Train Loss: 0.9241,           Validation Loss: 0.9123, Duration: 0:00:02.386393, Best Val Epoch: 18\n",
      "Epoch 20/50, Train Loss: 0.9235,           Validation Loss: 0.9274, Duration: 0:00:02.379933, Best Val Epoch: 18\n",
      "Epoch 21/50, Train Loss: 0.9224,           Validation Loss: 0.9140, Duration: 0:00:02.260319, Best Val Epoch: 18\n",
      "Epoch 22/50, Train Loss: 0.9219,           Validation Loss: 0.9244, Duration: 0:00:02.268765, Best Val Epoch: 18\n",
      "Epoch 23/50, Train Loss: 0.9209,           Validation Loss: 0.9165, Duration: 0:00:02.225869, Best Val Epoch: 18\n",
      "Epoch 24/50, Train Loss: 0.9196,           Validation Loss: 0.9225, Duration: 0:00:02.352790, Best Val Epoch: 18\n",
      "Epoch 25/50, Train Loss: 0.9193,           Validation Loss: 0.9451, Duration: 0:00:02.315836, Best Val Epoch: 18\n",
      "Epoch 26/50, Train Loss: 0.9183,           Validation Loss: 0.9489, Duration: 0:00:02.281220, Best Val Epoch: 18\n",
      "Epoch 27/50, Train Loss: 0.9184,           Validation Loss: 0.9476, Duration: 0:00:02.266654, Best Val Epoch: 18\n",
      "Epoch 28/50, Train Loss: 0.9173,           Validation Loss: 0.9234, Duration: 0:00:02.279674, Best Val Epoch: 18\n",
      "Epoch 29/50, Train Loss: 0.9169,           Validation Loss: 0.9187, Duration: 0:00:02.188437, Best Val Epoch: 18\n",
      "Epoch 30/50, Train Loss: 0.9160,           Validation Loss: 0.9315, Duration: 0:00:02.189870, Best Val Epoch: 18\n",
      "Epoch 31/50, Train Loss: 0.9148,           Validation Loss: 0.9293, Duration: 0:00:02.191518, Best Val Epoch: 18\n",
      "Epoch 32/50, Train Loss: 0.9138,           Validation Loss: 0.9191, Duration: 0:00:02.186179, Best Val Epoch: 18\n",
      "Epoch 33/50, Train Loss: 0.9134,           Validation Loss: 0.9156, Duration: 0:00:02.530960, Best Val Epoch: 18\n",
      "Epoch 34/50, Train Loss: 0.9142,           Validation Loss: 0.9253, Duration: 0:00:02.286227, Best Val Epoch: 18\n",
      "Epoch 35/50, Train Loss: 0.9128,           Validation Loss: 0.9221, Duration: 0:00:02.269016, Best Val Epoch: 18\n",
      "Epoch 36/50, Train Loss: 0.9116,           Validation Loss: 0.9155, Duration: 0:00:02.287864, Best Val Epoch: 18\n",
      "Epoch 37/50, Train Loss: 0.9103,           Validation Loss: 0.9178, Duration: 0:00:02.264498, Best Val Epoch: 18\n",
      "Epoch 38/50, Train Loss: 0.9099,           Validation Loss: 0.9230, Duration: 0:00:02.373107, Best Val Epoch: 18\n",
      "Epoch 39/50, Train Loss: 0.9087,           Validation Loss: 0.9421, Duration: 0:00:02.472999, Best Val Epoch: 18\n",
      "Epoch 40/50, Train Loss: 0.9078,           Validation Loss: 0.9178, Duration: 0:00:02.351160, Best Val Epoch: 18\n",
      "Epoch 41/50, Train Loss: 0.9070,           Validation Loss: 0.9245, Duration: 0:00:02.300584, Best Val Epoch: 18\n",
      "Epoch 42/50, Train Loss: 0.9075,           Validation Loss: 0.9225, Duration: 0:00:02.426489, Best Val Epoch: 18\n",
      "Epoch 43/50, Train Loss: 0.9054,           Validation Loss: 0.9218, Duration: 0:00:02.315294, Best Val Epoch: 18\n",
      "Epoch 44/50, Train Loss: 0.9051,           Validation Loss: 0.9199, Duration: 0:00:02.290611, Best Val Epoch: 18\n",
      "Epoch 45/50, Train Loss: 0.9041,           Validation Loss: 0.9398, Duration: 0:00:02.288261, Best Val Epoch: 18\n",
      "Epoch 46/50, Train Loss: 0.9032,           Validation Loss: 0.9286, Duration: 0:00:02.304201, Best Val Epoch: 18\n",
      "Epoch 47/50, Train Loss: 0.9028,           Validation Loss: 0.9325, Duration: 0:00:02.415274, Best Val Epoch: 18\n",
      "Epoch 48/50, Train Loss: 0.9027,           Validation Loss: 0.9346, Duration: 0:00:02.291218, Best Val Epoch: 18\n",
      "Epoch 49/50, Train Loss: 0.9005,           Validation Loss: 0.9306, Duration: 0:00:02.271404, Best Val Epoch: 18\n",
      "Epoch 50/50, Train Loss: 0.9011,           Validation Loss: 0.9276, Duration: 0:00:02.310461, Best Val Epoch: 18\n"
     ]
    }
   ],
   "source": [
    "train_losses, val_losses = batch_gd(model, criterion, optimizer, \n",
    "                                    train_loader, val_loader, epochs=50)"
   ]
  },
  {
   "cell_type": "code",
   "execution_count": 25,
   "metadata": {
    "tags": []
   },
   "outputs": [
    {
     "data": {
      "text/plain": [
       "<matplotlib.legend.Legend at 0x1a47db711f0>"
      ]
     },
     "execution_count": 25,
     "metadata": {},
     "output_type": "execute_result"
    },
    {
     "data": {
      "image/png": "[encoded data removed]",
      "text/plain": [
       "<Figure size 1600x600 with 1 Axes>"
      ]
     },
     "metadata": {},
     "output_type": "display_data"
    }
   ],
   "source": [
    "plt.figure(figsize=(16,6))\n",
    "plt.plot(train_losses, label='train loss')\n",
    "plt.plot(val_losses, label='validation loss')\n",
    "plt.legend()"
   ]
  },
  {
   "cell_type": "code",
   "execution_count": null,
   "metadata": {},
   "outputs": [],
   "source": []
  },
  {
   "cell_type": "markdown",
   "metadata": {},
   "source": [
    "# 测试模型"
   ]
  },
  {
   "cell_type": "code",
   "execution_count": 27,
   "metadata": {
    "tags": []
   },
   "outputs": [
    {
     "name": "stdout",
     "output_type": "stream",
     "text": [
      "accuracy_score: 0.7065957446808511\n",
      "              precision    recall  f1-score   support\n",
      "\n",
      "           0     0.5000    0.0013    0.0027       742\n",
      "           1     0.7067    1.0000    0.8281      3320\n",
      "           2     0.0000    0.0000    0.0000       638\n",
      "\n",
      "    accuracy                         0.7066      4700\n",
      "   macro avg     0.4022    0.3338    0.2769      4700\n",
      "weighted avg     0.5781    0.7066    0.5854      4700\n",
      "\n"
     ]
    },
    {
     "name": "stderr",
     "output_type": "stream",
     "text": [
      "/opt/anaconda3/lib/python3.7/site-packages/sklearn/metrics/_classification.py:1272: UndefinedMetricWarning: Precision and F-score are ill-defined and being set to 0.0 in labels with no predicted samples. Use `zero_division` parameter to control this behavior.\n",
      "  _warn_prf(average, modifier, msg_start, len(result))\n"
     ]
    }
   ],
   "source": [
    "model = torch.load(f'best_val_model_pytorch_sym{sym}_date{dates[-1]}', map_location=device)\n",
    "model.eval()\n",
    "all_targets = []\n",
    "all_predictions = []\n",
    "\n",
    "for inputs, targets in test_loader:\n",
    "    # Move to GPU\n",
    "    inputs, targets = inputs.to(device, dtype=torch.float), targets.to(device, dtype=torch.int64)\n",
    "\n",
    "    # Forward pass\n",
    "    outputs = model(inputs)\n",
    "    \n",
    "    # Get prediction\n",
    "    # torch.max returns both max and argmax\n",
    "    _, predictions = torch.max(outputs, 1)\n",
    "\n",
    "    all_targets.append(targets.cpu().numpy())\n",
    "    all_predictions.append(predictions.cpu().numpy())\n",
    "\n",
    "all_targets = np.concatenate(all_targets)    \n",
    "all_predictions = np.concatenate(all_predictions)    \n",
    "print('accuracy_score:', accuracy_score(all_targets, all_predictions))\n",
    "print(classification_report(all_targets, all_predictions, digits=4))"
   ]
  },
  {
   "cell_type": "code",
   "execution_count": 28,
   "metadata": {
    "scrolled": true,
    "tags": []
   },
   "outputs": [
    {
     "name": "stdout",
     "output_type": "stream",
     "text": [
      "accuracy_score: 0.6156840207936052\n",
      "              precision    recall  f1-score   support\n",
      "\n",
      "           0     0.3864    0.0657    0.1123      7350\n",
      "           1     0.6449    0.9354    0.7635     23831\n",
      "           2     0.3221    0.1118    0.1660      7100\n",
      "\n",
      "    accuracy                         0.6157     38281\n",
      "   macro avg     0.4511    0.3710    0.3473     38281\n",
      "weighted avg     0.5354    0.6157    0.5276     38281\n",
      "\n"
     ]
    }
   ],
   "source": [
    "# model = torch.load('best_val_model_pytorch',map_location=device)\n",
    "all_targets = []\n",
    "all_predictions = []\n",
    "\n",
    "for inputs, targets in train_loader:\n",
    "\n",
    "    # Forward pass\n",
    "    outputs = model(inputs)\n",
    "    \n",
    "    # Get prediction\n",
    "    # torch.max returns both max and argmax\n",
    "    _, predictions = torch.max(outputs, 1)\n",
    "\n",
    "    all_targets.append(targets.cpu().numpy())\n",
    "    all_predictions.append(predictions.cpu().numpy())\n",
    "\n",
    "all_targets = np.concatenate(all_targets)    \n",
    "all_predictions = np.concatenate(all_predictions) \n",
    "print('accuracy_score:', accuracy_score(all_targets, all_predictions))\n",
    "print(classification_report(all_targets, all_predictions, digits=4))"
   ]
  },
  {
   "cell_type": "code",
   "execution_count": null,
   "metadata": {},
   "outputs": [],
   "source": []
  },
  {
   "cell_type": "markdown",
   "metadata": {},
   "source": [
    "# 过拟合：小规模数据难以充分训练大模型"
   ]
  },
  {
   "cell_type": "code",
   "execution_count": 29,
   "metadata": {
    "tags": []
   },
   "outputs": [],
   "source": [
    "class MLP(nn.Module):\n",
    "    def __init__(self):\n",
    "        super(MLP,self).__init__()\n",
    "        self.net = nn.Sequential(\n",
    "                    nn.Linear(3200,128),\n",
    "                    nn.LeakyReLU(),\n",
    "                    nn.Linear(128,64),\n",
    "                    nn.LeakyReLU(),\n",
    "                    nn.Linear(64,64),\n",
    "                    nn.LeakyReLU(),\n",
    "                    nn.Linear(64,3)\n",
    "                )\n",
    "        \n",
    "    def forward(self,x):\n",
    "        x = x.view(-1,100*32)\n",
    "        x = self.net(x)\n",
    "        return torch.softmax(x, dim=1)"
   ]
  },
  {
   "cell_type": "code",
   "execution_count": 30,
   "metadata": {
    "scrolled": true,
    "tags": []
   },
   "outputs": [
    {
     "data": {
      "text/plain": [
       "==========================================================================================\n",
       "Layer (type:depth-idx)                   Output Shape              Param #\n",
       "==========================================================================================\n",
       "MLP                                      [1, 3]                    --\n",
       "├─Sequential: 1-1                        [1, 3]                    --\n",
       "│    └─Linear: 2-1                       [1, 128]                  409,728\n",
       "│    └─LeakyReLU: 2-2                    [1, 128]                  --\n",
       "│    └─Linear: 2-3                       [1, 64]                   8,256\n",
       "│    └─LeakyReLU: 2-4                    [1, 64]                   --\n",
       "│    └─Linear: 2-5                       [1, 64]                   4,160\n",
       "│    └─LeakyReLU: 2-6                    [1, 64]                   --\n",
       "│    └─Linear: 2-7                       [1, 3]                    195\n",
       "==========================================================================================\n",
       "Total params: 422,339\n",
       "Trainable params: 422,339\n",
       "Non-trainable params: 0\n",
       "Total mult-adds (M): 0.42\n",
       "==========================================================================================\n",
       "Input size (MB): 0.01\n",
       "Forward/backward pass size (MB): 0.00\n",
       "Params size (MB): 1.69\n",
       "Estimated Total Size (MB): 1.70\n",
       "=========================================================================================="
      ]
     },
     "execution_count": 30,
     "metadata": {},
     "output_type": "execute_result"
    }
   ],
   "source": [
    "model = MLP()\n",
    "model.to(device)\n",
    "summary(model,(1,1,100,32))"
   ]
  },
  {
   "cell_type": "code",
   "execution_count": 31,
   "metadata": {
    "tags": []
   },
   "outputs": [],
   "source": [
    "criterion = nn.CrossEntropyLoss(weight = torch.Tensor([2,1,2]).to(device))\n",
    "optimizer = torch.optim.AdamW(model.parameters(), lr=0.001)#, momentum=0.9, weight_decay = 1e-5)"
   ]
  },
  {
   "cell_type": "code",
   "execution_count": 32,
   "metadata": {
    "tags": []
   },
   "outputs": [
    {
     "name": "stderr",
     "output_type": "stream",
     "text": [
      "  0%|          | 1/500 [00:00<05:11,  1.60it/s]"
     ]
    },
    {
     "name": "stdout",
     "output_type": "stream",
     "text": [
      "model saved\n",
      "Epoch 1/500, Train Loss: 1.0631,           Validation Loss: 1.0452, Duration: 0:00:00.624950, Best Val Epoch: 0\n"
     ]
    },
    {
     "name": "stderr",
     "output_type": "stream",
     "text": [
      "  0%|          | 2/500 [00:01<05:03,  1.64it/s]"
     ]
    },
    {
     "name": "stdout",
     "output_type": "stream",
     "text": [
      "model saved\n",
      "Epoch 2/500, Train Loss: 1.0478,           Validation Loss: 1.0405, Duration: 0:00:00.570951, Best Val Epoch: 1\n"
     ]
    },
    {
     "name": "stderr",
     "output_type": "stream",
     "text": [
      "  1%|          | 3/500 [00:01<04:52,  1.70it/s]"
     ]
    },
    {
     "name": "stdout",
     "output_type": "stream",
     "text": [
      "model saved\n",
      "Epoch 3/500, Train Loss: 1.0473,           Validation Loss: 1.0345, Duration: 0:00:00.541252, Best Val Epoch: 2\n"
     ]
    },
    {
     "name": "stderr",
     "output_type": "stream",
     "text": [
      "  1%|          | 4/500 [00:02<04:41,  1.76it/s]"
     ]
    },
    {
     "name": "stdout",
     "output_type": "stream",
     "text": [
      "Epoch 4/500, Train Loss: 1.0424,           Validation Loss: 1.0347, Duration: 0:00:00.517870, Best Val Epoch: 2\n"
     ]
    },
    {
     "name": "stderr",
     "output_type": "stream",
     "text": [
      "  1%|          | 5/500 [00:02<04:45,  1.74it/s]"
     ]
    },
    {
     "name": "stdout",
     "output_type": "stream",
     "text": [
      "model saved\n",
      "Epoch 5/500, Train Loss: 1.0359,           Validation Loss: 1.0238, Duration: 0:00:00.594401, Best Val Epoch: 4\n"
     ]
    },
    {
     "name": "stderr",
     "output_type": "stream",
     "text": [
      "  1%|          | 6/500 [00:03<04:34,  1.80it/s]"
     ]
    },
    {
     "name": "stdout",
     "output_type": "stream",
     "text": [
      "model saved\n",
      "Epoch 6/500, Train Loss: 1.0261,           Validation Loss: 1.0150, Duration: 0:00:00.503706, Best Val Epoch: 5\n"
     ]
    },
    {
     "name": "stderr",
     "output_type": "stream",
     "text": [
      "  1%|▏         | 7/500 [00:03<04:35,  1.79it/s]"
     ]
    },
    {
     "name": "stdout",
     "output_type": "stream",
     "text": [
      "Epoch 7/500, Train Loss: 1.0121,           Validation Loss: 1.0710, Duration: 0:00:00.567229, Best Val Epoch: 5\n"
     ]
    },
    {
     "name": "stderr",
     "output_type": "stream",
     "text": [
      "  2%|▏         | 8/500 [00:04<04:24,  1.86it/s]"
     ]
    },
    {
     "name": "stdout",
     "output_type": "stream",
     "text": [
      "Epoch 8/500, Train Loss: 1.0107,           Validation Loss: 1.0406, Duration: 0:00:00.484532, Best Val Epoch: 5\n"
     ]
    },
    {
     "name": "stderr",
     "output_type": "stream",
     "text": [
      "  2%|▏         | 9/500 [00:04<04:16,  1.92it/s]"
     ]
    },
    {
     "name": "stdout",
     "output_type": "stream",
     "text": [
      "model saved\n",
      "Epoch 9/500, Train Loss: 1.0030,           Validation Loss: 1.0023, Duration: 0:00:00.486770, Best Val Epoch: 8\n"
     ]
    },
    {
     "name": "stderr",
     "output_type": "stream",
     "text": [
      "  2%|▏         | 10/500 [00:05<04:17,  1.90it/s]"
     ]
    },
    {
     "name": "stdout",
     "output_type": "stream",
     "text": [
      "model saved\n",
      "Epoch 10/500, Train Loss: 0.9905,           Validation Loss: 0.9907, Duration: 0:00:00.531981, Best Val Epoch: 9\n"
     ]
    },
    {
     "name": "stderr",
     "output_type": "stream",
     "text": [
      "  2%|▏         | 11/500 [00:05<04:12,  1.94it/s]"
     ]
    },
    {
     "name": "stdout",
     "output_type": "stream",
     "text": [
      "Epoch 11/500, Train Loss: 0.9918,           Validation Loss: 0.9975, Duration: 0:00:00.493981, Best Val Epoch: 9\n"
     ]
    },
    {
     "name": "stderr",
     "output_type": "stream",
     "text": [
      "  2%|▏         | 12/500 [00:06<04:05,  1.98it/s]"
     ]
    },
    {
     "name": "stdout",
     "output_type": "stream",
     "text": [
      "Epoch 12/500, Train Loss: 0.9923,           Validation Loss: 1.0087, Duration: 0:00:00.474708, Best Val Epoch: 9\n"
     ]
    },
    {
     "name": "stderr",
     "output_type": "stream",
     "text": [
      "  3%|▎         | 13/500 [00:06<04:19,  1.88it/s]"
     ]
    },
    {
     "name": "stdout",
     "output_type": "stream",
     "text": [
      "model saved\n",
      "Epoch 13/500, Train Loss: 0.9846,           Validation Loss: 0.9830, Duration: 0:00:00.596096, Best Val Epoch: 12\n"
     ]
    },
    {
     "name": "stderr",
     "output_type": "stream",
     "text": [
      "  3%|▎         | 14/500 [00:07<04:17,  1.89it/s]"
     ]
    },
    {
     "name": "stdout",
     "output_type": "stream",
     "text": [
      "model saved\n",
      "Epoch 14/500, Train Loss: 0.9761,           Validation Loss: 0.9704, Duration: 0:00:00.525177, Best Val Epoch: 13\n"
     ]
    },
    {
     "name": "stderr",
     "output_type": "stream",
     "text": [
      "  3%|▎         | 15/500 [00:07<04:08,  1.95it/s]"
     ]
    },
    {
     "name": "stdout",
     "output_type": "stream",
     "text": [
      "Epoch 15/500, Train Loss: 0.9777,           Validation Loss: 1.0033, Duration: 0:00:00.469856, Best Val Epoch: 13\n"
     ]
    },
    {
     "name": "stderr",
     "output_type": "stream",
     "text": [
      "  3%|▎         | 16/500 [00:08<04:10,  1.93it/s]"
     ]
    },
    {
     "name": "stdout",
     "output_type": "stream",
     "text": [
      "Epoch 16/500, Train Loss: 0.9867,           Validation Loss: 0.9736, Duration: 0:00:00.526859, Best Val Epoch: 13\n"
     ]
    },
    {
     "name": "stderr",
     "output_type": "stream",
     "text": [
      "  3%|▎         | 17/500 [00:09<04:08,  1.94it/s]"
     ]
    },
    {
     "name": "stdout",
     "output_type": "stream",
     "text": [
      "Epoch 17/500, Train Loss: 0.9815,           Validation Loss: 0.9970, Duration: 0:00:00.508775, Best Val Epoch: 13\n"
     ]
    },
    {
     "name": "stderr",
     "output_type": "stream",
     "text": [
      "  4%|▎         | 18/500 [00:09<04:12,  1.91it/s]"
     ]
    },
    {
     "name": "stdout",
     "output_type": "stream",
     "text": [
      "Epoch 18/500, Train Loss: 0.9837,           Validation Loss: 0.9971, Duration: 0:00:00.544697, Best Val Epoch: 13\n"
     ]
    },
    {
     "name": "stderr",
     "output_type": "stream",
     "text": [
      "  4%|▍         | 19/500 [00:10<04:04,  1.97it/s]"
     ]
    },
    {
     "name": "stdout",
     "output_type": "stream",
     "text": [
      "Epoch 19/500, Train Loss: 0.9810,           Validation Loss: 0.9787, Duration: 0:00:00.471532, Best Val Epoch: 13\n"
     ]
    },
    {
     "name": "stderr",
     "output_type": "stream",
     "text": [
      "  4%|▍         | 20/500 [00:10<03:57,  2.02it/s]"
     ]
    },
    {
     "name": "stdout",
     "output_type": "stream",
     "text": [
      "Epoch 20/500, Train Loss: 0.9786,           Validation Loss: 0.9714, Duration: 0:00:00.461214, Best Val Epoch: 13\n"
     ]
    },
    {
     "name": "stderr",
     "output_type": "stream",
     "text": [
      "  4%|▍         | 21/500 [00:11<04:00,  1.99it/s]"
     ]
    },
    {
     "name": "stdout",
     "output_type": "stream",
     "text": [
      "Epoch 21/500, Train Loss: 0.9760,           Validation Loss: 0.9706, Duration: 0:00:00.516065, Best Val Epoch: 13\n"
     ]
    },
    {
     "name": "stderr",
     "output_type": "stream",
     "text": [
      "  4%|▍         | 22/500 [00:11<03:55,  2.03it/s]"
     ]
    },
    {
     "name": "stdout",
     "output_type": "stream",
     "text": [
      "model saved\n",
      "Epoch 22/500, Train Loss: 0.9703,           Validation Loss: 0.9678, Duration: 0:00:00.469458, Best Val Epoch: 21\n"
     ]
    },
    {
     "name": "stderr",
     "output_type": "stream",
     "text": [
      "  5%|▍         | 23/500 [00:11<03:51,  2.06it/s]"
     ]
    },
    {
     "name": "stdout",
     "output_type": "stream",
     "text": [
      "Epoch 23/500, Train Loss: 0.9766,           Validation Loss: 0.9846, Duration: 0:00:00.465844, Best Val Epoch: 21\n"
     ]
    },
    {
     "name": "stderr",
     "output_type": "stream",
     "text": [
      "  5%|▍         | 24/500 [00:12<03:55,  2.02it/s]"
     ]
    },
    {
     "name": "stdout",
     "output_type": "stream",
     "text": [
      "Epoch 24/500, Train Loss: 0.9753,           Validation Loss: 0.9739, Duration: 0:00:00.516195, Best Val Epoch: 21\n"
     ]
    },
    {
     "name": "stderr",
     "output_type": "stream",
     "text": [
      "  5%|▌         | 25/500 [00:12<03:50,  2.06it/s]"
     ]
    },
    {
     "name": "stdout",
     "output_type": "stream",
     "text": [
      "Epoch 25/500, Train Loss: 0.9729,           Validation Loss: 0.9748, Duration: 0:00:00.466179, Best Val Epoch: 21\n"
     ]
    },
    {
     "name": "stderr",
     "output_type": "stream",
     "text": [
      "  5%|▌         | 26/500 [00:13<03:57,  1.99it/s]"
     ]
    },
    {
     "name": "stdout",
     "output_type": "stream",
     "text": [
      "model saved\n",
      "Epoch 26/500, Train Loss: 0.9696,           Validation Loss: 0.9659, Duration: 0:00:00.537890, Best Val Epoch: 25\n"
     ]
    },
    {
     "name": "stderr",
     "output_type": "stream",
     "text": [
      "  5%|▌         | 27/500 [00:13<03:54,  2.02it/s]"
     ]
    },
    {
     "name": "stdout",
     "output_type": "stream",
     "text": [
      "Epoch 27/500, Train Loss: 0.9748,           Validation Loss: 0.9760, Duration: 0:00:00.479614, Best Val Epoch: 25\n"
     ]
    },
    {
     "name": "stderr",
     "output_type": "stream",
     "text": [
      "  6%|▌         | 28/500 [00:14<03:51,  2.04it/s]"
     ]
    },
    {
     "name": "stdout",
     "output_type": "stream",
     "text": [
      "Epoch 28/500, Train Loss: 0.9677,           Validation Loss: 0.9714, Duration: 0:00:00.475663, Best Val Epoch: 25\n"
     ]
    },
    {
     "name": "stderr",
     "output_type": "stream",
     "text": [
      "  6%|▌         | 29/500 [00:15<04:01,  1.95it/s]"
     ]
    },
    {
     "name": "stdout",
     "output_type": "stream",
     "text": [
      "Epoch 29/500, Train Loss: 0.9688,           Validation Loss: 0.9737, Duration: 0:00:00.564463, Best Val Epoch: 25\n"
     ]
    },
    {
     "name": "stderr",
     "output_type": "stream",
     "text": [
      "  6%|▌         | 30/500 [00:15<03:59,  1.96it/s]"
     ]
    },
    {
     "name": "stdout",
     "output_type": "stream",
     "text": [
      "Epoch 30/500, Train Loss: 0.9639,           Validation Loss: 0.9761, Duration: 0:00:00.502851, Best Val Epoch: 25\n"
     ]
    },
    {
     "name": "stderr",
     "output_type": "stream",
     "text": [
      "  6%|▌         | 31/500 [00:16<03:55,  1.99it/s]"
     ]
    },
    {
     "name": "stdout",
     "output_type": "stream",
     "text": [
      "Epoch 31/500, Train Loss: 0.9676,           Validation Loss: 0.9737, Duration: 0:00:00.483439, Best Val Epoch: 25\n"
     ]
    },
    {
     "name": "stderr",
     "output_type": "stream",
     "text": [
      "  6%|▋         | 32/500 [00:16<03:58,  1.96it/s]"
     ]
    },
    {
     "name": "stdout",
     "output_type": "stream",
     "text": [
      "Epoch 32/500, Train Loss: 0.9647,           Validation Loss: 0.9802, Duration: 0:00:00.528926, Best Val Epoch: 25\n"
     ]
    },
    {
     "name": "stderr",
     "output_type": "stream",
     "text": [
      "  7%|▋         | 33/500 [00:17<03:53,  2.00it/s]"
     ]
    },
    {
     "name": "stdout",
     "output_type": "stream",
     "text": [
      "Epoch 33/500, Train Loss: 0.9745,           Validation Loss: 0.9745, Duration: 0:00:00.471823, Best Val Epoch: 25\n"
     ]
    },
    {
     "name": "stderr",
     "output_type": "stream",
     "text": [
      "  7%|▋         | 34/500 [00:17<03:47,  2.05it/s]"
     ]
    },
    {
     "name": "stdout",
     "output_type": "stream",
     "text": [
      "Epoch 34/500, Train Loss: 0.9644,           Validation Loss: 0.9695, Duration: 0:00:00.461354, Best Val Epoch: 25\n"
     ]
    },
    {
     "name": "stderr",
     "output_type": "stream",
     "text": [
      "  7%|▋         | 35/500 [00:17<03:51,  2.01it/s]"
     ]
    },
    {
     "name": "stdout",
     "output_type": "stream",
     "text": [
      "Epoch 35/500, Train Loss: 0.9669,           Validation Loss: 0.9662, Duration: 0:00:00.519014, Best Val Epoch: 25\n"
     ]
    },
    {
     "name": "stderr",
     "output_type": "stream",
     "text": [
      "  7%|▋         | 36/500 [00:18<03:45,  2.06it/s]"
     ]
    },
    {
     "name": "stdout",
     "output_type": "stream",
     "text": [
      "Epoch 36/500, Train Loss: 0.9689,           Validation Loss: 0.9787, Duration: 0:00:00.457266, Best Val Epoch: 25\n"
     ]
    },
    {
     "name": "stderr",
     "output_type": "stream",
     "text": [
      "  7%|▋         | 37/500 [00:18<03:49,  2.01it/s]"
     ]
    },
    {
     "name": "stdout",
     "output_type": "stream",
     "text": [
      "Epoch 37/500, Train Loss: 0.9658,           Validation Loss: 0.9837, Duration: 0:00:00.520046, Best Val Epoch: 25\n"
     ]
    },
    {
     "name": "stderr",
     "output_type": "stream",
     "text": [
      "  8%|▊         | 38/500 [00:19<03:48,  2.02it/s]"
     ]
    },
    {
     "name": "stdout",
     "output_type": "stream",
     "text": [
      "Epoch 38/500, Train Loss: 0.9622,           Validation Loss: 0.9669, Duration: 0:00:00.489676, Best Val Epoch: 25\n"
     ]
    },
    {
     "name": "stderr",
     "output_type": "stream",
     "text": [
      "  8%|▊         | 39/500 [00:19<03:45,  2.04it/s]"
     ]
    },
    {
     "name": "stdout",
     "output_type": "stream",
     "text": [
      "Epoch 39/500, Train Loss: 0.9635,           Validation Loss: 0.9883, Duration: 0:00:00.478250, Best Val Epoch: 25\n"
     ]
    },
    {
     "name": "stderr",
     "output_type": "stream",
     "text": [
      "  8%|▊         | 40/500 [00:20<03:49,  2.00it/s]"
     ]
    },
    {
     "name": "stdout",
     "output_type": "stream",
     "text": [
      "Epoch 40/500, Train Loss: 0.9700,           Validation Loss: 0.9782, Duration: 0:00:00.522131, Best Val Epoch: 25\n"
     ]
    },
    {
     "name": "stderr",
     "output_type": "stream",
     "text": [
      "  8%|▊         | 41/500 [00:20<03:49,  2.00it/s]"
     ]
    },
    {
     "name": "stdout",
     "output_type": "stream",
     "text": [
      "Epoch 41/500, Train Loss: 0.9617,           Validation Loss: 0.9797, Duration: 0:00:00.499004, Best Val Epoch: 25\n"
     ]
    },
    {
     "name": "stderr",
     "output_type": "stream",
     "text": [
      "  8%|▊         | 42/500 [00:21<03:50,  1.99it/s]"
     ]
    },
    {
     "name": "stdout",
     "output_type": "stream",
     "text": [
      "Epoch 42/500, Train Loss: 0.9682,           Validation Loss: 1.0020, Duration: 0:00:00.507553, Best Val Epoch: 25\n"
     ]
    },
    {
     "name": "stderr",
     "output_type": "stream",
     "text": [
      "  9%|▊         | 43/500 [00:22<04:03,  1.88it/s]"
     ]
    },
    {
     "name": "stdout",
     "output_type": "stream",
     "text": [
      "Epoch 43/500, Train Loss: 0.9582,           Validation Loss: 0.9746, Duration: 0:00:00.601800, Best Val Epoch: 25\n"
     ]
    },
    {
     "name": "stderr",
     "output_type": "stream",
     "text": [
      "  9%|▉         | 44/500 [00:22<03:54,  1.94it/s]"
     ]
    },
    {
     "name": "stdout",
     "output_type": "stream",
     "text": [
      "model saved\n",
      "Epoch 44/500, Train Loss: 0.9573,           Validation Loss: 0.9635, Duration: 0:00:00.472668, Best Val Epoch: 43\n"
     ]
    },
    {
     "name": "stderr",
     "output_type": "stream",
     "text": [
      "  9%|▉         | 45/500 [00:23<03:58,  1.91it/s]"
     ]
    },
    {
     "name": "stdout",
     "output_type": "stream",
     "text": [
      "Epoch 45/500, Train Loss: 0.9568,           Validation Loss: 0.9679, Duration: 0:00:00.542493, Best Val Epoch: 43\n"
     ]
    },
    {
     "name": "stderr",
     "output_type": "stream",
     "text": [
      "  9%|▉         | 46/500 [00:23<03:49,  1.97it/s]"
     ]
    },
    {
     "name": "stdout",
     "output_type": "stream",
     "text": [
      "Epoch 46/500, Train Loss: 0.9647,           Validation Loss: 0.9677, Duration: 0:00:00.466304, Best Val Epoch: 43\n"
     ]
    },
    {
     "name": "stderr",
     "output_type": "stream",
     "text": [
      "  9%|▉         | 47/500 [00:24<03:43,  2.02it/s]"
     ]
    },
    {
     "name": "stdout",
     "output_type": "stream",
     "text": [
      "model saved\n",
      "Epoch 47/500, Train Loss: 0.9582,           Validation Loss: 0.9633, Duration: 0:00:00.464529, Best Val Epoch: 46\n"
     ]
    },
    {
     "name": "stderr",
     "output_type": "stream",
     "text": [
      " 10%|▉         | 48/500 [00:24<03:45,  2.00it/s]"
     ]
    },
    {
     "name": "stdout",
     "output_type": "stream",
     "text": [
      "Epoch 48/500, Train Loss: 0.9593,           Validation Loss: 0.9694, Duration: 0:00:00.511658, Best Val Epoch: 46\n"
     ]
    },
    {
     "name": "stderr",
     "output_type": "stream",
     "text": [
      " 10%|▉         | 49/500 [00:24<03:39,  2.05it/s]"
     ]
    },
    {
     "name": "stdout",
     "output_type": "stream",
     "text": [
      "Epoch 49/500, Train Loss: 0.9613,           Validation Loss: 0.9685, Duration: 0:00:00.457605, Best Val Epoch: 46\n"
     ]
    },
    {
     "name": "stderr",
     "output_type": "stream",
     "text": [
      " 10%|█         | 50/500 [00:25<03:35,  2.09it/s]"
     ]
    },
    {
     "name": "stdout",
     "output_type": "stream",
     "text": [
      "Epoch 50/500, Train Loss: 0.9587,           Validation Loss: 0.9710, Duration: 0:00:00.458131, Best Val Epoch: 46\n"
     ]
    },
    {
     "name": "stderr",
     "output_type": "stream",
     "text": [
      " 10%|█         | 51/500 [00:25<03:39,  2.05it/s]"
     ]
    },
    {
     "name": "stdout",
     "output_type": "stream",
     "text": [
      "Epoch 51/500, Train Loss: 0.9557,           Validation Loss: 0.9722, Duration: 0:00:00.510955, Best Val Epoch: 46\n"
     ]
    },
    {
     "name": "stderr",
     "output_type": "stream",
     "text": [
      " 10%|█         | 52/500 [00:26<03:35,  2.08it/s]"
     ]
    },
    {
     "name": "stdout",
     "output_type": "stream",
     "text": [
      "model saved\n",
      "Epoch 52/500, Train Loss: 0.9532,           Validation Loss: 0.9618, Duration: 0:00:00.459499, Best Val Epoch: 51\n"
     ]
    },
    {
     "name": "stderr",
     "output_type": "stream",
     "text": [
      " 11%|█         | 53/500 [00:26<03:31,  2.11it/s]"
     ]
    },
    {
     "name": "stdout",
     "output_type": "stream",
     "text": [
      "Epoch 53/500, Train Loss: 0.9551,           Validation Loss: 0.9636, Duration: 0:00:00.458104, Best Val Epoch: 51\n"
     ]
    },
    {
     "name": "stderr",
     "output_type": "stream",
     "text": [
      " 11%|█         | 54/500 [00:27<03:36,  2.06it/s]"
     ]
    },
    {
     "name": "stdout",
     "output_type": "stream",
     "text": [
      "Epoch 54/500, Train Loss: 0.9571,           Validation Loss: 0.9726, Duration: 0:00:00.508800, Best Val Epoch: 51\n"
     ]
    },
    {
     "name": "stderr",
     "output_type": "stream",
     "text": [
      " 11%|█         | 55/500 [00:27<03:32,  2.09it/s]"
     ]
    },
    {
     "name": "stdout",
     "output_type": "stream",
     "text": [
      "Epoch 55/500, Train Loss: 0.9527,           Validation Loss: 0.9641, Duration: 0:00:00.462588, Best Val Epoch: 51\n"
     ]
    },
    {
     "name": "stderr",
     "output_type": "stream",
     "text": [
      " 11%|█         | 56/500 [00:28<03:40,  2.01it/s]"
     ]
    },
    {
     "name": "stdout",
     "output_type": "stream",
     "text": [
      "Epoch 56/500, Train Loss: 0.9553,           Validation Loss: 0.9780, Duration: 0:00:00.539116, Best Val Epoch: 51\n"
     ]
    },
    {
     "name": "stderr",
     "output_type": "stream",
     "text": [
      " 11%|█▏        | 57/500 [00:28<03:40,  2.01it/s]"
     ]
    },
    {
     "name": "stdout",
     "output_type": "stream",
     "text": [
      "Epoch 57/500, Train Loss: 0.9524,           Validation Loss: 0.9824, Duration: 0:00:00.497203, Best Val Epoch: 51\n"
     ]
    },
    {
     "name": "stderr",
     "output_type": "stream",
     "text": [
      " 12%|█▏        | 58/500 [00:29<03:42,  1.99it/s]"
     ]
    },
    {
     "name": "stdout",
     "output_type": "stream",
     "text": [
      "Epoch 58/500, Train Loss: 0.9543,           Validation Loss: 0.9758, Duration: 0:00:00.514606, Best Val Epoch: 51\n"
     ]
    },
    {
     "name": "stderr",
     "output_type": "stream",
     "text": [
      " 12%|█▏        | 59/500 [00:29<03:49,  1.93it/s]"
     ]
    },
    {
     "name": "stdout",
     "output_type": "stream",
     "text": [
      "Epoch 59/500, Train Loss: 0.9504,           Validation Loss: 0.9700, Duration: 0:00:00.557142, Best Val Epoch: 51\n"
     ]
    },
    {
     "name": "stderr",
     "output_type": "stream",
     "text": [
      " 12%|█▏        | 60/500 [00:30<03:47,  1.93it/s]"
     ]
    },
    {
     "name": "stdout",
     "output_type": "stream",
     "text": [
      "Epoch 60/500, Train Loss: 0.9522,           Validation Loss: 0.9713, Duration: 0:00:00.510632, Best Val Epoch: 51\n"
     ]
    },
    {
     "name": "stderr",
     "output_type": "stream",
     "text": [
      " 12%|█▏        | 61/500 [00:31<03:49,  1.91it/s]"
     ]
    },
    {
     "name": "stdout",
     "output_type": "stream",
     "text": [
      "Epoch 61/500, Train Loss: 0.9498,           Validation Loss: 0.9813, Duration: 0:00:00.537606, Best Val Epoch: 51\n"
     ]
    },
    {
     "name": "stderr",
     "output_type": "stream",
     "text": [
      " 12%|█▏        | 62/500 [00:31<03:50,  1.90it/s]"
     ]
    },
    {
     "name": "stdout",
     "output_type": "stream",
     "text": [
      "Epoch 62/500, Train Loss: 0.9487,           Validation Loss: 0.9850, Duration: 0:00:00.530951, Best Val Epoch: 51\n"
     ]
    },
    {
     "name": "stderr",
     "output_type": "stream",
     "text": [
      " 13%|█▎        | 63/500 [00:32<03:42,  1.97it/s]"
     ]
    },
    {
     "name": "stdout",
     "output_type": "stream",
     "text": [
      "Epoch 63/500, Train Loss: 0.9530,           Validation Loss: 0.9917, Duration: 0:00:00.464926, Best Val Epoch: 51\n"
     ]
    },
    {
     "name": "stderr",
     "output_type": "stream",
     "text": [
      " 13%|█▎        | 64/500 [00:32<03:55,  1.85it/s]"
     ]
    },
    {
     "name": "stdout",
     "output_type": "stream",
     "text": [
      "Epoch 64/500, Train Loss: 0.9514,           Validation Loss: 0.9854, Duration: 0:00:00.611593, Best Val Epoch: 51\n"
     ]
    },
    {
     "name": "stderr",
     "output_type": "stream",
     "text": [
      " 13%|█▎        | 65/500 [00:33<03:51,  1.88it/s]"
     ]
    },
    {
     "name": "stdout",
     "output_type": "stream",
     "text": [
      "Epoch 65/500, Train Loss: 0.9512,           Validation Loss: 1.0085, Duration: 0:00:00.510863, Best Val Epoch: 51\n"
     ]
    },
    {
     "name": "stderr",
     "output_type": "stream",
     "text": [
      " 13%|█▎        | 66/500 [00:33<03:47,  1.91it/s]"
     ]
    },
    {
     "name": "stdout",
     "output_type": "stream",
     "text": [
      "Epoch 66/500, Train Loss: 0.9537,           Validation Loss: 0.9698, Duration: 0:00:00.507210, Best Val Epoch: 51\n"
     ]
    },
    {
     "name": "stderr",
     "output_type": "stream",
     "text": [
      " 13%|█▎        | 67/500 [00:34<03:48,  1.90it/s]"
     ]
    },
    {
     "name": "stdout",
     "output_type": "stream",
     "text": [
      "Epoch 67/500, Train Loss: 0.9513,           Validation Loss: 0.9705, Duration: 0:00:00.533395, Best Val Epoch: 51\n"
     ]
    },
    {
     "name": "stderr",
     "output_type": "stream",
     "text": [
      " 14%|█▎        | 68/500 [00:34<03:41,  1.95it/s]"
     ]
    },
    {
     "name": "stdout",
     "output_type": "stream",
     "text": [
      "Epoch 68/500, Train Loss: 0.9449,           Validation Loss: 0.9790, Duration: 0:00:00.480211, Best Val Epoch: 51\n"
     ]
    },
    {
     "name": "stderr",
     "output_type": "stream",
     "text": [
      " 14%|█▍        | 69/500 [00:35<03:39,  1.96it/s]"
     ]
    },
    {
     "name": "stdout",
     "output_type": "stream",
     "text": [
      "Epoch 69/500, Train Loss: 0.9536,           Validation Loss: 0.9870, Duration: 0:00:00.501543, Best Val Epoch: 51\n"
     ]
    },
    {
     "name": "stderr",
     "output_type": "stream",
     "text": [
      " 14%|█▍        | 70/500 [00:35<03:50,  1.87it/s]"
     ]
    },
    {
     "name": "stdout",
     "output_type": "stream",
     "text": [
      "Epoch 70/500, Train Loss: 0.9496,           Validation Loss: 0.9741, Duration: 0:00:00.592292, Best Val Epoch: 51\n"
     ]
    },
    {
     "name": "stderr",
     "output_type": "stream",
     "text": [
      " 14%|█▍        | 71/500 [00:36<03:52,  1.84it/s]"
     ]
    },
    {
     "name": "stdout",
     "output_type": "stream",
     "text": [
      "Epoch 71/500, Train Loss: 0.9525,           Validation Loss: 0.9724, Duration: 0:00:00.559894, Best Val Epoch: 51\n"
     ]
    },
    {
     "name": "stderr",
     "output_type": "stream",
     "text": [
      " 14%|█▍        | 72/500 [00:36<03:47,  1.89it/s]"
     ]
    },
    {
     "name": "stdout",
     "output_type": "stream",
     "text": [
      "Epoch 72/500, Train Loss: 0.9438,           Validation Loss: 0.9773, Duration: 0:00:00.500399, Best Val Epoch: 51\n"
     ]
    },
    {
     "name": "stderr",
     "output_type": "stream",
     "text": [
      " 15%|█▍        | 73/500 [00:37<03:47,  1.88it/s]"
     ]
    },
    {
     "name": "stdout",
     "output_type": "stream",
     "text": [
      "Epoch 73/500, Train Loss: 0.9504,           Validation Loss: 0.9758, Duration: 0:00:00.534715, Best Val Epoch: 51\n"
     ]
    },
    {
     "name": "stderr",
     "output_type": "stream",
     "text": [
      " 15%|█▍        | 74/500 [00:37<03:37,  1.95it/s]"
     ]
    },
    {
     "name": "stdout",
     "output_type": "stream",
     "text": [
      "Epoch 74/500, Train Loss: 0.9449,           Validation Loss: 0.9722, Duration: 0:00:00.463132, Best Val Epoch: 51\n"
     ]
    },
    {
     "name": "stderr",
     "output_type": "stream",
     "text": [
      " 15%|█▌        | 75/500 [00:38<03:39,  1.94it/s]"
     ]
    },
    {
     "name": "stdout",
     "output_type": "stream",
     "text": [
      "Epoch 75/500, Train Loss: 0.9418,           Validation Loss: 0.9901, Duration: 0:00:00.527589, Best Val Epoch: 51\n"
     ]
    },
    {
     "name": "stderr",
     "output_type": "stream",
     "text": [
      " 15%|█▌        | 76/500 [00:38<03:33,  1.98it/s]"
     ]
    },
    {
     "name": "stdout",
     "output_type": "stream",
     "text": [
      "Epoch 76/500, Train Loss: 0.9407,           Validation Loss: 0.9828, Duration: 0:00:00.475114, Best Val Epoch: 51\n"
     ]
    },
    {
     "name": "stderr",
     "output_type": "stream",
     "text": [
      " 15%|█▌        | 77/500 [00:39<03:29,  2.02it/s]"
     ]
    },
    {
     "name": "stdout",
     "output_type": "stream",
     "text": [
      "Epoch 77/500, Train Loss: 0.9504,           Validation Loss: 0.9796, Duration: 0:00:00.470390, Best Val Epoch: 51\n"
     ]
    },
    {
     "name": "stderr",
     "output_type": "stream",
     "text": [
      " 16%|█▌        | 78/500 [00:39<03:34,  1.97it/s]"
     ]
    },
    {
     "name": "stdout",
     "output_type": "stream",
     "text": [
      "Epoch 78/500, Train Loss: 0.9409,           Validation Loss: 0.9746, Duration: 0:00:00.541172, Best Val Epoch: 51\n"
     ]
    },
    {
     "name": "stderr",
     "output_type": "stream",
     "text": [
      " 16%|█▌        | 79/500 [00:40<03:35,  1.96it/s]"
     ]
    },
    {
     "name": "stdout",
     "output_type": "stream",
     "text": [
      "Epoch 79/500, Train Loss: 0.9411,           Validation Loss: 0.9674, Duration: 0:00:00.515613, Best Val Epoch: 51\n"
     ]
    },
    {
     "name": "stderr",
     "output_type": "stream",
     "text": [
      " 16%|█▌        | 80/500 [00:40<03:33,  1.97it/s]"
     ]
    },
    {
     "name": "stdout",
     "output_type": "stream",
     "text": [
      "Epoch 80/500, Train Loss: 0.9403,           Validation Loss: 0.9813, Duration: 0:00:00.502729, Best Val Epoch: 51\n"
     ]
    },
    {
     "name": "stderr",
     "output_type": "stream",
     "text": [
      " 16%|█▌        | 81/500 [00:41<03:35,  1.95it/s]"
     ]
    },
    {
     "name": "stdout",
     "output_type": "stream",
     "text": [
      "Epoch 81/500, Train Loss: 0.9431,           Validation Loss: 0.9736, Duration: 0:00:00.522214, Best Val Epoch: 51\n"
     ]
    },
    {
     "name": "stderr",
     "output_type": "stream",
     "text": [
      " 16%|█▋        | 82/500 [00:41<03:34,  1.95it/s]"
     ]
    },
    {
     "name": "stdout",
     "output_type": "stream",
     "text": [
      "Epoch 82/500, Train Loss: 0.9444,           Validation Loss: 0.9734, Duration: 0:00:00.509742, Best Val Epoch: 51\n"
     ]
    },
    {
     "name": "stderr",
     "output_type": "stream",
     "text": [
      " 17%|█▋        | 83/500 [00:42<03:39,  1.90it/s]"
     ]
    },
    {
     "name": "stdout",
     "output_type": "stream",
     "text": [
      "Epoch 83/500, Train Loss: 0.9380,           Validation Loss: 0.9768, Duration: 0:00:00.559203, Best Val Epoch: 51\n"
     ]
    },
    {
     "name": "stderr",
     "output_type": "stream",
     "text": [
      " 17%|█▋        | 84/500 [00:42<03:38,  1.91it/s]"
     ]
    },
    {
     "name": "stdout",
     "output_type": "stream",
     "text": [
      "Epoch 84/500, Train Loss: 0.9360,           Validation Loss: 0.9764, Duration: 0:00:00.519071, Best Val Epoch: 51\n"
     ]
    },
    {
     "name": "stderr",
     "output_type": "stream",
     "text": [
      " 17%|█▋        | 85/500 [00:43<03:31,  1.96it/s]"
     ]
    },
    {
     "name": "stdout",
     "output_type": "stream",
     "text": [
      "Epoch 85/500, Train Loss: 0.9390,           Validation Loss: 0.9694, Duration: 0:00:00.474505, Best Val Epoch: 51\n"
     ]
    },
    {
     "name": "stderr",
     "output_type": "stream",
     "text": [
      " 17%|█▋        | 86/500 [00:44<03:37,  1.91it/s]"
     ]
    },
    {
     "name": "stdout",
     "output_type": "stream",
     "text": [
      "Epoch 86/500, Train Loss: 0.9412,           Validation Loss: 1.0056, Duration: 0:00:00.558348, Best Val Epoch: 51\n"
     ]
    },
    {
     "name": "stderr",
     "output_type": "stream",
     "text": [
      " 17%|█▋        | 87/500 [00:44<03:30,  1.96it/s]"
     ]
    },
    {
     "name": "stdout",
     "output_type": "stream",
     "text": [
      "Epoch 87/500, Train Loss: 0.9347,           Validation Loss: 0.9831, Duration: 0:00:00.475622, Best Val Epoch: 51\n"
     ]
    },
    {
     "name": "stderr",
     "output_type": "stream",
     "text": [
      " 18%|█▊        | 88/500 [00:44<03:28,  1.98it/s]"
     ]
    },
    {
     "name": "stdout",
     "output_type": "stream",
     "text": [
      "Epoch 88/500, Train Loss: 0.9381,           Validation Loss: 0.9940, Duration: 0:00:00.495486, Best Val Epoch: 51\n"
     ]
    },
    {
     "name": "stderr",
     "output_type": "stream",
     "text": [
      " 18%|█▊        | 89/500 [00:45<03:32,  1.93it/s]"
     ]
    },
    {
     "name": "stdout",
     "output_type": "stream",
     "text": [
      "Epoch 89/500, Train Loss: 0.9411,           Validation Loss: 0.9873, Duration: 0:00:00.544776, Best Val Epoch: 51\n"
     ]
    },
    {
     "name": "stderr",
     "output_type": "stream",
     "text": [
      " 18%|█▊        | 90/500 [00:46<03:31,  1.94it/s]"
     ]
    },
    {
     "name": "stdout",
     "output_type": "stream",
     "text": [
      "Epoch 90/500, Train Loss: 0.9331,           Validation Loss: 0.9870, Duration: 0:00:00.511305, Best Val Epoch: 51\n"
     ]
    },
    {
     "name": "stderr",
     "output_type": "stream",
     "text": [
      " 18%|█▊        | 91/500 [00:46<03:25,  1.99it/s]"
     ]
    },
    {
     "name": "stdout",
     "output_type": "stream",
     "text": [
      "Epoch 91/500, Train Loss: 0.9310,           Validation Loss: 0.9797, Duration: 0:00:00.469452, Best Val Epoch: 51\n"
     ]
    },
    {
     "name": "stderr",
     "output_type": "stream",
     "text": [
      " 18%|█▊        | 92/500 [00:47<03:43,  1.82it/s]"
     ]
    },
    {
     "name": "stdout",
     "output_type": "stream",
     "text": [
      "Epoch 92/500, Train Loss: 0.9468,           Validation Loss: 0.9856, Duration: 0:00:00.656471, Best Val Epoch: 51\n"
     ]
    },
    {
     "name": "stderr",
     "output_type": "stream",
     "text": [
      " 19%|█▊        | 93/500 [00:47<03:47,  1.79it/s]"
     ]
    },
    {
     "name": "stdout",
     "output_type": "stream",
     "text": [
      "Epoch 93/500, Train Loss: 0.9344,           Validation Loss: 1.0018, Duration: 0:00:00.578756, Best Val Epoch: 51\n"
     ]
    },
    {
     "name": "stderr",
     "output_type": "stream",
     "text": [
      " 19%|█▉        | 94/500 [00:48<03:40,  1.84it/s]"
     ]
    },
    {
     "name": "stdout",
     "output_type": "stream",
     "text": [
      "Epoch 94/500, Train Loss: 0.9277,           Validation Loss: 0.9970, Duration: 0:00:00.507088, Best Val Epoch: 51\n"
     ]
    },
    {
     "name": "stderr",
     "output_type": "stream",
     "text": [
      " 19%|█▉        | 95/500 [00:48<03:40,  1.84it/s]"
     ]
    },
    {
     "name": "stdout",
     "output_type": "stream",
     "text": [
      "Epoch 95/500, Train Loss: 0.9292,           Validation Loss: 0.9937, Duration: 0:00:00.545406, Best Val Epoch: 51\n"
     ]
    },
    {
     "name": "stderr",
     "output_type": "stream",
     "text": [
      " 19%|█▉        | 96/500 [00:49<03:31,  1.91it/s]"
     ]
    },
    {
     "name": "stdout",
     "output_type": "stream",
     "text": [
      "Epoch 96/500, Train Loss: 0.9345,           Validation Loss: 0.9890, Duration: 0:00:00.471022, Best Val Epoch: 51\n"
     ]
    },
    {
     "name": "stderr",
     "output_type": "stream",
     "text": [
      " 19%|█▉        | 97/500 [00:49<03:38,  1.85it/s]"
     ]
    },
    {
     "name": "stdout",
     "output_type": "stream",
     "text": [
      "Epoch 97/500, Train Loss: 0.9346,           Validation Loss: 0.9825, Duration: 0:00:00.582972, Best Val Epoch: 51\n"
     ]
    },
    {
     "name": "stderr",
     "output_type": "stream",
     "text": [
      " 20%|█▉        | 98/500 [00:50<03:33,  1.88it/s]"
     ]
    },
    {
     "name": "stdout",
     "output_type": "stream",
     "text": [
      "Epoch 98/500, Train Loss: 0.9464,           Validation Loss: 0.9995, Duration: 0:00:00.508925, Best Val Epoch: 51\n"
     ]
    },
    {
     "name": "stderr",
     "output_type": "stream",
     "text": [
      " 20%|█▉        | 99/500 [00:50<03:28,  1.92it/s]"
     ]
    },
    {
     "name": "stdout",
     "output_type": "stream",
     "text": [
      "Epoch 99/500, Train Loss: 0.9377,           Validation Loss: 1.0083, Duration: 0:00:00.491031, Best Val Epoch: 51\n"
     ]
    },
    {
     "name": "stderr",
     "output_type": "stream",
     "text": [
      " 20%|██        | 100/500 [00:51<03:32,  1.88it/s]"
     ]
    },
    {
     "name": "stdout",
     "output_type": "stream",
     "text": [
      "Epoch 100/500, Train Loss: 0.9269,           Validation Loss: 0.9829, Duration: 0:00:00.555430, Best Val Epoch: 51\n"
     ]
    },
    {
     "name": "stderr",
     "output_type": "stream",
     "text": [
      " 20%|██        | 101/500 [00:51<03:26,  1.94it/s]"
     ]
    },
    {
     "name": "stdout",
     "output_type": "stream",
     "text": [
      "Epoch 101/500, Train Loss: 0.9297,           Validation Loss: 0.9906, Duration: 0:00:00.482303, Best Val Epoch: 51\n"
     ]
    },
    {
     "name": "stderr",
     "output_type": "stream",
     "text": [
      " 20%|██        | 102/500 [00:52<03:33,  1.86it/s]"
     ]
    },
    {
     "name": "stdout",
     "output_type": "stream",
     "text": [
      "Epoch 102/500, Train Loss: 0.9298,           Validation Loss: 0.9899, Duration: 0:00:00.583027, Best Val Epoch: 51\n"
     ]
    },
    {
     "name": "stderr",
     "output_type": "stream",
     "text": [
      " 21%|██        | 103/500 [00:53<03:33,  1.86it/s]"
     ]
    },
    {
     "name": "stdout",
     "output_type": "stream",
     "text": [
      "Epoch 103/500, Train Loss: 0.9203,           Validation Loss: 0.9990, Duration: 0:00:00.542418, Best Val Epoch: 51\n"
     ]
    },
    {
     "name": "stderr",
     "output_type": "stream",
     "text": [
      " 21%|██        | 104/500 [00:53<03:32,  1.86it/s]"
     ]
    },
    {
     "name": "stdout",
     "output_type": "stream",
     "text": [
      "Epoch 104/500, Train Loss: 0.9209,           Validation Loss: 0.9904, Duration: 0:00:00.529418, Best Val Epoch: 51\n"
     ]
    },
    {
     "name": "stderr",
     "output_type": "stream",
     "text": [
      " 21%|██        | 105/500 [00:54<03:32,  1.86it/s]"
     ]
    },
    {
     "name": "stdout",
     "output_type": "stream",
     "text": [
      "Epoch 105/500, Train Loss: 0.9239,           Validation Loss: 0.9858, Duration: 0:00:00.539196, Best Val Epoch: 51\n"
     ]
    },
    {
     "name": "stderr",
     "output_type": "stream",
     "text": [
      " 21%|██        | 106/500 [00:54<03:29,  1.88it/s]"
     ]
    },
    {
     "name": "stdout",
     "output_type": "stream",
     "text": [
      "Epoch 106/500, Train Loss: 0.9329,           Validation Loss: 0.9968, Duration: 0:00:00.516004, Best Val Epoch: 51\n"
     ]
    },
    {
     "name": "stderr",
     "output_type": "stream",
     "text": [
      " 21%|██▏       | 107/500 [00:55<03:27,  1.89it/s]"
     ]
    },
    {
     "name": "stdout",
     "output_type": "stream",
     "text": [
      "Epoch 107/500, Train Loss: 0.9258,           Validation Loss: 0.9902, Duration: 0:00:00.518546, Best Val Epoch: 51\n"
     ]
    },
    {
     "name": "stderr",
     "output_type": "stream",
     "text": [
      " 22%|██▏       | 108/500 [00:55<03:25,  1.91it/s]"
     ]
    },
    {
     "name": "stdout",
     "output_type": "stream",
     "text": [
      "Epoch 108/500, Train Loss: 0.9249,           Validation Loss: 0.9789, Duration: 0:00:00.514874, Best Val Epoch: 51\n"
     ]
    },
    {
     "name": "stderr",
     "output_type": "stream",
     "text": [
      " 22%|██▏       | 109/500 [00:56<03:18,  1.97it/s]"
     ]
    },
    {
     "name": "stdout",
     "output_type": "stream",
     "text": [
      "Epoch 109/500, Train Loss: 0.9222,           Validation Loss: 0.9788, Duration: 0:00:00.467485, Best Val Epoch: 51\n"
     ]
    },
    {
     "name": "stderr",
     "output_type": "stream",
     "text": [
      " 22%|██▏       | 110/500 [00:56<03:13,  2.02it/s]"
     ]
    },
    {
     "name": "stdout",
     "output_type": "stream",
     "text": [
      "Epoch 110/500, Train Loss: 0.9239,           Validation Loss: 0.9897, Duration: 0:00:00.468262, Best Val Epoch: 51\n"
     ]
    },
    {
     "name": "stderr",
     "output_type": "stream",
     "text": [
      " 22%|██▏       | 111/500 [00:57<03:20,  1.94it/s]"
     ]
    },
    {
     "name": "stdout",
     "output_type": "stream",
     "text": [
      "Epoch 111/500, Train Loss: 0.9180,           Validation Loss: 0.9901, Duration: 0:00:00.555958, Best Val Epoch: 51\n"
     ]
    },
    {
     "name": "stderr",
     "output_type": "stream",
     "text": [
      " 22%|██▏       | 112/500 [00:57<03:17,  1.97it/s]"
     ]
    },
    {
     "name": "stdout",
     "output_type": "stream",
     "text": [
      "Epoch 112/500, Train Loss: 0.9210,           Validation Loss: 1.0064, Duration: 0:00:00.494915, Best Val Epoch: 51\n"
     ]
    },
    {
     "name": "stderr",
     "output_type": "stream",
     "text": [
      " 23%|██▎       | 113/500 [00:58<03:12,  2.01it/s]"
     ]
    },
    {
     "name": "stdout",
     "output_type": "stream",
     "text": [
      "Epoch 113/500, Train Loss: 0.9280,           Validation Loss: 0.9846, Duration: 0:00:00.467728, Best Val Epoch: 51\n"
     ]
    },
    {
     "name": "stderr",
     "output_type": "stream",
     "text": [
      " 23%|██▎       | 114/500 [00:58<03:18,  1.95it/s]"
     ]
    },
    {
     "name": "stdout",
     "output_type": "stream",
     "text": [
      "Epoch 114/500, Train Loss: 0.9195,           Validation Loss: 0.9862, Duration: 0:00:00.551351, Best Val Epoch: 51\n"
     ]
    },
    {
     "name": "stderr",
     "output_type": "stream",
     "text": [
      " 23%|██▎       | 115/500 [00:59<03:15,  1.97it/s]"
     ]
    },
    {
     "name": "stdout",
     "output_type": "stream",
     "text": [
      "Epoch 115/500, Train Loss: 0.9165,           Validation Loss: 0.9875, Duration: 0:00:00.490611, Best Val Epoch: 51\n"
     ]
    },
    {
     "name": "stderr",
     "output_type": "stream",
     "text": [
      " 23%|██▎       | 116/500 [00:59<03:16,  1.96it/s]"
     ]
    },
    {
     "name": "stdout",
     "output_type": "stream",
     "text": [
      "Epoch 116/500, Train Loss: 0.9213,           Validation Loss: 0.9962, Duration: 0:00:00.520930, Best Val Epoch: 51\n"
     ]
    },
    {
     "name": "stderr",
     "output_type": "stream",
     "text": [
      " 23%|██▎       | 117/500 [01:00<03:12,  1.99it/s]"
     ]
    },
    {
     "name": "stdout",
     "output_type": "stream",
     "text": [
      "Epoch 117/500, Train Loss: 0.9154,           Validation Loss: 0.9897, Duration: 0:00:00.482718, Best Val Epoch: 51\n"
     ]
    },
    {
     "name": "stderr",
     "output_type": "stream",
     "text": [
      " 24%|██▎       | 118/500 [01:00<03:13,  1.98it/s]"
     ]
    },
    {
     "name": "stdout",
     "output_type": "stream",
     "text": [
      "Epoch 118/500, Train Loss: 0.9192,           Validation Loss: 0.9905, Duration: 0:00:00.511246, Best Val Epoch: 51\n"
     ]
    },
    {
     "name": "stderr",
     "output_type": "stream",
     "text": [
      " 24%|██▍       | 119/500 [01:01<03:17,  1.93it/s]"
     ]
    },
    {
     "name": "stdout",
     "output_type": "stream",
     "text": [
      "Epoch 119/500, Train Loss: 0.9187,           Validation Loss: 1.0115, Duration: 0:00:00.545701, Best Val Epoch: 51\n"
     ]
    },
    {
     "name": "stderr",
     "output_type": "stream",
     "text": [
      " 24%|██▍       | 120/500 [01:01<03:17,  1.93it/s]"
     ]
    },
    {
     "name": "stdout",
     "output_type": "stream",
     "text": [
      "Epoch 120/500, Train Loss: 0.9206,           Validation Loss: 0.9941, Duration: 0:00:00.521371, Best Val Epoch: 51\n"
     ]
    },
    {
     "name": "stderr",
     "output_type": "stream",
     "text": [
      " 24%|██▍       | 121/500 [01:02<03:17,  1.92it/s]"
     ]
    },
    {
     "name": "stdout",
     "output_type": "stream",
     "text": [
      "Epoch 121/500, Train Loss: 0.9232,           Validation Loss: 0.9992, Duration: 0:00:00.521922, Best Val Epoch: 51\n"
     ]
    },
    {
     "name": "stderr",
     "output_type": "stream",
     "text": [
      " 24%|██▍       | 122/500 [01:02<03:13,  1.95it/s]"
     ]
    },
    {
     "name": "stdout",
     "output_type": "stream",
     "text": [
      "Epoch 122/500, Train Loss: 0.9089,           Validation Loss: 0.9908, Duration: 0:00:00.492293, Best Val Epoch: 51\n"
     ]
    },
    {
     "name": "stderr",
     "output_type": "stream",
     "text": [
      " 25%|██▍       | 123/500 [01:03<03:09,  1.99it/s]"
     ]
    },
    {
     "name": "stdout",
     "output_type": "stream",
     "text": [
      "Epoch 123/500, Train Loss: 0.9086,           Validation Loss: 0.9905, Duration: 0:00:00.478149, Best Val Epoch: 51\n"
     ]
    },
    {
     "name": "stderr",
     "output_type": "stream",
     "text": [
      " 25%|██▍       | 124/500 [01:03<03:14,  1.93it/s]"
     ]
    },
    {
     "name": "stdout",
     "output_type": "stream",
     "text": [
      "Epoch 124/500, Train Loss: 0.9150,           Validation Loss: 0.9974, Duration: 0:00:00.551016, Best Val Epoch: 51\n"
     ]
    },
    {
     "name": "stderr",
     "output_type": "stream",
     "text": [
      " 25%|██▌       | 125/500 [01:04<03:11,  1.96it/s]"
     ]
    },
    {
     "name": "stdout",
     "output_type": "stream",
     "text": [
      "Epoch 125/500, Train Loss: 0.9193,           Validation Loss: 0.9939, Duration: 0:00:00.492284, Best Val Epoch: 51\n"
     ]
    },
    {
     "name": "stderr",
     "output_type": "stream",
     "text": [
      " 25%|██▌       | 126/500 [01:04<03:11,  1.96it/s]"
     ]
    },
    {
     "name": "stdout",
     "output_type": "stream",
     "text": [
      "Epoch 126/500, Train Loss: 0.9109,           Validation Loss: 0.9860, Duration: 0:00:00.512715, Best Val Epoch: 51\n"
     ]
    },
    {
     "name": "stderr",
     "output_type": "stream",
     "text": [
      " 25%|██▌       | 127/500 [01:05<03:13,  1.92it/s]"
     ]
    },
    {
     "name": "stdout",
     "output_type": "stream",
     "text": [
      "Epoch 127/500, Train Loss: 0.9055,           Validation Loss: 0.9981, Duration: 0:00:00.538898, Best Val Epoch: 51\n"
     ]
    },
    {
     "name": "stderr",
     "output_type": "stream",
     "text": [
      " 26%|██▌       | 128/500 [01:05<03:13,  1.92it/s]"
     ]
    },
    {
     "name": "stdout",
     "output_type": "stream",
     "text": [
      "Epoch 128/500, Train Loss: 0.9082,           Validation Loss: 0.9867, Duration: 0:00:00.519126, Best Val Epoch: 51\n"
     ]
    },
    {
     "name": "stderr",
     "output_type": "stream",
     "text": [
      " 26%|██▌       | 129/500 [01:06<03:14,  1.90it/s]"
     ]
    },
    {
     "name": "stdout",
     "output_type": "stream",
     "text": [
      "Epoch 129/500, Train Loss: 0.9105,           Validation Loss: 0.9789, Duration: 0:00:00.536025, Best Val Epoch: 51\n"
     ]
    },
    {
     "name": "stderr",
     "output_type": "stream",
     "text": [
      " 26%|██▌       | 130/500 [01:06<03:19,  1.86it/s]"
     ]
    },
    {
     "name": "stdout",
     "output_type": "stream",
     "text": [
      "Epoch 130/500, Train Loss: 0.9080,           Validation Loss: 0.9918, Duration: 0:00:00.570298, Best Val Epoch: 51\n"
     ]
    },
    {
     "name": "stderr",
     "output_type": "stream",
     "text": [
      " 26%|██▌       | 131/500 [01:07<03:11,  1.92it/s]"
     ]
    },
    {
     "name": "stdout",
     "output_type": "stream",
     "text": [
      "Epoch 131/500, Train Loss: 0.9061,           Validation Loss: 0.9893, Duration: 0:00:00.475168, Best Val Epoch: 51\n"
     ]
    },
    {
     "name": "stderr",
     "output_type": "stream",
     "text": [
      " 26%|██▋       | 132/500 [01:07<03:05,  1.98it/s]"
     ]
    },
    {
     "name": "stdout",
     "output_type": "stream",
     "text": [
      "Epoch 132/500, Train Loss: 0.8994,           Validation Loss: 0.9955, Duration: 0:00:00.467281, Best Val Epoch: 51\n"
     ]
    },
    {
     "name": "stderr",
     "output_type": "stream",
     "text": [
      " 27%|██▋       | 133/500 [01:08<03:09,  1.94it/s]"
     ]
    },
    {
     "name": "stdout",
     "output_type": "stream",
     "text": [
      "Epoch 133/500, Train Loss: 0.9048,           Validation Loss: 0.9981, Duration: 0:00:00.539068, Best Val Epoch: 51\n"
     ]
    },
    {
     "name": "stderr",
     "output_type": "stream",
     "text": [
      " 27%|██▋       | 134/500 [01:08<03:04,  1.98it/s]"
     ]
    },
    {
     "name": "stdout",
     "output_type": "stream",
     "text": [
      "Epoch 134/500, Train Loss: 0.9052,           Validation Loss: 0.9870, Duration: 0:00:00.480351, Best Val Epoch: 51\n"
     ]
    },
    {
     "name": "stderr",
     "output_type": "stream",
     "text": [
      " 27%|██▋       | 135/500 [01:09<03:12,  1.90it/s]"
     ]
    },
    {
     "name": "stdout",
     "output_type": "stream",
     "text": [
      "Epoch 135/500, Train Loss: 0.9111,           Validation Loss: 0.9962, Duration: 0:00:00.574471, Best Val Epoch: 51\n"
     ]
    },
    {
     "name": "stderr",
     "output_type": "stream",
     "text": [
      " 27%|██▋       | 136/500 [01:10<03:10,  1.91it/s]"
     ]
    },
    {
     "name": "stdout",
     "output_type": "stream",
     "text": [
      "Epoch 136/500, Train Loss: 0.9089,           Validation Loss: 0.9894, Duration: 0:00:00.511895, Best Val Epoch: 51\n"
     ]
    },
    {
     "name": "stderr",
     "output_type": "stream",
     "text": [
      " 27%|██▋       | 137/500 [01:10<03:05,  1.96it/s]"
     ]
    },
    {
     "name": "stdout",
     "output_type": "stream",
     "text": [
      "Epoch 137/500, Train Loss: 0.9009,           Validation Loss: 1.0183, Duration: 0:00:00.484115, Best Val Epoch: 51\n"
     ]
    },
    {
     "name": "stderr",
     "output_type": "stream",
     "text": [
      " 28%|██▊       | 138/500 [01:11<03:08,  1.92it/s]"
     ]
    },
    {
     "name": "stdout",
     "output_type": "stream",
     "text": [
      "Epoch 138/500, Train Loss: 0.9018,           Validation Loss: 0.9902, Duration: 0:00:00.539850, Best Val Epoch: 51\n"
     ]
    },
    {
     "name": "stderr",
     "output_type": "stream",
     "text": [
      " 28%|██▊       | 139/500 [01:11<03:02,  1.97it/s]"
     ]
    },
    {
     "name": "stdout",
     "output_type": "stream",
     "text": [
      "Epoch 139/500, Train Loss: 0.9090,           Validation Loss: 0.9880, Duration: 0:00:00.473239, Best Val Epoch: 51\n"
     ]
    },
    {
     "name": "stderr",
     "output_type": "stream",
     "text": [
      " 28%|██▊       | 140/500 [01:12<03:00,  1.99it/s]"
     ]
    },
    {
     "name": "stdout",
     "output_type": "stream",
     "text": [
      "Epoch 140/500, Train Loss: 0.8952,           Validation Loss: 1.0014, Duration: 0:00:00.490399, Best Val Epoch: 51\n"
     ]
    },
    {
     "name": "stderr",
     "output_type": "stream",
     "text": [
      " 28%|██▊       | 141/500 [01:12<03:06,  1.93it/s]"
     ]
    },
    {
     "name": "stdout",
     "output_type": "stream",
     "text": [
      "Epoch 141/500, Train Loss: 0.8971,           Validation Loss: 0.9858, Duration: 0:00:00.554638, Best Val Epoch: 51\n"
     ]
    },
    {
     "name": "stderr",
     "output_type": "stream",
     "text": [
      " 28%|██▊       | 142/500 [01:13<03:00,  1.98it/s]"
     ]
    },
    {
     "name": "stdout",
     "output_type": "stream",
     "text": [
      "Epoch 142/500, Train Loss: 0.8996,           Validation Loss: 1.0092, Duration: 0:00:00.470391, Best Val Epoch: 51\n"
     ]
    },
    {
     "name": "stderr",
     "output_type": "stream",
     "text": [
      " 29%|██▊       | 143/500 [01:13<03:04,  1.94it/s]"
     ]
    },
    {
     "name": "stdout",
     "output_type": "stream",
     "text": [
      "Epoch 143/500, Train Loss: 0.8958,           Validation Loss: 0.9971, Duration: 0:00:00.544971, Best Val Epoch: 51\n"
     ]
    },
    {
     "name": "stderr",
     "output_type": "stream",
     "text": [
      " 29%|██▉       | 144/500 [01:14<03:01,  1.96it/s]"
     ]
    },
    {
     "name": "stdout",
     "output_type": "stream",
     "text": [
      "Epoch 144/500, Train Loss: 0.9083,           Validation Loss: 0.9999, Duration: 0:00:00.491751, Best Val Epoch: 51\n"
     ]
    },
    {
     "name": "stderr",
     "output_type": "stream",
     "text": [
      " 29%|██▉       | 145/500 [01:14<02:57,  2.00it/s]"
     ]
    },
    {
     "name": "stdout",
     "output_type": "stream",
     "text": [
      "Epoch 145/500, Train Loss: 0.9009,           Validation Loss: 0.9929, Duration: 0:00:00.478999, Best Val Epoch: 51\n"
     ]
    },
    {
     "name": "stderr",
     "output_type": "stream",
     "text": [
      " 29%|██▉       | 146/500 [01:15<03:05,  1.91it/s]"
     ]
    },
    {
     "name": "stdout",
     "output_type": "stream",
     "text": [
      "Epoch 146/500, Train Loss: 0.8995,           Validation Loss: 1.0002, Duration: 0:00:00.572693, Best Val Epoch: 51\n"
     ]
    },
    {
     "name": "stderr",
     "output_type": "stream",
     "text": [
      " 29%|██▉       | 147/500 [01:15<03:07,  1.88it/s]"
     ]
    },
    {
     "name": "stdout",
     "output_type": "stream",
     "text": [
      "Epoch 147/500, Train Loss: 0.8951,           Validation Loss: 1.0061, Duration: 0:00:00.551128, Best Val Epoch: 51\n"
     ]
    },
    {
     "name": "stderr",
     "output_type": "stream",
     "text": [
      " 30%|██▉       | 148/500 [01:16<03:05,  1.90it/s]"
     ]
    },
    {
     "name": "stdout",
     "output_type": "stream",
     "text": [
      "Epoch 148/500, Train Loss: 0.8945,           Validation Loss: 0.9871, Duration: 0:00:00.515368, Best Val Epoch: 51\n"
     ]
    },
    {
     "name": "stderr",
     "output_type": "stream",
     "text": [
      " 30%|██▉       | 149/500 [01:16<03:10,  1.84it/s]"
     ]
    },
    {
     "name": "stdout",
     "output_type": "stream",
     "text": [
      "Epoch 149/500, Train Loss: 0.8856,           Validation Loss: 0.9885, Duration: 0:00:00.581479, Best Val Epoch: 51\n"
     ]
    },
    {
     "name": "stderr",
     "output_type": "stream",
     "text": [
      " 30%|███       | 150/500 [01:17<03:04,  1.90it/s]"
     ]
    },
    {
     "name": "stdout",
     "output_type": "stream",
     "text": [
      "Epoch 150/500, Train Loss: 0.8905,           Validation Loss: 0.9890, Duration: 0:00:00.485481, Best Val Epoch: 51\n"
     ]
    },
    {
     "name": "stderr",
     "output_type": "stream",
     "text": [
      " 30%|███       | 151/500 [01:17<02:57,  1.97it/s]"
     ]
    },
    {
     "name": "stdout",
     "output_type": "stream",
     "text": [
      "Epoch 151/500, Train Loss: 0.8889,           Validation Loss: 1.0080, Duration: 0:00:00.463947, Best Val Epoch: 51\n"
     ]
    },
    {
     "name": "stderr",
     "output_type": "stream",
     "text": [
      " 30%|███       | 152/500 [01:18<02:57,  1.96it/s]"
     ]
    },
    {
     "name": "stdout",
     "output_type": "stream",
     "text": [
      "Epoch 152/500, Train Loss: 0.8925,           Validation Loss: 1.0022, Duration: 0:00:00.514368, Best Val Epoch: 51\n"
     ]
    },
    {
     "name": "stderr",
     "output_type": "stream",
     "text": [
      " 31%|███       | 153/500 [01:18<02:52,  2.01it/s]"
     ]
    },
    {
     "name": "stdout",
     "output_type": "stream",
     "text": [
      "Epoch 153/500, Train Loss: 0.8927,           Validation Loss: 1.0099, Duration: 0:00:00.466008, Best Val Epoch: 51\n"
     ]
    },
    {
     "name": "stderr",
     "output_type": "stream",
     "text": [
      " 31%|███       | 154/500 [01:19<02:54,  1.99it/s]"
     ]
    },
    {
     "name": "stdout",
     "output_type": "stream",
     "text": [
      "Epoch 154/500, Train Loss: 0.8906,           Validation Loss: 0.9920, Duration: 0:00:00.516960, Best Val Epoch: 51\n"
     ]
    },
    {
     "name": "stderr",
     "output_type": "stream",
     "text": [
      " 31%|███       | 155/500 [01:19<02:50,  2.03it/s]"
     ]
    },
    {
     "name": "stdout",
     "output_type": "stream",
     "text": [
      "Epoch 155/500, Train Loss: 0.8927,           Validation Loss: 0.9945, Duration: 0:00:00.467769, Best Val Epoch: 51\n"
     ]
    },
    {
     "name": "stderr",
     "output_type": "stream",
     "text": [
      " 31%|███       | 156/500 [01:20<02:47,  2.06it/s]"
     ]
    },
    {
     "name": "stdout",
     "output_type": "stream",
     "text": [
      "Epoch 156/500, Train Loss: 0.8856,           Validation Loss: 0.9985, Duration: 0:00:00.467871, Best Val Epoch: 51\n"
     ]
    },
    {
     "name": "stderr",
     "output_type": "stream",
     "text": [
      " 31%|███▏      | 157/500 [01:20<02:53,  1.98it/s]"
     ]
    },
    {
     "name": "stdout",
     "output_type": "stream",
     "text": [
      "Epoch 157/500, Train Loss: 0.8969,           Validation Loss: 0.9924, Duration: 0:00:00.550359, Best Val Epoch: 51\n"
     ]
    },
    {
     "name": "stderr",
     "output_type": "stream",
     "text": [
      " 32%|███▏      | 158/500 [01:21<02:56,  1.94it/s]"
     ]
    },
    {
     "name": "stdout",
     "output_type": "stream",
     "text": [
      "Epoch 158/500, Train Loss: 0.8819,           Validation Loss: 0.9986, Duration: 0:00:00.540083, Best Val Epoch: 51\n"
     ]
    },
    {
     "name": "stderr",
     "output_type": "stream",
     "text": [
      " 32%|███▏      | 159/500 [01:21<02:54,  1.96it/s]"
     ]
    },
    {
     "name": "stdout",
     "output_type": "stream",
     "text": [
      "Epoch 159/500, Train Loss: 0.8831,           Validation Loss: 1.0039, Duration: 0:00:00.499352, Best Val Epoch: 51\n"
     ]
    },
    {
     "name": "stderr",
     "output_type": "stream",
     "text": [
      " 32%|███▏      | 160/500 [01:22<02:59,  1.90it/s]"
     ]
    },
    {
     "name": "stdout",
     "output_type": "stream",
     "text": [
      "Epoch 160/500, Train Loss: 0.8947,           Validation Loss: 1.0153, Duration: 0:00:00.563448, Best Val Epoch: 51\n"
     ]
    },
    {
     "name": "stderr",
     "output_type": "stream",
     "text": [
      " 32%|███▏      | 161/500 [01:22<03:00,  1.87it/s]"
     ]
    },
    {
     "name": "stdout",
     "output_type": "stream",
     "text": [
      "Epoch 161/500, Train Loss: 0.8844,           Validation Loss: 1.0108, Duration: 0:00:00.548134, Best Val Epoch: 51\n"
     ]
    },
    {
     "name": "stderr",
     "output_type": "stream",
     "text": [
      " 32%|███▏      | 162/500 [01:23<03:05,  1.82it/s]"
     ]
    },
    {
     "name": "stdout",
     "output_type": "stream",
     "text": [
      "Epoch 162/500, Train Loss: 0.8883,           Validation Loss: 0.9942, Duration: 0:00:00.581426, Best Val Epoch: 51\n"
     ]
    },
    {
     "name": "stderr",
     "output_type": "stream",
     "text": [
      " 33%|███▎      | 163/500 [01:23<03:01,  1.85it/s]"
     ]
    },
    {
     "name": "stdout",
     "output_type": "stream",
     "text": [
      "Epoch 163/500, Train Loss: 0.8865,           Validation Loss: 0.9971, Duration: 0:00:00.516848, Best Val Epoch: 51\n"
     ]
    },
    {
     "name": "stderr",
     "output_type": "stream",
     "text": [
      " 33%|███▎      | 164/500 [01:24<02:56,  1.90it/s]"
     ]
    },
    {
     "name": "stdout",
     "output_type": "stream",
     "text": [
      "Epoch 164/500, Train Loss: 0.8819,           Validation Loss: 1.0009, Duration: 0:00:00.494472, Best Val Epoch: 51\n"
     ]
    },
    {
     "name": "stderr",
     "output_type": "stream",
     "text": [
      " 33%|███▎      | 165/500 [01:25<03:06,  1.79it/s]"
     ]
    },
    {
     "name": "stdout",
     "output_type": "stream",
     "text": [
      "Epoch 165/500, Train Loss: 0.8801,           Validation Loss: 0.9880, Duration: 0:00:00.629746, Best Val Epoch: 51\n"
     ]
    },
    {
     "name": "stderr",
     "output_type": "stream",
     "text": [
      " 33%|███▎      | 166/500 [01:25<02:59,  1.86it/s]"
     ]
    },
    {
     "name": "stdout",
     "output_type": "stream",
     "text": [
      "Epoch 166/500, Train Loss: 0.8765,           Validation Loss: 0.9988, Duration: 0:00:00.492403, Best Val Epoch: 51\n"
     ]
    },
    {
     "name": "stderr",
     "output_type": "stream",
     "text": [
      " 33%|███▎      | 167/500 [01:26<02:58,  1.87it/s]"
     ]
    },
    {
     "name": "stdout",
     "output_type": "stream",
     "text": [
      "Epoch 167/500, Train Loss: 0.8785,           Validation Loss: 0.9918, Duration: 0:00:00.527058, Best Val Epoch: 51\n"
     ]
    },
    {
     "name": "stderr",
     "output_type": "stream",
     "text": [
      " 34%|███▎      | 168/500 [01:26<02:58,  1.86it/s]"
     ]
    },
    {
     "name": "stdout",
     "output_type": "stream",
     "text": [
      "Epoch 168/500, Train Loss: 0.8808,           Validation Loss: 0.9921, Duration: 0:00:00.542966, Best Val Epoch: 51\n"
     ]
    },
    {
     "name": "stderr",
     "output_type": "stream",
     "text": [
      " 34%|███▍      | 169/500 [01:27<02:52,  1.92it/s]"
     ]
    },
    {
     "name": "stdout",
     "output_type": "stream",
     "text": [
      "Epoch 169/500, Train Loss: 0.8790,           Validation Loss: 1.0034, Duration: 0:00:00.477409, Best Val Epoch: 51\n"
     ]
    },
    {
     "name": "stderr",
     "output_type": "stream",
     "text": [
      " 34%|███▍      | 170/500 [01:27<02:46,  1.98it/s]"
     ]
    },
    {
     "name": "stdout",
     "output_type": "stream",
     "text": [
      "Epoch 170/500, Train Loss: 0.8818,           Validation Loss: 1.0130, Duration: 0:00:00.470845, Best Val Epoch: 51\n"
     ]
    },
    {
     "name": "stderr",
     "output_type": "stream",
     "text": [
      " 34%|███▍      | 171/500 [01:28<02:50,  1.93it/s]"
     ]
    },
    {
     "name": "stdout",
     "output_type": "stream",
     "text": [
      "Epoch 171/500, Train Loss: 0.8745,           Validation Loss: 0.9942, Duration: 0:00:00.549404, Best Val Epoch: 51\n"
     ]
    },
    {
     "name": "stderr",
     "output_type": "stream",
     "text": [
      " 34%|███▍      | 172/500 [01:28<02:45,  1.99it/s]"
     ]
    },
    {
     "name": "stdout",
     "output_type": "stream",
     "text": [
      "Epoch 172/500, Train Loss: 0.8776,           Validation Loss: 0.9899, Duration: 0:00:00.467384, Best Val Epoch: 51\n"
     ]
    },
    {
     "name": "stderr",
     "output_type": "stream",
     "text": [
      " 35%|███▍      | 173/500 [01:29<02:42,  2.01it/s]"
     ]
    },
    {
     "name": "stdout",
     "output_type": "stream",
     "text": [
      "Epoch 173/500, Train Loss: 0.8763,           Validation Loss: 0.9996, Duration: 0:00:00.479577, Best Val Epoch: 51\n"
     ]
    },
    {
     "name": "stderr",
     "output_type": "stream",
     "text": [
      " 35%|███▍      | 174/500 [01:29<02:47,  1.95it/s]"
     ]
    },
    {
     "name": "stdout",
     "output_type": "stream",
     "text": [
      "Epoch 174/500, Train Loss: 0.8729,           Validation Loss: 0.9964, Duration: 0:00:00.548910, Best Val Epoch: 51\n"
     ]
    },
    {
     "name": "stderr",
     "output_type": "stream",
     "text": [
      " 35%|███▌      | 175/500 [01:30<02:46,  1.95it/s]"
     ]
    },
    {
     "name": "stdout",
     "output_type": "stream",
     "text": [
      "Epoch 175/500, Train Loss: 0.8739,           Validation Loss: 1.0191, Duration: 0:00:00.515608, Best Val Epoch: 51\n"
     ]
    },
    {
     "name": "stderr",
     "output_type": "stream",
     "text": [
      " 35%|███▌      | 176/500 [01:30<02:47,  1.93it/s]"
     ]
    },
    {
     "name": "stdout",
     "output_type": "stream",
     "text": [
      "Epoch 176/500, Train Loss: 0.8754,           Validation Loss: 1.0083, Duration: 0:00:00.525029, Best Val Epoch: 51\n"
     ]
    },
    {
     "name": "stderr",
     "output_type": "stream",
     "text": [
      " 35%|███▌      | 177/500 [01:31<02:43,  1.98it/s]"
     ]
    },
    {
     "name": "stdout",
     "output_type": "stream",
     "text": [
      "Epoch 177/500, Train Loss: 0.8763,           Validation Loss: 1.0141, Duration: 0:00:00.474273, Best Val Epoch: 51\n"
     ]
    },
    {
     "name": "stderr",
     "output_type": "stream",
     "text": [
      " 36%|███▌      | 178/500 [01:31<02:43,  1.97it/s]"
     ]
    },
    {
     "name": "stdout",
     "output_type": "stream",
     "text": [
      "Epoch 178/500, Train Loss: 0.8716,           Validation Loss: 0.9967, Duration: 0:00:00.510058, Best Val Epoch: 51\n"
     ]
    },
    {
     "name": "stderr",
     "output_type": "stream",
     "text": [
      " 36%|███▌      | 179/500 [01:32<02:44,  1.95it/s]"
     ]
    },
    {
     "name": "stdout",
     "output_type": "stream",
     "text": [
      "Epoch 179/500, Train Loss: 0.8697,           Validation Loss: 1.0076, Duration: 0:00:00.527419, Best Val Epoch: 51\n"
     ]
    },
    {
     "name": "stderr",
     "output_type": "stream",
     "text": [
      " 36%|███▌      | 180/500 [01:32<02:40,  1.99it/s]"
     ]
    },
    {
     "name": "stdout",
     "output_type": "stream",
     "text": [
      "Epoch 180/500, Train Loss: 0.8676,           Validation Loss: 0.9971, Duration: 0:00:00.477315, Best Val Epoch: 51\n"
     ]
    },
    {
     "name": "stderr",
     "output_type": "stream",
     "text": [
      " 36%|███▌      | 181/500 [01:33<02:44,  1.94it/s]"
     ]
    },
    {
     "name": "stdout",
     "output_type": "stream",
     "text": [
      "Epoch 181/500, Train Loss: 0.8723,           Validation Loss: 1.0048, Duration: 0:00:00.541273, Best Val Epoch: 51\n"
     ]
    },
    {
     "name": "stderr",
     "output_type": "stream",
     "text": [
      " 36%|███▋      | 182/500 [01:33<02:40,  1.98it/s]"
     ]
    },
    {
     "name": "stdout",
     "output_type": "stream",
     "text": [
      "Epoch 182/500, Train Loss: 0.8728,           Validation Loss: 1.0133, Duration: 0:00:00.482531, Best Val Epoch: 51\n"
     ]
    },
    {
     "name": "stderr",
     "output_type": "stream",
     "text": [
      " 37%|███▋      | 183/500 [01:34<02:36,  2.02it/s]"
     ]
    },
    {
     "name": "stdout",
     "output_type": "stream",
     "text": [
      "Epoch 183/500, Train Loss: 0.8721,           Validation Loss: 1.0011, Duration: 0:00:00.470081, Best Val Epoch: 51\n"
     ]
    },
    {
     "name": "stderr",
     "output_type": "stream",
     "text": [
      " 37%|███▋      | 184/500 [01:34<02:48,  1.88it/s]"
     ]
    },
    {
     "name": "stdout",
     "output_type": "stream",
     "text": [
      "Epoch 184/500, Train Loss: 0.8630,           Validation Loss: 0.9977, Duration: 0:00:00.616752, Best Val Epoch: 51\n"
     ]
    },
    {
     "name": "stderr",
     "output_type": "stream",
     "text": [
      " 37%|███▋      | 185/500 [01:35<02:48,  1.87it/s]"
     ]
    },
    {
     "name": "stdout",
     "output_type": "stream",
     "text": [
      "Epoch 185/500, Train Loss: 0.8636,           Validation Loss: 1.0141, Duration: 0:00:00.543501, Best Val Epoch: 51\n"
     ]
    },
    {
     "name": "stderr",
     "output_type": "stream",
     "text": [
      " 37%|███▋      | 186/500 [01:35<02:48,  1.86it/s]"
     ]
    },
    {
     "name": "stdout",
     "output_type": "stream",
     "text": [
      "Epoch 186/500, Train Loss: 0.8754,           Validation Loss: 1.0081, Duration: 0:00:00.537515, Best Val Epoch: 51\n"
     ]
    },
    {
     "name": "stderr",
     "output_type": "stream",
     "text": [
      " 37%|███▋      | 187/500 [01:36<02:47,  1.87it/s]"
     ]
    },
    {
     "name": "stdout",
     "output_type": "stream",
     "text": [
      "Epoch 187/500, Train Loss: 0.8669,           Validation Loss: 1.0019, Duration: 0:00:00.533979, Best Val Epoch: 51\n"
     ]
    },
    {
     "name": "stderr",
     "output_type": "stream",
     "text": [
      " 38%|███▊      | 188/500 [01:36<02:41,  1.94it/s]"
     ]
    },
    {
     "name": "stdout",
     "output_type": "stream",
     "text": [
      "Epoch 188/500, Train Loss: 0.8604,           Validation Loss: 1.0103, Duration: 0:00:00.468540, Best Val Epoch: 51\n"
     ]
    },
    {
     "name": "stderr",
     "output_type": "stream",
     "text": [
      " 38%|███▊      | 189/500 [01:37<02:36,  1.99it/s]"
     ]
    },
    {
     "name": "stdout",
     "output_type": "stream",
     "text": [
      "Epoch 189/500, Train Loss: 0.8748,           Validation Loss: 1.0048, Duration: 0:00:00.472292, Best Val Epoch: 51\n"
     ]
    },
    {
     "name": "stderr",
     "output_type": "stream",
     "text": [
      " 38%|███▊      | 190/500 [01:37<02:41,  1.92it/s]"
     ]
    },
    {
     "name": "stdout",
     "output_type": "stream",
     "text": [
      "Epoch 190/500, Train Loss: 0.8711,           Validation Loss: 1.0123, Duration: 0:00:00.564457, Best Val Epoch: 51\n"
     ]
    },
    {
     "name": "stderr",
     "output_type": "stream",
     "text": [
      " 38%|███▊      | 191/500 [01:38<02:41,  1.92it/s]"
     ]
    },
    {
     "name": "stdout",
     "output_type": "stream",
     "text": [
      "Epoch 191/500, Train Loss: 0.8745,           Validation Loss: 1.0117, Duration: 0:00:00.519766, Best Val Epoch: 51\n"
     ]
    },
    {
     "name": "stderr",
     "output_type": "stream",
     "text": [
      " 38%|███▊      | 192/500 [01:38<02:41,  1.91it/s]"
     ]
    },
    {
     "name": "stdout",
     "output_type": "stream",
     "text": [
      "Epoch 192/500, Train Loss: 0.8662,           Validation Loss: 1.0117, Duration: 0:00:00.527597, Best Val Epoch: 51\n"
     ]
    },
    {
     "name": "stderr",
     "output_type": "stream",
     "text": [
      " 39%|███▊      | 193/500 [01:39<02:53,  1.77it/s]"
     ]
    },
    {
     "name": "stdout",
     "output_type": "stream",
     "text": [
      "Epoch 193/500, Train Loss: 0.8618,           Validation Loss: 1.0155, Duration: 0:00:00.665400, Best Val Epoch: 51\n"
     ]
    },
    {
     "name": "stderr",
     "output_type": "stream",
     "text": [
      " 39%|███▉      | 194/500 [01:40<02:49,  1.80it/s]"
     ]
    },
    {
     "name": "stdout",
     "output_type": "stream",
     "text": [
      "Epoch 194/500, Train Loss: 0.8632,           Validation Loss: 1.0105, Duration: 0:00:00.523421, Best Val Epoch: 51\n"
     ]
    },
    {
     "name": "stderr",
     "output_type": "stream",
     "text": [
      " 39%|███▉      | 195/500 [01:40<02:55,  1.74it/s]"
     ]
    },
    {
     "name": "stdout",
     "output_type": "stream",
     "text": [
      "Epoch 195/500, Train Loss: 0.8633,           Validation Loss: 1.0109, Duration: 0:00:00.626012, Best Val Epoch: 51\n"
     ]
    },
    {
     "name": "stderr",
     "output_type": "stream",
     "text": [
      " 39%|███▉      | 196/500 [01:41<02:48,  1.80it/s]"
     ]
    },
    {
     "name": "stdout",
     "output_type": "stream",
     "text": [
      "Epoch 196/500, Train Loss: 0.8629,           Validation Loss: 0.9974, Duration: 0:00:00.503040, Best Val Epoch: 51\n"
     ]
    },
    {
     "name": "stderr",
     "output_type": "stream",
     "text": [
      " 39%|███▉      | 197/500 [01:41<02:45,  1.83it/s]"
     ]
    },
    {
     "name": "stdout",
     "output_type": "stream",
     "text": [
      "Epoch 197/500, Train Loss: 0.8623,           Validation Loss: 1.0123, Duration: 0:00:00.530233, Best Val Epoch: 51\n"
     ]
    },
    {
     "name": "stderr",
     "output_type": "stream",
     "text": [
      " 40%|███▉      | 198/500 [01:42<02:51,  1.76it/s]"
     ]
    },
    {
     "name": "stdout",
     "output_type": "stream",
     "text": [
      "Epoch 198/500, Train Loss: 0.8678,           Validation Loss: 0.9984, Duration: 0:00:00.612206, Best Val Epoch: 51\n"
     ]
    },
    {
     "name": "stderr",
     "output_type": "stream",
     "text": [
      " 40%|███▉      | 199/500 [01:42<02:46,  1.81it/s]"
     ]
    },
    {
     "name": "stdout",
     "output_type": "stream",
     "text": [
      "Epoch 199/500, Train Loss: 0.8637,           Validation Loss: 1.0115, Duration: 0:00:00.517142, Best Val Epoch: 51\n"
     ]
    },
    {
     "name": "stderr",
     "output_type": "stream",
     "text": [
      " 40%|████      | 200/500 [01:43<02:45,  1.82it/s]"
     ]
    },
    {
     "name": "stdout",
     "output_type": "stream",
     "text": [
      "Epoch 200/500, Train Loss: 0.8634,           Validation Loss: 0.9989, Duration: 0:00:00.545796, Best Val Epoch: 51\n"
     ]
    },
    {
     "name": "stderr",
     "output_type": "stream",
     "text": [
      " 40%|████      | 201/500 [01:44<02:39,  1.87it/s]"
     ]
    },
    {
     "name": "stdout",
     "output_type": "stream",
     "text": [
      "Epoch 201/500, Train Loss: 0.8595,           Validation Loss: 1.0029, Duration: 0:00:00.492611, Best Val Epoch: 51\n"
     ]
    },
    {
     "name": "stderr",
     "output_type": "stream",
     "text": [
      " 40%|████      | 202/500 [01:44<02:37,  1.89it/s]"
     ]
    },
    {
     "name": "stdout",
     "output_type": "stream",
     "text": [
      "Epoch 202/500, Train Loss: 0.8610,           Validation Loss: 1.0075, Duration: 0:00:00.520852, Best Val Epoch: 51\n"
     ]
    },
    {
     "name": "stderr",
     "output_type": "stream",
     "text": [
      " 41%|████      | 203/500 [01:45<02:38,  1.88it/s]"
     ]
    },
    {
     "name": "stdout",
     "output_type": "stream",
     "text": [
      "Epoch 203/500, Train Loss: 0.8588,           Validation Loss: 1.0183, Duration: 0:00:00.538130, Best Val Epoch: 51\n"
     ]
    },
    {
     "name": "stderr",
     "output_type": "stream",
     "text": [
      " 41%|████      | 204/500 [01:45<02:31,  1.95it/s]"
     ]
    },
    {
     "name": "stdout",
     "output_type": "stream",
     "text": [
      "Epoch 204/500, Train Loss: 0.8607,           Validation Loss: 1.0106, Duration: 0:00:00.461386, Best Val Epoch: 51\n"
     ]
    },
    {
     "name": "stderr",
     "output_type": "stream",
     "text": [
      " 41%|████      | 205/500 [01:46<02:27,  2.01it/s]"
     ]
    },
    {
     "name": "stdout",
     "output_type": "stream",
     "text": [
      "Epoch 205/500, Train Loss: 0.8504,           Validation Loss: 1.0217, Duration: 0:00:00.466686, Best Val Epoch: 51\n"
     ]
    },
    {
     "name": "stderr",
     "output_type": "stream",
     "text": [
      " 41%|████      | 206/500 [01:46<02:34,  1.90it/s]"
     ]
    },
    {
     "name": "stdout",
     "output_type": "stream",
     "text": [
      "Epoch 206/500, Train Loss: 0.8588,           Validation Loss: 1.0221, Duration: 0:00:00.586871, Best Val Epoch: 51\n"
     ]
    },
    {
     "name": "stderr",
     "output_type": "stream",
     "text": [
      " 41%|████▏     | 207/500 [01:47<02:32,  1.92it/s]"
     ]
    },
    {
     "name": "stdout",
     "output_type": "stream",
     "text": [
      "Epoch 207/500, Train Loss: 0.8557,           Validation Loss: 1.0129, Duration: 0:00:00.508131, Best Val Epoch: 51\n"
     ]
    },
    {
     "name": "stderr",
     "output_type": "stream",
     "text": [
      " 42%|████▏     | 208/500 [01:47<02:34,  1.89it/s]"
     ]
    },
    {
     "name": "stdout",
     "output_type": "stream",
     "text": [
      "Epoch 208/500, Train Loss: 0.8537,           Validation Loss: 1.0100, Duration: 0:00:00.551272, Best Val Epoch: 51\n"
     ]
    },
    {
     "name": "stderr",
     "output_type": "stream",
     "text": [
      " 42%|████▏     | 209/500 [01:48<02:37,  1.85it/s]"
     ]
    },
    {
     "name": "stdout",
     "output_type": "stream",
     "text": [
      "Epoch 209/500, Train Loss: 0.8513,           Validation Loss: 1.0156, Duration: 0:00:00.562203, Best Val Epoch: 51\n"
     ]
    },
    {
     "name": "stderr",
     "output_type": "stream",
     "text": [
      " 42%|████▏     | 210/500 [01:48<02:32,  1.90it/s]"
     ]
    },
    {
     "name": "stdout",
     "output_type": "stream",
     "text": [
      "Epoch 210/500, Train Loss: 0.8483,           Validation Loss: 1.0063, Duration: 0:00:00.489892, Best Val Epoch: 51\n"
     ]
    },
    {
     "name": "stderr",
     "output_type": "stream",
     "text": [
      " 42%|████▏     | 211/500 [01:49<02:29,  1.94it/s]"
     ]
    },
    {
     "name": "stdout",
     "output_type": "stream",
     "text": [
      "Epoch 211/500, Train Loss: 0.8493,           Validation Loss: 1.0168, Duration: 0:00:00.493175, Best Val Epoch: 51\n"
     ]
    },
    {
     "name": "stderr",
     "output_type": "stream",
     "text": [
      " 42%|████▏     | 212/500 [01:49<02:32,  1.89it/s]"
     ]
    },
    {
     "name": "stdout",
     "output_type": "stream",
     "text": [
      "Epoch 212/500, Train Loss: 0.8515,           Validation Loss: 1.0122, Duration: 0:00:00.556636, Best Val Epoch: 51\n"
     ]
    },
    {
     "name": "stderr",
     "output_type": "stream",
     "text": [
      " 43%|████▎     | 213/500 [01:50<02:27,  1.95it/s]"
     ]
    },
    {
     "name": "stdout",
     "output_type": "stream",
     "text": [
      "Epoch 213/500, Train Loss: 0.8465,           Validation Loss: 1.0197, Duration: 0:00:00.477900, Best Val Epoch: 51\n"
     ]
    },
    {
     "name": "stderr",
     "output_type": "stream",
     "text": [
      " 43%|████▎     | 214/500 [01:50<02:32,  1.88it/s]"
     ]
    },
    {
     "name": "stdout",
     "output_type": "stream",
     "text": [
      "Epoch 214/500, Train Loss: 0.8509,           Validation Loss: 1.0220, Duration: 0:00:00.573042, Best Val Epoch: 51\n"
     ]
    },
    {
     "name": "stderr",
     "output_type": "stream",
     "text": [
      " 43%|████▎     | 215/500 [01:51<02:26,  1.94it/s]"
     ]
    },
    {
     "name": "stdout",
     "output_type": "stream",
     "text": [
      "Epoch 215/500, Train Loss: 0.8400,           Validation Loss: 1.0160, Duration: 0:00:00.477052, Best Val Epoch: 51\n"
     ]
    },
    {
     "name": "stderr",
     "output_type": "stream",
     "text": [
      " 43%|████▎     | 216/500 [01:51<02:26,  1.94it/s]"
     ]
    },
    {
     "name": "stdout",
     "output_type": "stream",
     "text": [
      "Epoch 216/500, Train Loss: 0.8567,           Validation Loss: 1.0048, Duration: 0:00:00.511232, Best Val Epoch: 51\n"
     ]
    },
    {
     "name": "stderr",
     "output_type": "stream",
     "text": [
      " 43%|████▎     | 217/500 [01:52<02:27,  1.92it/s]"
     ]
    },
    {
     "name": "stdout",
     "output_type": "stream",
     "text": [
      "Epoch 217/500, Train Loss: 0.8490,           Validation Loss: 1.0269, Duration: 0:00:00.535889, Best Val Epoch: 51\n"
     ]
    },
    {
     "name": "stderr",
     "output_type": "stream",
     "text": [
      " 44%|████▎     | 218/500 [01:52<02:23,  1.96it/s]"
     ]
    },
    {
     "name": "stdout",
     "output_type": "stream",
     "text": [
      "Epoch 218/500, Train Loss: 0.8444,           Validation Loss: 1.0068, Duration: 0:00:00.484393, Best Val Epoch: 51\n"
     ]
    },
    {
     "name": "stderr",
     "output_type": "stream",
     "text": [
      " 44%|████▍     | 219/500 [01:53<02:23,  1.96it/s]"
     ]
    },
    {
     "name": "stdout",
     "output_type": "stream",
     "text": [
      "Epoch 219/500, Train Loss: 0.8446,           Validation Loss: 1.0104, Duration: 0:00:00.509524, Best Val Epoch: 51\n"
     ]
    },
    {
     "name": "stderr",
     "output_type": "stream",
     "text": [
      " 44%|████▍     | 220/500 [01:53<02:30,  1.86it/s]"
     ]
    },
    {
     "name": "stdout",
     "output_type": "stream",
     "text": [
      "Epoch 220/500, Train Loss: 0.8471,           Validation Loss: 1.0190, Duration: 0:00:00.599388, Best Val Epoch: 51\n"
     ]
    },
    {
     "name": "stderr",
     "output_type": "stream",
     "text": [
      " 44%|████▍     | 221/500 [01:54<02:25,  1.92it/s]"
     ]
    },
    {
     "name": "stdout",
     "output_type": "stream",
     "text": [
      "Epoch 221/500, Train Loss: 0.8448,           Validation Loss: 1.0103, Duration: 0:00:00.478449, Best Val Epoch: 51\n"
     ]
    },
    {
     "name": "stderr",
     "output_type": "stream",
     "text": [
      " 44%|████▍     | 222/500 [01:54<02:26,  1.90it/s]"
     ]
    },
    {
     "name": "stdout",
     "output_type": "stream",
     "text": [
      "Epoch 222/500, Train Loss: 0.8401,           Validation Loss: 1.0170, Duration: 0:00:00.536322, Best Val Epoch: 51\n"
     ]
    },
    {
     "name": "stderr",
     "output_type": "stream",
     "text": [
      " 45%|████▍     | 223/500 [01:55<02:21,  1.96it/s]"
     ]
    },
    {
     "name": "stdout",
     "output_type": "stream",
     "text": [
      "Epoch 223/500, Train Loss: 0.8438,           Validation Loss: 1.0231, Duration: 0:00:00.475080, Best Val Epoch: 51\n"
     ]
    },
    {
     "name": "stderr",
     "output_type": "stream",
     "text": [
      " 45%|████▍     | 224/500 [01:55<02:20,  1.97it/s]"
     ]
    },
    {
     "name": "stdout",
     "output_type": "stream",
     "text": [
      "Epoch 224/500, Train Loss: 0.8480,           Validation Loss: 1.0136, Duration: 0:00:00.500823, Best Val Epoch: 51\n"
     ]
    },
    {
     "name": "stderr",
     "output_type": "stream",
     "text": [
      " 45%|████▌     | 225/500 [01:56<02:31,  1.81it/s]"
     ]
    },
    {
     "name": "stdout",
     "output_type": "stream",
     "text": [
      "Epoch 225/500, Train Loss: 0.8405,           Validation Loss: 1.0044, Duration: 0:00:00.652034, Best Val Epoch: 51\n"
     ]
    },
    {
     "name": "stderr",
     "output_type": "stream",
     "text": [
      " 45%|████▌     | 226/500 [01:57<02:29,  1.83it/s]"
     ]
    },
    {
     "name": "stdout",
     "output_type": "stream",
     "text": [
      "Epoch 226/500, Train Loss: 0.8383,           Validation Loss: 1.0196, Duration: 0:00:00.534937, Best Val Epoch: 51\n"
     ]
    },
    {
     "name": "stderr",
     "output_type": "stream",
     "text": [
      " 45%|████▌     | 227/500 [01:57<02:27,  1.86it/s]"
     ]
    },
    {
     "name": "stdout",
     "output_type": "stream",
     "text": [
      "Epoch 227/500, Train Loss: 0.8543,           Validation Loss: 1.0145, Duration: 0:00:00.520024, Best Val Epoch: 51\n"
     ]
    },
    {
     "name": "stderr",
     "output_type": "stream",
     "text": [
      " 46%|████▌     | 228/500 [01:58<02:27,  1.84it/s]"
     ]
    },
    {
     "name": "stdout",
     "output_type": "stream",
     "text": [
      "Epoch 228/500, Train Loss: 0.8464,           Validation Loss: 1.0148, Duration: 0:00:00.551539, Best Val Epoch: 51\n"
     ]
    },
    {
     "name": "stderr",
     "output_type": "stream",
     "text": [
      " 46%|████▌     | 229/500 [01:58<02:23,  1.89it/s]"
     ]
    },
    {
     "name": "stdout",
     "output_type": "stream",
     "text": [
      "Epoch 229/500, Train Loss: 0.8417,           Validation Loss: 1.0064, Duration: 0:00:00.496431, Best Val Epoch: 51\n"
     ]
    },
    {
     "name": "stderr",
     "output_type": "stream",
     "text": [
      " 46%|████▌     | 230/500 [01:59<02:23,  1.88it/s]"
     ]
    },
    {
     "name": "stdout",
     "output_type": "stream",
     "text": [
      "Epoch 230/500, Train Loss: 0.8449,           Validation Loss: 1.0103, Duration: 0:00:00.539543, Best Val Epoch: 51\n"
     ]
    },
    {
     "name": "stderr",
     "output_type": "stream",
     "text": [
      " 46%|████▌     | 231/500 [01:59<02:28,  1.81it/s]"
     ]
    },
    {
     "name": "stdout",
     "output_type": "stream",
     "text": [
      "Epoch 231/500, Train Loss: 0.8416,           Validation Loss: 1.0062, Duration: 0:00:00.593170, Best Val Epoch: 51\n"
     ]
    },
    {
     "name": "stderr",
     "output_type": "stream",
     "text": [
      " 46%|████▋     | 232/500 [02:00<02:22,  1.88it/s]"
     ]
    },
    {
     "name": "stdout",
     "output_type": "stream",
     "text": [
      "Epoch 232/500, Train Loss: 0.8366,           Validation Loss: 1.0164, Duration: 0:00:00.487774, Best Val Epoch: 51\n"
     ]
    },
    {
     "name": "stderr",
     "output_type": "stream",
     "text": [
      " 47%|████▋     | 233/500 [02:00<02:22,  1.88it/s]"
     ]
    },
    {
     "name": "stdout",
     "output_type": "stream",
     "text": [
      "Epoch 233/500, Train Loss: 0.8448,           Validation Loss: 1.0277, Duration: 0:00:00.532413, Best Val Epoch: 51\n"
     ]
    },
    {
     "name": "stderr",
     "output_type": "stream",
     "text": [
      " 47%|████▋     | 234/500 [02:01<02:20,  1.90it/s]"
     ]
    },
    {
     "name": "stdout",
     "output_type": "stream",
     "text": [
      "Epoch 234/500, Train Loss: 0.8363,           Validation Loss: 1.0239, Duration: 0:00:00.511287, Best Val Epoch: 51\n"
     ]
    },
    {
     "name": "stderr",
     "output_type": "stream",
     "text": [
      " 47%|████▋     | 235/500 [02:01<02:19,  1.90it/s]"
     ]
    },
    {
     "name": "stdout",
     "output_type": "stream",
     "text": [
      "Epoch 235/500, Train Loss: 0.8375,           Validation Loss: 1.0082, Duration: 0:00:00.520549, Best Val Epoch: 51\n"
     ]
    },
    {
     "name": "stderr",
     "output_type": "stream",
     "text": [
      " 47%|████▋     | 236/500 [02:02<02:25,  1.81it/s]"
     ]
    },
    {
     "name": "stdout",
     "output_type": "stream",
     "text": [
      "Epoch 236/500, Train Loss: 0.8437,           Validation Loss: 1.0088, Duration: 0:00:00.611498, Best Val Epoch: 51\n"
     ]
    },
    {
     "name": "stderr",
     "output_type": "stream",
     "text": [
      " 47%|████▋     | 237/500 [02:03<02:21,  1.85it/s]"
     ]
    },
    {
     "name": "stdout",
     "output_type": "stream",
     "text": [
      "Epoch 237/500, Train Loss: 0.8360,           Validation Loss: 1.0178, Duration: 0:00:00.510521, Best Val Epoch: 51\n"
     ]
    },
    {
     "name": "stderr",
     "output_type": "stream",
     "text": [
      " 48%|████▊     | 238/500 [02:03<02:16,  1.92it/s]"
     ]
    },
    {
     "name": "stdout",
     "output_type": "stream",
     "text": [
      "Epoch 238/500, Train Loss: 0.8421,           Validation Loss: 1.0227, Duration: 0:00:00.473482, Best Val Epoch: 51\n"
     ]
    },
    {
     "name": "stderr",
     "output_type": "stream",
     "text": [
      " 48%|████▊     | 239/500 [02:04<02:16,  1.91it/s]"
     ]
    },
    {
     "name": "stdout",
     "output_type": "stream",
     "text": [
      "Epoch 239/500, Train Loss: 0.8399,           Validation Loss: 1.0169, Duration: 0:00:00.528487, Best Val Epoch: 51\n"
     ]
    },
    {
     "name": "stderr",
     "output_type": "stream",
     "text": [
      " 48%|████▊     | 240/500 [02:04<02:12,  1.97it/s]"
     ]
    },
    {
     "name": "stdout",
     "output_type": "stream",
     "text": [
      "Epoch 240/500, Train Loss: 0.8453,           Validation Loss: 1.0184, Duration: 0:00:00.472888, Best Val Epoch: 51\n"
     ]
    },
    {
     "name": "stderr",
     "output_type": "stream",
     "text": [
      " 48%|████▊     | 241/500 [02:05<02:14,  1.92it/s]"
     ]
    },
    {
     "name": "stdout",
     "output_type": "stream",
     "text": [
      "Epoch 241/500, Train Loss: 0.8370,           Validation Loss: 1.0153, Duration: 0:00:00.547349, Best Val Epoch: 51\n"
     ]
    },
    {
     "name": "stderr",
     "output_type": "stream",
     "text": [
      " 48%|████▊     | 242/500 [02:05<02:13,  1.93it/s]"
     ]
    },
    {
     "name": "stdout",
     "output_type": "stream",
     "text": [
      "Epoch 242/500, Train Loss: 0.8342,           Validation Loss: 1.0169, Duration: 0:00:00.511286, Best Val Epoch: 51\n"
     ]
    },
    {
     "name": "stderr",
     "output_type": "stream",
     "text": [
      " 49%|████▊     | 243/500 [02:06<02:12,  1.95it/s]"
     ]
    },
    {
     "name": "stdout",
     "output_type": "stream",
     "text": [
      "Epoch 243/500, Train Loss: 0.8312,           Validation Loss: 1.0195, Duration: 0:00:00.503199, Best Val Epoch: 51\n"
     ]
    },
    {
     "name": "stderr",
     "output_type": "stream",
     "text": [
      " 49%|████▉     | 244/500 [02:06<02:15,  1.90it/s]"
     ]
    },
    {
     "name": "stdout",
     "output_type": "stream",
     "text": [
      "Epoch 244/500, Train Loss: 0.8354,           Validation Loss: 1.0184, Duration: 0:00:00.558534, Best Val Epoch: 51\n"
     ]
    },
    {
     "name": "stderr",
     "output_type": "stream",
     "text": [
      " 49%|████▉     | 245/500 [02:07<02:10,  1.96it/s]"
     ]
    },
    {
     "name": "stdout",
     "output_type": "stream",
     "text": [
      "Epoch 245/500, Train Loss: 0.8261,           Validation Loss: 1.0053, Duration: 0:00:00.469718, Best Val Epoch: 51\n"
     ]
    },
    {
     "name": "stderr",
     "output_type": "stream",
     "text": [
      " 49%|████▉     | 246/500 [02:07<02:06,  2.01it/s]"
     ]
    },
    {
     "name": "stdout",
     "output_type": "stream",
     "text": [
      "Epoch 246/500, Train Loss: 0.8354,           Validation Loss: 1.0099, Duration: 0:00:00.468888, Best Val Epoch: 51\n"
     ]
    },
    {
     "name": "stderr",
     "output_type": "stream",
     "text": [
      " 49%|████▉     | 247/500 [02:08<02:08,  1.97it/s]"
     ]
    },
    {
     "name": "stdout",
     "output_type": "stream",
     "text": [
      "Epoch 247/500, Train Loss: 0.8278,           Validation Loss: 1.0179, Duration: 0:00:00.529144, Best Val Epoch: 51\n"
     ]
    },
    {
     "name": "stderr",
     "output_type": "stream",
     "text": [
      " 50%|████▉     | 248/500 [02:08<02:05,  2.02it/s]"
     ]
    },
    {
     "name": "stdout",
     "output_type": "stream",
     "text": [
      "Epoch 248/500, Train Loss: 0.8354,           Validation Loss: 1.0119, Duration: 0:00:00.467968, Best Val Epoch: 51\n"
     ]
    },
    {
     "name": "stderr",
     "output_type": "stream",
     "text": [
      " 50%|████▉     | 249/500 [02:09<02:04,  2.02it/s]"
     ]
    },
    {
     "name": "stdout",
     "output_type": "stream",
     "text": [
      "Epoch 249/500, Train Loss: 0.8446,           Validation Loss: 1.0295, Duration: 0:00:00.493927, Best Val Epoch: 51\n"
     ]
    },
    {
     "name": "stderr",
     "output_type": "stream",
     "text": [
      " 50%|█████     | 250/500 [02:09<02:09,  1.93it/s]"
     ]
    },
    {
     "name": "stdout",
     "output_type": "stream",
     "text": [
      "Epoch 250/500, Train Loss: 0.8411,           Validation Loss: 1.0114, Duration: 0:00:00.571432, Best Val Epoch: 51\n"
     ]
    },
    {
     "name": "stderr",
     "output_type": "stream",
     "text": [
      " 50%|█████     | 251/500 [02:10<02:05,  1.99it/s]"
     ]
    },
    {
     "name": "stdout",
     "output_type": "stream",
     "text": [
      "Epoch 251/500, Train Loss: 0.8356,           Validation Loss: 1.0237, Duration: 0:00:00.465141, Best Val Epoch: 51\n"
     ]
    },
    {
     "name": "stderr",
     "output_type": "stream",
     "text": [
      " 50%|█████     | 252/500 [02:10<02:03,  2.01it/s]"
     ]
    },
    {
     "name": "stdout",
     "output_type": "stream",
     "text": [
      "Epoch 252/500, Train Loss: 0.8328,           Validation Loss: 1.0133, Duration: 0:00:00.486633, Best Val Epoch: 51\n"
     ]
    },
    {
     "name": "stderr",
     "output_type": "stream",
     "text": [
      " 51%|█████     | 253/500 [02:11<02:05,  1.96it/s]"
     ]
    },
    {
     "name": "stdout",
     "output_type": "stream",
     "text": [
      "Epoch 253/500, Train Loss: 0.8309,           Validation Loss: 1.0054, Duration: 0:00:00.533306, Best Val Epoch: 51\n"
     ]
    },
    {
     "name": "stderr",
     "output_type": "stream",
     "text": [
      " 51%|█████     | 254/500 [02:11<02:02,  2.00it/s]"
     ]
    },
    {
     "name": "stdout",
     "output_type": "stream",
     "text": [
      "Epoch 254/500, Train Loss: 0.8286,           Validation Loss: 1.0134, Duration: 0:00:00.476178, Best Val Epoch: 51\n"
     ]
    },
    {
     "name": "stderr",
     "output_type": "stream",
     "text": [
      " 51%|█████     | 255/500 [02:12<02:04,  1.97it/s]"
     ]
    },
    {
     "name": "stdout",
     "output_type": "stream",
     "text": [
      "Epoch 255/500, Train Loss: 0.8269,           Validation Loss: 1.0242, Duration: 0:00:00.522505, Best Val Epoch: 51\n"
     ]
    },
    {
     "name": "stderr",
     "output_type": "stream",
     "text": [
      " 51%|█████     | 256/500 [02:12<02:03,  1.98it/s]"
     ]
    },
    {
     "name": "stdout",
     "output_type": "stream",
     "text": [
      "Epoch 256/500, Train Loss: 0.8329,           Validation Loss: 1.0239, Duration: 0:00:00.503111, Best Val Epoch: 51\n"
     ]
    },
    {
     "name": "stderr",
     "output_type": "stream",
     "text": [
      " 51%|█████▏    | 257/500 [02:13<02:02,  1.99it/s]"
     ]
    },
    {
     "name": "stdout",
     "output_type": "stream",
     "text": [
      "Epoch 257/500, Train Loss: 0.8290,           Validation Loss: 1.0297, Duration: 0:00:00.496960, Best Val Epoch: 51\n"
     ]
    },
    {
     "name": "stderr",
     "output_type": "stream",
     "text": [
      " 52%|█████▏    | 258/500 [02:13<02:05,  1.92it/s]"
     ]
    },
    {
     "name": "stdout",
     "output_type": "stream",
     "text": [
      "Epoch 258/500, Train Loss: 0.8351,           Validation Loss: 1.0120, Duration: 0:00:00.558810, Best Val Epoch: 51\n"
     ]
    },
    {
     "name": "stderr",
     "output_type": "stream",
     "text": [
      " 52%|█████▏    | 259/500 [02:14<02:03,  1.94it/s]"
     ]
    },
    {
     "name": "stdout",
     "output_type": "stream",
     "text": [
      "Epoch 259/500, Train Loss: 0.8230,           Validation Loss: 1.0219, Duration: 0:00:00.499653, Best Val Epoch: 51\n"
     ]
    },
    {
     "name": "stderr",
     "output_type": "stream",
     "text": [
      " 52%|█████▏    | 260/500 [02:14<02:06,  1.89it/s]"
     ]
    },
    {
     "name": "stdout",
     "output_type": "stream",
     "text": [
      "Epoch 260/500, Train Loss: 0.8360,           Validation Loss: 1.0230, Duration: 0:00:00.559191, Best Val Epoch: 51\n"
     ]
    },
    {
     "name": "stderr",
     "output_type": "stream",
     "text": [
      " 52%|█████▏    | 261/500 [02:15<02:07,  1.88it/s]"
     ]
    },
    {
     "name": "stdout",
     "output_type": "stream",
     "text": [
      "Epoch 261/500, Train Loss: 0.8205,           Validation Loss: 1.0217, Duration: 0:00:00.542432, Best Val Epoch: 51\n"
     ]
    },
    {
     "name": "stderr",
     "output_type": "stream",
     "text": [
      " 52%|█████▏    | 262/500 [02:15<02:03,  1.93it/s]"
     ]
    },
    {
     "name": "stdout",
     "output_type": "stream",
     "text": [
      "Epoch 262/500, Train Loss: 0.8251,           Validation Loss: 1.0200, Duration: 0:00:00.487489, Best Val Epoch: 51\n"
     ]
    },
    {
     "name": "stderr",
     "output_type": "stream",
     "text": [
      " 53%|█████▎    | 263/500 [02:16<02:04,  1.90it/s]"
     ]
    },
    {
     "name": "stdout",
     "output_type": "stream",
     "text": [
      "Epoch 263/500, Train Loss: 0.8249,           Validation Loss: 1.0190, Duration: 0:00:00.545140, Best Val Epoch: 51\n"
     ]
    },
    {
     "name": "stderr",
     "output_type": "stream",
     "text": [
      " 53%|█████▎    | 264/500 [02:16<02:00,  1.95it/s]"
     ]
    },
    {
     "name": "stdout",
     "output_type": "stream",
     "text": [
      "Epoch 264/500, Train Loss: 0.8317,           Validation Loss: 1.0220, Duration: 0:00:00.475135, Best Val Epoch: 51\n"
     ]
    },
    {
     "name": "stderr",
     "output_type": "stream",
     "text": [
      " 53%|█████▎    | 265/500 [02:17<01:59,  1.97it/s]"
     ]
    },
    {
     "name": "stdout",
     "output_type": "stream",
     "text": [
      "Epoch 265/500, Train Loss: 0.8241,           Validation Loss: 1.0236, Duration: 0:00:00.500881, Best Val Epoch: 51\n"
     ]
    },
    {
     "name": "stderr",
     "output_type": "stream",
     "text": [
      " 53%|█████▎    | 266/500 [02:17<02:00,  1.94it/s]"
     ]
    },
    {
     "name": "stdout",
     "output_type": "stream",
     "text": [
      "Epoch 266/500, Train Loss: 0.8245,           Validation Loss: 1.0235, Duration: 0:00:00.527417, Best Val Epoch: 51\n"
     ]
    },
    {
     "name": "stderr",
     "output_type": "stream",
     "text": [
      " 53%|█████▎    | 267/500 [02:18<02:00,  1.93it/s]"
     ]
    },
    {
     "name": "stdout",
     "output_type": "stream",
     "text": [
      "Epoch 267/500, Train Loss: 0.8204,           Validation Loss: 1.0152, Duration: 0:00:00.522845, Best Val Epoch: 51\n"
     ]
    },
    {
     "name": "stderr",
     "output_type": "stream",
     "text": [
      " 54%|█████▎    | 268/500 [02:18<01:57,  1.98it/s]"
     ]
    },
    {
     "name": "stdout",
     "output_type": "stream",
     "text": [
      "Epoch 268/500, Train Loss: 0.8226,           Validation Loss: 1.0196, Duration: 0:00:00.476558, Best Val Epoch: 51\n"
     ]
    },
    {
     "name": "stderr",
     "output_type": "stream",
     "text": [
      " 54%|█████▍    | 269/500 [02:19<02:00,  1.91it/s]"
     ]
    },
    {
     "name": "stdout",
     "output_type": "stream",
     "text": [
      "Epoch 269/500, Train Loss: 0.8409,           Validation Loss: 1.0212, Duration: 0:00:00.563748, Best Val Epoch: 51\n"
     ]
    },
    {
     "name": "stderr",
     "output_type": "stream",
     "text": [
      " 54%|█████▍    | 270/500 [02:19<02:03,  1.87it/s]"
     ]
    },
    {
     "name": "stdout",
     "output_type": "stream",
     "text": [
      "Epoch 270/500, Train Loss: 0.8311,           Validation Loss: 1.0079, Duration: 0:00:00.564222, Best Val Epoch: 51\n"
     ]
    },
    {
     "name": "stderr",
     "output_type": "stream",
     "text": [
      " 54%|█████▍    | 271/500 [02:20<01:59,  1.91it/s]"
     ]
    },
    {
     "name": "stdout",
     "output_type": "stream",
     "text": [
      "Epoch 271/500, Train Loss: 0.8242,           Validation Loss: 1.0148, Duration: 0:00:00.488769, Best Val Epoch: 51\n"
     ]
    },
    {
     "name": "stderr",
     "output_type": "stream",
     "text": [
      " 54%|█████▍    | 272/500 [02:20<02:02,  1.86it/s]"
     ]
    },
    {
     "name": "stdout",
     "output_type": "stream",
     "text": [
      "Epoch 272/500, Train Loss: 0.8249,           Validation Loss: 1.0187, Duration: 0:00:00.572668, Best Val Epoch: 51\n"
     ]
    },
    {
     "name": "stderr",
     "output_type": "stream",
     "text": [
      " 55%|█████▍    | 273/500 [02:21<02:01,  1.87it/s]"
     ]
    },
    {
     "name": "stdout",
     "output_type": "stream",
     "text": [
      "Epoch 273/500, Train Loss: 0.8170,           Validation Loss: 1.0185, Duration: 0:00:00.524990, Best Val Epoch: 51\n"
     ]
    },
    {
     "name": "stderr",
     "output_type": "stream",
     "text": [
      " 55%|█████▍    | 274/500 [02:22<02:06,  1.78it/s]"
     ]
    },
    {
     "name": "stdout",
     "output_type": "stream",
     "text": [
      "Epoch 274/500, Train Loss: 0.8256,           Validation Loss: 1.0099, Duration: 0:00:00.623095, Best Val Epoch: 51\n"
     ]
    },
    {
     "name": "stderr",
     "output_type": "stream",
     "text": [
      " 55%|█████▌    | 275/500 [02:22<02:02,  1.83it/s]"
     ]
    },
    {
     "name": "stdout",
     "output_type": "stream",
     "text": [
      "Epoch 275/500, Train Loss: 0.8318,           Validation Loss: 1.0251, Duration: 0:00:00.509088, Best Val Epoch: 51\n"
     ]
    },
    {
     "name": "stderr",
     "output_type": "stream",
     "text": [
      " 55%|█████▌    | 276/500 [02:23<02:01,  1.84it/s]"
     ]
    },
    {
     "name": "stdout",
     "output_type": "stream",
     "text": [
      "Epoch 276/500, Train Loss: 0.8167,           Validation Loss: 1.0256, Duration: 0:00:00.533441, Best Val Epoch: 51\n"
     ]
    },
    {
     "name": "stderr",
     "output_type": "stream",
     "text": [
      " 55%|█████▌    | 277/500 [02:23<02:01,  1.84it/s]"
     ]
    },
    {
     "name": "stdout",
     "output_type": "stream",
     "text": [
      "Epoch 277/500, Train Loss: 0.8214,           Validation Loss: 1.0117, Duration: 0:00:00.545364, Best Val Epoch: 51\n"
     ]
    },
    {
     "name": "stderr",
     "output_type": "stream",
     "text": [
      " 56%|█████▌    | 278/500 [02:24<01:57,  1.88it/s]"
     ]
    },
    {
     "name": "stdout",
     "output_type": "stream",
     "text": [
      "Epoch 278/500, Train Loss: 0.8250,           Validation Loss: 1.0173, Duration: 0:00:00.499042, Best Val Epoch: 51\n"
     ]
    },
    {
     "name": "stderr",
     "output_type": "stream",
     "text": [
      " 56%|█████▌    | 279/500 [02:24<01:59,  1.86it/s]"
     ]
    },
    {
     "name": "stdout",
     "output_type": "stream",
     "text": [
      "Epoch 279/500, Train Loss: 0.8236,           Validation Loss: 1.0196, Duration: 0:00:00.558059, Best Val Epoch: 51\n"
     ]
    },
    {
     "name": "stderr",
     "output_type": "stream",
     "text": [
      " 56%|█████▌    | 280/500 [02:25<01:54,  1.92it/s]"
     ]
    },
    {
     "name": "stdout",
     "output_type": "stream",
     "text": [
      "Epoch 280/500, Train Loss: 0.8177,           Validation Loss: 1.0077, Duration: 0:00:00.478772, Best Val Epoch: 51\n"
     ]
    },
    {
     "name": "stderr",
     "output_type": "stream",
     "text": [
      " 56%|█████▌    | 281/500 [02:25<01:55,  1.90it/s]"
     ]
    },
    {
     "name": "stdout",
     "output_type": "stream",
     "text": [
      "Epoch 281/500, Train Loss: 0.8194,           Validation Loss: 1.0226, Duration: 0:00:00.536474, Best Val Epoch: 51\n"
     ]
    },
    {
     "name": "stderr",
     "output_type": "stream",
     "text": [
      " 56%|█████▋    | 282/500 [02:26<01:59,  1.83it/s]"
     ]
    },
    {
     "name": "stdout",
     "output_type": "stream",
     "text": [
      "Epoch 282/500, Train Loss: 0.8175,           Validation Loss: 1.0128, Duration: 0:00:00.592245, Best Val Epoch: 51\n"
     ]
    },
    {
     "name": "stderr",
     "output_type": "stream",
     "text": [
      " 57%|█████▋    | 283/500 [02:26<01:55,  1.87it/s]"
     ]
    },
    {
     "name": "stdout",
     "output_type": "stream",
     "text": [
      "Epoch 283/500, Train Loss: 0.8186,           Validation Loss: 1.0180, Duration: 0:00:00.506234, Best Val Epoch: 51\n"
     ]
    },
    {
     "name": "stderr",
     "output_type": "stream",
     "text": [
      " 57%|█████▋    | 284/500 [02:27<01:53,  1.90it/s]"
     ]
    },
    {
     "name": "stdout",
     "output_type": "stream",
     "text": [
      "Epoch 284/500, Train Loss: 0.8113,           Validation Loss: 1.0150, Duration: 0:00:00.510704, Best Val Epoch: 51\n"
     ]
    },
    {
     "name": "stderr",
     "output_type": "stream",
     "text": [
      " 57%|█████▋    | 285/500 [02:27<01:54,  1.88it/s]"
     ]
    },
    {
     "name": "stdout",
     "output_type": "stream",
     "text": [
      "Epoch 285/500, Train Loss: 0.8311,           Validation Loss: 1.0161, Duration: 0:00:00.543102, Best Val Epoch: 51\n"
     ]
    },
    {
     "name": "stderr",
     "output_type": "stream",
     "text": [
      " 57%|█████▋    | 286/500 [02:28<01:51,  1.92it/s]"
     ]
    },
    {
     "name": "stdout",
     "output_type": "stream",
     "text": [
      "Epoch 286/500, Train Loss: 0.8161,           Validation Loss: 1.0135, Duration: 0:00:00.496684, Best Val Epoch: 51\n"
     ]
    },
    {
     "name": "stderr",
     "output_type": "stream",
     "text": [
      " 57%|█████▋    | 287/500 [02:28<01:48,  1.97it/s]"
     ]
    },
    {
     "name": "stdout",
     "output_type": "stream",
     "text": [
      "Epoch 287/500, Train Loss: 0.8276,           Validation Loss: 1.0247, Duration: 0:00:00.475307, Best Val Epoch: 51\n"
     ]
    },
    {
     "name": "stderr",
     "output_type": "stream",
     "text": [
      " 58%|█████▊    | 288/500 [02:29<01:51,  1.90it/s]"
     ]
    },
    {
     "name": "stdout",
     "output_type": "stream",
     "text": [
      "Epoch 288/500, Train Loss: 0.8180,           Validation Loss: 1.0256, Duration: 0:00:00.566311, Best Val Epoch: 51\n"
     ]
    },
    {
     "name": "stderr",
     "output_type": "stream",
     "text": [
      " 58%|█████▊    | 289/500 [02:29<01:47,  1.96it/s]"
     ]
    },
    {
     "name": "stdout",
     "output_type": "stream",
     "text": [
      "Epoch 289/500, Train Loss: 0.8136,           Validation Loss: 1.0215, Duration: 0:00:00.476731, Best Val Epoch: 51\n"
     ]
    },
    {
     "name": "stderr",
     "output_type": "stream",
     "text": [
      " 58%|█████▊    | 290/500 [02:30<01:44,  2.00it/s]"
     ]
    },
    {
     "name": "stdout",
     "output_type": "stream",
     "text": [
      "Epoch 290/500, Train Loss: 0.8224,           Validation Loss: 1.0123, Duration: 0:00:00.471275, Best Val Epoch: 51\n"
     ]
    },
    {
     "name": "stderr",
     "output_type": "stream",
     "text": [
      " 58%|█████▊    | 291/500 [02:31<01:47,  1.95it/s]"
     ]
    },
    {
     "name": "stdout",
     "output_type": "stream",
     "text": [
      "Epoch 291/500, Train Loss: 0.8125,           Validation Loss: 1.0199, Duration: 0:00:00.540557, Best Val Epoch: 51\n"
     ]
    },
    {
     "name": "stderr",
     "output_type": "stream",
     "text": [
      " 58%|█████▊    | 292/500 [02:31<01:44,  1.99it/s]"
     ]
    },
    {
     "name": "stdout",
     "output_type": "stream",
     "text": [
      "Epoch 292/500, Train Loss: 0.8145,           Validation Loss: 1.0145, Duration: 0:00:00.479398, Best Val Epoch: 51\n"
     ]
    },
    {
     "name": "stderr",
     "output_type": "stream",
     "text": [
      " 59%|█████▊    | 293/500 [02:32<01:47,  1.93it/s]"
     ]
    },
    {
     "name": "stdout",
     "output_type": "stream",
     "text": [
      "Epoch 293/500, Train Loss: 0.8113,           Validation Loss: 1.0168, Duration: 0:00:00.550263, Best Val Epoch: 51\n"
     ]
    },
    {
     "name": "stderr",
     "output_type": "stream",
     "text": [
      " 59%|█████▉    | 294/500 [02:32<01:46,  1.93it/s]"
     ]
    },
    {
     "name": "stdout",
     "output_type": "stream",
     "text": [
      "Epoch 294/500, Train Loss: 0.8179,           Validation Loss: 1.0181, Duration: 0:00:00.518527, Best Val Epoch: 51\n"
     ]
    },
    {
     "name": "stderr",
     "output_type": "stream",
     "text": [
      " 59%|█████▉    | 295/500 [02:33<01:44,  1.97it/s]"
     ]
    },
    {
     "name": "stdout",
     "output_type": "stream",
     "text": [
      "Epoch 295/500, Train Loss: 0.8183,           Validation Loss: 1.0193, Duration: 0:00:00.483698, Best Val Epoch: 51\n"
     ]
    },
    {
     "name": "stderr",
     "output_type": "stream",
     "text": [
      " 59%|█████▉    | 296/500 [02:33<01:45,  1.93it/s]"
     ]
    },
    {
     "name": "stdout",
     "output_type": "stream",
     "text": [
      "Epoch 296/500, Train Loss: 0.8120,           Validation Loss: 1.0169, Duration: 0:00:00.538294, Best Val Epoch: 51\n"
     ]
    },
    {
     "name": "stderr",
     "output_type": "stream",
     "text": [
      " 59%|█████▉    | 297/500 [02:34<01:42,  1.98it/s]"
     ]
    },
    {
     "name": "stdout",
     "output_type": "stream",
     "text": [
      "Epoch 297/500, Train Loss: 0.8189,           Validation Loss: 1.0252, Duration: 0:00:00.479200, Best Val Epoch: 51\n"
     ]
    },
    {
     "name": "stderr",
     "output_type": "stream",
     "text": [
      " 60%|█████▉    | 298/500 [02:34<01:42,  1.97it/s]"
     ]
    },
    {
     "name": "stdout",
     "output_type": "stream",
     "text": [
      "Epoch 298/500, Train Loss: 0.8254,           Validation Loss: 1.0122, Duration: 0:00:00.509131, Best Val Epoch: 51\n"
     ]
    },
    {
     "name": "stderr",
     "output_type": "stream",
     "text": [
      " 60%|█████▉    | 299/500 [02:35<01:43,  1.93it/s]"
     ]
    },
    {
     "name": "stdout",
     "output_type": "stream",
     "text": [
      "Epoch 299/500, Train Loss: 0.8235,           Validation Loss: 1.0158, Duration: 0:00:00.539104, Best Val Epoch: 51\n"
     ]
    },
    {
     "name": "stderr",
     "output_type": "stream",
     "text": [
      " 60%|██████    | 300/500 [02:35<01:42,  1.96it/s]"
     ]
    },
    {
     "name": "stdout",
     "output_type": "stream",
     "text": [
      "Epoch 300/500, Train Loss: 0.8189,           Validation Loss: 1.0113, Duration: 0:00:00.495268, Best Val Epoch: 51\n"
     ]
    },
    {
     "name": "stderr",
     "output_type": "stream",
     "text": [
      " 60%|██████    | 301/500 [02:36<01:42,  1.94it/s]"
     ]
    },
    {
     "name": "stdout",
     "output_type": "stream",
     "text": [
      "Epoch 301/500, Train Loss: 0.8232,           Validation Loss: 1.0211, Duration: 0:00:00.524584, Best Val Epoch: 51\n"
     ]
    },
    {
     "name": "stderr",
     "output_type": "stream",
     "text": [
      " 60%|██████    | 302/500 [02:36<01:39,  1.99it/s]"
     ]
    },
    {
     "name": "stdout",
     "output_type": "stream",
     "text": [
      "Epoch 302/500, Train Loss: 0.8111,           Validation Loss: 1.0262, Duration: 0:00:00.473018, Best Val Epoch: 51\n"
     ]
    },
    {
     "name": "stderr",
     "output_type": "stream",
     "text": [
      " 61%|██████    | 303/500 [02:37<01:37,  2.03it/s]"
     ]
    },
    {
     "name": "stdout",
     "output_type": "stream",
     "text": [
      "Epoch 303/500, Train Loss: 0.8091,           Validation Loss: 1.0213, Duration: 0:00:00.470679, Best Val Epoch: 51\n"
     ]
    },
    {
     "name": "stderr",
     "output_type": "stream",
     "text": [
      " 61%|██████    | 304/500 [02:37<01:41,  1.93it/s]"
     ]
    },
    {
     "name": "stdout",
     "output_type": "stream",
     "text": [
      "Epoch 304/500, Train Loss: 0.8371,           Validation Loss: 1.0221, Duration: 0:00:00.571164, Best Val Epoch: 51\n"
     ]
    },
    {
     "name": "stderr",
     "output_type": "stream",
     "text": [
      " 61%|██████    | 305/500 [02:38<01:39,  1.95it/s]"
     ]
    },
    {
     "name": "stdout",
     "output_type": "stream",
     "text": [
      "Epoch 305/500, Train Loss: 0.8195,           Validation Loss: 1.0216, Duration: 0:00:00.500706, Best Val Epoch: 51\n"
     ]
    },
    {
     "name": "stderr",
     "output_type": "stream",
     "text": [
      " 61%|██████    | 306/500 [02:38<01:39,  1.95it/s]"
     ]
    },
    {
     "name": "stdout",
     "output_type": "stream",
     "text": [
      "Epoch 306/500, Train Loss: 0.8171,           Validation Loss: 1.0171, Duration: 0:00:00.513023, Best Val Epoch: 51\n"
     ]
    },
    {
     "name": "stderr",
     "output_type": "stream",
     "text": [
      " 61%|██████▏   | 307/500 [02:39<01:41,  1.91it/s]"
     ]
    },
    {
     "name": "stdout",
     "output_type": "stream",
     "text": [
      "Epoch 307/500, Train Loss: 0.8060,           Validation Loss: 1.0077, Duration: 0:00:00.547813, Best Val Epoch: 51\n"
     ]
    },
    {
     "name": "stderr",
     "output_type": "stream",
     "text": [
      " 62%|██████▏   | 308/500 [02:39<01:38,  1.94it/s]"
     ]
    },
    {
     "name": "stdout",
     "output_type": "stream",
     "text": [
      "Epoch 308/500, Train Loss: 0.8124,           Validation Loss: 1.0254, Duration: 0:00:00.492560, Best Val Epoch: 51\n"
     ]
    },
    {
     "name": "stderr",
     "output_type": "stream",
     "text": [
      " 62%|██████▏   | 309/500 [02:40<01:36,  1.99it/s]"
     ]
    },
    {
     "name": "stdout",
     "output_type": "stream",
     "text": [
      "Epoch 309/500, Train Loss: 0.8085,           Validation Loss: 1.0120, Duration: 0:00:00.474366, Best Val Epoch: 51\n"
     ]
    },
    {
     "name": "stderr",
     "output_type": "stream",
     "text": [
      " 62%|██████▏   | 310/500 [02:40<01:38,  1.94it/s]"
     ]
    },
    {
     "name": "stdout",
     "output_type": "stream",
     "text": [
      "Epoch 310/500, Train Loss: 0.8009,           Validation Loss: 1.0234, Duration: 0:00:00.545945, Best Val Epoch: 51\n"
     ]
    },
    {
     "name": "stderr",
     "output_type": "stream",
     "text": [
      " 62%|██████▏   | 311/500 [02:41<01:35,  1.99it/s]"
     ]
    },
    {
     "name": "stdout",
     "output_type": "stream",
     "text": [
      "Epoch 311/500, Train Loss: 0.8060,           Validation Loss: 1.0168, Duration: 0:00:00.472504, Best Val Epoch: 51\n"
     ]
    },
    {
     "name": "stderr",
     "output_type": "stream",
     "text": [
      " 62%|██████▏   | 312/500 [02:41<01:36,  1.94it/s]"
     ]
    },
    {
     "name": "stdout",
     "output_type": "stream",
     "text": [
      "Epoch 312/500, Train Loss: 0.8192,           Validation Loss: 1.0147, Duration: 0:00:00.539801, Best Val Epoch: 51\n"
     ]
    },
    {
     "name": "stderr",
     "output_type": "stream",
     "text": [
      " 63%|██████▎   | 313/500 [02:42<01:34,  1.99it/s]"
     ]
    },
    {
     "name": "stdout",
     "output_type": "stream",
     "text": [
      "Epoch 313/500, Train Loss: 0.8048,           Validation Loss: 1.0280, Duration: 0:00:00.476351, Best Val Epoch: 51\n"
     ]
    },
    {
     "name": "stderr",
     "output_type": "stream",
     "text": [
      " 63%|██████▎   | 314/500 [02:42<01:33,  2.00it/s]"
     ]
    },
    {
     "name": "stdout",
     "output_type": "stream",
     "text": [
      "Epoch 314/500, Train Loss: 0.8017,           Validation Loss: 1.0160, Duration: 0:00:00.494008, Best Val Epoch: 51\n"
     ]
    },
    {
     "name": "stderr",
     "output_type": "stream",
     "text": [
      " 63%|██████▎   | 315/500 [02:43<01:34,  1.97it/s]"
     ]
    },
    {
     "name": "stdout",
     "output_type": "stream",
     "text": [
      "Epoch 315/500, Train Loss: 0.8027,           Validation Loss: 1.0140, Duration: 0:00:00.525497, Best Val Epoch: 51\n"
     ]
    },
    {
     "name": "stderr",
     "output_type": "stream",
     "text": [
      " 63%|██████▎   | 316/500 [02:43<01:32,  1.98it/s]"
     ]
    },
    {
     "name": "stdout",
     "output_type": "stream",
     "text": [
      "Epoch 316/500, Train Loss: 0.8054,           Validation Loss: 1.0120, Duration: 0:00:00.495373, Best Val Epoch: 51\n"
     ]
    },
    {
     "name": "stderr",
     "output_type": "stream",
     "text": [
      " 63%|██████▎   | 317/500 [02:44<01:35,  1.92it/s]"
     ]
    },
    {
     "name": "stdout",
     "output_type": "stream",
     "text": [
      "Epoch 317/500, Train Loss: 0.8097,           Validation Loss: 1.0194, Duration: 0:00:00.561375, Best Val Epoch: 51\n"
     ]
    },
    {
     "name": "stderr",
     "output_type": "stream",
     "text": [
      " 64%|██████▎   | 318/500 [02:44<01:38,  1.85it/s]"
     ]
    },
    {
     "name": "stdout",
     "output_type": "stream",
     "text": [
      "Epoch 318/500, Train Loss: 0.7983,           Validation Loss: 1.0166, Duration: 0:00:00.586197, Best Val Epoch: 51\n"
     ]
    },
    {
     "name": "stderr",
     "output_type": "stream",
     "text": [
      " 64%|██████▍   | 319/500 [02:45<01:34,  1.92it/s]"
     ]
    },
    {
     "name": "stdout",
     "output_type": "stream",
     "text": [
      "Epoch 319/500, Train Loss: 0.8038,           Validation Loss: 1.0227, Duration: 0:00:00.471136, Best Val Epoch: 51\n"
     ]
    },
    {
     "name": "stderr",
     "output_type": "stream",
     "text": [
      " 64%|██████▍   | 320/500 [02:45<01:36,  1.87it/s]"
     ]
    },
    {
     "name": "stdout",
     "output_type": "stream",
     "text": [
      "Epoch 320/500, Train Loss: 0.8050,           Validation Loss: 1.0221, Duration: 0:00:00.568638, Best Val Epoch: 51\n"
     ]
    },
    {
     "name": "stderr",
     "output_type": "stream",
     "text": [
      " 64%|██████▍   | 321/500 [02:46<01:33,  1.92it/s]"
     ]
    },
    {
     "name": "stdout",
     "output_type": "stream",
     "text": [
      "Epoch 321/500, Train Loss: 0.8092,           Validation Loss: 1.0187, Duration: 0:00:00.483419, Best Val Epoch: 51\n"
     ]
    },
    {
     "name": "stderr",
     "output_type": "stream",
     "text": [
      " 64%|██████▍   | 322/500 [02:46<01:32,  1.92it/s]"
     ]
    },
    {
     "name": "stdout",
     "output_type": "stream",
     "text": [
      "Epoch 322/500, Train Loss: 0.8010,           Validation Loss: 1.0231, Duration: 0:00:00.521770, Best Val Epoch: 51\n"
     ]
    },
    {
     "name": "stderr",
     "output_type": "stream",
     "text": [
      " 65%|██████▍   | 323/500 [02:47<01:32,  1.91it/s]"
     ]
    },
    {
     "name": "stdout",
     "output_type": "stream",
     "text": [
      "Epoch 323/500, Train Loss: 0.8036,           Validation Loss: 1.0427, Duration: 0:00:00.528491, Best Val Epoch: 51\n"
     ]
    },
    {
     "name": "stderr",
     "output_type": "stream",
     "text": [
      " 65%|██████▍   | 324/500 [02:47<01:29,  1.96it/s]"
     ]
    },
    {
     "name": "stdout",
     "output_type": "stream",
     "text": [
      "Epoch 324/500, Train Loss: 0.8162,           Validation Loss: 1.0172, Duration: 0:00:00.474823, Best Val Epoch: 51\n"
     ]
    },
    {
     "name": "stderr",
     "output_type": "stream",
     "text": [
      " 65%|██████▌   | 325/500 [02:48<01:26,  2.02it/s]"
     ]
    },
    {
     "name": "stdout",
     "output_type": "stream",
     "text": [
      "Epoch 325/500, Train Loss: 0.7978,           Validation Loss: 1.0238, Duration: 0:00:00.465866, Best Val Epoch: 51\n"
     ]
    },
    {
     "name": "stderr",
     "output_type": "stream",
     "text": [
      " 65%|██████▌   | 326/500 [02:48<01:28,  1.97it/s]"
     ]
    },
    {
     "name": "stdout",
     "output_type": "stream",
     "text": [
      "Epoch 326/500, Train Loss: 0.8079,           Validation Loss: 1.0219, Duration: 0:00:00.533021, Best Val Epoch: 51\n"
     ]
    },
    {
     "name": "stderr",
     "output_type": "stream",
     "text": [
      " 65%|██████▌   | 327/500 [02:49<01:25,  2.01it/s]"
     ]
    },
    {
     "name": "stdout",
     "output_type": "stream",
     "text": [
      "Epoch 327/500, Train Loss: 0.8110,           Validation Loss: 1.0303, Duration: 0:00:00.470905, Best Val Epoch: 51\n"
     ]
    },
    {
     "name": "stderr",
     "output_type": "stream",
     "text": [
      " 66%|██████▌   | 328/500 [02:49<01:25,  2.01it/s]"
     ]
    },
    {
     "name": "stdout",
     "output_type": "stream",
     "text": [
      "Epoch 328/500, Train Loss: 0.8008,           Validation Loss: 1.0235, Duration: 0:00:00.499041, Best Val Epoch: 51\n"
     ]
    },
    {
     "name": "stderr",
     "output_type": "stream",
     "text": [
      " 66%|██████▌   | 329/500 [02:50<01:28,  1.94it/s]"
     ]
    },
    {
     "name": "stdout",
     "output_type": "stream",
     "text": [
      "Epoch 329/500, Train Loss: 0.7951,           Validation Loss: 1.0249, Duration: 0:00:00.558258, Best Val Epoch: 51\n"
     ]
    },
    {
     "name": "stderr",
     "output_type": "stream",
     "text": [
      " 66%|██████▌   | 330/500 [02:50<01:26,  1.97it/s]"
     ]
    },
    {
     "name": "stdout",
     "output_type": "stream",
     "text": [
      "Epoch 330/500, Train Loss: 0.7953,           Validation Loss: 1.0260, Duration: 0:00:00.488035, Best Val Epoch: 51\n"
     ]
    },
    {
     "name": "stderr",
     "output_type": "stream",
     "text": [
      " 66%|██████▌   | 331/500 [02:51<01:24,  2.00it/s]"
     ]
    },
    {
     "name": "stdout",
     "output_type": "stream",
     "text": [
      "Epoch 331/500, Train Loss: 0.8110,           Validation Loss: 1.0253, Duration: 0:00:00.482000, Best Val Epoch: 51\n"
     ]
    },
    {
     "name": "stderr",
     "output_type": "stream",
     "text": [
      " 66%|██████▋   | 332/500 [02:52<01:27,  1.92it/s]"
     ]
    },
    {
     "name": "stdout",
     "output_type": "stream",
     "text": [
      "Epoch 332/500, Train Loss: 0.8084,           Validation Loss: 1.0346, Duration: 0:00:00.564546, Best Val Epoch: 51\n"
     ]
    },
    {
     "name": "stderr",
     "output_type": "stream",
     "text": [
      " 67%|██████▋   | 333/500 [02:52<01:24,  1.97it/s]"
     ]
    },
    {
     "name": "stdout",
     "output_type": "stream",
     "text": [
      "Epoch 333/500, Train Loss: 0.8042,           Validation Loss: 1.0241, Duration: 0:00:00.480995, Best Val Epoch: 51\n"
     ]
    },
    {
     "name": "stderr",
     "output_type": "stream",
     "text": [
      " 67%|██████▋   | 334/500 [02:53<01:27,  1.89it/s]"
     ]
    },
    {
     "name": "stdout",
     "output_type": "stream",
     "text": [
      "Epoch 334/500, Train Loss: 0.8055,           Validation Loss: 1.0161, Duration: 0:00:00.579549, Best Val Epoch: 51\n"
     ]
    },
    {
     "name": "stderr",
     "output_type": "stream",
     "text": [
      " 67%|██████▋   | 335/500 [02:53<01:25,  1.92it/s]"
     ]
    },
    {
     "name": "stdout",
     "output_type": "stream",
     "text": [
      "Epoch 335/500, Train Loss: 0.8024,           Validation Loss: 1.0180, Duration: 0:00:00.496084, Best Val Epoch: 51\n"
     ]
    },
    {
     "name": "stderr",
     "output_type": "stream",
     "text": [
      " 67%|██████▋   | 336/500 [02:54<01:24,  1.94it/s]"
     ]
    },
    {
     "name": "stdout",
     "output_type": "stream",
     "text": [
      "Epoch 336/500, Train Loss: 0.7933,           Validation Loss: 1.0144, Duration: 0:00:00.501317, Best Val Epoch: 51\n"
     ]
    },
    {
     "name": "stderr",
     "output_type": "stream",
     "text": [
      " 67%|██████▋   | 337/500 [02:54<01:27,  1.85it/s]"
     ]
    },
    {
     "name": "stdout",
     "output_type": "stream",
     "text": [
      "Epoch 337/500, Train Loss: 0.7952,           Validation Loss: 1.0266, Duration: 0:00:00.595619, Best Val Epoch: 51\n"
     ]
    },
    {
     "name": "stderr",
     "output_type": "stream",
     "text": [
      " 68%|██████▊   | 338/500 [02:55<01:27,  1.86it/s]"
     ]
    },
    {
     "name": "stdout",
     "output_type": "stream",
     "text": [
      "Epoch 338/500, Train Loss: 0.7997,           Validation Loss: 1.0287, Duration: 0:00:00.534476, Best Val Epoch: 51\n"
     ]
    },
    {
     "name": "stderr",
     "output_type": "stream",
     "text": [
      " 68%|██████▊   | 339/500 [02:55<01:28,  1.82it/s]"
     ]
    },
    {
     "name": "stdout",
     "output_type": "stream",
     "text": [
      "Epoch 339/500, Train Loss: 0.7937,           Validation Loss: 1.0238, Duration: 0:00:00.575329, Best Val Epoch: 51\n"
     ]
    },
    {
     "name": "stderr",
     "output_type": "stream",
     "text": [
      " 68%|██████▊   | 340/500 [02:56<01:25,  1.88it/s]"
     ]
    },
    {
     "name": "stdout",
     "output_type": "stream",
     "text": [
      "Epoch 340/500, Train Loss: 0.7926,           Validation Loss: 1.0170, Duration: 0:00:00.487853, Best Val Epoch: 51\n"
     ]
    },
    {
     "name": "stderr",
     "output_type": "stream",
     "text": [
      " 68%|██████▊   | 341/500 [02:56<01:23,  1.89it/s]"
     ]
    },
    {
     "name": "stdout",
     "output_type": "stream",
     "text": [
      "Epoch 341/500, Train Loss: 0.8008,           Validation Loss: 1.0244, Duration: 0:00:00.519406, Best Val Epoch: 51\n"
     ]
    },
    {
     "name": "stderr",
     "output_type": "stream",
     "text": [
      " 68%|██████▊   | 342/500 [02:57<01:24,  1.87it/s]"
     ]
    },
    {
     "name": "stdout",
     "output_type": "stream",
     "text": [
      "Epoch 342/500, Train Loss: 0.7976,           Validation Loss: 1.0247, Duration: 0:00:00.551911, Best Val Epoch: 51\n"
     ]
    },
    {
     "name": "stderr",
     "output_type": "stream",
     "text": [
      " 69%|██████▊   | 343/500 [02:57<01:22,  1.89it/s]"
     ]
    },
    {
     "name": "stdout",
     "output_type": "stream",
     "text": [
      "Epoch 343/500, Train Loss: 0.7994,           Validation Loss: 1.0355, Duration: 0:00:00.510443, Best Val Epoch: 51\n"
     ]
    },
    {
     "name": "stderr",
     "output_type": "stream",
     "text": [
      " 69%|██████▉   | 344/500 [02:58<01:21,  1.92it/s]"
     ]
    },
    {
     "name": "stdout",
     "output_type": "stream",
     "text": [
      "Epoch 344/500, Train Loss: 0.7939,           Validation Loss: 1.0189, Duration: 0:00:00.499347, Best Val Epoch: 51\n"
     ]
    },
    {
     "name": "stderr",
     "output_type": "stream",
     "text": [
      " 69%|██████▉   | 345/500 [02:58<01:22,  1.87it/s]"
     ]
    },
    {
     "name": "stdout",
     "output_type": "stream",
     "text": [
      "Epoch 345/500, Train Loss: 0.7940,           Validation Loss: 1.0215, Duration: 0:00:00.566338, Best Val Epoch: 51\n"
     ]
    },
    {
     "name": "stderr",
     "output_type": "stream",
     "text": [
      " 69%|██████▉   | 346/500 [02:59<01:19,  1.93it/s]"
     ]
    },
    {
     "name": "stdout",
     "output_type": "stream",
     "text": [
      "Epoch 346/500, Train Loss: 0.7950,           Validation Loss: 1.0232, Duration: 0:00:00.483764, Best Val Epoch: 51\n"
     ]
    },
    {
     "name": "stderr",
     "output_type": "stream",
     "text": [
      " 69%|██████▉   | 347/500 [02:59<01:17,  1.96it/s]"
     ]
    },
    {
     "name": "stdout",
     "output_type": "stream",
     "text": [
      "Epoch 347/500, Train Loss: 0.8019,           Validation Loss: 1.0190, Duration: 0:00:00.485738, Best Val Epoch: 51\n"
     ]
    },
    {
     "name": "stderr",
     "output_type": "stream",
     "text": [
      " 70%|██████▉   | 348/500 [03:00<01:19,  1.92it/s]"
     ]
    },
    {
     "name": "stdout",
     "output_type": "stream",
     "text": [
      "Epoch 348/500, Train Loss: 0.8049,           Validation Loss: 1.0224, Duration: 0:00:00.546790, Best Val Epoch: 51\n"
     ]
    },
    {
     "name": "stderr",
     "output_type": "stream",
     "text": [
      " 70%|██████▉   | 349/500 [03:00<01:18,  1.92it/s]"
     ]
    },
    {
     "name": "stdout",
     "output_type": "stream",
     "text": [
      "Epoch 349/500, Train Loss: 0.7897,           Validation Loss: 1.0270, Duration: 0:00:00.522355, Best Val Epoch: 51\n"
     ]
    },
    {
     "name": "stderr",
     "output_type": "stream",
     "text": [
      " 70%|███████   | 350/500 [03:01<01:17,  1.94it/s]"
     ]
    },
    {
     "name": "stdout",
     "output_type": "stream",
     "text": [
      "Epoch 350/500, Train Loss: 0.7911,           Validation Loss: 1.0241, Duration: 0:00:00.496684, Best Val Epoch: 51\n"
     ]
    },
    {
     "name": "stderr",
     "output_type": "stream",
     "text": [
      " 70%|███████   | 351/500 [03:02<01:18,  1.91it/s]"
     ]
    },
    {
     "name": "stdout",
     "output_type": "stream",
     "text": [
      "Epoch 351/500, Train Loss: 0.7991,           Validation Loss: 1.0250, Duration: 0:00:00.547856, Best Val Epoch: 51\n"
     ]
    },
    {
     "name": "stderr",
     "output_type": "stream",
     "text": [
      " 70%|███████   | 352/500 [03:02<01:16,  1.94it/s]"
     ]
    },
    {
     "name": "stdout",
     "output_type": "stream",
     "text": [
      "Epoch 352/500, Train Loss: 0.7991,           Validation Loss: 1.0226, Duration: 0:00:00.489378, Best Val Epoch: 51\n"
     ]
    },
    {
     "name": "stderr",
     "output_type": "stream",
     "text": [
      " 71%|███████   | 353/500 [03:03<01:17,  1.89it/s]"
     ]
    },
    {
     "name": "stdout",
     "output_type": "stream",
     "text": [
      "Epoch 353/500, Train Loss: 0.7973,           Validation Loss: 1.0209, Duration: 0:00:00.562137, Best Val Epoch: 51\n"
     ]
    },
    {
     "name": "stderr",
     "output_type": "stream",
     "text": [
      " 71%|███████   | 354/500 [03:03<01:16,  1.92it/s]"
     ]
    },
    {
     "name": "stdout",
     "output_type": "stream",
     "text": [
      "Epoch 354/500, Train Loss: 0.7917,           Validation Loss: 1.0312, Duration: 0:00:00.504308, Best Val Epoch: 51\n"
     ]
    },
    {
     "name": "stderr",
     "output_type": "stream",
     "text": [
      " 71%|███████   | 355/500 [03:04<01:16,  1.91it/s]"
     ]
    },
    {
     "name": "stdout",
     "output_type": "stream",
     "text": [
      "Epoch 355/500, Train Loss: 0.7944,           Validation Loss: 1.0149, Duration: 0:00:00.529842, Best Val Epoch: 51\n"
     ]
    },
    {
     "name": "stderr",
     "output_type": "stream",
     "text": [
      " 71%|███████   | 356/500 [03:04<01:18,  1.84it/s]"
     ]
    },
    {
     "name": "stdout",
     "output_type": "stream",
     "text": [
      "Epoch 356/500, Train Loss: 0.7972,           Validation Loss: 1.0226, Duration: 0:00:00.582278, Best Val Epoch: 51\n"
     ]
    },
    {
     "name": "stderr",
     "output_type": "stream",
     "text": [
      " 71%|███████▏  | 357/500 [03:05<01:16,  1.87it/s]"
     ]
    },
    {
     "name": "stdout",
     "output_type": "stream",
     "text": [
      "Epoch 357/500, Train Loss: 0.7882,           Validation Loss: 1.0284, Duration: 0:00:00.515589, Best Val Epoch: 51\n"
     ]
    },
    {
     "name": "stderr",
     "output_type": "stream",
     "text": [
      " 72%|███████▏  | 358/500 [03:05<01:17,  1.83it/s]"
     ]
    },
    {
     "name": "stdout",
     "output_type": "stream",
     "text": [
      "Epoch 358/500, Train Loss: 0.8024,           Validation Loss: 1.0325, Duration: 0:00:00.570137, Best Val Epoch: 51\n"
     ]
    },
    {
     "name": "stderr",
     "output_type": "stream",
     "text": [
      " 72%|███████▏  | 359/500 [03:06<01:16,  1.84it/s]"
     ]
    },
    {
     "name": "stdout",
     "output_type": "stream",
     "text": [
      "Epoch 359/500, Train Loss: 0.7971,           Validation Loss: 1.0323, Duration: 0:00:00.539745, Best Val Epoch: 51\n"
     ]
    },
    {
     "name": "stderr",
     "output_type": "stream",
     "text": [
      " 72%|███████▏  | 360/500 [03:06<01:13,  1.90it/s]"
     ]
    },
    {
     "name": "stdout",
     "output_type": "stream",
     "text": [
      "Epoch 360/500, Train Loss: 0.7933,           Validation Loss: 1.0207, Duration: 0:00:00.481799, Best Val Epoch: 51\n"
     ]
    },
    {
     "name": "stderr",
     "output_type": "stream",
     "text": [
      " 72%|███████▏  | 361/500 [03:07<01:15,  1.83it/s]"
     ]
    },
    {
     "name": "stdout",
     "output_type": "stream",
     "text": [
      "Epoch 361/500, Train Loss: 0.7883,           Validation Loss: 1.0288, Duration: 0:00:00.589709, Best Val Epoch: 51\n"
     ]
    },
    {
     "name": "stderr",
     "output_type": "stream",
     "text": [
      " 72%|███████▏  | 362/500 [03:07<01:12,  1.91it/s]"
     ]
    },
    {
     "name": "stdout",
     "output_type": "stream",
     "text": [
      "Epoch 362/500, Train Loss: 0.7874,           Validation Loss: 1.0296, Duration: 0:00:00.474603, Best Val Epoch: 51\n"
     ]
    },
    {
     "name": "stderr",
     "output_type": "stream",
     "text": [
      " 73%|███████▎  | 363/500 [03:08<01:09,  1.96it/s]"
     ]
    },
    {
     "name": "stdout",
     "output_type": "stream",
     "text": [
      "Epoch 363/500, Train Loss: 0.7908,           Validation Loss: 1.0394, Duration: 0:00:00.476806, Best Val Epoch: 51\n"
     ]
    },
    {
     "name": "stderr",
     "output_type": "stream",
     "text": [
      " 73%|███████▎  | 364/500 [03:08<01:11,  1.91it/s]"
     ]
    },
    {
     "name": "stdout",
     "output_type": "stream",
     "text": [
      "Epoch 364/500, Train Loss: 0.7892,           Validation Loss: 1.0267, Duration: 0:00:00.552072, Best Val Epoch: 51\n"
     ]
    },
    {
     "name": "stderr",
     "output_type": "stream",
     "text": [
      " 73%|███████▎  | 365/500 [03:09<01:09,  1.93it/s]"
     ]
    },
    {
     "name": "stdout",
     "output_type": "stream",
     "text": [
      "Epoch 365/500, Train Loss: 0.7894,           Validation Loss: 1.0235, Duration: 0:00:00.505403, Best Val Epoch: 51\n"
     ]
    },
    {
     "name": "stderr",
     "output_type": "stream",
     "text": [
      " 73%|███████▎  | 366/500 [03:09<01:07,  1.97it/s]"
     ]
    },
    {
     "name": "stdout",
     "output_type": "stream",
     "text": [
      "Epoch 366/500, Train Loss: 0.7917,           Validation Loss: 1.0248, Duration: 0:00:00.479717, Best Val Epoch: 51\n"
     ]
    },
    {
     "name": "stderr",
     "output_type": "stream",
     "text": [
      " 73%|███████▎  | 367/500 [03:10<01:09,  1.91it/s]"
     ]
    },
    {
     "name": "stdout",
     "output_type": "stream",
     "text": [
      "Epoch 367/500, Train Loss: 0.7838,           Validation Loss: 1.0237, Duration: 0:00:00.564258, Best Val Epoch: 51\n"
     ]
    },
    {
     "name": "stderr",
     "output_type": "stream",
     "text": [
      " 74%|███████▎  | 368/500 [03:10<01:06,  1.97it/s]"
     ]
    },
    {
     "name": "stdout",
     "output_type": "stream",
     "text": [
      "Epoch 368/500, Train Loss: 0.7888,           Validation Loss: 1.0331, Duration: 0:00:00.464613, Best Val Epoch: 51\n"
     ]
    },
    {
     "name": "stderr",
     "output_type": "stream",
     "text": [
      " 74%|███████▍  | 369/500 [03:11<01:04,  2.02it/s]"
     ]
    },
    {
     "name": "stdout",
     "output_type": "stream",
     "text": [
      "Epoch 369/500, Train Loss: 0.7990,           Validation Loss: 1.0155, Duration: 0:00:00.464786, Best Val Epoch: 51\n"
     ]
    },
    {
     "name": "stderr",
     "output_type": "stream",
     "text": [
      " 74%|███████▍  | 370/500 [03:11<01:06,  1.96it/s]"
     ]
    },
    {
     "name": "stdout",
     "output_type": "stream",
     "text": [
      "Epoch 370/500, Train Loss: 0.7966,           Validation Loss: 1.0224, Duration: 0:00:00.544331, Best Val Epoch: 51\n"
     ]
    },
    {
     "name": "stderr",
     "output_type": "stream",
     "text": [
      " 74%|███████▍  | 371/500 [03:12<01:04,  2.01it/s]"
     ]
    },
    {
     "name": "stdout",
     "output_type": "stream",
     "text": [
      "Epoch 371/500, Train Loss: 0.7843,           Validation Loss: 1.0221, Duration: 0:00:00.466171, Best Val Epoch: 51\n"
     ]
    },
    {
     "name": "stderr",
     "output_type": "stream",
     "text": [
      " 74%|███████▍  | 372/500 [03:12<01:06,  1.92it/s]"
     ]
    },
    {
     "name": "stdout",
     "output_type": "stream",
     "text": [
      "Epoch 372/500, Train Loss: 0.7907,           Validation Loss: 1.0314, Duration: 0:00:00.573802, Best Val Epoch: 51\n"
     ]
    },
    {
     "name": "stderr",
     "output_type": "stream",
     "text": [
      " 75%|███████▍  | 373/500 [03:13<01:05,  1.94it/s]"
     ]
    },
    {
     "name": "stdout",
     "output_type": "stream",
     "text": [
      "Epoch 373/500, Train Loss: 0.7947,           Validation Loss: 1.0187, Duration: 0:00:00.504209, Best Val Epoch: 51\n"
     ]
    },
    {
     "name": "stderr",
     "output_type": "stream",
     "text": [
      " 75%|███████▍  | 374/500 [03:13<01:04,  1.96it/s]"
     ]
    },
    {
     "name": "stdout",
     "output_type": "stream",
     "text": [
      "Epoch 374/500, Train Loss: 0.7823,           Validation Loss: 1.0229, Duration: 0:00:00.499696, Best Val Epoch: 51\n"
     ]
    },
    {
     "name": "stderr",
     "output_type": "stream",
     "text": [
      " 75%|███████▌  | 375/500 [03:14<01:06,  1.89it/s]"
     ]
    },
    {
     "name": "stdout",
     "output_type": "stream",
     "text": [
      "Epoch 375/500, Train Loss: 0.7854,           Validation Loss: 1.0269, Duration: 0:00:00.572590, Best Val Epoch: 51\n"
     ]
    },
    {
     "name": "stderr",
     "output_type": "stream",
     "text": [
      " 75%|███████▌  | 376/500 [03:15<01:04,  1.91it/s]"
     ]
    },
    {
     "name": "stdout",
     "output_type": "stream",
     "text": [
      "Epoch 376/500, Train Loss: 0.7913,           Validation Loss: 1.0354, Duration: 0:00:00.503667, Best Val Epoch: 51\n"
     ]
    },
    {
     "name": "stderr",
     "output_type": "stream",
     "text": [
      " 75%|███████▌  | 377/500 [03:15<01:03,  1.95it/s]"
     ]
    },
    {
     "name": "stdout",
     "output_type": "stream",
     "text": [
      "Epoch 377/500, Train Loss: 0.7983,           Validation Loss: 1.0339, Duration: 0:00:00.487831, Best Val Epoch: 51\n"
     ]
    },
    {
     "name": "stderr",
     "output_type": "stream",
     "text": [
      " 76%|███████▌  | 378/500 [03:16<01:03,  1.93it/s]"
     ]
    },
    {
     "name": "stdout",
     "output_type": "stream",
     "text": [
      "Epoch 378/500, Train Loss: 0.7828,           Validation Loss: 1.0244, Duration: 0:00:00.529100, Best Val Epoch: 51\n"
     ]
    },
    {
     "name": "stderr",
     "output_type": "stream",
     "text": [
      " 76%|███████▌  | 379/500 [03:16<01:02,  1.94it/s]"
     ]
    },
    {
     "name": "stdout",
     "output_type": "stream",
     "text": [
      "Epoch 379/500, Train Loss: 0.7866,           Validation Loss: 1.0318, Duration: 0:00:00.508734, Best Val Epoch: 51\n"
     ]
    },
    {
     "name": "stderr",
     "output_type": "stream",
     "text": [
      " 76%|███████▌  | 380/500 [03:17<01:03,  1.88it/s]"
     ]
    },
    {
     "name": "stdout",
     "output_type": "stream",
     "text": [
      "Epoch 380/500, Train Loss: 0.7909,           Validation Loss: 1.0391, Duration: 0:00:00.567271, Best Val Epoch: 51\n"
     ]
    },
    {
     "name": "stderr",
     "output_type": "stream",
     "text": [
      " 76%|███████▌  | 381/500 [03:17<01:01,  1.94it/s]"
     ]
    },
    {
     "name": "stdout",
     "output_type": "stream",
     "text": [
      "Epoch 381/500, Train Loss: 0.7869,           Validation Loss: 1.0241, Duration: 0:00:00.477535, Best Val Epoch: 51\n"
     ]
    },
    {
     "name": "stderr",
     "output_type": "stream",
     "text": [
      " 76%|███████▋  | 382/500 [03:18<00:59,  1.99it/s]"
     ]
    },
    {
     "name": "stdout",
     "output_type": "stream",
     "text": [
      "Epoch 382/500, Train Loss: 0.7933,           Validation Loss: 1.0312, Duration: 0:00:00.473281, Best Val Epoch: 51\n"
     ]
    },
    {
     "name": "stderr",
     "output_type": "stream",
     "text": [
      " 77%|███████▋  | 383/500 [03:18<00:59,  1.96it/s]"
     ]
    },
    {
     "name": "stdout",
     "output_type": "stream",
     "text": [
      "Epoch 383/500, Train Loss: 0.7833,           Validation Loss: 1.0342, Duration: 0:00:00.526552, Best Val Epoch: 51\n"
     ]
    },
    {
     "name": "stderr",
     "output_type": "stream",
     "text": [
      " 77%|███████▋  | 384/500 [03:19<00:57,  2.01it/s]"
     ]
    },
    {
     "name": "stdout",
     "output_type": "stream",
     "text": [
      "Epoch 384/500, Train Loss: 0.7877,           Validation Loss: 1.0321, Duration: 0:00:00.470876, Best Val Epoch: 51\n"
     ]
    },
    {
     "name": "stderr",
     "output_type": "stream",
     "text": [
      " 77%|███████▋  | 385/500 [03:19<00:56,  2.04it/s]"
     ]
    },
    {
     "name": "stdout",
     "output_type": "stream",
     "text": [
      "Epoch 385/500, Train Loss: 0.7856,           Validation Loss: 1.0193, Duration: 0:00:00.472035, Best Val Epoch: 51\n"
     ]
    },
    {
     "name": "stderr",
     "output_type": "stream",
     "text": [
      " 77%|███████▋  | 386/500 [03:20<01:00,  1.90it/s]"
     ]
    },
    {
     "name": "stdout",
     "output_type": "stream",
     "text": [
      "Epoch 386/500, Train Loss: 0.7810,           Validation Loss: 1.0287, Duration: 0:00:00.612143, Best Val Epoch: 51\n"
     ]
    },
    {
     "name": "stderr",
     "output_type": "stream",
     "text": [
      " 77%|███████▋  | 387/500 [03:20<00:59,  1.88it/s]"
     ]
    },
    {
     "name": "stdout",
     "output_type": "stream",
     "text": [
      "Epoch 387/500, Train Loss: 0.7880,           Validation Loss: 1.0267, Duration: 0:00:00.536627, Best Val Epoch: 51\n"
     ]
    },
    {
     "name": "stderr",
     "output_type": "stream",
     "text": [
      " 78%|███████▊  | 388/500 [03:21<00:58,  1.92it/s]"
     ]
    },
    {
     "name": "stdout",
     "output_type": "stream",
     "text": [
      "Epoch 388/500, Train Loss: 0.7874,           Validation Loss: 1.0242, Duration: 0:00:00.496241, Best Val Epoch: 51\n"
     ]
    },
    {
     "name": "stderr",
     "output_type": "stream",
     "text": [
      " 78%|███████▊  | 389/500 [03:21<00:59,  1.87it/s]"
     ]
    },
    {
     "name": "stdout",
     "output_type": "stream",
     "text": [
      "Epoch 389/500, Train Loss: 0.7818,           Validation Loss: 1.0245, Duration: 0:00:00.569772, Best Val Epoch: 51\n"
     ]
    },
    {
     "name": "stderr",
     "output_type": "stream",
     "text": [
      " 78%|███████▊  | 390/500 [03:22<00:58,  1.89it/s]"
     ]
    },
    {
     "name": "stdout",
     "output_type": "stream",
     "text": [
      "Epoch 390/500, Train Loss: 0.7804,           Validation Loss: 1.0293, Duration: 0:00:00.510838, Best Val Epoch: 51\n"
     ]
    },
    {
     "name": "stderr",
     "output_type": "stream",
     "text": [
      " 78%|███████▊  | 391/500 [03:22<00:58,  1.87it/s]"
     ]
    },
    {
     "name": "stdout",
     "output_type": "stream",
     "text": [
      "Epoch 391/500, Train Loss: 0.7810,           Validation Loss: 1.0333, Duration: 0:00:00.553061, Best Val Epoch: 51\n"
     ]
    },
    {
     "name": "stderr",
     "output_type": "stream",
     "text": [
      " 78%|███████▊  | 392/500 [03:23<00:57,  1.87it/s]"
     ]
    },
    {
     "name": "stdout",
     "output_type": "stream",
     "text": [
      "Epoch 392/500, Train Loss: 0.7785,           Validation Loss: 1.0180, Duration: 0:00:00.526349, Best Val Epoch: 51\n"
     ]
    },
    {
     "name": "stderr",
     "output_type": "stream",
     "text": [
      " 79%|███████▊  | 393/500 [03:23<00:56,  1.91it/s]"
     ]
    },
    {
     "name": "stdout",
     "output_type": "stream",
     "text": [
      "Epoch 393/500, Train Loss: 0.7905,           Validation Loss: 1.0266, Duration: 0:00:00.499236, Best Val Epoch: 51\n"
     ]
    },
    {
     "name": "stderr",
     "output_type": "stream",
     "text": [
      " 79%|███████▉  | 394/500 [03:24<00:57,  1.85it/s]"
     ]
    },
    {
     "name": "stdout",
     "output_type": "stream",
     "text": [
      "Epoch 394/500, Train Loss: 0.7882,           Validation Loss: 1.0253, Duration: 0:00:00.580858, Best Val Epoch: 51\n"
     ]
    },
    {
     "name": "stderr",
     "output_type": "stream",
     "text": [
      " 79%|███████▉  | 395/500 [03:24<00:56,  1.86it/s]"
     ]
    },
    {
     "name": "stdout",
     "output_type": "stream",
     "text": [
      "Epoch 395/500, Train Loss: 0.7766,           Validation Loss: 1.0339, Duration: 0:00:00.523799, Best Val Epoch: 51\n"
     ]
    },
    {
     "name": "stderr",
     "output_type": "stream",
     "text": [
      " 79%|███████▉  | 396/500 [03:25<00:54,  1.91it/s]"
     ]
    },
    {
     "name": "stdout",
     "output_type": "stream",
     "text": [
      "Epoch 396/500, Train Loss: 0.7852,           Validation Loss: 1.0230, Duration: 0:00:00.495984, Best Val Epoch: 51\n"
     ]
    },
    {
     "name": "stderr",
     "output_type": "stream",
     "text": [
      " 79%|███████▉  | 397/500 [03:26<00:54,  1.89it/s]"
     ]
    },
    {
     "name": "stdout",
     "output_type": "stream",
     "text": [
      "Epoch 397/500, Train Loss: 0.7837,           Validation Loss: 1.0284, Duration: 0:00:00.539572, Best Val Epoch: 51\n"
     ]
    },
    {
     "name": "stderr",
     "output_type": "stream",
     "text": [
      " 80%|███████▉  | 398/500 [03:26<00:52,  1.96it/s]"
     ]
    },
    {
     "name": "stdout",
     "output_type": "stream",
     "text": [
      "Epoch 398/500, Train Loss: 0.7795,           Validation Loss: 1.0192, Duration: 0:00:00.466239, Best Val Epoch: 51\n"
     ]
    },
    {
     "name": "stderr",
     "output_type": "stream",
     "text": [
      " 80%|███████▉  | 399/500 [03:27<00:52,  1.93it/s]"
     ]
    },
    {
     "name": "stdout",
     "output_type": "stream",
     "text": [
      "Epoch 399/500, Train Loss: 0.7838,           Validation Loss: 1.0228, Duration: 0:00:00.537925, Best Val Epoch: 51\n"
     ]
    },
    {
     "name": "stderr",
     "output_type": "stream",
     "text": [
      " 80%|████████  | 400/500 [03:27<00:50,  1.98it/s]"
     ]
    },
    {
     "name": "stdout",
     "output_type": "stream",
     "text": [
      "Epoch 400/500, Train Loss: 0.7888,           Validation Loss: 1.0180, Duration: 0:00:00.470050, Best Val Epoch: 51\n"
     ]
    },
    {
     "name": "stderr",
     "output_type": "stream",
     "text": [
      " 80%|████████  | 401/500 [03:28<00:50,  1.95it/s]"
     ]
    },
    {
     "name": "stdout",
     "output_type": "stream",
     "text": [
      "Epoch 401/500, Train Loss: 0.7854,           Validation Loss: 1.0345, Duration: 0:00:00.527702, Best Val Epoch: 51\n"
     ]
    },
    {
     "name": "stderr",
     "output_type": "stream",
     "text": [
      " 80%|████████  | 402/500 [03:28<00:51,  1.89it/s]"
     ]
    },
    {
     "name": "stdout",
     "output_type": "stream",
     "text": [
      "Epoch 402/500, Train Loss: 0.7809,           Validation Loss: 1.0285, Duration: 0:00:00.571543, Best Val Epoch: 51\n"
     ]
    },
    {
     "name": "stderr",
     "output_type": "stream",
     "text": [
      " 81%|████████  | 403/500 [03:29<00:49,  1.94it/s]"
     ]
    },
    {
     "name": "stdout",
     "output_type": "stream",
     "text": [
      "Epoch 403/500, Train Loss: 0.7970,           Validation Loss: 1.0236, Duration: 0:00:00.478826, Best Val Epoch: 51\n"
     ]
    },
    {
     "name": "stderr",
     "output_type": "stream",
     "text": [
      " 81%|████████  | 404/500 [03:29<00:48,  1.98it/s]"
     ]
    },
    {
     "name": "stdout",
     "output_type": "stream",
     "text": [
      "Epoch 404/500, Train Loss: 0.7827,           Validation Loss: 1.0275, Duration: 0:00:00.478689, Best Val Epoch: 51\n"
     ]
    },
    {
     "name": "stderr",
     "output_type": "stream",
     "text": [
      " 81%|████████  | 405/500 [03:30<00:49,  1.93it/s]"
     ]
    },
    {
     "name": "stdout",
     "output_type": "stream",
     "text": [
      "Epoch 405/500, Train Loss: 0.7835,           Validation Loss: 1.0254, Duration: 0:00:00.548228, Best Val Epoch: 51\n"
     ]
    },
    {
     "name": "stderr",
     "output_type": "stream",
     "text": [
      " 81%|████████  | 406/500 [03:30<00:47,  1.97it/s]"
     ]
    },
    {
     "name": "stdout",
     "output_type": "stream",
     "text": [
      "Epoch 406/500, Train Loss: 0.7788,           Validation Loss: 1.0425, Duration: 0:00:00.478636, Best Val Epoch: 51\n"
     ]
    },
    {
     "name": "stderr",
     "output_type": "stream",
     "text": [
      " 81%|████████▏ | 407/500 [03:31<00:46,  2.00it/s]"
     ]
    },
    {
     "name": "stdout",
     "output_type": "stream",
     "text": [
      "Epoch 407/500, Train Loss: 0.7856,           Validation Loss: 1.0229, Duration: 0:00:00.482237, Best Val Epoch: 51\n"
     ]
    },
    {
     "name": "stderr",
     "output_type": "stream",
     "text": [
      " 82%|████████▏ | 408/500 [03:31<00:48,  1.91it/s]"
     ]
    },
    {
     "name": "stdout",
     "output_type": "stream",
     "text": [
      "Epoch 408/500, Train Loss: 0.7851,           Validation Loss: 1.0385, Duration: 0:00:00.581269, Best Val Epoch: 51\n"
     ]
    },
    {
     "name": "stderr",
     "output_type": "stream",
     "text": [
      " 82%|████████▏ | 409/500 [03:32<00:48,  1.87it/s]"
     ]
    },
    {
     "name": "stdout",
     "output_type": "stream",
     "text": [
      "Epoch 409/500, Train Loss: 0.7814,           Validation Loss: 1.0276, Duration: 0:00:00.556242, Best Val Epoch: 51\n"
     ]
    },
    {
     "name": "stderr",
     "output_type": "stream",
     "text": [
      " 82%|████████▏ | 410/500 [03:32<00:47,  1.90it/s]"
     ]
    },
    {
     "name": "stdout",
     "output_type": "stream",
     "text": [
      "Epoch 410/500, Train Loss: 0.7765,           Validation Loss: 1.0196, Duration: 0:00:00.505064, Best Val Epoch: 51\n"
     ]
    },
    {
     "name": "stderr",
     "output_type": "stream",
     "text": [
      " 82%|████████▏ | 411/500 [03:33<00:48,  1.85it/s]"
     ]
    },
    {
     "name": "stdout",
     "output_type": "stream",
     "text": [
      "Epoch 411/500, Train Loss: 0.7798,           Validation Loss: 1.0255, Duration: 0:00:00.578264, Best Val Epoch: 51\n"
     ]
    },
    {
     "name": "stderr",
     "output_type": "stream",
     "text": [
      " 82%|████████▏ | 412/500 [03:33<00:46,  1.90it/s]"
     ]
    },
    {
     "name": "stdout",
     "output_type": "stream",
     "text": [
      "Epoch 412/500, Train Loss: 0.7726,           Validation Loss: 1.0223, Duration: 0:00:00.490304, Best Val Epoch: 51\n"
     ]
    },
    {
     "name": "stderr",
     "output_type": "stream",
     "text": [
      " 83%|████████▎ | 413/500 [03:34<00:46,  1.89it/s]"
     ]
    },
    {
     "name": "stdout",
     "output_type": "stream",
     "text": [
      "Epoch 413/500, Train Loss: 0.7788,           Validation Loss: 1.0446, Duration: 0:00:00.535216, Best Val Epoch: 51\n"
     ]
    },
    {
     "name": "stderr",
     "output_type": "stream",
     "text": [
      " 83%|████████▎ | 414/500 [03:34<00:44,  1.93it/s]"
     ]
    },
    {
     "name": "stdout",
     "output_type": "stream",
     "text": [
      "Epoch 414/500, Train Loss: 0.7768,           Validation Loss: 1.0243, Duration: 0:00:00.486723, Best Val Epoch: 51\n"
     ]
    },
    {
     "name": "stderr",
     "output_type": "stream",
     "text": [
      " 83%|████████▎ | 415/500 [03:35<00:43,  1.94it/s]"
     ]
    },
    {
     "name": "stdout",
     "output_type": "stream",
     "text": [
      "Epoch 415/500, Train Loss: 0.7733,           Validation Loss: 1.0283, Duration: 0:00:00.511629, Best Val Epoch: 51\n"
     ]
    },
    {
     "name": "stderr",
     "output_type": "stream",
     "text": [
      " 83%|████████▎ | 416/500 [03:35<00:45,  1.86it/s]"
     ]
    },
    {
     "name": "stdout",
     "output_type": "stream",
     "text": [
      "Epoch 416/500, Train Loss: 0.7820,           Validation Loss: 1.0230, Duration: 0:00:00.583217, Best Val Epoch: 51\n"
     ]
    },
    {
     "name": "stderr",
     "output_type": "stream",
     "text": [
      " 83%|████████▎ | 417/500 [03:36<00:42,  1.93it/s]"
     ]
    },
    {
     "name": "stdout",
     "output_type": "stream",
     "text": [
      "Epoch 417/500, Train Loss: 0.7831,           Validation Loss: 1.0292, Duration: 0:00:00.474142, Best Val Epoch: 51\n"
     ]
    },
    {
     "name": "stderr",
     "output_type": "stream",
     "text": [
      " 84%|████████▎ | 418/500 [03:36<00:42,  1.92it/s]"
     ]
    },
    {
     "name": "stdout",
     "output_type": "stream",
     "text": [
      "Epoch 418/500, Train Loss: 0.7809,           Validation Loss: 1.0170, Duration: 0:00:00.529916, Best Val Epoch: 51\n"
     ]
    },
    {
     "name": "stderr",
     "output_type": "stream",
     "text": [
      " 84%|████████▍ | 419/500 [03:37<00:41,  1.97it/s]"
     ]
    },
    {
     "name": "stdout",
     "output_type": "stream",
     "text": [
      "Epoch 419/500, Train Loss: 0.7880,           Validation Loss: 1.0218, Duration: 0:00:00.475494, Best Val Epoch: 51\n"
     ]
    },
    {
     "name": "stderr",
     "output_type": "stream",
     "text": [
      " 84%|████████▍ | 420/500 [03:37<00:40,  2.00it/s]"
     ]
    },
    {
     "name": "stdout",
     "output_type": "stream",
     "text": [
      "Epoch 420/500, Train Loss: 0.7805,           Validation Loss: 1.0262, Duration: 0:00:00.480566, Best Val Epoch: 51\n"
     ]
    },
    {
     "name": "stderr",
     "output_type": "stream",
     "text": [
      " 84%|████████▍ | 421/500 [03:38<00:41,  1.92it/s]"
     ]
    },
    {
     "name": "stdout",
     "output_type": "stream",
     "text": [
      "Epoch 421/500, Train Loss: 0.7870,           Validation Loss: 1.0396, Duration: 0:00:00.569899, Best Val Epoch: 51\n"
     ]
    },
    {
     "name": "stderr",
     "output_type": "stream",
     "text": [
      " 84%|████████▍ | 422/500 [03:39<00:41,  1.87it/s]"
     ]
    },
    {
     "name": "stdout",
     "output_type": "stream",
     "text": [
      "Epoch 422/500, Train Loss: 0.8008,           Validation Loss: 1.0276, Duration: 0:00:00.565607, Best Val Epoch: 51\n"
     ]
    },
    {
     "name": "stderr",
     "output_type": "stream",
     "text": [
      " 85%|████████▍ | 423/500 [03:39<00:39,  1.93it/s]"
     ]
    },
    {
     "name": "stdout",
     "output_type": "stream",
     "text": [
      "Epoch 423/500, Train Loss: 0.7950,           Validation Loss: 1.0361, Duration: 0:00:00.477770, Best Val Epoch: 51\n"
     ]
    },
    {
     "name": "stderr",
     "output_type": "stream",
     "text": [
      " 85%|████████▍ | 424/500 [03:40<00:39,  1.91it/s]"
     ]
    },
    {
     "name": "stdout",
     "output_type": "stream",
     "text": [
      "Epoch 424/500, Train Loss: 0.7762,           Validation Loss: 1.0352, Duration: 0:00:00.536187, Best Val Epoch: 51\n"
     ]
    },
    {
     "name": "stderr",
     "output_type": "stream",
     "text": [
      " 85%|████████▌ | 425/500 [03:40<00:39,  1.90it/s]"
     ]
    },
    {
     "name": "stdout",
     "output_type": "stream",
     "text": [
      "Epoch 425/500, Train Loss: 0.7740,           Validation Loss: 1.0348, Duration: 0:00:00.528371, Best Val Epoch: 51\n"
     ]
    },
    {
     "name": "stderr",
     "output_type": "stream",
     "text": [
      " 85%|████████▌ | 426/500 [03:41<00:38,  1.93it/s]"
     ]
    },
    {
     "name": "stdout",
     "output_type": "stream",
     "text": [
      "Epoch 426/500, Train Loss: 0.7733,           Validation Loss: 1.0206, Duration: 0:00:00.499766, Best Val Epoch: 51\n"
     ]
    },
    {
     "name": "stderr",
     "output_type": "stream",
     "text": [
      " 85%|████████▌ | 427/500 [03:41<00:38,  1.88it/s]"
     ]
    },
    {
     "name": "stdout",
     "output_type": "stream",
     "text": [
      "Epoch 427/500, Train Loss: 0.7798,           Validation Loss: 1.0292, Duration: 0:00:00.566152, Best Val Epoch: 51\n"
     ]
    },
    {
     "name": "stderr",
     "output_type": "stream",
     "text": [
      " 86%|████████▌ | 428/500 [03:42<00:38,  1.86it/s]"
     ]
    },
    {
     "name": "stdout",
     "output_type": "stream",
     "text": [
      "Epoch 428/500, Train Loss: 0.7870,           Validation Loss: 1.0263, Duration: 0:00:00.551170, Best Val Epoch: 51\n"
     ]
    },
    {
     "name": "stderr",
     "output_type": "stream",
     "text": [
      " 86%|████████▌ | 429/500 [03:42<00:37,  1.89it/s]"
     ]
    },
    {
     "name": "stdout",
     "output_type": "stream",
     "text": [
      "Epoch 429/500, Train Loss: 0.7864,           Validation Loss: 1.0314, Duration: 0:00:00.507314, Best Val Epoch: 51\n"
     ]
    },
    {
     "name": "stderr",
     "output_type": "stream",
     "text": [
      " 86%|████████▌ | 430/500 [03:43<00:37,  1.89it/s]"
     ]
    },
    {
     "name": "stdout",
     "output_type": "stream",
     "text": [
      "Epoch 430/500, Train Loss: 0.7872,           Validation Loss: 1.0232, Duration: 0:00:00.527243, Best Val Epoch: 51\n"
     ]
    },
    {
     "name": "stderr",
     "output_type": "stream",
     "text": [
      " 86%|████████▌ | 431/500 [03:43<00:35,  1.93it/s]"
     ]
    },
    {
     "name": "stdout",
     "output_type": "stream",
     "text": [
      "Epoch 431/500, Train Loss: 0.7754,           Validation Loss: 1.0272, Duration: 0:00:00.492039, Best Val Epoch: 51\n"
     ]
    },
    {
     "name": "stderr",
     "output_type": "stream",
     "text": [
      " 86%|████████▋ | 432/500 [03:44<00:35,  1.92it/s]"
     ]
    },
    {
     "name": "stdout",
     "output_type": "stream",
     "text": [
      "Epoch 432/500, Train Loss: 0.7801,           Validation Loss: 1.0272, Duration: 0:00:00.529625, Best Val Epoch: 51\n"
     ]
    },
    {
     "name": "stderr",
     "output_type": "stream",
     "text": [
      " 87%|████████▋ | 433/500 [03:44<00:34,  1.97it/s]"
     ]
    },
    {
     "name": "stdout",
     "output_type": "stream",
     "text": [
      "Epoch 433/500, Train Loss: 0.7749,           Validation Loss: 1.0257, Duration: 0:00:00.475179, Best Val Epoch: 51\n"
     ]
    },
    {
     "name": "stderr",
     "output_type": "stream",
     "text": [
      " 87%|████████▋ | 434/500 [03:45<00:33,  1.97it/s]"
     ]
    },
    {
     "name": "stdout",
     "output_type": "stream",
     "text": [
      "Epoch 434/500, Train Loss: 0.7890,           Validation Loss: 1.0306, Duration: 0:00:00.508960, Best Val Epoch: 51\n"
     ]
    },
    {
     "name": "stderr",
     "output_type": "stream",
     "text": [
      " 87%|████████▋ | 435/500 [03:45<00:33,  1.91it/s]"
     ]
    },
    {
     "name": "stdout",
     "output_type": "stream",
     "text": [
      "Epoch 435/500, Train Loss: 0.7790,           Validation Loss: 1.0326, Duration: 0:00:00.554473, Best Val Epoch: 51\n"
     ]
    },
    {
     "name": "stderr",
     "output_type": "stream",
     "text": [
      " 87%|████████▋ | 436/500 [03:46<00:34,  1.86it/s]"
     ]
    },
    {
     "name": "stdout",
     "output_type": "stream",
     "text": [
      "Epoch 436/500, Train Loss: 0.7819,           Validation Loss: 1.0302, Duration: 0:00:00.571001, Best Val Epoch: 51\n"
     ]
    },
    {
     "name": "stderr",
     "output_type": "stream",
     "text": [
      " 87%|████████▋ | 437/500 [03:46<00:35,  1.79it/s]"
     ]
    },
    {
     "name": "stdout",
     "output_type": "stream",
     "text": [
      "Epoch 437/500, Train Loss: 0.7725,           Validation Loss: 1.0312, Duration: 0:00:00.604898, Best Val Epoch: 51\n"
     ]
    },
    {
     "name": "stderr",
     "output_type": "stream",
     "text": [
      " 88%|████████▊ | 438/500 [03:47<00:34,  1.81it/s]"
     ]
    },
    {
     "name": "stdout",
     "output_type": "stream",
     "text": [
      "Epoch 438/500, Train Loss: 0.7715,           Validation Loss: 1.0389, Duration: 0:00:00.542438, Best Val Epoch: 51\n"
     ]
    },
    {
     "name": "stderr",
     "output_type": "stream",
     "text": [
      " 88%|████████▊ | 439/500 [03:48<00:33,  1.83it/s]"
     ]
    },
    {
     "name": "stdout",
     "output_type": "stream",
     "text": [
      "Epoch 439/500, Train Loss: 0.7909,           Validation Loss: 1.0186, Duration: 0:00:00.528460, Best Val Epoch: 51\n"
     ]
    },
    {
     "name": "stderr",
     "output_type": "stream",
     "text": [
      " 88%|████████▊ | 440/500 [03:48<00:33,  1.77it/s]"
     ]
    },
    {
     "name": "stdout",
     "output_type": "stream",
     "text": [
      "Epoch 440/500, Train Loss: 0.7795,           Validation Loss: 1.0364, Duration: 0:00:00.606908, Best Val Epoch: 51\n"
     ]
    },
    {
     "name": "stderr",
     "output_type": "stream",
     "text": [
      " 88%|████████▊ | 441/500 [03:49<00:33,  1.78it/s]"
     ]
    },
    {
     "name": "stdout",
     "output_type": "stream",
     "text": [
      "Epoch 441/500, Train Loss: 0.7743,           Validation Loss: 1.0365, Duration: 0:00:00.554942, Best Val Epoch: 51\n"
     ]
    },
    {
     "name": "stderr",
     "output_type": "stream",
     "text": [
      " 88%|████████▊ | 442/500 [03:49<00:33,  1.75it/s]"
     ]
    },
    {
     "name": "stdout",
     "output_type": "stream",
     "text": [
      "Epoch 442/500, Train Loss: 0.7777,           Validation Loss: 1.0250, Duration: 0:00:00.588277, Best Val Epoch: 51\n"
     ]
    },
    {
     "name": "stderr",
     "output_type": "stream",
     "text": [
      " 89%|████████▊ | 443/500 [03:50<00:32,  1.77it/s]"
     ]
    },
    {
     "name": "stdout",
     "output_type": "stream",
     "text": [
      "Epoch 443/500, Train Loss: 0.7760,           Validation Loss: 1.0262, Duration: 0:00:00.547116, Best Val Epoch: 51\n"
     ]
    },
    {
     "name": "stderr",
     "output_type": "stream",
     "text": [
      " 89%|████████▉ | 444/500 [03:50<00:29,  1.87it/s]"
     ]
    },
    {
     "name": "stdout",
     "output_type": "stream",
     "text": [
      "Epoch 444/500, Train Loss: 0.7773,           Validation Loss: 1.0234, Duration: 0:00:00.464935, Best Val Epoch: 51\n"
     ]
    },
    {
     "name": "stderr",
     "output_type": "stream",
     "text": [
      " 89%|████████▉ | 445/500 [03:51<00:29,  1.89it/s]"
     ]
    },
    {
     "name": "stdout",
     "output_type": "stream",
     "text": [
      "Epoch 445/500, Train Loss: 0.7781,           Validation Loss: 1.0301, Duration: 0:00:00.516001, Best Val Epoch: 51\n"
     ]
    },
    {
     "name": "stderr",
     "output_type": "stream",
     "text": [
      " 89%|████████▉ | 446/500 [03:51<00:28,  1.87it/s]"
     ]
    },
    {
     "name": "stdout",
     "output_type": "stream",
     "text": [
      "Epoch 446/500, Train Loss: 0.7678,           Validation Loss: 1.0326, Duration: 0:00:00.545297, Best Val Epoch: 51\n"
     ]
    },
    {
     "name": "stderr",
     "output_type": "stream",
     "text": [
      " 89%|████████▉ | 447/500 [03:52<00:28,  1.84it/s]"
     ]
    },
    {
     "name": "stdout",
     "output_type": "stream",
     "text": [
      "Epoch 447/500, Train Loss: 0.7778,           Validation Loss: 1.0227, Duration: 0:00:00.559437, Best Val Epoch: 51\n"
     ]
    },
    {
     "name": "stderr",
     "output_type": "stream",
     "text": [
      " 90%|████████▉ | 448/500 [03:52<00:28,  1.83it/s]"
     ]
    },
    {
     "name": "stdout",
     "output_type": "stream",
     "text": [
      "Epoch 448/500, Train Loss: 0.7760,           Validation Loss: 1.0275, Duration: 0:00:00.554127, Best Val Epoch: 51\n"
     ]
    },
    {
     "name": "stderr",
     "output_type": "stream",
     "text": [
      " 90%|████████▉ | 449/500 [03:53<00:28,  1.79it/s]"
     ]
    },
    {
     "name": "stdout",
     "output_type": "stream",
     "text": [
      "Epoch 449/500, Train Loss: 0.7700,           Validation Loss: 1.0282, Duration: 0:00:00.587519, Best Val Epoch: 51\n"
     ]
    },
    {
     "name": "stderr",
     "output_type": "stream",
     "text": [
      " 90%|█████████ | 450/500 [03:54<00:26,  1.87it/s]"
     ]
    },
    {
     "name": "stdout",
     "output_type": "stream",
     "text": [
      "Epoch 450/500, Train Loss: 0.7760,           Validation Loss: 1.0303, Duration: 0:00:00.481659, Best Val Epoch: 51\n"
     ]
    },
    {
     "name": "stderr",
     "output_type": "stream",
     "text": [
      " 90%|█████████ | 451/500 [03:54<00:26,  1.87it/s]"
     ]
    },
    {
     "name": "stdout",
     "output_type": "stream",
     "text": [
      "Epoch 451/500, Train Loss: 0.7741,           Validation Loss: 1.0263, Duration: 0:00:00.533430, Best Val Epoch: 51\n"
     ]
    },
    {
     "name": "stderr",
     "output_type": "stream",
     "text": [
      " 90%|█████████ | 452/500 [03:55<00:24,  1.92it/s]"
     ]
    },
    {
     "name": "stdout",
     "output_type": "stream",
     "text": [
      "Epoch 452/500, Train Loss: 0.7828,           Validation Loss: 1.0264, Duration: 0:00:00.484520, Best Val Epoch: 51\n"
     ]
    },
    {
     "name": "stderr",
     "output_type": "stream",
     "text": [
      " 91%|█████████ | 453/500 [03:55<00:24,  1.94it/s]"
     ]
    },
    {
     "name": "stdout",
     "output_type": "stream",
     "text": [
      "Epoch 453/500, Train Loss: 0.7794,           Validation Loss: 1.0281, Duration: 0:00:00.504020, Best Val Epoch: 51\n"
     ]
    },
    {
     "name": "stderr",
     "output_type": "stream",
     "text": [
      " 91%|█████████ | 454/500 [03:56<00:25,  1.80it/s]"
     ]
    },
    {
     "name": "stdout",
     "output_type": "stream",
     "text": [
      "Epoch 454/500, Train Loss: 0.7862,           Validation Loss: 1.0440, Duration: 0:00:00.650488, Best Val Epoch: 51\n"
     ]
    },
    {
     "name": "stderr",
     "output_type": "stream",
     "text": [
      " 91%|█████████ | 455/500 [03:56<00:24,  1.86it/s]"
     ]
    },
    {
     "name": "stdout",
     "output_type": "stream",
     "text": [
      "Epoch 455/500, Train Loss: 0.7815,           Validation Loss: 1.0389, Duration: 0:00:00.495368, Best Val Epoch: 51\n"
     ]
    },
    {
     "name": "stderr",
     "output_type": "stream",
     "text": [
      " 91%|█████████ | 456/500 [03:57<00:23,  1.87it/s]"
     ]
    },
    {
     "name": "stdout",
     "output_type": "stream",
     "text": [
      "Epoch 456/500, Train Loss: 0.7760,           Validation Loss: 1.0287, Duration: 0:00:00.521325, Best Val Epoch: 51\n"
     ]
    },
    {
     "name": "stderr",
     "output_type": "stream",
     "text": [
      " 91%|█████████▏| 457/500 [03:57<00:23,  1.83it/s]"
     ]
    },
    {
     "name": "stdout",
     "output_type": "stream",
     "text": [
      "Epoch 457/500, Train Loss: 0.7681,           Validation Loss: 1.0269, Duration: 0:00:00.573112, Best Val Epoch: 51\n"
     ]
    },
    {
     "name": "stderr",
     "output_type": "stream",
     "text": [
      " 92%|█████████▏| 458/500 [03:58<00:22,  1.91it/s]"
     ]
    },
    {
     "name": "stdout",
     "output_type": "stream",
     "text": [
      "Epoch 458/500, Train Loss: 0.7656,           Validation Loss: 1.0311, Duration: 0:00:00.472569, Best Val Epoch: 51\n"
     ]
    },
    {
     "name": "stderr",
     "output_type": "stream",
     "text": [
      " 92%|█████████▏| 459/500 [03:58<00:21,  1.90it/s]"
     ]
    },
    {
     "name": "stdout",
     "output_type": "stream",
     "text": [
      "Epoch 459/500, Train Loss: 0.7672,           Validation Loss: 1.0401, Duration: 0:00:00.529420, Best Val Epoch: 51\n"
     ]
    },
    {
     "name": "stderr",
     "output_type": "stream",
     "text": [
      " 92%|█████████▏| 460/500 [03:59<00:20,  1.93it/s]"
     ]
    },
    {
     "name": "stdout",
     "output_type": "stream",
     "text": [
      "Epoch 460/500, Train Loss: 0.7779,           Validation Loss: 1.0311, Duration: 0:00:00.495105, Best Val Epoch: 51\n"
     ]
    },
    {
     "name": "stderr",
     "output_type": "stream",
     "text": [
      " 92%|█████████▏| 461/500 [03:59<00:20,  1.91it/s]"
     ]
    },
    {
     "name": "stdout",
     "output_type": "stream",
     "text": [
      "Epoch 461/500, Train Loss: 0.7717,           Validation Loss: 1.0255, Duration: 0:00:00.537887, Best Val Epoch: 51\n"
     ]
    },
    {
     "name": "stderr",
     "output_type": "stream",
     "text": [
      " 92%|█████████▏| 462/500 [04:00<00:21,  1.81it/s]"
     ]
    },
    {
     "name": "stdout",
     "output_type": "stream",
     "text": [
      "Epoch 462/500, Train Loss: 0.7689,           Validation Loss: 1.0281, Duration: 0:00:00.623900, Best Val Epoch: 51\n"
     ]
    },
    {
     "name": "stderr",
     "output_type": "stream",
     "text": [
      " 93%|█████████▎| 463/500 [04:00<00:20,  1.84it/s]"
     ]
    },
    {
     "name": "stdout",
     "output_type": "stream",
     "text": [
      "Epoch 463/500, Train Loss: 0.7653,           Validation Loss: 1.0369, Duration: 0:00:00.513249, Best Val Epoch: 51\n"
     ]
    },
    {
     "name": "stderr",
     "output_type": "stream",
     "text": [
      " 93%|█████████▎| 464/500 [04:01<00:19,  1.89it/s]"
     ]
    },
    {
     "name": "stdout",
     "output_type": "stream",
     "text": [
      "Epoch 464/500, Train Loss: 0.8009,           Validation Loss: 1.0262, Duration: 0:00:00.496696, Best Val Epoch: 51\n"
     ]
    },
    {
     "name": "stderr",
     "output_type": "stream",
     "text": [
      " 93%|█████████▎| 465/500 [04:02<00:18,  1.84it/s]"
     ]
    },
    {
     "name": "stdout",
     "output_type": "stream",
     "text": [
      "Epoch 465/500, Train Loss: 0.7843,           Validation Loss: 1.0316, Duration: 0:00:00.572534, Best Val Epoch: 51\n"
     ]
    },
    {
     "name": "stderr",
     "output_type": "stream",
     "text": [
      " 93%|█████████▎| 466/500 [04:02<00:18,  1.83it/s]"
     ]
    },
    {
     "name": "stdout",
     "output_type": "stream",
     "text": [
      "Epoch 466/500, Train Loss: 0.7739,           Validation Loss: 1.0282, Duration: 0:00:00.558809, Best Val Epoch: 51\n"
     ]
    },
    {
     "name": "stderr",
     "output_type": "stream",
     "text": [
      " 93%|█████████▎| 467/500 [04:03<00:17,  1.84it/s]"
     ]
    },
    {
     "name": "stdout",
     "output_type": "stream",
     "text": [
      "Epoch 467/500, Train Loss: 0.7762,           Validation Loss: 1.0316, Duration: 0:00:00.531006, Best Val Epoch: 51\n"
     ]
    },
    {
     "name": "stderr",
     "output_type": "stream",
     "text": [
      " 94%|█████████▎| 468/500 [04:03<00:17,  1.80it/s]"
     ]
    },
    {
     "name": "stdout",
     "output_type": "stream",
     "text": [
      "Epoch 468/500, Train Loss: 0.7744,           Validation Loss: 1.0322, Duration: 0:00:00.584726, Best Val Epoch: 51\n"
     ]
    },
    {
     "name": "stderr",
     "output_type": "stream",
     "text": [
      " 94%|█████████▍| 469/500 [04:04<00:17,  1.82it/s]"
     ]
    },
    {
     "name": "stdout",
     "output_type": "stream",
     "text": [
      "Epoch 469/500, Train Loss: 0.7779,           Validation Loss: 1.0283, Duration: 0:00:00.536575, Best Val Epoch: 51\n"
     ]
    },
    {
     "name": "stderr",
     "output_type": "stream",
     "text": [
      " 94%|█████████▍| 470/500 [04:04<00:17,  1.75it/s]"
     ]
    },
    {
     "name": "stdout",
     "output_type": "stream",
     "text": [
      "Epoch 470/500, Train Loss: 0.7633,           Validation Loss: 1.0254, Duration: 0:00:00.621701, Best Val Epoch: 51\n"
     ]
    },
    {
     "name": "stderr",
     "output_type": "stream",
     "text": [
      " 94%|█████████▍| 471/500 [04:05<00:15,  1.83it/s]"
     ]
    },
    {
     "name": "stdout",
     "output_type": "stream",
     "text": [
      "Epoch 471/500, Train Loss: 0.7788,           Validation Loss: 1.0210, Duration: 0:00:00.486149, Best Val Epoch: 51\n"
     ]
    },
    {
     "name": "stderr",
     "output_type": "stream",
     "text": [
      " 94%|█████████▍| 472/500 [04:05<00:14,  1.89it/s]"
     ]
    },
    {
     "name": "stdout",
     "output_type": "stream",
     "text": [
      "Epoch 472/500, Train Loss: 0.7781,           Validation Loss: 1.0278, Duration: 0:00:00.491232, Best Val Epoch: 51\n"
     ]
    },
    {
     "name": "stderr",
     "output_type": "stream",
     "text": [
      " 95%|█████████▍| 473/500 [04:06<00:14,  1.83it/s]"
     ]
    },
    {
     "name": "stdout",
     "output_type": "stream",
     "text": [
      "Epoch 473/500, Train Loss: 0.7651,           Validation Loss: 1.0253, Duration: 0:00:00.587558, Best Val Epoch: 51\n"
     ]
    },
    {
     "name": "stderr",
     "output_type": "stream",
     "text": [
      " 95%|█████████▍| 474/500 [04:07<00:14,  1.81it/s]"
     ]
    },
    {
     "name": "stdout",
     "output_type": "stream",
     "text": [
      "Epoch 474/500, Train Loss: 0.7651,           Validation Loss: 1.0289, Duration: 0:00:00.558759, Best Val Epoch: 51\n"
     ]
    },
    {
     "name": "stderr",
     "output_type": "stream",
     "text": [
      " 95%|█████████▌| 475/500 [04:07<00:13,  1.81it/s]"
     ]
    },
    {
     "name": "stdout",
     "output_type": "stream",
     "text": [
      "Epoch 475/500, Train Loss: 0.7702,           Validation Loss: 1.0378, Duration: 0:00:00.555529, Best Val Epoch: 51\n"
     ]
    },
    {
     "name": "stderr",
     "output_type": "stream",
     "text": [
      " 95%|█████████▌| 476/500 [04:08<00:13,  1.78it/s]"
     ]
    },
    {
     "name": "stdout",
     "output_type": "stream",
     "text": [
      "Epoch 476/500, Train Loss: 0.7701,           Validation Loss: 1.0289, Duration: 0:00:00.585070, Best Val Epoch: 51\n"
     ]
    },
    {
     "name": "stderr",
     "output_type": "stream",
     "text": [
      " 95%|█████████▌| 477/500 [04:08<00:12,  1.84it/s]"
     ]
    },
    {
     "name": "stdout",
     "output_type": "stream",
     "text": [
      "Epoch 477/500, Train Loss: 0.7733,           Validation Loss: 1.0266, Duration: 0:00:00.502280, Best Val Epoch: 51\n"
     ]
    },
    {
     "name": "stderr",
     "output_type": "stream",
     "text": [
      " 96%|█████████▌| 478/500 [04:09<00:12,  1.80it/s]"
     ]
    },
    {
     "name": "stdout",
     "output_type": "stream",
     "text": [
      "Epoch 478/500, Train Loss: 0.7712,           Validation Loss: 1.0342, Duration: 0:00:00.576034, Best Val Epoch: 51\n"
     ]
    },
    {
     "name": "stderr",
     "output_type": "stream",
     "text": [
      " 96%|█████████▌| 479/500 [04:09<00:11,  1.86it/s]"
     ]
    },
    {
     "name": "stdout",
     "output_type": "stream",
     "text": [
      "Epoch 479/500, Train Loss: 0.7664,           Validation Loss: 1.0308, Duration: 0:00:00.501818, Best Val Epoch: 51\n"
     ]
    },
    {
     "name": "stderr",
     "output_type": "stream",
     "text": [
      " 96%|█████████▌| 480/500 [04:10<00:10,  1.87it/s]"
     ]
    },
    {
     "name": "stdout",
     "output_type": "stream",
     "text": [
      "Epoch 480/500, Train Loss: 0.7686,           Validation Loss: 1.0364, Duration: 0:00:00.528474, Best Val Epoch: 51\n"
     ]
    },
    {
     "name": "stderr",
     "output_type": "stream",
     "text": [
      " 96%|█████████▌| 481/500 [04:10<00:10,  1.84it/s]"
     ]
    },
    {
     "name": "stdout",
     "output_type": "stream",
     "text": [
      "Epoch 481/500, Train Loss: 0.7632,           Validation Loss: 1.0257, Duration: 0:00:00.558714, Best Val Epoch: 51\n"
     ]
    },
    {
     "name": "stderr",
     "output_type": "stream",
     "text": [
      " 96%|█████████▋| 482/500 [04:11<00:09,  1.89it/s]"
     ]
    },
    {
     "name": "stdout",
     "output_type": "stream",
     "text": [
      "Epoch 482/500, Train Loss: 0.7734,           Validation Loss: 1.0300, Duration: 0:00:00.494663, Best Val Epoch: 51\n"
     ]
    },
    {
     "name": "stderr",
     "output_type": "stream",
     "text": [
      " 97%|█████████▋| 483/500 [04:11<00:08,  1.92it/s]"
     ]
    },
    {
     "name": "stdout",
     "output_type": "stream",
     "text": [
      "Epoch 483/500, Train Loss: 0.7604,           Validation Loss: 1.0347, Duration: 0:00:00.500137, Best Val Epoch: 51\n"
     ]
    },
    {
     "name": "stderr",
     "output_type": "stream",
     "text": [
      " 97%|█████████▋| 484/500 [04:12<00:08,  1.89it/s]"
     ]
    },
    {
     "name": "stdout",
     "output_type": "stream",
     "text": [
      "Epoch 484/500, Train Loss: 0.7640,           Validation Loss: 1.0276, Duration: 0:00:00.552452, Best Val Epoch: 51\n"
     ]
    },
    {
     "name": "stderr",
     "output_type": "stream",
     "text": [
      " 97%|█████████▋| 485/500 [04:12<00:07,  1.89it/s]"
     ]
    },
    {
     "name": "stdout",
     "output_type": "stream",
     "text": [
      "Epoch 485/500, Train Loss: 0.7714,           Validation Loss: 1.0302, Duration: 0:00:00.525390, Best Val Epoch: 51\n"
     ]
    },
    {
     "name": "stderr",
     "output_type": "stream",
     "text": [
      " 97%|█████████▋| 486/500 [04:13<00:07,  1.87it/s]"
     ]
    },
    {
     "name": "stdout",
     "output_type": "stream",
     "text": [
      "Epoch 486/500, Train Loss: 0.7756,           Validation Loss: 1.0253, Duration: 0:00:00.546947, Best Val Epoch: 51\n"
     ]
    },
    {
     "name": "stderr",
     "output_type": "stream",
     "text": [
      " 97%|█████████▋| 487/500 [04:14<00:07,  1.76it/s]"
     ]
    },
    {
     "name": "stdout",
     "output_type": "stream",
     "text": [
      "Epoch 487/500, Train Loss: 0.7667,           Validation Loss: 1.0378, Duration: 0:00:00.645797, Best Val Epoch: 51\n"
     ]
    },
    {
     "name": "stderr",
     "output_type": "stream",
     "text": [
      " 98%|█████████▊| 488/500 [04:14<00:07,  1.69it/s]"
     ]
    },
    {
     "name": "stdout",
     "output_type": "stream",
     "text": [
      "Epoch 488/500, Train Loss: 0.7850,           Validation Loss: 1.0316, Duration: 0:00:00.641675, Best Val Epoch: 51\n"
     ]
    },
    {
     "name": "stderr",
     "output_type": "stream",
     "text": [
      " 98%|█████████▊| 489/500 [04:15<00:06,  1.78it/s]"
     ]
    },
    {
     "name": "stdout",
     "output_type": "stream",
     "text": [
      "Epoch 489/500, Train Loss: 0.7676,           Validation Loss: 1.0333, Duration: 0:00:00.490728, Best Val Epoch: 51\n"
     ]
    },
    {
     "name": "stderr",
     "output_type": "stream",
     "text": [
      " 98%|█████████▊| 490/500 [04:15<00:05,  1.71it/s]"
     ]
    },
    {
     "name": "stdout",
     "output_type": "stream",
     "text": [
      "Epoch 490/500, Train Loss: 0.7666,           Validation Loss: 1.0309, Duration: 0:00:00.637873, Best Val Epoch: 51\n"
     ]
    },
    {
     "name": "stderr",
     "output_type": "stream",
     "text": [
      " 98%|█████████▊| 491/500 [04:16<00:05,  1.78it/s]"
     ]
    },
    {
     "name": "stdout",
     "output_type": "stream",
     "text": [
      "Epoch 491/500, Train Loss: 0.7716,           Validation Loss: 1.0411, Duration: 0:00:00.510667, Best Val Epoch: 51\n"
     ]
    },
    {
     "name": "stderr",
     "output_type": "stream",
     "text": [
      " 98%|█████████▊| 492/500 [04:16<00:04,  1.74it/s]"
     ]
    },
    {
     "name": "stdout",
     "output_type": "stream",
     "text": [
      "Epoch 492/500, Train Loss: 0.7642,           Validation Loss: 1.0345, Duration: 0:00:00.598476, Best Val Epoch: 51\n"
     ]
    },
    {
     "name": "stderr",
     "output_type": "stream",
     "text": [
      " 99%|█████████▊| 493/500 [04:17<00:03,  1.82it/s]"
     ]
    },
    {
     "name": "stdout",
     "output_type": "stream",
     "text": [
      "Epoch 493/500, Train Loss: 0.7719,           Validation Loss: 1.0382, Duration: 0:00:00.492923, Best Val Epoch: 51\n"
     ]
    },
    {
     "name": "stderr",
     "output_type": "stream",
     "text": [
      " 99%|█████████▉| 494/500 [04:18<00:03,  1.86it/s]"
     ]
    },
    {
     "name": "stdout",
     "output_type": "stream",
     "text": [
      "Epoch 494/500, Train Loss: 0.7632,           Validation Loss: 1.0280, Duration: 0:00:00.511012, Best Val Epoch: 51\n"
     ]
    },
    {
     "name": "stderr",
     "output_type": "stream",
     "text": [
      " 99%|█████████▉| 495/500 [04:18<00:02,  1.80it/s]"
     ]
    },
    {
     "name": "stdout",
     "output_type": "stream",
     "text": [
      "Epoch 495/500, Train Loss: 0.7632,           Validation Loss: 1.0322, Duration: 0:00:00.596241, Best Val Epoch: 51\n"
     ]
    },
    {
     "name": "stderr",
     "output_type": "stream",
     "text": [
      " 99%|█████████▉| 496/500 [04:19<00:02,  1.87it/s]"
     ]
    },
    {
     "name": "stdout",
     "output_type": "stream",
     "text": [
      "Epoch 496/500, Train Loss: 0.7644,           Validation Loss: 1.0292, Duration: 0:00:00.484582, Best Val Epoch: 51\n"
     ]
    },
    {
     "name": "stderr",
     "output_type": "stream",
     "text": [
      " 99%|█████████▉| 497/500 [04:19<00:01,  1.83it/s]"
     ]
    },
    {
     "name": "stdout",
     "output_type": "stream",
     "text": [
      "Epoch 497/500, Train Loss: 0.7705,           Validation Loss: 1.0322, Duration: 0:00:00.574756, Best Val Epoch: 51\n"
     ]
    },
    {
     "name": "stderr",
     "output_type": "stream",
     "text": [
      "100%|█████████▉| 498/500 [04:20<00:01,  1.89it/s]"
     ]
    },
    {
     "name": "stdout",
     "output_type": "stream",
     "text": [
      "Epoch 498/500, Train Loss: 0.7703,           Validation Loss: 1.0349, Duration: 0:00:00.487876, Best Val Epoch: 51\n"
     ]
    },
    {
     "name": "stderr",
     "output_type": "stream",
     "text": [
      "100%|█████████▉| 499/500 [04:20<00:00,  1.91it/s]"
     ]
    },
    {
     "name": "stdout",
     "output_type": "stream",
     "text": [
      "Epoch 499/500, Train Loss: 0.7624,           Validation Loss: 1.0384, Duration: 0:00:00.511460, Best Val Epoch: 51\n"
     ]
    },
    {
     "name": "stderr",
     "output_type": "stream",
     "text": [
      "100%|██████████| 500/500 [04:21<00:00,  1.91it/s]"
     ]
    },
    {
     "name": "stdout",
     "output_type": "stream",
     "text": [
      "Epoch 500/500, Train Loss: 0.7729,           Validation Loss: 1.0372, Duration: 0:00:00.585813, Best Val Epoch: 51\n"
     ]
    },
    {
     "name": "stderr",
     "output_type": "stream",
     "text": [
      "\n"
     ]
    }
   ],
   "source": [
    "train_losses, val_losses = batch_gd(model, criterion, optimizer, \n",
    "                                    train_loader, val_loader, epochs=500)"
   ]
  },
  {
   "cell_type": "code",
   "execution_count": 34,
   "metadata": {
    "tags": []
   },
   "outputs": [
    {
     "name": "stdout",
     "output_type": "stream",
     "text": [
      "accuracy_score: 0.6553191489361702\n",
      "              precision    recall  f1-score   support\n",
      "\n",
      "           0     0.4250    0.3625    0.3913       742\n",
      "           1     0.7518    0.7928    0.7717      3320\n",
      "           2     0.3163    0.2806    0.2973       638\n",
      "\n",
      "    accuracy                         0.6553      4700\n",
      "   macro avg     0.4977    0.4786    0.4868      4700\n",
      "weighted avg     0.6411    0.6553    0.6473      4700\n",
      "\n"
     ]
    }
   ],
   "source": [
    "model = torch.load(f'best_val_model_pytorch_sym{sym}_date{dates[-1]}', map_location=device)\n",
    "\n",
    "all_targets = []\n",
    "all_predictions = []\n",
    "\n",
    "for inputs, targets in test_loader:\n",
    "    # Move to GPU\n",
    "    inputs, targets = inputs.to(device, dtype=torch.float), targets.to(device, dtype=torch.int64)\n",
    "\n",
    "    # Forward pass\n",
    "    outputs = model(inputs)\n",
    "    \n",
    "    # Get prediction\n",
    "    # torch.max returns both max and argmax\n",
    "    _, predictions = torch.max(outputs, 1)\n",
    "\n",
    "    all_targets.append(targets.cpu().numpy())\n",
    "    all_predictions.append(predictions.cpu().numpy())\n",
    "\n",
    "all_targets = np.concatenate(all_targets)    \n",
    "all_predictions = np.concatenate(all_predictions)    \n",
    "print('accuracy_score:', accuracy_score(all_targets, all_predictions))\n",
    "print(classification_report(all_targets, all_predictions, digits=4))"
   ]
  }
 ],
 "metadata": {
  "kernelspec": {
   "display_name": "Python 3",
   "language": "python",
   "name": "python3"
  },
  "language_info": {
   "codemirror_mode": {
    "name": "ipython",
    "version": 3
   },
   "file_extension": ".py",
   "mimetype": "text/x-python",
   "name": "python",
   "nbconvert_exporter": "python",
   "pygments_lexer": "ipython3",
   "version": "3.8.19"
  },
  "varInspector": {
   "cols": {
    "lenName": 16,
    "lenType": 16,
    "lenVar": 40
   },
   "kernels_config": {
    "python": {
     "delete_cmd_postfix": "",
     "delete_cmd_prefix": "del ",
     "library": "var_list.py",
     "varRefreshCmd": "print(var_dic_list())"
    },
    "r": {
     "delete_cmd_postfix": ") ",
     "delete_cmd_prefix": "rm(",
     "library": "var_list.r",
     "varRefreshCmd": "cat(var_dic_list()) "
    }
   },
   "types_to_exclude": [
    "module",
    "function",
    "builtin_function_or_method",
    "instance",
    "_Feature"
   ],
   "window_display": false
  }
 },
 "nbformat": 4,
 "nbformat_minor": 4
}
