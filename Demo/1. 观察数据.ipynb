{
 "cells": [
  {
   "cell_type": "code",
   "execution_count": null,
   "metadata": {
    "tags": []
   },
   "outputs": [],
   "source": [
    "%pylab inline\n",
    "%matplotlib inline\n",
    "\n",
    "import os\n",
    "import numpy as np\n",
    "import pandas as pd\n",
    "import matplotlib.pyplot as plt\n",
    "import pylab"
   ]
  },
  {
   "cell_type": "code",
   "execution_count": null,
   "metadata": {
    "tags": []
   },
   "outputs": [],
   "source": [
    "file_dir = \"/l1/data/FBDQA2021A_MMP_Challenge_ver0.2/data\""
   ]
  },
  {
   "cell_type": "markdown",
   "metadata": {},
   "source": [
    "## 读入单个文件并观察"
   ]
  },
  {
   "cell_type": "code",
   "execution_count": null,
   "metadata": {
    "tags": []
   },
   "outputs": [],
   "source": [
    "sym = 5\n",
    "date = 10\n",
    "\n",
    "file_name = f\"snapshot_sym{sym}_date{date}_am.csv\""
   ]
  },
  {
   "cell_type": "code",
   "execution_count": null,
   "metadata": {
    "scrolled": true,
    "tags": []
   },
   "outputs": [],
   "source": [
    "df = pd.read_csv(os.path.join(file_dir,file_name))\n",
    "df"
   ]
  },
  {
   "cell_type": "markdown",
   "metadata": {},
   "source": [
    "# 检查异常值/缺失值"
   ]
  },
  {
   "cell_type": "code",
   "execution_count": null,
   "metadata": {
    "tags": []
   },
   "outputs": [],
   "source": [
    "# 确定有无na值，若有要进行处理（是否一定能用0填充）\n",
    "df.isnull().values.any()"
   ]
  },
  {
   "cell_type": "code",
   "execution_count": null,
   "metadata": {
    "tags": []
   },
   "outputs": [],
   "source": [
    "# 确定有无inf值\n",
    "cols = df.columns\n",
    "for col in cols:\n",
    "    # 如果不是object\n",
    "    if not(df[col].dtypes == 'object'):\n",
    "        # 判断是否有inf值，有则打印列名\n",
    "        if not (np.all(np.isfinite(df[col].values))):\n",
    "            print(col)"
   ]
  },
  {
   "cell_type": "code",
   "execution_count": null,
   "metadata": {
    "scrolled": true,
    "tags": []
   },
   "outputs": [],
   "source": [
    "df.describe()"
   ]
  },
  {
   "cell_type": "code",
   "execution_count": null,
   "metadata": {
    "tags": []
   },
   "outputs": [],
   "source": [
    "## 当数量级不一致时，很有可能影响后续计算结果\n",
    "print(1e-10 + 1.0 == 1.0)\n",
    "print(1e-20 + 1.0 == 1.0)\n",
    "## 譬如上图的amount_delta"
   ]
  },
  {
   "cell_type": "markdown",
   "metadata": {},
   "source": [
    "## 画图观察"
   ]
  },
  {
   "cell_type": "code",
   "execution_count": null,
   "metadata": {
    "scrolled": true,
    "tags": []
   },
   "outputs": [],
   "source": [
    "df[['n_bid1','n_ask1','n_midprice']].plot(figsize = (16,4))\n"
   ]
  },
  {
   "cell_type": "code",
   "execution_count": null,
   "metadata": {},
   "outputs": [],
   "source": [
    "df[['n_bid2','n_bid3','n_ask2','n_ask3']].plot(figsize = (16,4))"
   ]
  },
  {
   "cell_type": "code",
   "execution_count": null,
   "metadata": {},
   "outputs": [],
   "source": [
    "_, ax1=plt.subplots(1,1,figsize=(16,5))\n",
    "df[['n_bid1','n_ask1']].plot(ax=ax1,alpha=0.8)\n",
    "ax1.set_yticks(np.arange(-0.05,0.05,0.01))       \n",
    "ax1.set_ylabel('price') \n",
    "plt.legend(loc=2)\n",
    "\n",
    "ax2 = ax1.twinx()\n",
    "df[['label_5']].plot(ax=ax2,grid=True,alpha=0.4)\n",
    "ax2.set_yticks(np.arange(0,5,1))\n",
    "ax2.set_ylabel('label')    \n",
    "plt.legend(loc=1)   \n",
    "\n",
    "plt.title('price_label')"
   ]
  },
  {
   "cell_type": "code",
   "execution_count": null,
   "metadata": {
    "scrolled": true
   },
   "outputs": [],
   "source": [
    "df['spread'] = df['n_ask1'] - df['n_bid1']\n",
    "df['spread'].plot(figsize = (16,4))"
   ]
  },
  {
   "cell_type": "code",
   "execution_count": null,
   "metadata": {},
   "outputs": [],
   "source": [
    "_, ax1=plt.subplots(1,1,figsize=(16,5))\n",
    "df[['spread']].plot(ax=ax1,alpha=0.8)\n",
    "ax1.set_yticks(np.arange(-0.01,0.01,0.001))       \n",
    "ax1.set_ylabel('spread') \n",
    "plt.legend(loc=2)\n",
    "\n",
    "ax2 = ax1.twinx()\n",
    "df[['label_5']].plot(ax=ax2,grid=True,alpha=0.4)\n",
    "ax2.set_yticks(np.arange(0,5,1))\n",
    "ax2.set_ylabel('label')    \n",
    "plt.legend(loc=1)   "
   ]
  },
  {
   "cell_type": "code",
   "execution_count": null,
   "metadata": {},
   "outputs": [],
   "source": [
    "df['adj_label_5'] = df['label_5'].copy()\n",
    "df.loc[df['label_5']==2,'adj_label_5'] = 0"
   ]
  },
  {
   "cell_type": "code",
   "execution_count": null,
   "metadata": {},
   "outputs": [],
   "source": [
    "_, ax1=plt.subplots(1,1,figsize=(16,5))\n",
    "df[['spread']].plot(ax=ax1,alpha=0.8)\n",
    "ax1.set_yticks(np.arange(-0.01,0.01,0.001))       \n",
    "ax1.set_ylabel('spread') \n",
    "plt.legend(loc=2)\n",
    "\n",
    "ax2 = ax1.twinx()\n",
    "df[['adj_label_5']].plot(ax=ax2,grid=True,alpha=0.4)\n",
    "ax2.set_yticks(np.arange(0,4,1))\n",
    "ax2.set_ylabel('label')    \n",
    "plt.legend(loc=1)   "
   ]
  },
  {
   "cell_type": "markdown",
   "metadata": {},
   "source": [
    "## size变化过大不好处理：log"
   ]
  },
  {
   "cell_type": "code",
   "execution_count": null,
   "metadata": {
    "scrolled": true
   },
   "outputs": [],
   "source": [
    "df[['n_bsize1','n_asize1']].describe()"
   ]
  },
  {
   "cell_type": "code",
   "execution_count": null,
   "metadata": {
    "scrolled": true
   },
   "outputs": [],
   "source": [
    "# 写个for循环更好，这里只是为了表达清晰\n",
    "df['bsize1'] = df['n_bsize1'].map(np.log1p)    # 为什么要用log1p？\n",
    "df['bsize2'] = df['n_bsize2'].map(np.log1p)\n",
    "df['bsize3'] = df['n_bsize3'].map(np.log1p)\n",
    "df['bsize4'] = df['n_bsize4'].map(np.log1p)\n",
    "df['bsize5'] = df['n_bsize5'].map(np.log1p)\n",
    "df['asize1'] = df['n_asize1'].map(np.log1p)\n",
    "df['asize2'] = df['n_asize2'].map(np.log1p)\n",
    "df['asize3'] = df['n_asize3'].map(np.log1p)\n",
    "df['asize4'] = df['n_asize4'].map(np.log1p)\n",
    "df['asize5'] = df['n_asize5'].map(np.log1p)\n",
    "df['amount'] = df['amount_delta'].map(np.log1p)\n",
    "\n",
    "df[['bsize1','n_bsize1','bsize2','n_bsize1','asize1','n_asize1','asize2','n_asize2','amount','amount_delta']].describe()\n"
   ]
  },
  {
   "cell_type": "markdown",
   "metadata": {},
   "source": [
    "# 查看取对数后的数据分布"
   ]
  },
  {
   "cell_type": "code",
   "execution_count": null,
   "metadata": {
    "scrolled": true
   },
   "outputs": [],
   "source": [
    "_, ax1=plt.subplots(1,1,figsize=(16,5))\n",
    "df[['n_bid1','n_ask1','n_close']].plot(ax=ax1,alpha=0.8)\n",
    "ax1.set_yticks(np.arange(-0.05,0.05,0.01))       \n",
    "ax1.set_ylabel('price') \n",
    "plt.legend(loc=2)\n",
    "\n",
    "ax2 = ax1.twinx()\n",
    "df[['bsize1','asize1']].plot(ax=ax2,grid=True,alpha=0.4)\n",
    "ax2.set_yticks(np.arange(-16,0,1))\n",
    "ax2.set_ylabel('vol')    \n",
    "plt.legend(loc=1)   \n",
    "\n",
    "plt.title('price_vol')\n",
    "# plt.savefig('price_vol.png', dpi=400, bbox_inches='tight')     "
   ]
  },
  {
   "cell_type": "code",
   "execution_count": null,
   "metadata": {},
   "outputs": [],
   "source": []
  },
  {
   "cell_type": "code",
   "execution_count": null,
   "metadata": {},
   "outputs": [],
   "source": []
  }
 ],
 "metadata": {
  "kernelspec": {
   "display_name": "Python 3",
   "language": "python",
   "name": "python3"
  },
  "language_info": {
   "codemirror_mode": {
    "name": "ipython",
    "version": 3
   },
   "file_extension": ".py",
   "mimetype": "text/x-python",
   "name": "python",
   "nbconvert_exporter": "python",
   "pygments_lexer": "ipython3",
   "version": "3.7.6"
  },
  "varInspector": {
   "cols": {
    "lenName": 16,
    "lenType": 16,
    "lenVar": 40
   },
   "kernels_config": {
    "python": {
     "delete_cmd_postfix": "",
     "delete_cmd_prefix": "del ",
     "library": "var_list.py",
     "varRefreshCmd": "print(var_dic_list())"
    },
    "r": {
     "delete_cmd_postfix": ") ",
     "delete_cmd_prefix": "rm(",
     "library": "var_list.r",
     "varRefreshCmd": "cat(var_dic_list()) "
    }
   },
   "types_to_exclude": [
    "module",
    "function",
    "builtin_function_or_method",
    "instance",
    "_Feature"
   ],
   "window_display": false
  }
 },
 "nbformat": 4,
 "nbformat_minor": 4
}
