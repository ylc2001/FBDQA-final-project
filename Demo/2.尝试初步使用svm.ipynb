{
 "cells": [
  {
   "cell_type": "code",
   "execution_count": null,
   "metadata": {
    "tags": []
   },
   "outputs": [],
   "source": [
    "%pylab inline\n",
    "%matplotlib inline\n",
    "import os\n",
    "import time\n",
    "import numpy as np\n",
    "import pandas as pd\n",
    "import matplotlib.pyplot as plt\n",
    "\n",
    "from sklearn.model_selection import GridSearchCV\n",
    "from sklearn.svm import SVC"
   ]
  },
  {
   "cell_type": "markdown",
   "metadata": {},
   "source": [
    "# 载入多个交易日的数据"
   ]
  },
  {
   "cell_type": "code",
   "execution_count": null,
   "metadata": {
    "tags": []
   },
   "outputs": [],
   "source": [
    "file_dir = \"/l1/data/FBDQA2021A_MMP_Challenge_ver0.2/data\"\n",
    "\n",
    "sym = 4\n",
    "dates = list(range(12))\n",
    "df = pd.DataFrame()\n",
    "for date in dates:\n",
    "    if (date & 1):\n",
    "        file_name = f\"snapshot_sym{sym}_date{date//2}_am.csv\"\n",
    "    else:\n",
    "        file_name = f\"snapshot_sym{sym}_date{date//2}_pm.csv\"\n",
    "    df = df.append(pd.read_csv(os.path.join(file_dir,file_name)))\n"
   ]
  },
  {
   "cell_type": "code",
   "execution_count": null,
   "metadata": {
    "scrolled": true
   },
   "outputs": [],
   "source": [
    "df"
   ]
  },
  {
   "cell_type": "code",
   "execution_count": null,
   "metadata": {},
   "outputs": [],
   "source": [
    "# 确定有无na值，若有要进行处理（是否一定能用0填充）\n",
    "df.isnull().values.any()"
   ]
  },
  {
   "cell_type": "code",
   "execution_count": null,
   "metadata": {},
   "outputs": [],
   "source": [
    "feature_col_names = ['n_bid1','n_bid2','n_bid3','n_bid4','n_bid5',\\\n",
    "                     'n_ask1','n_ask2','n_ask3','n_ask4','n_ask5']\n",
    "label_col_name = ['label_5']"
   ]
  },
  {
   "cell_type": "code",
   "execution_count": null,
   "metadata": {},
   "outputs": [],
   "source": [
    "train_sample_nums = 20000"
   ]
  },
  {
   "cell_type": "code",
   "execution_count": null,
   "metadata": {},
   "outputs": [],
   "source": [
    "# 别忘了数据形状和存储连续性\n",
    "train_data = np.ascontiguousarray(df[feature_col_names][:train_sample_nums].values)\n",
    "train_label = df[label_col_name][:train_sample_nums].values.reshape(-1)\n",
    "\n",
    "test_data = np.ascontiguousarray(df[feature_col_names][train_sample_nums:].values)\n",
    "test_label = df[label_col_name][train_sample_nums:].values.reshape(-1)"
   ]
  },
  {
   "cell_type": "code",
   "execution_count": null,
   "metadata": {},
   "outputs": [],
   "source": [
    "train_data.flags"
   ]
  },
  {
   "cell_type": "markdown",
   "metadata": {},
   "source": [
    "## 别忘了看一下标签分布："
   ]
  },
  {
   "cell_type": "code",
   "execution_count": null,
   "metadata": {},
   "outputs": [],
   "source": [
    "print(\"在训练集中：\")\n",
    "print(\"标签为0的样本个数：\", sum(train_label == 0))\n",
    "print(\"标签为1的样本个数：\", sum(train_label == 1))\n",
    "print(\"标签为2的样本个数：\", sum(train_label == 2))\n",
    "\n",
    "print(\"在测试集中：\")\n",
    "print(\"标签为0的样本个数：\", sum(test_label == 0))\n",
    "print(\"标签为1的样本个数：\", sum(test_label == 1))\n",
    "print(\"标签为2的样本个数：\", sum(test_label == 2))"
   ]
  },
  {
   "cell_type": "markdown",
   "metadata": {},
   "source": [
    "## 做一下简单的训练："
   ]
  },
  {
   "cell_type": "code",
   "execution_count": null,
   "metadata": {},
   "outputs": [],
   "source": [
    "# 训练一个native svm分类器：\n",
    "model = SVC()\n",
    "model.fit(train_data,train_label)"
   ]
  },
  {
   "cell_type": "markdown",
   "metadata": {},
   "source": [
    "定义一个统计结果的函数："
   ]
  },
  {
   "cell_type": "code",
   "execution_count": null,
   "metadata": {},
   "outputs": [],
   "source": [
    "def check_metric(y, y_hat):\n",
    "    # 总体情况\n",
    "    print(\"预测正确的标签数：\", sum(y_hat == y))\n",
    "    print(\"总体正确率：\", sum(y_hat == y)/len(y_hat))\n",
    "\n",
    "    # 分标签查看：\n",
    "    print(\"真实标签为0样本的正确预测个数：\", sum(y[y == 0] == y_hat[y == 0]))\n",
    "    print(\"真实标签为1样本的正确预测个数：\", sum(y[y == 1] == y_hat[y == 1]))\n",
    "    print(\"真实标签为2样本的正确预测个数：\", sum(y[y == 2] == y_hat[y == 2]))\n",
    "\n",
    "    ## 我们更关心上涨下跌情况的预测\n",
    "    # 所有不为1的标签的召回率（即仅考虑真实标签为上涨或下跌样本是否被正确分类）\n",
    "    index = y != 1\n",
    "    print(\"上涨下跌召回率：\", sum(y_hat[index]==y[index])/sum((index)+1e-6))\n",
    "    # 所有不为1的标签的准确率（即仅考虑预测为上涨或下跌样本是否是正确）\n",
    "    index = y_hat != 1\n",
    "    print(\"上涨下跌准确率：\", sum(y_hat[index]==y[index])/sum((index)+1e-6))"
   ]
  },
  {
   "cell_type": "code",
   "execution_count": null,
   "metadata": {},
   "outputs": [],
   "source": [
    "# 训练完了之后,看看在训练集的准确率（拟合的怎么样）\n",
    "y_hat = model.predict(train_data)\n",
    "y = train_label\n",
    "check_metric(y, y_hat)"
   ]
  },
  {
   "cell_type": "code",
   "execution_count": null,
   "metadata": {},
   "outputs": [],
   "source": [
    "# 再看看测试集的准确率\n",
    "y_hat = model.predict(test_data)\n",
    "y = test_label\n",
    "check_metric(y, y_hat)"
   ]
  },
  {
   "cell_type": "markdown",
   "metadata": {},
   "source": [
    "## 结果不太好，简单调参看一看："
   ]
  },
  {
   "cell_type": "markdown",
   "metadata": {},
   "source": [
    "问题1：类别不均匀，静止tick太多"
   ]
  },
  {
   "cell_type": "code",
   "execution_count": null,
   "metadata": {},
   "outputs": [],
   "source": [
    "## 对样本依据类别加权：\n",
    "model2 = SVC(class_weight='balanced')\n",
    "model2.fit(train_data,train_label)"
   ]
  },
  {
   "cell_type": "code",
   "execution_count": null,
   "metadata": {},
   "outputs": [],
   "source": [
    "## 老规矩，先看训练集\n",
    "y_hat = model2.predict(train_data)\n",
    "y = train_label\n",
    "check_metric(y, y_hat)"
   ]
  },
  {
   "cell_type": "code",
   "execution_count": null,
   "metadata": {},
   "outputs": [],
   "source": [
    "## 再看测试集\n",
    "y_hat = model2.predict(test_data)\n",
    "y = test_label\n",
    "check_metric(y, y_hat)"
   ]
  },
  {
   "cell_type": "markdown",
   "metadata": {},
   "source": [
    "对上涨和下跌的召回率和准确率都大幅上升！"
   ]
  },
  {
   "cell_type": "code",
   "execution_count": null,
   "metadata": {},
   "outputs": [],
   "source": []
  },
  {
   "cell_type": "markdown",
   "metadata": {},
   "source": [
    "问题2： SVM参数这么多，有没有什么简单的参数调整方法？"
   ]
  },
  {
   "cell_type": "code",
   "execution_count": null,
   "metadata": {},
   "outputs": [],
   "source": [
    "model = SVC()\n",
    "grid_params = [{'kernel':['rbf','linear'],'C':[0.5,1,5], 'class_weight':['balanced']}]\n",
    "Grid = GridSearchCV(model, grid_params, cv = 5, scoring = 'accuracy',refit=True, n_jobs = 6)\n",
    "Grid.fit(train_data,train_label)"
   ]
  },
  {
   "cell_type": "code",
   "execution_count": null,
   "metadata": {},
   "outputs": [],
   "source": [
    "Grid.best_estimator_"
   ]
  },
  {
   "cell_type": "code",
   "execution_count": null,
   "metadata": {},
   "outputs": [],
   "source": [
    "y_hat = Grid.best_estimator_.predict(train_data)\n",
    "y = train_label\n",
    "check_metric(y, y_hat)"
   ]
  },
  {
   "cell_type": "code",
   "execution_count": null,
   "metadata": {},
   "outputs": [],
   "source": [
    "y_hat = Grid.best_estimator_.predict(test_data)\n",
    "y = test_label\n",
    "check_metric(y, y_hat)"
   ]
  },
  {
   "cell_type": "markdown",
   "metadata": {},
   "source": [
    "为什么效果并没有特别显著的提升？\n",
    "- scoring的方式?\n",
    "- 参数覆盖范围太小？\n",
    "\n",
    "数据分析就是一步一步思考，一点一点接近“更优解”的探索过程"
   ]
  },
  {
   "cell_type": "code",
   "execution_count": null,
   "metadata": {},
   "outputs": [],
   "source": []
  }
 ],
 "metadata": {
  "kernelspec": {
   "display_name": "Python 3",
   "language": "python",
   "name": "python3"
  },
  "language_info": {
   "codemirror_mode": {
    "name": "ipython",
    "version": 3
   },
   "file_extension": ".py",
   "mimetype": "text/x-python",
   "name": "python",
   "nbconvert_exporter": "python",
   "pygments_lexer": "ipython3",
   "version": "3.7.6"
  },
  "varInspector": {
   "cols": {
    "lenName": 16,
    "lenType": 16,
    "lenVar": 40
   },
   "kernels_config": {
    "python": {
     "delete_cmd_postfix": "",
     "delete_cmd_prefix": "del ",
     "library": "var_list.py",
     "varRefreshCmd": "print(var_dic_list())"
    },
    "r": {
     "delete_cmd_postfix": ") ",
     "delete_cmd_prefix": "rm(",
     "library": "var_list.r",
     "varRefreshCmd": "cat(var_dic_list()) "
    }
   },
   "types_to_exclude": [
    "module",
    "function",
    "builtin_function_or_method",
    "instance",
    "_Feature"
   ],
   "window_display": false
  }
 },
 "nbformat": 4,
 "nbformat_minor": 4
}
