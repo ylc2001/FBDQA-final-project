{
 "cells": [
  {
   "cell_type": "code",
   "execution_count": 2,
   "metadata": {
    "tags": []
   },
   "outputs": [],
   "source": [
    "import os\n",
    "import pandas as pd\n",
    "import pickle\n",
    "import numpy as np\n",
    "import matplotlib.pyplot as plt\n",
    "from datetime import datetime\n",
    "from tqdm.notebook import tqdm \n",
    "from sklearn.metrics import accuracy_score, classification_report\n",
    "\n",
    "import torch\n",
    "import torch.nn.functional as F\n",
    "from torch.utils import data\n",
    "from torchinfo import summary\n",
    "import torch.nn as nn\n",
    "import torch.optim as optim\n",
    "\n",
    "import wandb"
   ]
  },
  {
   "cell_type": "markdown",
   "metadata": {},
   "source": [
    "# 读取数据"
   ]
  },
  {
   "cell_type": "code",
   "execution_count": 3,
   "metadata": {
    "tags": []
   },
   "outputs": [],
   "source": [
    "lr = 0.0005\n",
    "# load\n",
    "label_col_name = 'label_5'\n",
    "with open(f'./np_data/nparray_all_data.pkl', 'rb') as f:\n",
    "    nparray_all_data = pickle.load(f)\n",
    "with open(f'./np_data/nparray_all_label_{label_col_name}.pkl', 'rb') as f:\n",
    "    nparray_all_label = pickle.load(f)"
   ]
  },
  {
   "cell_type": "code",
   "execution_count": 4,
   "metadata": {
    "tags": []
   },
   "outputs": [
    {
     "name": "stdout",
     "output_type": "stream",
     "text": [
      "All data shape: (2964051, 100, 5), Lebel data shape: (2964051,)\n",
      "train_nums: 2371240, val_nums: 296405, test_nums: 296406\n",
      "(2371240, 100, 5)\n"
     ]
    }
   ],
   "source": [
    "n = len(nparray_all_data)\n",
    "##划分训练/测试集\n",
    "train_nums = int(n*0.8)\n",
    "val_nums = int(n*0.1)\n",
    "print(f\"All data shape: {nparray_all_data.shape}, Lebel data shape: {nparray_all_label.shape}\")\n",
    "print(f'train_nums: {train_nums}, val_nums: {val_nums}, test_nums: {n-train_nums-val_nums}')\n",
    "\n",
    "train_data = nparray_all_data[:train_nums]\n",
    "train_label = nparray_all_label[:train_nums]\n",
    "\n",
    "val_data = nparray_all_data[train_nums:train_nums+val_nums]\n",
    "val_label = nparray_all_label[train_nums:train_nums+val_nums]\n",
    "\n",
    "test_data = nparray_all_data[train_nums+val_nums:]\n",
    "test_label = nparray_all_label[train_nums+val_nums:]\n",
    "\n",
    "print(train_data.shape)"
   ]
  },
  {
   "cell_type": "code",
   "execution_count": 5,
   "metadata": {},
   "outputs": [
    {
     "name": "stdout",
     "output_type": "stream",
     "text": [
      "Class weights: tensor([0.4473, 0.1001, 0.4525])\n"
     ]
    }
   ],
   "source": [
    "# 计算 train_label 中三种分类的比例\n",
    "y_train = torch.tensor(train_label).to(torch.int64)\n",
    "class_counts = torch.bincount(y_train, minlength=3)\n",
    "class_weights = 1.0 / class_counts.float()\n",
    "class_weights = class_weights / class_weights.sum()  # 归一化，使总和为1\n",
    "\n",
    "class_weights = class_weights.to(dtype=torch.float32)\n",
    "\n",
    "print(\"Class weights:\", class_weights)"
   ]
  },
  {
   "cell_type": "markdown",
   "metadata": {},
   "source": [
    "## GPU准备"
   ]
  },
  {
   "cell_type": "code",
   "execution_count": 6,
   "metadata": {
    "tags": []
   },
   "outputs": [
    {
     "name": "stdout",
     "output_type": "stream",
     "text": [
      "cuda:0\n",
      "Using device: NVIDIA GeForce RTX 4070\n"
     ]
    }
   ],
   "source": [
    "device = torch.device(\"cuda:0\" if torch.cuda.is_available() else \"cpu\")\n",
    "print(device)\n",
    "print(f\"Using device: {torch.cuda.get_device_name(device)}\")"
   ]
  },
  {
   "cell_type": "markdown",
   "metadata": {},
   "source": [
    "## 准备dataset"
   ]
  },
  {
   "cell_type": "code",
   "execution_count": 7,
   "metadata": {
    "tags": []
   },
   "outputs": [],
   "source": [
    "class Dataset(data.Dataset):\n",
    "    def __init__(self, data, label,  num_classes, T):\n",
    "        self.T = T\n",
    "\n",
    "        # self.x = torch.tensor(data).to(torch.float32).unsqueeze(1).to(device)\n",
    "        self.x = torch.tensor(data).to(torch.float32).to(device)\n",
    "\n",
    "        # self.y = F.one_hot(torch.tensor(label[T - 1:].astype(np.int64)), num_classes=3)\n",
    "        self.y = torch.tensor(label.astype(np.int64)).to(device)\n",
    "    \n",
    "        self.length = len(self.x)\n",
    "\n",
    "    def __len__(self):\n",
    "        return self.length\n",
    "\n",
    "    def __getitem__(self, index):\n",
    "        return self.x[index], self.y[index]"
   ]
  },
  {
   "cell_type": "code",
   "execution_count": 8,
   "metadata": {
    "tags": []
   },
   "outputs": [
    {
     "name": "stdout",
     "output_type": "stream",
     "text": [
      "torch.Size([2371240, 100, 5]) torch.Size([2371240]) False False\n",
      "torch.Size([296405, 100, 5]) torch.Size([296405]) False False\n",
      "torch.Size([296406, 100, 5]) torch.Size([296406]) False False\n",
      "cuda:0\n",
      "cuda:0\n"
     ]
    }
   ],
   "source": [
    "batch_size = 128\n",
    "\n",
    "dataset_train = Dataset(data=train_data,label=train_label, num_classes=3, T=100)\n",
    "dataset_val   = Dataset(data=val_data,  label=val_label,   num_classes=3, T=100)\n",
    "dataset_test  = Dataset(data=test_data, label=test_label,  num_classes=3, T=100)\n",
    "\n",
    "train_loader = torch.utils.data.DataLoader(dataset=dataset_train, batch_size=batch_size, shuffle=True)\n",
    "val_loader   = torch.utils.data.DataLoader(dataset=dataset_val, batch_size=batch_size, shuffle=False)\n",
    "test_loader  = torch.utils.data.DataLoader(dataset=dataset_test, batch_size=batch_size, shuffle=False)\n",
    "\n",
    "print(dataset_train.x.shape, dataset_train.y.shape, dataset_train.x.requires_grad, dataset_train.y.requires_grad,)\n",
    "print(dataset_val.x.shape, dataset_val.y.shape, dataset_val.x.requires_grad, dataset_val.y.requires_grad,)\n",
    "print(dataset_test.x.shape, dataset_test.y.shape, dataset_test.x.requires_grad, dataset_test.y.requires_grad,)\n",
    "\n",
    "print(dataset_train.x.device)\n",
    "print(dataset_train.y.device)"
   ]
  },
  {
   "cell_type": "markdown",
   "metadata": {},
   "source": [
    "# 定义模型"
   ]
  },
  {
   "cell_type": "code",
   "execution_count": 9,
   "metadata": {},
   "outputs": [
    {
     "name": "stderr",
     "output_type": "stream",
     "text": [
      "c:\\Users\\ylc\\anaconda3\\envs\\companionGLM\\lib\\site-packages\\torch\\nn\\modules\\rnn.py:71: UserWarning: dropout option adds dropout after all but last recurrent layer, so non-zero dropout expects num_layers greater than 1, but got dropout=0.1 and num_layers=1\n",
      "  warnings.warn(\"dropout option adds dropout after all but last \"\n"
     ]
    }
   ],
   "source": [
    "class LSTMModel(nn.Module):\n",
    "    def __init__(self, input_size, hidden_size, num_layers, num_classes):\n",
    "        super(LSTMModel, self).__init__()\n",
    "        self.hidden_size = hidden_size\n",
    "        self.num_layers = num_layers\n",
    "        self.lstm = nn.LSTM(input_size, hidden_size, num_layers, batch_first=True, dropout=0.1)\n",
    "        self.dropout = nn.Dropout(0.1)\n",
    "        self.fc = nn.Linear(hidden_size, num_classes)\n",
    "\n",
    "    def forward(self, x):\n",
    "        h0 = torch.zeros(self.num_layers, x.size(0), self.hidden_size).to(device)\n",
    "        c0 = torch.zeros(self.num_layers, x.size(0), self.hidden_size).to(device)\n",
    "        \n",
    "        out, _ = self.lstm(x, (h0, c0))\n",
    "        \n",
    "        out = self.dropout(out[:, -1, :])\n",
    "        out = self.fc(out)\n",
    "        \n",
    "        return F.softmax(out, dim=1)\n",
    "\n",
    "# 模型参数定义\n",
    "input_size = 5\n",
    "hidden_size = 64\n",
    "num_layers = 1\n",
    "num_classes = 3\n",
    "\n",
    "model_lstm = LSTMModel(input_size, hidden_size, num_layers, num_classes).to(device)\n",
    "model_lstm.to(device);"
   ]
  },
  {
   "cell_type": "code",
   "execution_count": 10,
   "metadata": {
    "tags": []
   },
   "outputs": [
    {
     "data": {
      "text/plain": [
       "==========================================================================================\n",
       "Layer (type:depth-idx)                   Output Shape              Param #\n",
       "==========================================================================================\n",
       "LSTMModel                                [1, 3]                    --\n",
       "├─LSTM: 1-1                              [1, 100, 64]              18,176\n",
       "├─Dropout: 1-2                           [1, 64]                   --\n",
       "├─Linear: 1-3                            [1, 3]                    195\n",
       "==========================================================================================\n",
       "Total params: 18,371\n",
       "Trainable params: 18,371\n",
       "Non-trainable params: 0\n",
       "Total mult-adds (M): 1.82\n",
       "==========================================================================================\n",
       "Input size (MB): 0.00\n",
       "Forward/backward pass size (MB): 0.05\n",
       "Params size (MB): 0.07\n",
       "Estimated Total Size (MB): 0.13\n",
       "=========================================================================================="
      ]
     },
     "execution_count": 10,
     "metadata": {},
     "output_type": "execute_result"
    }
   ],
   "source": [
    "# summary(model, (234, 1, 100, 32))\n",
    "summary(model_lstm, (1, 100, 5))"
   ]
  },
  {
   "cell_type": "markdown",
   "metadata": {},
   "source": [
    "# 训练模型"
   ]
  },
  {
   "cell_type": "code",
   "execution_count": 11,
   "metadata": {},
   "outputs": [],
   "source": [
    "# criterion_lstm = nn.CrossEntropyLoss()\n",
    "criterion_lstm = nn.CrossEntropyLoss(weight=class_weights.to(device))\n",
    "optimizer_lstm = optim.Adam(model_lstm.parameters(), lr)\n",
    "# rmsprop\n",
    "# optimizer = optim.RMSprop(model_lstm.parameters(), lr, alpha=0.9)\n",
    "\n",
    "def batch_gd_lstm(model, criterion, optimizer, train_loader, test_loader, epochs, patience=15):\n",
    "    wandb.init(\n",
    "        # set the wandb project where this run will be logged\n",
    "        project=\"Quant-AI-model\",\n",
    "\n",
    "        # track hyperparameters and run metadata\n",
    "        config={\n",
    "        \"learning_rate\": lr,\n",
    "        \"architecture\": \"LSTM\",\n",
    "        \"dataset\": f\"{label_col_name}\",\n",
    "        \"epochs\": epochs,\n",
    "        }\n",
    "    )\n",
    "    train_losses = np.zeros(epochs)\n",
    "    test_losses = np.zeros(epochs)\n",
    "    best_test_loss = np.inf\n",
    "    best_test_epoch = 0\n",
    "    no_improve_epochs = 0\n",
    "\n",
    "    for it in tqdm(range(epochs)):\n",
    "        model.train()\n",
    "        t0 = datetime.now()\n",
    "        train_loss = []\n",
    "        correct_train_preds = 0\n",
    "        total_train_preds = 0\n",
    "        for inputs, targets in train_loader:\n",
    "            optimizer.zero_grad()\n",
    "            inputs, targets = inputs.to(device), targets.to(device)\n",
    "            \n",
    "            outputs = model(inputs)\n",
    "            loss = criterion(outputs, targets)\n",
    "            loss.backward()\n",
    "            optimizer.step()\n",
    "            \n",
    "            train_loss.append(loss.item())\n",
    "\n",
    "            _, predicted = torch.max(outputs.data, 1)\n",
    "            total_train_preds += targets.size(0)\n",
    "            correct_train_preds += (predicted == targets).sum().item()\n",
    "        \n",
    "        train_loss = np.mean(train_loss)\n",
    "        train_acc = correct_train_preds / total_train_preds\n",
    "    \n",
    "        model.eval()\n",
    "        test_loss = []\n",
    "        correct_test_preds = 0\n",
    "        total_test_preds = 0\n",
    "        with torch.no_grad():\n",
    "            for inputs, targets in test_loader:\n",
    "                inputs, targets = inputs.to(device), targets.to(device)\n",
    "                outputs = model(inputs)\n",
    "                loss = criterion(outputs, targets)\n",
    "                test_loss.append(loss.item())\n",
    "\n",
    "                _, predicted = torch.max(outputs.data, 1)\n",
    "                total_test_preds += targets.size(0)\n",
    "                correct_test_preds += (predicted == targets).sum().item()\n",
    "        test_loss = np.mean(test_loss)\n",
    "        test_acc = correct_test_preds / total_test_preds\n",
    "\n",
    "        wandb.log({\"train_loss\": train_loss, \"train_acc\": train_acc, \"test_loss\": test_loss, \"test_acc\": test_acc})\n",
    "\n",
    "        train_losses[it] = train_loss\n",
    "        test_losses[it] = test_loss\n",
    "        \n",
    "        if test_loss < best_test_loss:\n",
    "            torch.save(model.state_dict(), f'best_val_model_lstm_{label_col_name}.pth')\n",
    "            best_test_loss = test_loss\n",
    "            best_test_epoch = it\n",
    "            no_improve_epochs = 0\n",
    "            print('model saved')\n",
    "        else:\n",
    "            no_improve_epochs += 1\n",
    "\n",
    "        dt = datetime.now() - t0\n",
    "        print(f'Epoch {it+1}/{epochs}, Train Loss: {train_loss:.4f}, Validation Loss: {test_loss:.4f}, Duration: {dt}, Best Val Epoch: {best_test_epoch}')\n",
    "\n",
    "        if no_improve_epochs >= patience:\n",
    "            print('Early stopping')\n",
    "            wandb.finish()\n",
    "            break\n",
    "    \n",
    "    torch.save(model.state_dict(), f'final_model_lstm_{label_col_name}.pth')\n",
    "    wandb.finish()\n",
    "    return train_losses, test_losses\n"
   ]
  },
  {
   "cell_type": "code",
   "execution_count": 12,
   "metadata": {},
   "outputs": [
    {
     "name": "stdout",
     "output_type": "stream",
     "text": [
      "inputs.shape: torch.Size([128, 100, 5])\n",
      "targets.shape: torch.Size([128])\n",
      "outputs.shape: torch.Size([128, 3])\n"
     ]
    }
   ],
   "source": [
    "for inputs, targets in train_loader:\n",
    "    print('inputs.shape:', inputs.shape)\n",
    "    print('targets.shape:', targets.shape)\n",
    "    outputs = model_lstm(inputs)\n",
    "    print('outputs.shape:', outputs.shape)\n",
    "    break"
   ]
  },
  {
   "cell_type": "code",
   "execution_count": null,
   "metadata": {
    "tags": []
   },
   "outputs": [
    {
     "data": {
      "text/html": [
       "Tracking run with wandb version 0.17.0"
      ],
      "text/plain": [
       "<IPython.core.display.HTML object>"
      ]
     },
     "metadata": {},
     "output_type": "display_data"
    },
    {
     "data": {
      "text/html": [
       "Run data is saved locally in <code>d:\\my-dev-code\\FBDQA-final-project\\wandb\\run-20240601_134037-lb23rwts</code>"
      ],
      "text/plain": [
       "<IPython.core.display.HTML object>"
      ]
     },
     "metadata": {},
     "output_type": "display_data"
    },
    {
     "data": {
      "text/html": [
       "Syncing run <strong><a href='https://wandb.ai/bugmakers/Quant-AI-model/runs/lb23rwts' target=\"_blank\">lilac-durian-14</a></strong> to <a href='https://wandb.ai/bugmakers/Quant-AI-model' target=\"_blank\">Weights & Biases</a> (<a href='https://wandb.me/run' target=\"_blank\">docs</a>)<br/>"
      ],
      "text/plain": [
       "<IPython.core.display.HTML object>"
      ]
     },
     "metadata": {},
     "output_type": "display_data"
    },
    {
     "data": {
      "text/html": [
       " View project at <a href='https://wandb.ai/bugmakers/Quant-AI-model' target=\"_blank\">https://wandb.ai/bugmakers/Quant-AI-model</a>"
      ],
      "text/plain": [
       "<IPython.core.display.HTML object>"
      ]
     },
     "metadata": {},
     "output_type": "display_data"
    },
    {
     "data": {
      "text/html": [
       " View run at <a href='https://wandb.ai/bugmakers/Quant-AI-model/runs/lb23rwts' target=\"_blank\">https://wandb.ai/bugmakers/Quant-AI-model/runs/lb23rwts</a>"
      ],
      "text/plain": [
       "<IPython.core.display.HTML object>"
      ]
     },
     "metadata": {},
     "output_type": "display_data"
    },
    {
     "data": {
      "application/vnd.jupyter.widget-view+json": {
       "model_id": "c77686b57a214c1d8096a8af877ae973",
       "version_major": 2,
       "version_minor": 0
      },
      "text/plain": [
       "  0%|          | 0/35 [00:00<?, ?it/s]"
      ]
     },
     "metadata": {},
     "output_type": "display_data"
    },
    {
     "name": "stdout",
     "output_type": "stream",
     "text": [
      "model saved\n",
      "Epoch 1/35, Train Loss: 1.0549, Validation Loss: 1.1180, Duration: 0:00:41.075676, Best Val Epoch: 0\n",
      "model saved\n",
      "Epoch 2/35, Train Loss: 1.0476, Validation Loss: 1.0895, Duration: 0:00:40.964772, Best Val Epoch: 1\n",
      "model saved\n",
      "Epoch 3/35, Train Loss: 1.0390, Validation Loss: 1.0878, Duration: 0:00:40.262575, Best Val Epoch: 2\n",
      "model saved\n",
      "Epoch 4/35, Train Loss: 1.0290, Validation Loss: 1.0784, Duration: 0:00:40.668953, Best Val Epoch: 3\n",
      "model saved\n",
      "Epoch 5/35, Train Loss: 1.0222, Validation Loss: 1.0727, Duration: 0:00:40.283830, Best Val Epoch: 4\n",
      "Epoch 6/35, Train Loss: 1.0171, Validation Loss: 1.0769, Duration: 0:00:40.278539, Best Val Epoch: 4\n",
      "Epoch 7/35, Train Loss: 1.0130, Validation Loss: 1.0776, Duration: 0:00:40.785780, Best Val Epoch: 4\n",
      "Epoch 8/35, Train Loss: 1.0085, Validation Loss: 1.0780, Duration: 0:00:40.155105, Best Val Epoch: 4\n",
      "Epoch 9/35, Train Loss: 1.0053, Validation Loss: 1.0774, Duration: 0:00:40.748909, Best Val Epoch: 4\n",
      "Epoch 10/35, Train Loss: 1.0019, Validation Loss: 1.0834, Duration: 0:00:39.862938, Best Val Epoch: 4\n",
      "Epoch 11/35, Train Loss: 0.9984, Validation Loss: 1.0841, Duration: 0:00:40.550912, Best Val Epoch: 4\n",
      "Epoch 12/35, Train Loss: 0.9951, Validation Loss: 1.0887, Duration: 0:00:40.677585, Best Val Epoch: 4\n",
      "Epoch 13/35, Train Loss: 0.9924, Validation Loss: 1.0863, Duration: 0:00:40.259442, Best Val Epoch: 4\n",
      "Epoch 14/35, Train Loss: 0.9900, Validation Loss: 1.0962, Duration: 0:00:40.030841, Best Val Epoch: 4\n",
      "Epoch 15/35, Train Loss: 0.9874, Validation Loss: 1.0962, Duration: 0:00:39.641474, Best Val Epoch: 4\n",
      "Epoch 16/35, Train Loss: 0.9853, Validation Loss: 1.0929, Duration: 0:00:39.757879, Best Val Epoch: 4\n",
      "Epoch 17/35, Train Loss: 0.9839, Validation Loss: 1.0944, Duration: 0:00:39.459190, Best Val Epoch: 4\n",
      "Epoch 18/35, Train Loss: 0.9809, Validation Loss: 1.0975, Duration: 0:00:39.502562, Best Val Epoch: 4\n",
      "Epoch 19/35, Train Loss: 0.9796, Validation Loss: 1.0981, Duration: 0:00:39.629000, Best Val Epoch: 4\n",
      "Epoch 20/35, Train Loss: 0.9779, Validation Loss: 1.0969, Duration: 0:00:39.763063, Best Val Epoch: 4\n",
      "Early stopping\n"
     ]
    },
    {
     "data": {
      "application/vnd.jupyter.widget-view+json": {
       "model_id": "a105305fdb864c6f90ae3e0479a296f8",
       "version_major": 2,
       "version_minor": 0
      },
      "text/plain": [
       "VBox(children=(Label(value='0.001 MB of 0.001 MB uploaded\\r'), FloatProgress(value=1.0, max=1.0)))"
      ]
     },
     "metadata": {},
     "output_type": "display_data"
    },
    {
     "data": {
      "text/html": [
       "<style>\n",
       "    table.wandb td:nth-child(1) { padding: 0 10px; text-align: left ; width: auto;} td:nth-child(2) {text-align: left ; width: 100%}\n",
       "    .wandb-row { display: flex; flex-direction: row; flex-wrap: wrap; justify-content: flex-start; width: 100% }\n",
       "    .wandb-col { display: flex; flex-direction: column; flex-basis: 100%; flex: 1; padding: 10px; }\n",
       "    </style>\n",
       "<div class=\"wandb-row\"><div class=\"wandb-col\"><h3>Run history:</h3><br/><table class=\"wandb\"><tr><td>test_acc</td><td>▁▆▇▇█▇█▇█▇▇▇█▆▇▇▆▇▆▆</td></tr><tr><td>test_loss</td><td>█▄▃▂▁▂▂▂▂▃▃▃▃▅▅▄▄▅▅▅</td></tr><tr><td>train_acc</td><td>▁▁▃▄▅▅▆▆▆▆▇▇▇▇▇█████</td></tr><tr><td>train_loss</td><td>█▇▇▆▅▅▄▄▃▃▃▃▂▂▂▂▂▁▁▁</td></tr></table><br/></div><div class=\"wandb-col\"><h3>Run summary:</h3><br/><table class=\"wandb\"><tr><td>test_acc</td><td>0.40603</td></tr><tr><td>test_loss</td><td>1.09689</td></tr><tr><td>train_acc</td><td>0.54437</td></tr><tr><td>train_loss</td><td>0.9779</td></tr></table><br/></div></div>"
      ],
      "text/plain": [
       "<IPython.core.display.HTML object>"
      ]
     },
     "metadata": {},
     "output_type": "display_data"
    },
    {
     "data": {
      "text/html": [
       " View run <strong style=\"color:#cdcd00\">lilac-durian-14</strong> at: <a href='https://wandb.ai/bugmakers/Quant-AI-model/runs/lb23rwts' target=\"_blank\">https://wandb.ai/bugmakers/Quant-AI-model/runs/lb23rwts</a><br/> View project at: <a href='https://wandb.ai/bugmakers/Quant-AI-model' target=\"_blank\">https://wandb.ai/bugmakers/Quant-AI-model</a><br/>Synced 5 W&B file(s), 0 media file(s), 0 artifact file(s) and 0 other file(s)"
      ],
      "text/plain": [
       "<IPython.core.display.HTML object>"
      ]
     },
     "metadata": {},
     "output_type": "display_data"
    },
    {
     "data": {
      "text/html": [
       "Find logs at: <code>.\\wandb\\run-20240601_134037-lb23rwts\\logs</code>"
      ],
      "text/plain": [
       "<IPython.core.display.HTML object>"
      ]
     },
     "metadata": {},
     "output_type": "display_data"
    }
   ],
   "source": [
    "train_losses, val_losses = batch_gd_lstm(model_lstm, criterion_lstm, optimizer_lstm, train_loader, val_loader, epochs=35)"
   ]
  },
  {
   "cell_type": "code",
   "execution_count": null,
   "metadata": {
    "tags": []
   },
   "outputs": [
    {
     "data": {
      "text/plain": [
       "<matplotlib.legend.Legend at 0x1d20021a070>"
      ]
     },
     "execution_count": 41,
     "metadata": {},
     "output_type": "execute_result"
    },
    {
     "data": {
      "image/png": "[encoded data removed]",
      "text/plain": [
       "<Figure size 1600x600 with 1 Axes>"
      ]
     },
     "metadata": {},
     "output_type": "display_data"
    }
   ],
   "source": [
    "plt.figure(figsize=(16,6))\n",
    "plt.plot(train_losses, label='train loss')\n",
    "plt.plot(val_losses, label='validation loss')\n",
    "plt.legend()"
   ]
  }
 ],
 "metadata": {
  "kernelspec": {
   "display_name": "Python 3",
   "language": "python",
   "name": "python3"
  },
  "language_info": {
   "codemirror_mode": {
    "name": "ipython",
    "version": 3
   },
   "file_extension": ".py",
   "mimetype": "text/x-python",
   "name": "python",
   "nbconvert_exporter": "python",
   "pygments_lexer": "ipython3",
   "version": "3.8.19"
  },
  "varInspector": {
   "cols": {
    "lenName": 16,
    "lenType": 16,
    "lenVar": 40
   },
   "kernels_config": {
    "python": {
     "delete_cmd_postfix": "",
     "delete_cmd_prefix": "del ",
     "library": "var_list.py",
     "varRefreshCmd": "print(var_dic_list())"
    },
    "r": {
     "delete_cmd_postfix": ") ",
     "delete_cmd_prefix": "rm(",
     "library": "var_list.r",
     "varRefreshCmd": "cat(var_dic_list()) "
    }
   },
   "types_to_exclude": [
    "module",
    "function",
    "builtin_function_or_method",
    "instance",
    "_Feature"
   ],
   "window_display": false
  }
 },
 "nbformat": 4,
 "nbformat_minor": 4
}
