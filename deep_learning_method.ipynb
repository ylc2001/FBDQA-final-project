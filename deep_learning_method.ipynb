{
 "cells": [
  {
   "cell_type": "code",
   "execution_count": 29,
   "metadata": {
    "tags": []
   },
   "outputs": [],
   "source": [
    "import os\n",
    "import pandas as pd\n",
    "import pickle\n",
    "import numpy as np\n",
    "import matplotlib.pyplot as plt\n",
    "from datetime import datetime\n",
    "from tqdm.notebook import tqdm \n",
    "from sklearn.metrics import accuracy_score, classification_report\n",
    "\n",
    "import torch\n",
    "import torch.nn.functional as F\n",
    "from torch.utils import data\n",
    "from torchinfo import summary\n",
    "import torch.nn as nn\n",
    "import torch.optim as optim\n",
    "\n",
    "import wandb"
   ]
  },
  {
   "cell_type": "markdown",
   "metadata": {},
   "source": [
    "# 读取数据"
   ]
  },
  {
   "cell_type": "code",
   "execution_count": 30,
   "metadata": {
    "tags": []
   },
   "outputs": [],
   "source": [
    "lr = 0.0005\n",
    "# load\n",
    "label_col_name = 'label_5'\n",
    "with open(f'./np_data/nparray_all_data.pkl', 'rb') as f:\n",
    "    nparray_all_data = pickle.load(f)\n",
    "with open(f'./np_data/nparray_all_label_{label_col_name}.pkl', 'rb') as f:\n",
    "    nparray_all_label = pickle.load(f)"
   ]
  },
  {
   "cell_type": "code",
   "execution_count": 31,
   "metadata": {
    "tags": []
   },
   "outputs": [
    {
     "name": "stdout",
     "output_type": "stream",
     "text": [
      "All data shape: (2964051, 100, 5), Lebel data shape: (2964051,)\n",
      "train_nums: 2371240, val_nums: 296405, test_nums: 296406\n",
      "(2371240, 100, 5)\n"
     ]
    }
   ],
   "source": [
    "n = len(nparray_all_data)\n",
    "##划分训练/测试集\n",
    "train_nums = int(n*0.8)\n",
    "val_nums = int(n*0.1)\n",
    "print(f\"All data shape: {nparray_all_data.shape}, Lebel data shape: {nparray_all_label.shape}\")\n",
    "print(f'train_nums: {train_nums}, val_nums: {val_nums}, test_nums: {n-train_nums-val_nums}')\n",
    "\n",
    "train_data = nparray_all_data[:train_nums]\n",
    "train_label = nparray_all_label[:train_nums]\n",
    "\n",
    "val_data = nparray_all_data[train_nums:train_nums+val_nums]\n",
    "val_label = nparray_all_label[train_nums:train_nums+val_nums]\n",
    "\n",
    "test_data = nparray_all_data[train_nums+val_nums:]\n",
    "test_label = nparray_all_label[train_nums+val_nums:]\n",
    "\n",
    "print(train_data.shape)"
   ]
  },
  {
   "cell_type": "code",
   "execution_count": 32,
   "metadata": {},
   "outputs": [
    {
     "name": "stdout",
     "output_type": "stream",
     "text": [
      "Class weights: tensor([0.4473, 0.1001, 0.4525])\n"
     ]
    }
   ],
   "source": [
    "# 计算 train_label 中三种分类的比例\n",
    "y_train = torch.tensor(train_label).to(torch.int64)\n",
    "class_counts = torch.bincount(y_train, minlength=3)\n",
    "class_weights = 1.0 / class_counts.float()\n",
    "class_weights = class_weights / class_weights.sum()  # 归一化，使总和为1\n",
    "\n",
    "class_weights = class_weights.to(dtype=torch.float32)\n",
    "\n",
    "print(\"Class weights:\", class_weights)"
   ]
  },
  {
   "cell_type": "markdown",
   "metadata": {},
   "source": [
    "## GPU准备"
   ]
  },
  {
   "cell_type": "code",
   "execution_count": 33,
   "metadata": {
    "tags": []
   },
   "outputs": [
    {
     "name": "stdout",
     "output_type": "stream",
     "text": [
      "cuda:0\n",
      "Using device: NVIDIA GeForce RTX 4070\n"
     ]
    }
   ],
   "source": [
    "device = torch.device(\"cuda:0\" if torch.cuda.is_available() else \"cpu\")\n",
    "print(device)\n",
    "print(f\"Using device: {torch.cuda.get_device_name(device)}\")"
   ]
  },
  {
   "cell_type": "markdown",
   "metadata": {},
   "source": [
    "## 准备dataset"
   ]
  },
  {
   "cell_type": "code",
   "execution_count": 34,
   "metadata": {
    "tags": []
   },
   "outputs": [],
   "source": [
    "class Dataset(data.Dataset):\n",
    "    def __init__(self, data, label,  num_classes, T):\n",
    "        self.T = T\n",
    "\n",
    "        # self.x = torch.tensor(data).to(torch.float32).unsqueeze(1).to(device)\n",
    "        self.x = torch.tensor(data).to(torch.float32).to(device)\n",
    "\n",
    "        # self.y = F.one_hot(torch.tensor(label[T - 1:].astype(np.int64)), num_classes=3)\n",
    "        self.y = torch.tensor(label.astype(np.int64)).to(device)\n",
    "    \n",
    "        self.length = len(self.x)\n",
    "\n",
    "    def __len__(self):\n",
    "        return self.length\n",
    "\n",
    "    def __getitem__(self, index):\n",
    "        return self.x[index], self.y[index]"
   ]
  },
  {
   "cell_type": "code",
   "execution_count": 35,
   "metadata": {
    "tags": []
   },
   "outputs": [
    {
     "name": "stdout",
     "output_type": "stream",
     "text": [
      "torch.Size([2371240, 100, 5]) torch.Size([2371240]) False False\n",
      "torch.Size([296405, 100, 5]) torch.Size([296405]) False False\n",
      "torch.Size([296406, 100, 5]) torch.Size([296406]) False False\n",
      "cuda:0\n",
      "cuda:0\n"
     ]
    }
   ],
   "source": [
    "batch_size = 128\n",
    "\n",
    "dataset_train = Dataset(data=train_data,label=train_label, num_classes=3, T=100)\n",
    "dataset_val   = Dataset(data=val_data,  label=val_label,   num_classes=3, T=100)\n",
    "dataset_test  = Dataset(data=test_data, label=test_label,  num_classes=3, T=100)\n",
    "\n",
    "train_loader = torch.utils.data.DataLoader(dataset=dataset_train, batch_size=batch_size, shuffle=True)\n",
    "val_loader   = torch.utils.data.DataLoader(dataset=dataset_val, batch_size=batch_size, shuffle=False)\n",
    "test_loader  = torch.utils.data.DataLoader(dataset=dataset_test, batch_size=batch_size, shuffle=False)\n",
    "\n",
    "print(dataset_train.x.shape, dataset_train.y.shape, dataset_train.x.requires_grad, dataset_train.y.requires_grad,)\n",
    "print(dataset_val.x.shape, dataset_val.y.shape, dataset_val.x.requires_grad, dataset_val.y.requires_grad,)\n",
    "print(dataset_test.x.shape, dataset_test.y.shape, dataset_test.x.requires_grad, dataset_test.y.requires_grad,)\n",
    "\n",
    "print(dataset_train.x.device)\n",
    "print(dataset_train.y.device)"
   ]
  },
  {
   "cell_type": "markdown",
   "metadata": {},
   "source": [
    "# 定义模型"
   ]
  },
  {
   "cell_type": "code",
   "execution_count": 36,
   "metadata": {},
   "outputs": [
    {
     "name": "stderr",
     "output_type": "stream",
     "text": [
      "c:\\Users\\ylc\\anaconda3\\envs\\companionGLM\\lib\\site-packages\\torch\\nn\\modules\\rnn.py:71: UserWarning: dropout option adds dropout after all but last recurrent layer, so non-zero dropout expects num_layers greater than 1, but got dropout=0.1 and num_layers=1\n",
      "  warnings.warn(\"dropout option adds dropout after all but last \"\n"
     ]
    }
   ],
   "source": [
    "class LSTMModel(nn.Module):\n",
    "    def __init__(self, input_size, hidden_size, num_layers, num_classes):\n",
    "        super(LSTMModel, self).__init__()\n",
    "        self.hidden_size = hidden_size\n",
    "        self.num_layers = num_layers\n",
    "        self.lstm = nn.LSTM(input_size, hidden_size, num_layers, batch_first=True, dropout=0.1)\n",
    "        self.dropout = nn.Dropout(0.1)\n",
    "        self.fc = nn.Linear(hidden_size, num_classes)\n",
    "\n",
    "    def forward(self, x):\n",
    "        h0 = torch.zeros(self.num_layers, x.size(0), self.hidden_size).to(device)\n",
    "        c0 = torch.zeros(self.num_layers, x.size(0), self.hidden_size).to(device)\n",
    "        \n",
    "        out, _ = self.lstm(x, (h0, c0))\n",
    "        \n",
    "        out = self.dropout(out[:, -1, :])\n",
    "        out = self.fc(out)\n",
    "        \n",
    "        return F.softmax(out, dim=1)\n",
    "\n",
    "# 模型参数定义\n",
    "input_size = 5\n",
    "hidden_size = 64\n",
    "num_layers = 1\n",
    "num_classes = 3\n",
    "\n",
    "model_lstm = LSTMModel(input_size, hidden_size, num_layers, num_classes).to(device)\n",
    "model_lstm.to(device);"
   ]
  },
  {
   "cell_type": "code",
   "execution_count": 37,
   "metadata": {
    "tags": []
   },
   "outputs": [
    {
     "data": {
      "text/plain": [
       "==========================================================================================\n",
       "Layer (type:depth-idx)                   Output Shape              Param #\n",
       "==========================================================================================\n",
       "LSTMModel                                [1, 3]                    --\n",
       "├─LSTM: 1-1                              [1, 100, 64]              18,176\n",
       "├─Dropout: 1-2                           [1, 64]                   --\n",
       "├─Linear: 1-3                            [1, 3]                    195\n",
       "==========================================================================================\n",
       "Total params: 18,371\n",
       "Trainable params: 18,371\n",
       "Non-trainable params: 0\n",
       "Total mult-adds (M): 1.82\n",
       "==========================================================================================\n",
       "Input size (MB): 0.00\n",
       "Forward/backward pass size (MB): 0.05\n",
       "Params size (MB): 0.07\n",
       "Estimated Total Size (MB): 0.13\n",
       "=========================================================================================="
      ]
     },
     "execution_count": 37,
     "metadata": {},
     "output_type": "execute_result"
    }
   ],
   "source": [
    "# summary(model, (234, 1, 100, 32))\n",
    "summary(model_lstm, (1, 100, 5))"
   ]
  },
  {
   "cell_type": "markdown",
   "metadata": {},
   "source": [
    "# 训练模型"
   ]
  },
  {
   "cell_type": "code",
   "execution_count": 38,
   "metadata": {},
   "outputs": [],
   "source": [
    "# criterion_lstm = nn.CrossEntropyLoss()\n",
    "criterion_lstm = nn.CrossEntropyLoss(weight=class_weights.to(device))\n",
    "optimizer_lstm = optim.Adam(model_lstm.parameters(), lr)\n",
    "# rmsprop\n",
    "# optimizer = optim.RMSprop(model_lstm.parameters(), lr, alpha=0.9)\n",
    "\n",
    "def batch_gd_lstm(model, criterion, optimizer, train_loader, test_loader, epochs, patience=10):\n",
    "    wandb.init(\n",
    "        # set the wandb project where this run will be logged\n",
    "        project=\"Quant-AI-model\",\n",
    "\n",
    "        # track hyperparameters and run metadata\n",
    "        config={\n",
    "        \"learning_rate\": lr,\n",
    "        \"architecture\": \"LSTM\",\n",
    "        \"dataset\": f\"{label_col_name}\",\n",
    "        \"epochs\": epochs,\n",
    "        }\n",
    "    )\n",
    "    train_losses = np.zeros(epochs)\n",
    "    test_losses = np.zeros(epochs)\n",
    "    best_test_loss = np.inf\n",
    "    best_test_epoch = 0\n",
    "    no_improve_epochs = 0\n",
    "\n",
    "    for it in tqdm(range(epochs)):\n",
    "        model.train()\n",
    "        t0 = datetime.now()\n",
    "        train_loss = []\n",
    "        correct_train_preds = 0\n",
    "        total_train_preds = 0\n",
    "        for inputs, targets in train_loader:\n",
    "            optimizer.zero_grad()\n",
    "            inputs, targets = inputs.to(device), targets.to(device)\n",
    "            \n",
    "            outputs = model(inputs)\n",
    "            loss = criterion(outputs, targets)\n",
    "            loss.backward()\n",
    "            optimizer.step()\n",
    "            \n",
    "            train_loss.append(loss.item())\n",
    "\n",
    "            _, predicted = torch.max(outputs.data, 1)\n",
    "            total_train_preds += targets.size(0)\n",
    "            correct_train_preds += (predicted == targets).sum().item()\n",
    "        \n",
    "        train_loss = np.mean(train_loss)\n",
    "        train_acc = correct_train_preds / total_train_preds\n",
    "    \n",
    "        model.eval()\n",
    "        test_loss = []\n",
    "        correct_test_preds = 0\n",
    "        total_test_preds = 0\n",
    "        with torch.no_grad():\n",
    "            for inputs, targets in test_loader:\n",
    "                inputs, targets = inputs.to(device), targets.to(device)\n",
    "                outputs = model(inputs)\n",
    "                loss = criterion(outputs, targets)\n",
    "                test_loss.append(loss.item())\n",
    "\n",
    "                _, predicted = torch.max(outputs.data, 1)\n",
    "                total_test_preds += targets.size(0)\n",
    "                correct_test_preds += (predicted == targets).sum().item()\n",
    "        test_loss = np.mean(test_loss)\n",
    "        test_acc = correct_test_preds / total_test_preds\n",
    "\n",
    "        wandb.log({\"train_loss\": train_loss, \"train_acc\": train_acc, \"test_loss\": test_loss, \"test_acc\": test_acc})\n",
    "\n",
    "        train_losses[it] = train_loss\n",
    "        test_losses[it] = test_loss\n",
    "        \n",
    "        if test_loss < best_test_loss:\n",
    "            torch.save(model.state_dict(), f'best_val_model_lstm_{label_col_name}.pth')\n",
    "            best_test_loss = test_loss\n",
    "            best_test_epoch = it\n",
    "            no_improve_epochs = 0\n",
    "            print('model saved')\n",
    "        else:\n",
    "            no_improve_epochs += 1\n",
    "\n",
    "        dt = datetime.now() - t0\n",
    "        print(f'Epoch {it+1}/{epochs}, Train Loss: {train_loss:.4f}, Validation Loss: {test_loss:.4f}, Duration: {dt}, Best Val Epoch: {best_test_epoch}')\n",
    "\n",
    "        if no_improve_epochs >= patience:\n",
    "            print('Early stopping')\n",
    "            wandb.finish()\n",
    "            break\n",
    "    \n",
    "    torch.save(model.state_dict(), f'final_model_lstm_{label_col_name}.pth')\n",
    "    wandb.finish()\n",
    "    return train_losses, test_losses\n"
   ]
  },
  {
   "cell_type": "code",
   "execution_count": 39,
   "metadata": {},
   "outputs": [
    {
     "name": "stdout",
     "output_type": "stream",
     "text": [
      "inputs.shape: torch.Size([128, 100, 5])\n",
      "targets.shape: torch.Size([128])\n",
      "outputs.shape: torch.Size([128, 3])\n"
     ]
    }
   ],
   "source": [
    "for inputs, targets in train_loader:\n",
    "    print('inputs.shape:', inputs.shape)\n",
    "    print('targets.shape:', targets.shape)\n",
    "    outputs = model_lstm(inputs)\n",
    "    print('outputs.shape:', outputs.shape)\n",
    "    break"
   ]
  },
  {
   "cell_type": "code",
   "execution_count": 40,
   "metadata": {
    "tags": []
   },
   "outputs": [
    {
     "data": {
      "text/html": [
       "Tracking run with wandb version 0.17.0"
      ],
      "text/plain": [
       "<IPython.core.display.HTML object>"
      ]
     },
     "metadata": {},
     "output_type": "display_data"
    },
    {
     "data": {
      "text/html": [
       "Run data is saved locally in <code>d:\\my-dev-code\\FBDQA-final-project\\wandb\\run-20240601_040533-8q92zhti</code>"
      ],
      "text/plain": [
       "<IPython.core.display.HTML object>"
      ]
     },
     "metadata": {},
     "output_type": "display_data"
    },
    {
     "data": {
      "text/html": [
       "Syncing run <strong><a href='https://wandb.ai/bugmakers/Quant-AI-model/runs/8q92zhti' target=\"_blank\">amber-firebrand-10</a></strong> to <a href='https://wandb.ai/bugmakers/Quant-AI-model' target=\"_blank\">Weights & Biases</a> (<a href='https://wandb.me/run' target=\"_blank\">docs</a>)<br/>"
      ],
      "text/plain": [
       "<IPython.core.display.HTML object>"
      ]
     },
     "metadata": {},
     "output_type": "display_data"
    },
    {
     "data": {
      "text/html": [
       " View project at <a href='https://wandb.ai/bugmakers/Quant-AI-model' target=\"_blank\">https://wandb.ai/bugmakers/Quant-AI-model</a>"
      ],
      "text/plain": [
       "<IPython.core.display.HTML object>"
      ]
     },
     "metadata": {},
     "output_type": "display_data"
    },
    {
     "data": {
      "text/html": [
       " View run at <a href='https://wandb.ai/bugmakers/Quant-AI-model/runs/8q92zhti' target=\"_blank\">https://wandb.ai/bugmakers/Quant-AI-model/runs/8q92zhti</a>"
      ],
      "text/plain": [
       "<IPython.core.display.HTML object>"
      ]
     },
     "metadata": {},
     "output_type": "display_data"
    },
    {
     "data": {
      "application/vnd.jupyter.widget-view+json": {
       "model_id": "a0b84455e41b4510b64a1ff84f175c1a",
       "version_major": 2,
       "version_minor": 0
      },
      "text/plain": [
       "  0%|          | 0/35 [00:00<?, ?it/s]"
      ]
     },
     "metadata": {},
     "output_type": "display_data"
    },
    {
     "name": "stdout",
     "output_type": "stream",
     "text": [
      "model saved\n",
      "Epoch 1/35, Train Loss: 0.9843, Validation Loss: 1.0096, Duration: 0:00:41.727605, Best Val Epoch: 0\n",
      "model saved\n",
      "Epoch 2/35, Train Loss: 0.9562, Validation Loss: 0.9974, Duration: 0:00:40.990021, Best Val Epoch: 1\n",
      "Epoch 3/35, Train Loss: 0.9429, Validation Loss: 1.0022, Duration: 0:00:40.691792, Best Val Epoch: 1\n",
      "model saved\n",
      "Epoch 4/35, Train Loss: 0.9300, Validation Loss: 0.9962, Duration: 0:00:41.295712, Best Val Epoch: 3\n",
      "model saved\n",
      "Epoch 5/35, Train Loss: 0.9216, Validation Loss: 0.9939, Duration: 0:00:40.945877, Best Val Epoch: 4\n"
     ]
    }
   ],
   "source": [
    "train_losses, val_losses = batch_gd_lstm(model_lstm, criterion_lstm, optimizer_lstm, train_loader, val_loader, epochs=35)"
   ]
  },
  {
   "cell_type": "code",
   "execution_count": null,
   "metadata": {
    "tags": []
   },
   "outputs": [
    {
     "data": {
      "text/plain": [
       "<matplotlib.legend.Legend at 0x29865f110d0>"
      ]
     },
     "execution_count": 27,
     "metadata": {},
     "output_type": "execute_result"
    },
    {
     "data": {
      "image/png": "[encoded data removed]",
      "text/plain": [
       "<Figure size 1600x600 with 1 Axes>"
      ]
     },
     "metadata": {},
     "output_type": "display_data"
    }
   ],
   "source": [
    "plt.figure(figsize=(16,6))\n",
    "plt.plot(train_losses, label='train loss')\n",
    "plt.plot(val_losses, label='validation loss')\n",
    "plt.legend()"
   ]
  },
  {
   "cell_type": "code",
   "execution_count": null,
   "metadata": {},
   "outputs": [
    {
     "name": "stdout",
     "output_type": "stream",
     "text": [
      "Accuracy: 0.4233160709164825\n",
      "correct: 125473, total: 296405\n",
      "Accuracy_True_False: 0.6098470823459715\n",
      "correct_True_False: 65883, total_tf: 108032\n",
      "              precision    recall  f1-score   support\n",
      "\n",
      "           0       0.29      0.62      0.39     54571\n",
      "           1       0.82      0.32      0.46    188373\n",
      "           2       0.30      0.60      0.40     53461\n",
      "\n",
      "    accuracy                           0.42    296405\n",
      "   macro avg       0.47      0.51      0.42    296405\n",
      "weighted avg       0.63      0.42      0.44    296405\n",
      "\n"
     ]
    }
   ],
   "source": [
    "# 用 validate 数据集测试模型\n",
    "model_lstm.load_state_dict(torch.load(f'best_val_model_lstm_{label_col_name}.pth'))\n",
    "model_lstm.eval()\n",
    "correct = 0\n",
    "correct_tf = 0\n",
    "total = 0\n",
    "total_tf = 0\n",
    "predictions = []\n",
    "labels = []\n",
    "with torch.no_grad():\n",
    "    for inputs, targets in val_loader:\n",
    "        inputs, targets = inputs.to(device), targets.to(device)\n",
    "        outputs = model_lstm(inputs)\n",
    "        _, predicted = torch.max(outputs.data, 1)\n",
    "        for i in range(targets.size(0)):\n",
    "            if targets[i] == 0 or targets[i] == 2:  # 只考虑目标值为0或2的情况\n",
    "                total_tf += 1\n",
    "                if predicted[i] == targets[i]:  # 如果预测正确，增加正确的计数\n",
    "                    correct_tf += 1\n",
    "\n",
    "        total += targets.size(0)\n",
    "        correct += (predicted == targets).sum().item()\n",
    "        predictions.append(predicted)\n",
    "        labels.append(targets)\n",
    "\n",
    "print(f'Accuracy: {correct/total}')\n",
    "print(f'correct: {correct}, total: {total}')\n",
    "print(f'Accuracy_True_False: {correct_tf/total_tf}')\n",
    "print(f'correct_True_False: {correct_tf}, total_tf: {total_tf}')\n",
    "print(classification_report(torch.cat(labels).cpu().numpy(), torch.cat(predictions).cpu().numpy()))\n"
   ]
  }
 ],
 "metadata": {
  "kernelspec": {
   "display_name": "Python 3",
   "language": "python",
   "name": "python3"
  },
  "language_info": {
   "codemirror_mode": {
    "name": "ipython",
    "version": 3
   },
   "file_extension": ".py",
   "mimetype": "text/x-python",
   "name": "python",
   "nbconvert_exporter": "python",
   "pygments_lexer": "ipython3",
   "version": "3.8.19"
  },
  "varInspector": {
   "cols": {
    "lenName": 16,
    "lenType": 16,
    "lenVar": 40
   },
   "kernels_config": {
    "python": {
     "delete_cmd_postfix": "",
     "delete_cmd_prefix": "del ",
     "library": "var_list.py",
     "varRefreshCmd": "print(var_dic_list())"
    },
    "r": {
     "delete_cmd_postfix": ") ",
     "delete_cmd_prefix": "rm(",
     "library": "var_list.r",
     "varRefreshCmd": "cat(var_dic_list()) "
    }
   },
   "types_to_exclude": [
    "module",
    "function",
    "builtin_function_or_method",
    "instance",
    "_Feature"
   ],
   "window_display": false
  }
 },
 "nbformat": 4,
 "nbformat_minor": 4
}
